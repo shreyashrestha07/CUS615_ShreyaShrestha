{
  "nbformat": 4,
  "nbformat_minor": 0,
  "metadata": {
    "colab": {
      "name": "Problem_set_05_ModelEvaluation.ipynb",
      "provenance": [],
      "include_colab_link": true
    },
    "kernelspec": {
      "name": "python3",
      "display_name": "Python 3"
    }
  },
  "cells": [
    {
      "cell_type": "markdown",
      "metadata": {
        "id": "view-in-github",
        "colab_type": "text"
      },
      "source": [
        "<a href=\"https://colab.research.google.com/github/shreyashrestha07/CUS615_ShreyaShrestha/blob/master/Problem_set_05_ModelEvaluation.ipynb\" target=\"_parent\"><img src=\"https://colab.research.google.com/assets/colab-badge.svg\" alt=\"Open In Colab\"/></a>"
      ]
    },
    {
      "cell_type": "markdown",
      "metadata": {
        "id": "ajL0q2QnDby3"
      },
      "source": [
        "This notebook is part the of Dr. Christoforos Christoforou's course materials. You may not, nor may you knowingly allow others to reproduce or distribute lecture notes, course materials or any of their derivatives without the instructor's express written consent.\n",
        "\n",
        "\n",
        "\n"
      ]
    },
    {
      "cell_type": "markdown",
      "metadata": {
        "id": "UHX03yxgR3Dv"
      },
      "source": [
        "## Problem Set 05: Hyperparameter Tuning and Model Selection"
      ]
    },
    {
      "cell_type": "markdown",
      "metadata": {
        "id": "3eZOG6mtPrcW"
      },
      "source": [
        "## Cross-validation example code\n",
        "Oftentimes, we might consider one of several classification models as our predictive function, or we might want to identify the optimal set parameters for a particular classifier. For example, the KNN classifier expects the parameter `K` which indicates the number neighbors, the SVM classifier expects some hyperparameters such as the value `C`, and the `kernel` function. \n",
        "\n",
        "Typically, we want to select the best set of parameters for our particular model. One method for selecting such hyperparameters is `cross-validation`. \n",
        "\n",
        "The code below illustrates how you can use `sklearn` functions to perform `cross-validation`."
      ]
    },
    {
      "cell_type": "code",
      "metadata": {
        "id": "KWQ6ifaXRUB8"
      },
      "source": [
        "import numpy as np\n",
        "import matplotlib.pyplot as plt \n",
        "from sklearn import metrics\n",
        "from sklearn import datasets\n",
        "from sklearn.neighbors import KNeighborsClassifier\n",
        "from sklearn.model_selection import train_test_split\n",
        "from sklearn.model_selection import cross_val_score\n",
        "from sklearn.model_selection import StratifiedKFold \n",
        "from sklearn.svm import SVC"
      ],
      "execution_count": 157,
      "outputs": []
    },
    {
      "cell_type": "code",
      "metadata": {
        "id": "r2IYBkdHPr6C"
      },
      "source": [
        "# Generate a sample Dataset. \n",
        "n_samples = 100\n",
        "noisy_circles = datasets.make_circles(n_samples=n_samples, factor=.5, noise=.35)\n",
        "X, y = noisy_circles"
      ],
      "execution_count": 158,
      "outputs": []
    },
    {
      "cell_type": "code",
      "metadata": {
        "id": "gVeXzE9vJ0e9"
      },
      "source": [
        "\n",
        "from sklearn.neighbors import KNeighborsClassifier\n",
        "from sklearn.model_selection import train_test_split\n",
        "\n",
        "#\n",
        "# Split the original dataset into Training and Testing sets.\n",
        "X_train, X_test, y_train, y_test = train_test_split(X, y, random_state=54, test_size=0.45, \n",
        "                                                    shuffle=True, stratify=y)"
      ],
      "execution_count": 159,
      "outputs": []
    },
    {
      "cell_type": "code",
      "metadata": {
        "colab": {
          "base_uri": "https://localhost:8080/"
        },
        "id": "W7NGj6LwJ41l",
        "outputId": "01d720f5-97b0-4ad5-a439-9dba0d3c1f88"
      },
      "source": [
        "y_test"
      ],
      "execution_count": 160,
      "outputs": [
        {
          "output_type": "execute_result",
          "data": {
            "text/plain": [
              "array([0, 0, 1, 1, 1, 1, 1, 0, 1, 0, 1, 0, 0, 1, 0, 1, 0, 1, 1, 1, 1, 0,\n",
              "       0, 1, 0, 0, 1, 0, 0, 0, 1, 0, 1, 1, 1, 1, 1, 0, 0, 0, 1, 1, 0, 0,\n",
              "       0])"
            ]
          },
          "metadata": {
            "tags": []
          },
          "execution_count": 160
        }
      ]
    },
    {
      "cell_type": "code",
      "metadata": {
        "colab": {
          "base_uri": "https://localhost:8080/"
        },
        "id": "Aud0Y-MwP2p6",
        "outputId": "ef3bee83-2b0c-4b2e-e40a-bfcd62c25cb9"
      },
      "source": [
        "# Run one of the data generation cell above before executing this cell; \n",
        "\n",
        "from sklearn.neighbors import KNeighborsClassifier\n",
        "from sklearn.model_selection import train_test_split\n",
        "\n",
        "#\n",
        "# Split the original dataset into Training and Testing sets.\n",
        "X_train, X_test, y_train, y_test = train_test_split(X, y, random_state=54, test_size=0.45, \n",
        "                                                    shuffle=True, stratify=y)\n",
        "\n",
        "n_splits = 25       # Specify cross validation splits parameters (i.e. how many folds)\n",
        "n_neighbors = 10    # Specify classifer parameters\n",
        "\n",
        "# Generate a cross validation slplit iterator. \n",
        "cv = StratifiedKFold(n_splits=n_splits, random_state=54, shuffle=True)\n",
        "\n",
        "# use it to keep track of the accuracy total accross all folds \n",
        "kfold_acc = 0.\n",
        "\n",
        "for train_idx, valid_idx in cv.split(X_train, y_train):\n",
        "  \n",
        "  # Define the classificaiton model - KNeighborsClassifier() classifer.\n",
        "  model = KNeighborsClassifier(n_neighbors=n_neighbors)\n",
        "\n",
        "  # Train the classifier on the subset of the training data that are in the training index set current cross validation fold. \n",
        "  model.fit(X_train[train_idx],y_train[train_idx])\n",
        "\n",
        "  # Test the classifer on the subset of the training data that are in the validation index set of the current cross validation fold.\n",
        "  y_pred = model.predict(X_train[valid_idx])\n",
        "\n",
        "  # Obtain an estimate of the accuracy of the prediciton. \n",
        "  # Here we can use any of the classifer perfomrance matrics we want. \n",
        "\n",
        "  acc_metric = metrics.accuracy_score(y_pred,y_train[valid_idx])\n",
        "  kfold_acc += acc_metric \n",
        "\n",
        "# cross validation loop is complete; calcualte the average accuracy. \n",
        "kfold_acc = kfold_acc/n_splits\n",
        "\n",
        "#\n",
        "# Calculate the accuracy of the classifer on an independent test set. \n",
        "# \n",
        " \n",
        "model = KNeighborsClassifier(n_neighbors=n_neighbors)\n",
        "model.fit(X_train, y_train)\n",
        "y_pred = model.predict(X_test)\n",
        "test_acc = metrics.accuracy_score(y_pred, y_test)\n",
        "\n",
        "print(\"Cross-validation Accuracy: {:.2f}\".format(kfold_acc))\n",
        "print(\"Test Accuracy: {:.2f}\".format(test_acc))\n"
      ],
      "execution_count": 161,
      "outputs": [
        {
          "output_type": "stream",
          "text": [
            "Cross-validation Accuracy: 0.75\n",
            "Test Accuracy: 0.53\n"
          ],
          "name": "stdout"
        }
      ]
    },
    {
      "cell_type": "markdown",
      "metadata": {
        "id": "mYzRE0m4P8pO"
      },
      "source": [
        "Alternatively, we can use the `cross_val_score` to simplify the procedure as follows:"
      ]
    },
    {
      "cell_type": "code",
      "metadata": {
        "colab": {
          "base_uri": "https://localhost:8080/"
        },
        "id": "fZZEg4GqP7xv",
        "outputId": "1eca568b-43f2-4c21-b6e8-03f495ba2ce3"
      },
      "source": [
        "#\n",
        "# Since cross-validation use-case is so common when assessing the performance of a classifer, sklearn library \n",
        "# has a dedicated method (i.e. the corss_val_score) that implements the entire cross-validation pipeline. \n",
        "#\n",
        "# A more compact way to implement the same logic as the code above is to use a method provided by sklearn library.\n",
        " \n",
        "\n",
        "from sklearn.model_selection import cross_val_score\n",
        "\n",
        "#\n",
        "# Split the original dataset into Training and Testing sets.\n",
        "X_train, X_test, y_train, y_test = train_test_split(X, y, random_state=54, test_size=0.45, \n",
        "                                                    shuffle=True, stratify=y)\n",
        "# Specify the classifier. \n",
        "model = KNeighborsClassifier(n_neighbors=n_neighbors)\n",
        "\n",
        "# Specify the corss validation parameters\n",
        "cv = StratifiedKFold(n_splits=10, random_state=43, shuffle=True)\n",
        "\n",
        "# Rum the corss-validation processing pipline \n",
        "cv_acc = cross_val_score(estimator=model,\n",
        "                         X=X_train,\n",
        "                         y=y_train,\n",
        "                         cv=cv,\n",
        "                         n_jobs=-1)\n",
        "\n",
        "# Report results of the accuracy. \n",
        "print(\"Cross-validation: {:.2f}\".format(np.mean(cv_acc)))"
      ],
      "execution_count": 162,
      "outputs": [
        {
          "output_type": "stream",
          "text": [
            "Cross-validation: 0.75\n"
          ],
          "name": "stdout"
        }
      ]
    },
    {
      "cell_type": "markdown",
      "metadata": {
        "id": "ncdkaDG6JdQQ"
      },
      "source": [
        "### Challenges : Cross Valudation for Hyperparameter Tuning\n",
        "In this exercise, you will be working with the Pima Indians Diabetes Database database by Vincent Sigillito, which is available from the UCI database (https://archive.ics.uci.edu/ml/datasets/pima+indians+diabetes) or OpenML (https://www.openml.org/d/37).\n",
        "\n",
        "The dataset contains information about 768 patients along with the Diabetes diagnosis. The Diabetes diagnosis is a binary label, where \"tested_positive\" means that a patient has diabetes and \"tested_negative\" means that a patient does not have diabetes.\n",
        "\n",
        "I addition to the class label, there are 8 numeric features in the dataset, which are listed below:\n",
        "\n",
        "- Number of times pregnant\n",
        "- Plasma glucose concentration a 2 hours in an oral glucose tolerance test\n",
        "- Diastolic blood pressure (mm Hg)\n",
        "- Triceps skin fold thickness (mm)\n",
        "- 2-Hour serum insulin (mu U/ml)\n",
        "- Body mass index (weight in kg/(height in m)^2)\n",
        "- Diabetes pedigree function\n",
        "- Age (years)"
      ]
    },
    {
      "cell_type": "markdown",
      "metadata": {
        "id": "v_XOEDnjTmVn"
      },
      "source": [
        "### Download the dataset "
      ]
    },
    {
      "cell_type": "code",
      "metadata": {
        "id": "hFrOEzVGK3M7"
      },
      "source": [
        "!pip install -q kaggle"
      ],
      "execution_count": 163,
      "outputs": []
    },
    {
      "cell_type": "code",
      "metadata": {
        "id": "yNRPA9wHK4Up",
        "colab": {
          "resources": {
            "http://localhost:8080/nbextensions/google.colab/files.js": {
              "data": "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",
              "ok": true,
              "headers": [
                [
                  "content-type",
                  "application/javascript"
                ]
              ],
              "status": 200,
              "status_text": ""
            }
          },
          "base_uri": "https://localhost:8080/",
          "height": 89
        },
        "outputId": "36d1b569-a4e9-4d5b-c21e-d14755c34526"
      },
      "source": [
        "#Upload the kaggle API key of your account \n",
        "from google.colab import files \n",
        "files.upload()\n",
        "!mkdir ~/.kaggle\n",
        "!cp kaggle.json ~/.kaggle\n",
        "!chmod 600 ~/.kaggle/kaggle.json"
      ],
      "execution_count": 164,
      "outputs": [
        {
          "output_type": "display_data",
          "data": {
            "text/html": [
              "\n",
              "     <input type=\"file\" id=\"files-9f8bafdb-0bb6-45fa-9dce-d9ceeb041743\" name=\"files[]\" multiple disabled\n",
              "        style=\"border:none\" />\n",
              "     <output id=\"result-9f8bafdb-0bb6-45fa-9dce-d9ceeb041743\">\n",
              "      Upload widget is only available when the cell has been executed in the\n",
              "      current browser session. Please rerun this cell to enable.\n",
              "      </output>\n",
              "      <script src=\"/nbextensions/google.colab/files.js\"></script> "
            ],
            "text/plain": [
              "<IPython.core.display.HTML object>"
            ]
          },
          "metadata": {
            "tags": []
          }
        },
        {
          "output_type": "stream",
          "text": [
            "Saving kaggle.json to kaggle (1).json\n",
            "mkdir: cannot create directory ‘/root/.kaggle’: File exists\n"
          ],
          "name": "stdout"
        }
      ]
    },
    {
      "cell_type": "code",
      "metadata": {
        "id": "m_URhfW0K8oa"
      },
      "source": [
        "# Download - Specify the parameters.  \n",
        "kaggle_dataset_URI = \"cchristoforou/practice-dataset-for-tutorials\"\n",
        "output_folder = \"sample_data/problem_set05\"\n",
        "kaggle_data_file1 = \"dataset_37_diabetes.csv\""
      ],
      "execution_count": 165,
      "outputs": []
    },
    {
      "cell_type": "code",
      "metadata": {
        "id": "iYy4rG_TLHFc",
        "colab": {
          "base_uri": "https://localhost:8080/"
        },
        "outputId": "d693afc5-237f-4f09-d62a-b150a21be5f0"
      },
      "source": [
        "# Download the first file from dataset - countries.csv\n",
        "!kaggle datasets download $kaggle_dataset_URI --file $kaggle_data_file1 --path $output_folder"
      ],
      "execution_count": 166,
      "outputs": [
        {
          "output_type": "stream",
          "text": [
            "dataset_37_diabetes.csv: Skipping, found more recently modified local copy (use --force to force download)\n"
          ],
          "name": "stdout"
        }
      ]
    },
    {
      "cell_type": "markdown",
      "metadata": {
        "id": "8rErv0BeL4gb"
      },
      "source": [
        "###  Load the Dataset\n",
        "\n",
        "Use pandas to load the dataset from the `dataset_37_diabetes.csv` CSV file located under the `sample_data/problem_set05` folder in your colab environment. Make sure you downloaded the data by executing `kaggle` command at the top of this notebook.\n"
      ]
    },
    {
      "cell_type": "code",
      "metadata": {
        "id": "AQ1joY2nL7lr",
        "colab": {
          "base_uri": "https://localhost:8080/",
          "height": 204
        },
        "outputId": "c681b778-4bd6-4fbd-888a-15f3c6bd832d"
      },
      "source": [
        "import pandas as pd\n",
        "df = pd.read_csv('./sample_data/problem_set05/dataset_37_diabetes.csv')\n",
        "df.head()"
      ],
      "execution_count": 167,
      "outputs": [
        {
          "output_type": "execute_result",
          "data": {
            "text/html": [
              "<div>\n",
              "<style scoped>\n",
              "    .dataframe tbody tr th:only-of-type {\n",
              "        vertical-align: middle;\n",
              "    }\n",
              "\n",
              "    .dataframe tbody tr th {\n",
              "        vertical-align: top;\n",
              "    }\n",
              "\n",
              "    .dataframe thead th {\n",
              "        text-align: right;\n",
              "    }\n",
              "</style>\n",
              "<table border=\"1\" class=\"dataframe\">\n",
              "  <thead>\n",
              "    <tr style=\"text-align: right;\">\n",
              "      <th></th>\n",
              "      <th>preg</th>\n",
              "      <th>plas</th>\n",
              "      <th>pres</th>\n",
              "      <th>skin</th>\n",
              "      <th>insu</th>\n",
              "      <th>mass</th>\n",
              "      <th>pedi</th>\n",
              "      <th>age</th>\n",
              "      <th>class</th>\n",
              "    </tr>\n",
              "  </thead>\n",
              "  <tbody>\n",
              "    <tr>\n",
              "      <th>0</th>\n",
              "      <td>6</td>\n",
              "      <td>148</td>\n",
              "      <td>72</td>\n",
              "      <td>35</td>\n",
              "      <td>0</td>\n",
              "      <td>33.6</td>\n",
              "      <td>0.627</td>\n",
              "      <td>50</td>\n",
              "      <td>tested_positive</td>\n",
              "    </tr>\n",
              "    <tr>\n",
              "      <th>1</th>\n",
              "      <td>1</td>\n",
              "      <td>85</td>\n",
              "      <td>66</td>\n",
              "      <td>29</td>\n",
              "      <td>0</td>\n",
              "      <td>26.6</td>\n",
              "      <td>0.351</td>\n",
              "      <td>31</td>\n",
              "      <td>tested_negative</td>\n",
              "    </tr>\n",
              "    <tr>\n",
              "      <th>2</th>\n",
              "      <td>8</td>\n",
              "      <td>183</td>\n",
              "      <td>64</td>\n",
              "      <td>0</td>\n",
              "      <td>0</td>\n",
              "      <td>23.3</td>\n",
              "      <td>0.672</td>\n",
              "      <td>32</td>\n",
              "      <td>tested_positive</td>\n",
              "    </tr>\n",
              "    <tr>\n",
              "      <th>3</th>\n",
              "      <td>1</td>\n",
              "      <td>89</td>\n",
              "      <td>66</td>\n",
              "      <td>23</td>\n",
              "      <td>94</td>\n",
              "      <td>28.1</td>\n",
              "      <td>0.167</td>\n",
              "      <td>21</td>\n",
              "      <td>tested_negative</td>\n",
              "    </tr>\n",
              "    <tr>\n",
              "      <th>4</th>\n",
              "      <td>0</td>\n",
              "      <td>137</td>\n",
              "      <td>40</td>\n",
              "      <td>35</td>\n",
              "      <td>168</td>\n",
              "      <td>43.1</td>\n",
              "      <td>2.288</td>\n",
              "      <td>33</td>\n",
              "      <td>tested_positive</td>\n",
              "    </tr>\n",
              "  </tbody>\n",
              "</table>\n",
              "</div>"
            ],
            "text/plain": [
              "   preg  plas  pres  skin  insu  mass   pedi  age            class\n",
              "0     6   148    72    35     0  33.6  0.627   50  tested_positive\n",
              "1     1    85    66    29     0  26.6  0.351   31  tested_negative\n",
              "2     8   183    64     0     0  23.3  0.672   32  tested_positive\n",
              "3     1    89    66    23    94  28.1  0.167   21  tested_negative\n",
              "4     0   137    40    35   168  43.1  2.288   33  tested_positive"
            ]
          },
          "metadata": {
            "tags": []
          },
          "execution_count": 167
        }
      ]
    },
    {
      "cell_type": "markdown",
      "metadata": {
        "id": "LfARCZPjMUU2"
      },
      "source": [
        "### Challenge 1 : Preprocess the class label\n",
        "\n",
        "Convert the class label using pandas `apply` or `map` method. The mapping should be as follows:\n",
        "\n",
        "- 'tested_positive' should be converted to 1 \n",
        "- 'tested_negative' should be converted to 0\n",
        "\n",
        "Check the documentation of the `map` method [here](https://pandas.pydata.org/pandas-docs/stable/reference/api/pandas.Series.map.html) and the `appy` method [here](https://pandas.pydata.org/pandas-docs/stable/reference/api/pandas.Series.apply.html#pandas.Series.apply)"
      ]
    },
    {
      "cell_type": "code",
      "metadata": {
        "colab": {
          "base_uri": "https://localhost:8080/",
          "height": 204
        },
        "id": "FSRafAZOCqJM",
        "outputId": "5ac81878-1cdb-457f-c290-bb169289c806"
      },
      "source": [
        "# Solution 1:\n",
        "df['class'] = df['class'].map(lambda v: 0 if v == 'tested_negative' else 1)\n",
        "df.head()"
      ],
      "execution_count": 168,
      "outputs": [
        {
          "output_type": "execute_result",
          "data": {
            "text/html": [
              "<div>\n",
              "<style scoped>\n",
              "    .dataframe tbody tr th:only-of-type {\n",
              "        vertical-align: middle;\n",
              "    }\n",
              "\n",
              "    .dataframe tbody tr th {\n",
              "        vertical-align: top;\n",
              "    }\n",
              "\n",
              "    .dataframe thead th {\n",
              "        text-align: right;\n",
              "    }\n",
              "</style>\n",
              "<table border=\"1\" class=\"dataframe\">\n",
              "  <thead>\n",
              "    <tr style=\"text-align: right;\">\n",
              "      <th></th>\n",
              "      <th>preg</th>\n",
              "      <th>plas</th>\n",
              "      <th>pres</th>\n",
              "      <th>skin</th>\n",
              "      <th>insu</th>\n",
              "      <th>mass</th>\n",
              "      <th>pedi</th>\n",
              "      <th>age</th>\n",
              "      <th>class</th>\n",
              "    </tr>\n",
              "  </thead>\n",
              "  <tbody>\n",
              "    <tr>\n",
              "      <th>0</th>\n",
              "      <td>6</td>\n",
              "      <td>148</td>\n",
              "      <td>72</td>\n",
              "      <td>35</td>\n",
              "      <td>0</td>\n",
              "      <td>33.6</td>\n",
              "      <td>0.627</td>\n",
              "      <td>50</td>\n",
              "      <td>1</td>\n",
              "    </tr>\n",
              "    <tr>\n",
              "      <th>1</th>\n",
              "      <td>1</td>\n",
              "      <td>85</td>\n",
              "      <td>66</td>\n",
              "      <td>29</td>\n",
              "      <td>0</td>\n",
              "      <td>26.6</td>\n",
              "      <td>0.351</td>\n",
              "      <td>31</td>\n",
              "      <td>0</td>\n",
              "    </tr>\n",
              "    <tr>\n",
              "      <th>2</th>\n",
              "      <td>8</td>\n",
              "      <td>183</td>\n",
              "      <td>64</td>\n",
              "      <td>0</td>\n",
              "      <td>0</td>\n",
              "      <td>23.3</td>\n",
              "      <td>0.672</td>\n",
              "      <td>32</td>\n",
              "      <td>1</td>\n",
              "    </tr>\n",
              "    <tr>\n",
              "      <th>3</th>\n",
              "      <td>1</td>\n",
              "      <td>89</td>\n",
              "      <td>66</td>\n",
              "      <td>23</td>\n",
              "      <td>94</td>\n",
              "      <td>28.1</td>\n",
              "      <td>0.167</td>\n",
              "      <td>21</td>\n",
              "      <td>0</td>\n",
              "    </tr>\n",
              "    <tr>\n",
              "      <th>4</th>\n",
              "      <td>0</td>\n",
              "      <td>137</td>\n",
              "      <td>40</td>\n",
              "      <td>35</td>\n",
              "      <td>168</td>\n",
              "      <td>43.1</td>\n",
              "      <td>2.288</td>\n",
              "      <td>33</td>\n",
              "      <td>1</td>\n",
              "    </tr>\n",
              "  </tbody>\n",
              "</table>\n",
              "</div>"
            ],
            "text/plain": [
              "   preg  plas  pres  skin  insu  mass   pedi  age  class\n",
              "0     6   148    72    35     0  33.6  0.627   50      1\n",
              "1     1    85    66    29     0  26.6  0.351   31      0\n",
              "2     8   183    64     0     0  23.3  0.672   32      1\n",
              "3     1    89    66    23    94  28.1  0.167   21      0\n",
              "4     0   137    40    35   168  43.1  2.288   33      1"
            ]
          },
          "metadata": {
            "tags": []
          },
          "execution_count": 168
        }
      ]
    },
    {
      "cell_type": "markdown",
      "metadata": {
        "id": "9N0wysVkMn2I"
      },
      "source": [
        "### Challenge 2:  Split dataset into training and test sets\n",
        "\n",
        "Split the dataset into 70% training and 30% test data. Perform a `stratified split` use 0 as the random seed for shuffling. You might want to check the documentatin of the `train_test_split` method of sklearn available [here](https://scikit-learn.org/stable/modules/generated/sklearn.model_selection.train_test_split.html)."
      ]
    },
    {
      "cell_type": "code",
      "metadata": {
        "id": "EA18HJpkNKbB"
      },
      "source": [
        "# Solution 2:\n",
        "\n",
        "X_train, X_test, y_train, y_test = train_test_split(df.drop('class',axis=1), df['class'], random_state=0, test_size=0.30, shuffle=True, stratify=None)"
      ],
      "execution_count": 169,
      "outputs": []
    },
    {
      "cell_type": "markdown",
      "metadata": {
        "id": "gP8ULq8HNSvO"
      },
      "source": [
        "### Challenge 3:  Perform model selection on the KNN classifier\n",
        "\n",
        "Use the above dataset to identify and evaluate the best model for this dataset when you are using the K-NN classifier. Explore different parameters for K.\n",
        "\n",
        "1. Report which parameter K gives best result under the cross validation procedure.\n",
        "\n",
        "2. Report the classification accuracy for the optimal parameter using cross validation for model evaluation.\n",
        "\n",
        "3. Report the generalization performance of the optimal model on the holdout dataset."
      ]
    },
    {
      "cell_type": "code",
      "metadata": {
        "colab": {
          "base_uri": "https://localhost:8080/"
        },
        "id": "SiS43DsNXRxe",
        "outputId": "7f9edb77-f2d1-4e65-fc1f-8bcdcea5857a"
      },
      "source": [
        "# 1. Report which parameter K gives best result under the cross validation procedure.\n",
        "\n",
        "crossValResults = [] # to store the cross validation results of all the cv_acc 1-25\n",
        "for i in range(1,26): # to loop the n_neighbours parameter 1-25\n",
        "  n_neighbors = i \n",
        "\n",
        "  model = KNeighborsClassifier(n_neighbors=n_neighbors)\n",
        "  model.fit(X_train, y_train)\n",
        "\n",
        "  # Specify the corss validation parameters\n",
        "  cv = StratifiedKFold(n_splits=5, random_state=0, shuffle=True)\n",
        "\n",
        "  # Rum the corss-validation processing pipline \n",
        "  cv_acc = cross_val_score(estimator=model,\n",
        "                         X=X_train,\n",
        "                         y=y_train,\n",
        "                         cv=cv,\n",
        "                         n_jobs=-1) \n",
        "  result = np.mean(cv_acc)\n",
        "\n",
        "  crossValResults.append(result) # to append (add) the result to \"crossValResults\" list\n",
        "print(\"\\nThe Cross Validation results are: \",crossValResults) # to print the list\n"
      ],
      "execution_count": 171,
      "outputs": [
        {
          "output_type": "stream",
          "text": [
            "\n",
            "The Cross Validation results are:  [0.6740567670474212, 0.6889235029421945, 0.6647802007615091, 0.700103842159917, 0.7001384562132225, 0.7038421599169263, 0.7225856697819314, 0.7187608168916579, 0.737435098650052, 0.7336967808930426, 0.7336967808930426, 0.7168916580131534, 0.7205607476635513, 0.7113014884042921, 0.7243336794738664, 0.7243509865005192, 0.7430252682589131, 0.7373831775700934, 0.7299584631360332, 0.7262720664589823, 0.7336967808930426, 0.718760816891658, 0.7225164416753201, 0.7169608861197645, 0.7262547594323295]\n"
          ],
          "name": "stdout"
        }
      ]
    },
    {
      "cell_type": "code",
      "metadata": {
        "colab": {
          "base_uri": "https://localhost:8080/"
        },
        "id": "coRCZnzyZQIc",
        "outputId": "17b4bf54-aa95-49dd-8040-56d8c757091f"
      },
      "source": [
        "# Solution 3(i)\n",
        "optimalCrossVal = np.argmax(crossValResults) # to see the \n",
        "print(optimalCrossVal)\n",
        "# since the indexing starts from 0 the best parameter for K should be 16+1 = 17"
      ],
      "execution_count": 172,
      "outputs": [
        {
          "output_type": "stream",
          "text": [
            "16\n"
          ],
          "name": "stdout"
        }
      ]
    },
    {
      "cell_type": "code",
      "metadata": {
        "colab": {
          "base_uri": "https://localhost:8080/"
        },
        "id": "riLF1WueE6Ok",
        "outputId": "0de3f8e4-7154-4ede-f4f0-653002e08af8"
      },
      "source": [
        "# to check if the answer is correct\n",
        "\n",
        "crossValResults = [] # to store the cross validation results of all the cv_acc 1-25\n",
        "for i in range(1,26): # to loop the n_neighbours parameter 1-25\n",
        "  n_neighbors = i \n",
        "\n",
        "  model = KNeighborsClassifier(n_neighbors=n_neighbors)\n",
        "  model.fit(X_train, y_train)\n",
        "\n",
        "  # Specify the corss validation parameters\n",
        "  cv = StratifiedKFold(n_splits=5, random_state=0, shuffle=True)\n",
        "\n",
        "  # Rum the corss-validation processing pipline \n",
        "  cv_acc = cross_val_score(estimator=model,\n",
        "                         X=X_train,\n",
        "                         y=y_train,\n",
        "                         cv=cv,\n",
        "                         n_jobs=-1) \n",
        "  result = np.mean(cv_acc)\n",
        "  print(\"When the n_neighbour parameter is %0.f\" %i,\"'Cross-validation' is: {:.3f}\".format(np.mean(cv_acc)))"
      ],
      "execution_count": 173,
      "outputs": [
        {
          "output_type": "stream",
          "text": [
            "When the n_neighbour parameter is 1 'Cross-validation' is: 0.674\n",
            "When the n_neighbour parameter is 2 'Cross-validation' is: 0.689\n",
            "When the n_neighbour parameter is 3 'Cross-validation' is: 0.665\n",
            "When the n_neighbour parameter is 4 'Cross-validation' is: 0.700\n",
            "When the n_neighbour parameter is 5 'Cross-validation' is: 0.700\n",
            "When the n_neighbour parameter is 6 'Cross-validation' is: 0.704\n",
            "When the n_neighbour parameter is 7 'Cross-validation' is: 0.723\n",
            "When the n_neighbour parameter is 8 'Cross-validation' is: 0.719\n",
            "When the n_neighbour parameter is 9 'Cross-validation' is: 0.737\n",
            "When the n_neighbour parameter is 10 'Cross-validation' is: 0.734\n",
            "When the n_neighbour parameter is 11 'Cross-validation' is: 0.734\n",
            "When the n_neighbour parameter is 12 'Cross-validation' is: 0.717\n",
            "When the n_neighbour parameter is 13 'Cross-validation' is: 0.721\n",
            "When the n_neighbour parameter is 14 'Cross-validation' is: 0.711\n",
            "When the n_neighbour parameter is 15 'Cross-validation' is: 0.724\n",
            "When the n_neighbour parameter is 16 'Cross-validation' is: 0.724\n",
            "When the n_neighbour parameter is 17 'Cross-validation' is: 0.743\n",
            "When the n_neighbour parameter is 18 'Cross-validation' is: 0.737\n",
            "When the n_neighbour parameter is 19 'Cross-validation' is: 0.730\n",
            "When the n_neighbour parameter is 20 'Cross-validation' is: 0.726\n",
            "When the n_neighbour parameter is 21 'Cross-validation' is: 0.734\n",
            "When the n_neighbour parameter is 22 'Cross-validation' is: 0.719\n",
            "When the n_neighbour parameter is 23 'Cross-validation' is: 0.723\n",
            "When the n_neighbour parameter is 24 'Cross-validation' is: 0.717\n",
            "When the n_neighbour parameter is 25 'Cross-validation' is: 0.726\n"
          ],
          "name": "stdout"
        }
      ]
    },
    {
      "cell_type": "code",
      "metadata": {
        "id": "N6jX2H4gNs5f",
        "colab": {
          "base_uri": "https://localhost:8080/"
        },
        "outputId": "68d7d031-4afc-4429-8553-0e0fe8530543"
      },
      "source": [
        "# 2. Report the classification accuracy for the optimal parameter using cross validation for model evaluation.\n",
        "# Solution 3 (ii)\n",
        "\n",
        "# since the optimal parameter for K is 17 now we see the test accuracy for K=17\n",
        "\n",
        "model = KNeighborsClassifier(n_neighbors = 17) # 17 is the optimal parameter of K\n",
        "model.fit(X_train, y_train)\n",
        "\n",
        "# Specify the corss validation parameters\n",
        "cv = StratifiedKFold(n_splits=5, random_state=0, shuffle=True)\n",
        "\n",
        "# Rum the corss-validation processing pipline \n",
        "cv_acc = cross_val_score(estimator=model,\n",
        "                         X=X_train,\n",
        "                         y=y_train,\n",
        "                         cv=cv,\n",
        "                         n_jobs=-1) \n",
        "\n",
        "print(\" The classification accuracy of the optimal parameter of K = 17 is: {:.3f}\".format(np.mean(cv_acc)))"
      ],
      "execution_count": 174,
      "outputs": [
        {
          "output_type": "stream",
          "text": [
            " The classification accuracy of the optimal parameter of K = 17 is: 0.743\n"
          ],
          "name": "stdout"
        }
      ]
    },
    {
      "cell_type": "code",
      "metadata": {
        "id": "tBgm22CNNxYA",
        "colab": {
          "base_uri": "https://localhost:8080/"
        },
        "outputId": "082ffba1-bbc6-4369-bf7c-ba9f2e61cce0"
      },
      "source": [
        "# 3. Report the generalization performance of the optimal model on the holdout dataset.\n",
        "# Solution 3(iii)\n",
        "model = KNeighborsClassifier(n_neighbors = 17)\n",
        "model.fit(X_train, y_train)\n",
        "y_pred = model.predict(X_test)\n",
        "test_acc = metrics.accuracy_score(y_pred, y_test)\n",
        "\n",
        "# Specify the corss validation parameters\n",
        "cv = StratifiedKFold(n_splits=5, random_state=0, shuffle=True)\n",
        "\n",
        "# Rum the corss-validation processing pipline \n",
        "cv_acc = cross_val_score(estimator=model,\n",
        "                         X=X_train,\n",
        "                         y=y_train,\n",
        "                         cv=cv,\n",
        "                         n_jobs=-1) \n",
        "\n",
        "\n",
        "print(\"Cross-validation is: {:.3f}\".format(np.mean(cv_acc)), \"and the 'Test Accuracy' is: {:.3f}\".format(test_acc) )\n",
        "\n",
        "# Confidence interval\n",
        "# z = 1.96 for 95% confidence\n",
        "import math\n",
        "\n",
        "confidenceInterval = 1.96*math.sqrt((test_acc*(1-test_acc))/len(y_test))\n",
        "print(\"Confidence interval is: {:.3f}\".format(test_acc), \"+/- {:.3f}\".format(confidenceInterval))"
      ],
      "execution_count": 175,
      "outputs": [
        {
          "output_type": "stream",
          "text": [
            "Cross-validation is: 0.743 and the 'Test Accuracy' is: 0.745\n",
            "Confidence interval is: 0.745 +/- 0.056\n"
          ],
          "name": "stdout"
        }
      ]
    },
    {
      "cell_type": "markdown",
      "metadata": {
        "id": "faYsnc8WNysX"
      },
      "source": [
        "##  3 Perform model selection on the SVM classifier.\n",
        "Use the above dataset to identify and evaluate the best model for this dataset when you are using the SVM classifier. Explore different parameters for C, gamma and kernel.\n",
        "\n",
        "1. Report which parameter configuration (C, gamma, kernel) gives best result under the cross validation procedure.\n",
        "\n",
        "2. Report the classification accuracy for the optimal parameter using cross validation for model evaluation.\n",
        "\n",
        "3. Report the generalization performance of the optimal model on the holdout dataset."
      ]
    },
    {
      "cell_type": "code",
      "metadata": {
        "id": "i02o_wbxN4lK",
        "colab": {
          "base_uri": "https://localhost:8080/"
        },
        "outputId": "31fe6bf3-99a9-4d0b-d5c0-a165faccbfd0"
      },
      "source": [
        "# Use this cell to run cross validation and select the optimial model for SVM classifier\n",
        "# (i.e. the optimal C, gamma, kernal parameter configuration)\n",
        "\n",
        "# 1. Report which parameter configuration (C, gamma, kernel) gives best result under the cross validation procedure.\n",
        "\n",
        "crossValResults = [] # to store the cross validation results of all the cv_acc 1-25\n",
        "for i in range(1,26): # to loop the n_neighbours parameter 1-25\n",
        "  C = i \n",
        "\n",
        "  model = SVC(C=C, kernel=\"rbf\")\n",
        "  model.fit(X_train, y_train)\n",
        "\n",
        "  # Specify the corss validation parameters\n",
        "  cv = StratifiedKFold(n_splits=5, random_state=0, shuffle=True)\n",
        "\n",
        "  # Rum the corss-validation processing pipline \n",
        "  cv_acc = cross_val_score(estimator=model,\n",
        "                         X=X_train,\n",
        "                         y=y_train,\n",
        "                         cv=cv,\n",
        "                         n_jobs=-1) \n",
        "  result = np.mean(cv_acc)\n",
        "\n",
        "  crossValResults.append(result) # to append (add) the result to \"crossValResults\" list\n",
        "print(\"\\nThe Cross Validation results are: \",crossValResults) # to print the list\n"
      ],
      "execution_count": 176,
      "outputs": [
        {
          "output_type": "stream",
          "text": [
            "\n",
            "The Cross Validation results are:  [0.7523710626514364, 0.7523710626514364, 0.7598476981654552, 0.7598476981654552, 0.7598476981654552, 0.7561266874350986, 0.7505192107995846, 0.7523883696780892, 0.7486500519210799, 0.7505019037729318, 0.7486327448944271, 0.7393042575285566, 0.7393042575285566, 0.7411734164070612, 0.7430425752855659, 0.7411734164070612, 0.7374524056767048, 0.7374524056767048, 0.7374524056767048, 0.7355832467982001, 0.7355832467982001, 0.7355832467982001, 0.7337140879196954, 0.7337140879196954, 0.7336967808930426]\n"
          ],
          "name": "stdout"
        }
      ]
    },
    {
      "cell_type": "code",
      "metadata": {
        "colab": {
          "base_uri": "https://localhost:8080/"
        },
        "id": "yRhEto9XOoQq",
        "outputId": "5a90327c-82a2-4320-8630-85de07347070"
      },
      "source": [
        "# Solution 3(i)\n",
        "optimalCrossVal = np.argmax(crossValResults) # to see the \n",
        "print(optimalCrossVal)\n",
        "# since the indexing starts from 0 the best parameter for K should be 2+1 = 3"
      ],
      "execution_count": 177,
      "outputs": [
        {
          "output_type": "stream",
          "text": [
            "2\n"
          ],
          "name": "stdout"
        }
      ]
    },
    {
      "cell_type": "code",
      "metadata": {
        "colab": {
          "base_uri": "https://localhost:8080/"
        },
        "id": "DDi-PWgyOySO",
        "outputId": "a29c16ce-afbd-4dfc-e97e-7a47b8b6553c"
      },
      "source": [
        "# to check\n",
        "crossValResults = [] # to store the cross validation results of all the cv_acc 1-25\n",
        "for i in range(1,26): # to loop the n_neighbours parameter 1-25\n",
        "  C = i\n",
        "\n",
        "  model = SVC(C=C, kernel=\"rbf\")\n",
        "  model.fit(X_train, y_train)\n",
        "\n",
        "  # Specify the corss validation parameters\n",
        "  cv = StratifiedKFold(n_splits=5, random_state=0, shuffle=True)\n",
        "\n",
        "  # Rum the corss-validation processing pipline \n",
        "  cv_acc = cross_val_score(estimator=model,\n",
        "                         X=X_train,\n",
        "                         y=y_train,\n",
        "                         cv=cv,\n",
        "                         n_jobs=-1) \n",
        "  result = np.mean(cv_acc)\n",
        "\n",
        "  crossValResults.append(result) # to append (add) the result to \"crossValResults\" list\n",
        "  \n",
        "  print(\"When the C parameter is %0.f\" %i,\"'Cross-validation' is: {:.4f}\".format(np.mean(cv_acc)))"
      ],
      "execution_count": 178,
      "outputs": [
        {
          "output_type": "stream",
          "text": [
            "When the C parameter is 1 'Cross-validation' is: 0.7524\n",
            "When the C parameter is 2 'Cross-validation' is: 0.7524\n",
            "When the C parameter is 3 'Cross-validation' is: 0.7598\n",
            "When the C parameter is 4 'Cross-validation' is: 0.7598\n",
            "When the C parameter is 5 'Cross-validation' is: 0.7598\n",
            "When the C parameter is 6 'Cross-validation' is: 0.7561\n",
            "When the C parameter is 7 'Cross-validation' is: 0.7505\n",
            "When the C parameter is 8 'Cross-validation' is: 0.7524\n",
            "When the C parameter is 9 'Cross-validation' is: 0.7487\n",
            "When the C parameter is 10 'Cross-validation' is: 0.7505\n",
            "When the C parameter is 11 'Cross-validation' is: 0.7486\n",
            "When the C parameter is 12 'Cross-validation' is: 0.7393\n",
            "When the C parameter is 13 'Cross-validation' is: 0.7393\n",
            "When the C parameter is 14 'Cross-validation' is: 0.7412\n",
            "When the C parameter is 15 'Cross-validation' is: 0.7430\n",
            "When the C parameter is 16 'Cross-validation' is: 0.7412\n",
            "When the C parameter is 17 'Cross-validation' is: 0.7375\n",
            "When the C parameter is 18 'Cross-validation' is: 0.7375\n",
            "When the C parameter is 19 'Cross-validation' is: 0.7375\n",
            "When the C parameter is 20 'Cross-validation' is: 0.7356\n",
            "When the C parameter is 21 'Cross-validation' is: 0.7356\n",
            "When the C parameter is 22 'Cross-validation' is: 0.7356\n",
            "When the C parameter is 23 'Cross-validation' is: 0.7337\n",
            "When the C parameter is 24 'Cross-validation' is: 0.7337\n",
            "When the C parameter is 25 'Cross-validation' is: 0.7337\n"
          ],
          "name": "stdout"
        }
      ]
    },
    {
      "cell_type": "markdown",
      "metadata": {
        "id": "QRXyHQaIRzZE"
      },
      "source": [
        "**Using kernel = sigmoid**"
      ]
    },
    {
      "cell_type": "code",
      "metadata": {
        "colab": {
          "base_uri": "https://localhost:8080/"
        },
        "id": "EMJ75rA4Qblg",
        "outputId": "10516972-d2dc-47bd-90bd-43ebd76f0e47"
      },
      "source": [
        "\n",
        "crossValResults = [] # to store the cross validation results of all the cv_acc 1-25\n",
        "for i in range(1,26): # to loop the n_neighbours parameter 1-25\n",
        "  C = i \n",
        "\n",
        "  model = SVC(C=C, kernel=\"sigmoid\")\n",
        "  model.fit(X_train, y_train)\n",
        "\n",
        "  # Specify the corss validation parameters\n",
        "  cv = StratifiedKFold(n_splits=5, random_state=0, shuffle=True)\n",
        "\n",
        "  # Rum the corss-validation processing pipline \n",
        "  cv_acc = cross_val_score(estimator=model,\n",
        "                         X=X_train,\n",
        "                         y=y_train,\n",
        "                         cv=cv,\n",
        "                         n_jobs=-1) \n",
        "  result = np.mean(cv_acc)\n",
        "\n",
        "  crossValResults.append(result) # to append (add) the result to \"crossValResults\" list\n",
        "print(\"\\nThe Cross Validation results are: \",crossValResults) # to print the list"
      ],
      "execution_count": 179,
      "outputs": [
        {
          "output_type": "stream",
          "text": [
            "\n",
            "The Cross Validation results are:  [0.47677397023191415, 0.4674800969193493, 0.4525614399446175, 0.4451021114572516, 0.43766008999653855, 0.43579093111803396, 0.43579093111803396, 0.43579093111803396, 0.43579093111803396, 0.433939079266182, 0.4358082381446867, 0.43206992038767744, 0.43392177223952927, 0.4320526133610246, 0.43020076150917264, 0.43206992038767733, 0.43206992038767733, 0.43206992038767733, 0.43206992038767733, 0.43206992038767733, 0.4320526133610246, 0.4320526133610246, 0.4320526133610246, 0.4320526133610246, 0.43020076150917264]\n"
          ],
          "name": "stdout"
        }
      ]
    },
    {
      "cell_type": "code",
      "metadata": {
        "colab": {
          "base_uri": "https://localhost:8080/"
        },
        "id": "kiN63MqIQicn",
        "outputId": "6ee0fd18-78f3-4e56-ec49-bf89dd055929"
      },
      "source": [
        "# Solution 3(i)\n",
        "optimalCrossVal = np.argmax(crossValResults) # to see the \n",
        "print(optimalCrossVal)\n",
        "# since the indexing starts from 0 the best parameter for K should be 0+1 = 1"
      ],
      "execution_count": 180,
      "outputs": [
        {
          "output_type": "stream",
          "text": [
            "0\n"
          ],
          "name": "stdout"
        }
      ]
    },
    {
      "cell_type": "markdown",
      "metadata": {
        "id": "Qpl34SvOSF_a"
      },
      "source": [
        "**Now we know that C = 3, kernel = rbf and gamma = 0 is the best parameter of K now we look at the cross validation score**\n"
      ]
    },
    {
      "cell_type": "markdown",
      "metadata": {
        "id": "-dJSlqCqTFfI"
      },
      "source": [
        "Note: I did not test different parameters for gamma because i got the same results for every parameter"
      ]
    },
    {
      "cell_type": "code",
      "metadata": {
        "id": "ATeB591IODdy",
        "colab": {
          "base_uri": "https://localhost:8080/"
        },
        "outputId": "c4636d1d-8b28-49c3-c942-5079098b750c"
      },
      "source": [
        "# Use this cell to calculate and report the generalization performance of the optimal model\n",
        "# 2. Report the classification accuracy for the optimal parameter using cross validation for model evaluation.\n",
        "# Solution 3 (ii)\n",
        "\n",
        "# since the optimal parameter for K is 17 now we see the test accuracy for K=17\n",
        "\n",
        "model = SVC(C=3, kernel=\"rbf\")\n",
        "model.fit(X_train, y_train)\n",
        "\n",
        "# Specify the corss validation parameters\n",
        "cv = StratifiedKFold(n_splits=5, random_state=0, shuffle=True)\n",
        "\n",
        "# Rum the corss-validation processing pipline \n",
        "cv_acc = cross_val_score(estimator=model,\n",
        "                         X=X_train,\n",
        "                         y=y_train,\n",
        "                         cv=cv,\n",
        "                         n_jobs=-1) \n",
        "\n",
        "print(\" The classification accuracy of the optimal parameter of K = 17 is: {:.3f}\".format(np.mean(cv_acc)))"
      ],
      "execution_count": 183,
      "outputs": [
        {
          "output_type": "stream",
          "text": [
            " The classification accuracy of the optimal parameter of K = 17 is: 0.760\n"
          ],
          "name": "stdout"
        }
      ]
    },
    {
      "cell_type": "code",
      "metadata": {
        "id": "Kk0_X5H-N_ZZ",
        "colab": {
          "base_uri": "https://localhost:8080/"
        },
        "outputId": "64a9370f-5f9f-4a71-aee2-3bf4f76edafb"
      },
      "source": [
        "# 3. Report the generalization performance of the optimal model on the holdout dataset.\n",
        "# Solution 3(iii)\n",
        "model = SVC(C=3, kernel=\"rbf\")\n",
        "model.fit(X_train, y_train)\n",
        "y_pred = model.predict(X_test)\n",
        "test_acc = metrics.accuracy_score(y_pred, y_test)\n",
        "\n",
        "# Specify the corss validation parameters\n",
        "cv = StratifiedKFold(n_splits=5, random_state=0, shuffle=True)\n",
        "\n",
        "# Rum the corss-validation processing pipline \n",
        "cv_acc = cross_val_score(estimator=model,\n",
        "                         X=X_train,\n",
        "                         y=y_train,\n",
        "                         cv=cv,\n",
        "                         n_jobs=-1) \n",
        "\n",
        "\n",
        "print(\"Cross-validation is: {:.3f}\".format(np.mean(cv_acc)), \"and the 'Test Accuracy' is: {:.3f}\".format(test_acc) )\n",
        "\n",
        "# Confidence interval\n",
        "# z = 1.96 for 95% confidence\n",
        "import math\n",
        "\n",
        "confidenceInterval = 1.96*math.sqrt((test_acc*(1-test_acc))/len(y_test))\n",
        "print(\"Confidence interval is: {:.3f}\".format(test_acc), \"+/- {:.3f}\".format(confidenceInterval)) \n"
      ],
      "execution_count": 184,
      "outputs": [
        {
          "output_type": "stream",
          "text": [
            "Cross-validation is: 0.760 and the 'Test Accuracy' is: 0.766\n",
            "Confidence interval is: 0.766 +/- 0.055\n"
          ],
          "name": "stdout"
        }
      ]
    },
    {
      "cell_type": "markdown",
      "metadata": {
        "id": "SNUd0xUyUTQ2"
      },
      "source": [
        "Copyright Statement: Copyright © 2020 Christoforou. The materials provided by the instructor of this course, including this notebook, are for the use of the students enrolled in the course. Materials are presented in an educational context for personal use and study and should not be shared, distributed, disseminated or sold in print — or digitally — outside the course without permission. You may not, nor may you knowingly allow others to reproduce or distribute lecture notes, course materials as well as any of their derivatives without the instructor's express written consent"
      ]
    }
  ]
}