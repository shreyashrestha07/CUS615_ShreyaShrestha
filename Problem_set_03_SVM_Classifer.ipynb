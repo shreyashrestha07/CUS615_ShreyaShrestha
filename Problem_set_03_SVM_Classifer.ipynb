{
  "nbformat": 4,
  "nbformat_minor": 0,
  "metadata": {
    "colab": {
      "name": "Problem_set_03_SVM_Classifer.ipynb",
      "provenance": [],
      "include_colab_link": true
    },
    "kernelspec": {
      "name": "python3",
      "display_name": "Python 3"
    }
  },
  "cells": [
    {
      "cell_type": "markdown",
      "metadata": {
        "id": "view-in-github",
        "colab_type": "text"
      },
      "source": [
        "<a href=\"https://colab.research.google.com/github/shreyashrestha07/CUS615_ShreyaShrestha/blob/master/Problem_set_03_SVM_Classifer.ipynb\" target=\"_parent\"><img src=\"https://colab.research.google.com/assets/colab-badge.svg\" alt=\"Open In Colab\"/></a>"
      ]
    },
    {
      "cell_type": "markdown",
      "metadata": {
        "id": "KlswIWYJfW9T"
      },
      "source": [
        "This notebook is part of Dr. Christoforos Christoforou's course materials. You may not, nor may you knowingly allow others to reproduce or distribute lecture notes, course materials or any of their derivatives without the instructor's express written consent."
      ]
    },
    {
      "cell_type": "markdown",
      "metadata": {
        "id": "mGWGpILX6Caz"
      },
      "source": [
        "# Problem Set 03 - Support Vector Machines Classifiers\n",
        "**Professor:** Dr. Christoforos Christoforou\n",
        "\n",
        "For this problem set you will need the following libraries, which are pre-installed with the colab environment: \n",
        "\n",
        "* [Numpy](https://www.numpy.org/) is an array manipulation library, used for linear algebra, Fourier transform, and random number capabilities.\n",
        "* [Pandas](https://pandas.pydata.org/) is a library for data manipulation and data analysis.\n",
        "* [Matplotlib](https://matplotlib.org/) is a library which generates figures and provides graphical user interface toolkit.\n",
        "\n",
        "You can load them using the following import statement:"
      ]
    },
    {
      "cell_type": "code",
      "metadata": {
        "id": "m5xcgMf35rfn"
      },
      "source": [
        "import numpy as np\n",
        "import pandas as pd\n",
        "import matplotlib.pylab as plt\n",
        "\n",
        "\n",
        "from sklearn.model_selection import train_test_split\n",
        "from sklearn import datasets\n",
        "from sklearn import metrics\n",
        "from sklearn.metrics import confusion_matrix\n",
        "from sklearn.metrics import plot_confusion_matrix\n",
        "from sklearn.metrics import classification_report\n",
        "\n",
        "\n",
        "from sklearn.svm import SVC\n",
        "from sklearn.svm import LinearSVC\n",
        "\n",
        "import warnings\n",
        "warnings.simplefilter(\"ignore\")"
      ],
      "execution_count": 52,
      "outputs": []
    },
    {
      "cell_type": "markdown",
      "metadata": {
        "id": "Kmj0HPwPuohO"
      },
      "source": [
        "## 1. Objective \n",
        "As part of this problem set, you will expore work on the `wine quality dataset`  in order to: \n",
        "- To explore the physiocochemical properties of red wine\n",
        "- To determine an optimal machine learning model for red wine quality classification\n",
        "\n",
        "For that, you will be using an `instance-based` classifier, namely K-NN algorithm. Review the information provided in the problem set, and complete all challenges listed.  "
      ]
    },
    {
      "cell_type": "markdown",
      "metadata": {
        "id": "mSJ_VpGu6XWz"
      },
      "source": [
        "## 2. Wine Quality Dataset - Data Description\n",
        "\n",
        "For this dataset you will be using the `wine quality dataset`. Below is a description of the various parameters listed in that dataset (i.e. potential features):\n",
        "\n",
        "* fixed.acidity (tartaric acid - g / dm^3): most acids involved with wine or fixed or nonvolatile (do not evaporate readily) \n",
        "* volatile.acidity (acetic acid - g / dm^3): the amount of acetic acid in wine, which at too high of levels can lead to an unpleasant, vinegar taste \n",
        "* citric.acid (g / dm^3): the amount of acetic acid in wine, which at too high of levels can lead to an unpleasant, vinegar taste \n",
        "* residual.sugar (g / dm^3): the amount of sugar remaining after fermentation stops, it's rare to find wines with less than 1 gram/liter and wines with greater than 45 grams/liter are considered sweet \n",
        "* chlorides (sodium chloride - g / dm^3): the amount of salt in the wine \n",
        "* free.sulfur.dioxide (mg / dm^3): the free form of SO2 exists in equilibrium between molecular SO2 (as a dissolved gas) and bisulfite ion; it prevents microbial growth and the oxidation of wine \n",
        "* total.sulfur.dioxide (mg / dm^3): amount of free and bound forms of S02; in low concentrations, SO2 is mostly undetectable in wine, but at free SO2 concentrations over 50 ppm, SO2 becomes evident in the nose and taste of wine \n",
        "* density (g / cm^3): the density of water is close to that of water depending on the percent alcohol and sugar content \n",
        "* pH: describes how acidic or basic a wine is on a scale from 0 (very acidic) to 14 (very basic); most wines are between 3-4 on the pH scale \n",
        "* sulphates (potassium sulphate - g / dm3): a wine additive which can contribute to sulfur dioxide gas (S02) levels, wich acts as an antimicrobial and antioxidant \n",
        "* alcohol (% by volume): the percent alcohol content of the wine \n",
        "* quality: quality score between 0 and 10\n",
        "\n"
      ]
    },
    {
      "cell_type": "markdown",
      "metadata": {
        "id": "wzcCUgaNwHMx"
      },
      "source": [
        "## Download dataset from kaggle\n",
        "You will use the Kaggle CLI to dowload the `Wine Quality Dataset` to your colab enviroment. You will need to upload your kaggle API (see problem_set 01 for direction on how to obtain your API key. "
      ]
    },
    {
      "cell_type": "code",
      "metadata": {
        "id": "c9GUkdufxKJn"
      },
      "source": [
        "# install kaggle CLI\n",
        "!pip install -q kaggle"
      ],
      "execution_count": 53,
      "outputs": []
    },
    {
      "cell_type": "code",
      "metadata": {
        "id": "nyyNV2x_xP7l",
        "colab": {
          "resources": {
            "http://localhost:8080/nbextensions/google.colab/files.js": {
              "data": "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",
              "ok": true,
              "headers": [
                [
                  "content-type",
                  "application/javascript"
                ]
              ],
              "status": 200,
              "status_text": ""
            }
          },
          "base_uri": "https://localhost:8080/",
          "height": 89
        },
        "outputId": "a7c6c025-36fd-42f9-a218-6652215df1be"
      },
      "source": [
        "# Upload the kaggle API key of your account \n",
        "from google.colab import files \n",
        "files.upload()\n",
        "!mkdir ~/.kaggle\n",
        "!cp kaggle.json ~/.kaggle\n",
        "!chmod 600 ~/.kaggle/kaggle.json"
      ],
      "execution_count": 54,
      "outputs": [
        {
          "output_type": "display_data",
          "data": {
            "text/html": [
              "\n",
              "     <input type=\"file\" id=\"files-cff2c404-4120-4f0d-a8ca-35dfaab7a302\" name=\"files[]\" multiple disabled\n",
              "        style=\"border:none\" />\n",
              "     <output id=\"result-cff2c404-4120-4f0d-a8ca-35dfaab7a302\">\n",
              "      Upload widget is only available when the cell has been executed in the\n",
              "      current browser session. Please rerun this cell to enable.\n",
              "      </output>\n",
              "      <script src=\"/nbextensions/google.colab/files.js\"></script> "
            ],
            "text/plain": [
              "<IPython.core.display.HTML object>"
            ]
          },
          "metadata": {
            "tags": []
          }
        },
        {
          "output_type": "stream",
          "text": [
            "Saving kaggle.json to kaggle (3).json\n",
            "mkdir: cannot create directory ‘/root/.kaggle’: File exists\n"
          ],
          "name": "stdout"
        }
      ]
    },
    {
      "cell_type": "code",
      "metadata": {
        "id": "UF7BNWDK3Djt",
        "colab": {
          "base_uri": "https://localhost:8080/"
        },
        "outputId": "18e0f28a-de69-4fa3-b9b8-ca3d1975e6ab"
      },
      "source": [
        "# View list of data files available in the dataset. \n",
        "# Format : kaggle dataset files <dataset-URI>\n",
        "!kaggle datasets files cchristoforou/practice-dataset-for-tutorials"
      ],
      "execution_count": 55,
      "outputs": [
        {
          "output_type": "stream",
          "text": [
            "Warning: Looks like you're using an outdated API Version, please consider updating (server 1.5.10 / client 1.5.4)\n",
            "name                  size  creationDate         \n",
            "-------------------  -----  -------------------  \n",
            "wine.data             11KB  2021-01-23 15:26:18  \n",
            "countries.csv          2KB  2021-01-23 15:26:18  \n",
            "country_total.csv    533KB  2021-01-23 15:26:18  \n",
            "wineQualityReds.csv   92KB  2021-01-23 15:26:18  \n"
          ],
          "name": "stdout"
        }
      ]
    },
    {
      "cell_type": "code",
      "metadata": {
        "id": "2_ZTFa7Zxa3V"
      },
      "source": [
        "# Download - Specify the parameters.  \n",
        "kaggle_dataset_URI = \"cchristoforou/practice-dataset-for-tutorials\"\n",
        "output_folder = \"sample_data/problem_set02\"\n",
        "kaggle_data_file1 = \"wineQualityReds.csv\""
      ],
      "execution_count": 56,
      "outputs": []
    },
    {
      "cell_type": "code",
      "metadata": {
        "id": "oXbCHcmaxdvc",
        "colab": {
          "base_uri": "https://localhost:8080/"
        },
        "outputId": "fe68d14c-6bb0-47c4-c0a6-f188aca9dfc1"
      },
      "source": [
        "# Download the first file from dataset - countries.csv\n",
        "!kaggle datasets download $kaggle_dataset_URI --file $kaggle_data_file1 --path $output_folder \n"
      ],
      "execution_count": 57,
      "outputs": [
        {
          "output_type": "stream",
          "text": [
            "wineQualityReds.csv: Skipping, found more recently modified local copy (use --force to force download)\n"
          ],
          "name": "stdout"
        }
      ]
    },
    {
      "cell_type": "markdown",
      "metadata": {
        "id": "8NK7aOGa3mEO"
      },
      "source": [
        "## Load the data \n",
        "The code below showcase how to load the data in a pandas `DataFrame` and apply a train_test_split on the data. "
      ]
    },
    {
      "cell_type": "code",
      "metadata": {
        "id": "VfqI0GwY3puP"
      },
      "source": [
        "# Code to load the data from file. Here we use the pandas library to read the csv file. \n",
        "datafile = \"./sample_data/problem_set02/wineQualityReds.csv\"\n",
        "wine_df = pd.read_csv(datafile)\n",
        "wine_df.drop(wine_df.columns[0],axis=1,inplace=True)"
      ],
      "execution_count": 58,
      "outputs": []
    },
    {
      "cell_type": "code",
      "metadata": {
        "id": "mFY7dC6b3-4j"
      },
      "source": [
        "# Split the data into a training and testing set using the sklearn function train_test_split\n",
        "# Noteice that \n",
        "X_train, X_test, y_train, y_test = train_test_split(wine_df.drop('quality',axis=1), wine_df['quality'], test_size=.25, random_state=42)\n"
      ],
      "execution_count": 59,
      "outputs": []
    },
    {
      "cell_type": "markdown",
      "metadata": {
        "id": "gA3vk26dYXC2"
      },
      "source": [
        "## Challenge 1\n",
        "Use the variables `X_train`, `X_test`, `y_train`, and `y_test` to explore your data. In particular, calculate and display the following information.\n",
        "\n",
        "* Number of samples in the training set in total and in each class.\n",
        "* Number of samples in the testing set in total and in each class.\n",
        "* Number of features in the dataset. \n",
        "* Number of classes in the dataset.\n",
        "* IDs of the number of classes.\n"
      ]
    },
    {
      "cell_type": "code",
      "metadata": {
        "id": "iiXoK_qwYXC3",
        "colab": {
          "base_uri": "https://localhost:8080/"
        },
        "outputId": "a18dd5ca-7da1-4df2-d446-49691e89946b"
      },
      "source": [
        "# Solution 1:\n",
        "\n",
        "wine_df_train, wine_df_features = X_train.shape \n",
        "wine_df_test, _ = X_test.shape\n",
        "wine_df_classes = len(np.unique(y_train))\n",
        "\n",
        "#1 Number of samples in the training set in total and in each class\n",
        "print(\"Number of samples in training set:  %d \\n(%d : Class 3, %d : Class 4, %d : Class 5, %d Class 6, %d : Class 7, %d : Class 8) \" % (wine_df_train, np.sum(y_train==3), np.sum(y_train==4), np.sum(y_train==5), np.sum(y_train==6), np.sum(y_train==7), np.sum(y_train==8)))\n",
        "\n",
        "#2 Number of samples in the testing set in total and in each class\n",
        "print(\"Number of samples in training set: %d \\n(%d : Class 3, %d : Class 4, %d : Class 5, %d Class 6, %d : Class 7, %d : Class 8)\" % (wine_df_test, np.sum(y_test==3), np.sum(y_test==4), np.sum(y_test==5), np.sum(y_test==6), np.sum(y_test==7), np.sum(y_test==8)))\n",
        "\n",
        "#3 Number of features in the dataset.\n",
        "print(\"Number of features: \"+ str(wine_df_features))\n",
        "\n",
        "#4 Number of classes in the dataset.\n",
        "print(\"Number of classes: \" + str(wine_df_classes))\n",
        "\n",
        "#5 IDs of the number of classes.\n",
        "print(\"IDs for class labels: \" + str(np.unique(y_train)))\n",
        "\n",
        "\n"
      ],
      "execution_count": 60,
      "outputs": [
        {
          "output_type": "stream",
          "text": [
            "Number of samples in training set:  1199 \n",
            "(9 : Class 3, 40 : Class 4, 517 : Class 5, 469 Class 6, 151 : Class 7, 13 : Class 8) \n",
            "Number of samples in training set: 400 \n",
            "(1 : Class 3, 13 : Class 4, 164 : Class 5, 169 Class 6, 48 : Class 7, 5 : Class 8)\n",
            "Number of features: 11\n",
            "Number of classes: 6\n",
            "IDs for class labels: [3 4 5 6 7 8]\n"
          ],
          "name": "stdout"
        }
      ]
    },
    {
      "cell_type": "markdown",
      "metadata": {
        "id": "AiI3psnpYXC7"
      },
      "source": [
        "# Challenge 2\n",
        "\n",
        "Train a **SVM** classifier using the `(X_train,y_train)` dataset and use the trained model to predict the underlying classes for the observations in the test dataset `X_test`. Store your prediction in a variable called `y_pred`."
      ]
    },
    {
      "cell_type": "code",
      "metadata": {
        "id": "DqyJrw2vYXC9",
        "colab": {
          "base_uri": "https://localhost:8080/"
        },
        "outputId": "292fc355-1588-4cd4-e89f-33603a3ecf89"
      },
      "source": [
        "# To train the SVM classifier\n",
        "model = LinearSVC()\n",
        "\n",
        "# To fit the model\n",
        "model.fit(X_train, y_train)\n"
      ],
      "execution_count": 61,
      "outputs": [
        {
          "output_type": "execute_result",
          "data": {
            "text/plain": [
              "LinearSVC(C=1.0, class_weight=None, dual=True, fit_intercept=True,\n",
              "          intercept_scaling=1, loss='squared_hinge', max_iter=1000,\n",
              "          multi_class='ovr', penalty='l2', random_state=None, tol=0.0001,\n",
              "          verbose=0)"
            ]
          },
          "metadata": {
            "tags": []
          },
          "execution_count": 61
        }
      ]
    },
    {
      "cell_type": "code",
      "metadata": {
        "colab": {
          "base_uri": "https://localhost:8080/"
        },
        "id": "0cjCpQaaX-Qi",
        "outputId": "34cb6195-60d5-480c-d4e6-88418917e365"
      },
      "source": [
        "# To predict output\n",
        "y_pred = model.predict(X_test)\n",
        "print(f\"x_test.shape {X_test.shape} y_pred.shape{y_pred.shape}\")"
      ],
      "execution_count": 62,
      "outputs": [
        {
          "output_type": "stream",
          "text": [
            "x_test.shape (400, 11) y_pred.shape(400,)\n"
          ],
          "name": "stdout"
        }
      ]
    },
    {
      "cell_type": "code",
      "metadata": {
        "colab": {
          "base_uri": "https://localhost:8080/"
        },
        "id": "6qeCQ0oNYB0Y",
        "outputId": "fbfdff16-7ad0-4d2d-c671-8c99f78b115f"
      },
      "source": [
        "# Inspect the content of y_pred\n",
        "y_pred"
      ],
      "execution_count": 63,
      "outputs": [
        {
          "output_type": "execute_result",
          "data": {
            "text/plain": [
              "array([5, 5, 6, 6, 6, 5, 5, 5, 5, 6, 6, 5, 6, 5, 5, 6, 5, 5, 7, 5, 5, 5,\n",
              "       6, 6, 5, 5, 7, 5, 5, 6, 5, 5, 5, 5, 5, 5, 6, 6, 5, 6, 5, 5, 6, 5,\n",
              "       6, 6, 6, 5, 5, 6, 5, 5, 6, 6, 5, 5, 6, 5, 6, 5, 5, 6, 5, 5, 6, 5,\n",
              "       6, 5, 6, 5, 6, 5, 6, 6, 6, 5, 6, 6, 5, 6, 5, 6, 6, 5, 6, 6, 5, 6,\n",
              "       6, 5, 6, 5, 6, 6, 5, 5, 5, 6, 5, 6, 5, 5, 6, 6, 6, 6, 5, 5, 5, 5,\n",
              "       6, 5, 6, 5, 6, 6, 6, 5, 5, 6, 7, 5, 6, 5, 5, 5, 6, 5, 5, 6, 6, 5,\n",
              "       5, 6, 6, 5, 5, 5, 5, 6, 6, 6, 6, 5, 6, 5, 6, 5, 6, 5, 6, 6, 5, 6,\n",
              "       6, 6, 5, 6, 5, 6, 6, 6, 6, 5, 5, 6, 5, 5, 5, 5, 5, 5, 6, 5, 5, 5,\n",
              "       6, 5, 5, 5, 5, 6, 5, 7, 5, 6, 5, 6, 7, 5, 6, 5, 5, 6, 5, 5, 5, 5,\n",
              "       5, 6, 5, 5, 5, 5, 6, 5, 5, 5, 5, 6, 5, 5, 5, 6, 6, 6, 5, 5, 6, 5,\n",
              "       5, 6, 6, 6, 5, 5, 5, 6, 5, 5, 5, 5, 7, 6, 6, 6, 5, 6, 5, 5, 5, 5,\n",
              "       5, 6, 6, 5, 6, 5, 6, 5, 5, 5, 5, 5, 5, 5, 6, 6, 5, 6, 6, 6, 5, 7,\n",
              "       6, 6, 5, 5, 6, 6, 5, 5, 5, 5, 5, 5, 6, 6, 6, 5, 6, 5, 6, 5, 5, 6,\n",
              "       5, 6, 5, 6, 5, 7, 5, 6, 5, 6, 5, 6, 6, 6, 5, 5, 6, 5, 5, 5, 6, 6,\n",
              "       7, 6, 6, 5, 5, 5, 5, 6, 6, 5, 6, 5, 5, 5, 6, 5, 5, 5, 6, 5, 5, 6,\n",
              "       6, 6, 5, 5, 5, 6, 6, 6, 5, 5, 6, 6, 6, 5, 6, 5, 6, 5, 5, 6, 5, 6,\n",
              "       5, 5, 5, 5, 5, 5, 5, 5, 6, 5, 5, 5, 6, 6, 6, 5, 5, 5, 5, 5, 6, 6,\n",
              "       5, 6, 5, 6, 5, 5, 5, 6, 6, 5, 6, 6, 6, 5, 5, 6, 5, 5, 5, 5, 6, 6,\n",
              "       6, 5, 5, 6])"
            ]
          },
          "metadata": {
            "tags": []
          },
          "execution_count": 63
        }
      ]
    },
    {
      "cell_type": "markdown",
      "metadata": {
        "id": "dXzRoS9zYXDA"
      },
      "source": [
        "# Challenge 3\n",
        "\n",
        "Evaluate the performance of your classifier. Calculate and display the following:\n",
        "* print the `confusion matrix`.\n",
        "* `normalized confusion matrix`. \n",
        "* the probablitity of correct classification (accuracy score). \n",
        "* the `precision`, `recall`, and `f1-score` for each class."
      ]
    },
    {
      "cell_type": "code",
      "metadata": {
        "id": "iukdb1zbYJgj"
      },
      "source": [
        "y_true = y_test"
      ],
      "execution_count": 64,
      "outputs": []
    },
    {
      "cell_type": "code",
      "metadata": {
        "id": "KLY8dmj9YXDB",
        "colab": {
          "base_uri": "https://localhost:8080/"
        },
        "outputId": "0e2c6e3c-d58b-494f-b424-60f801fb5e3b"
      },
      "source": [
        "\n",
        "# Print the confusing matrix  \n",
        "print(\"\\n This is the confusion matrix\")\n",
        "cnf_mx = metrics.confusion_matrix(y_true, y_pred)\n",
        "print(cnf_mx)\n",
        "\n",
        "# Normalized cnfusion matrix\n",
        "print(\"\\n This is the normalized confusion matrix\")\n",
        "cnf_mx_joint = cnf_mx.astype('float')/cnf_mx.sum()\n",
        "print(cnf_mx_joint)\n",
        "\n"
      ],
      "execution_count": 65,
      "outputs": [
        {
          "output_type": "stream",
          "text": [
            "\n",
            " This is the confusion matrix\n",
            "[[  0   0   1   0   0   0]\n",
            " [  0   0  11   2   0   0]\n",
            " [  0   0 126  37   1   0]\n",
            " [  0   0  82  84   3   0]\n",
            " [  0   0   4  41   3   0]\n",
            " [  0   0   0   3   2   0]]\n",
            "\n",
            " This is the normalized confusion matrix\n",
            "[[0.     0.     0.0025 0.     0.     0.    ]\n",
            " [0.     0.     0.0275 0.005  0.     0.    ]\n",
            " [0.     0.     0.315  0.0925 0.0025 0.    ]\n",
            " [0.     0.     0.205  0.21   0.0075 0.    ]\n",
            " [0.     0.     0.01   0.1025 0.0075 0.    ]\n",
            " [0.     0.     0.     0.0075 0.005  0.    ]]\n"
          ],
          "name": "stdout"
        }
      ]
    },
    {
      "cell_type": "code",
      "metadata": {
        "colab": {
          "base_uri": "https://localhost:8080/"
        },
        "id": "NlHlgd1qYlob",
        "outputId": "34efb137-2142-4784-c1e6-c5c44d56accb"
      },
      "source": [
        "# The probablitity of correct classification (accuracy score).\n",
        "acc = metrics.accuracy_score(y_true, y_pred)\n",
        "print(\"\\n Accuracy: %.3f\" % acc)"
      ],
      "execution_count": 66,
      "outputs": [
        {
          "output_type": "stream",
          "text": [
            "\n",
            " Accuracy: 0.532\n"
          ],
          "name": "stdout"
        }
      ]
    },
    {
      "cell_type": "code",
      "metadata": {
        "colab": {
          "base_uri": "https://localhost:8080/"
        },
        "id": "SMVqUdPS9AR-",
        "outputId": "cf9e757a-c48e-4c3e-c2dc-acc355e96d42"
      },
      "source": [
        "#report classificaiton results (the precision, recall, and f1-score for each class.)\n",
        "print(classification_report(y_test,y_pred)) "
      ],
      "execution_count": 67,
      "outputs": [
        {
          "output_type": "stream",
          "text": [
            "              precision    recall  f1-score   support\n",
            "\n",
            "           3       0.00      0.00      0.00         1\n",
            "           4       0.00      0.00      0.00        13\n",
            "           5       0.56      0.77      0.65       164\n",
            "           6       0.50      0.50      0.50       169\n",
            "           7       0.33      0.06      0.11        48\n",
            "           8       0.00      0.00      0.00         5\n",
            "\n",
            "    accuracy                           0.53       400\n",
            "   macro avg       0.23      0.22      0.21       400\n",
            "weighted avg       0.48      0.53      0.49       400\n",
            "\n"
          ],
          "name": "stdout"
        }
      ]
    },
    {
      "cell_type": "markdown",
      "metadata": {
        "id": "nyzhOmHmfJdw"
      },
      "source": [
        ""
      ]
    },
    {
      "cell_type": "markdown",
      "metadata": {
        "id": "tISC_CuuYXDE"
      },
      "source": [
        "# Challenge 4\n",
        "\n",
        "The code below loads the same dataset, but treats it as a binary classification problem. That is, instead of classifying an observation into one of 10 categories (0..10), we consider all observations with score above 5 as being good and all observation below or equal to five as being bad.\n",
        "\n",
        "\n",
        "\n"
      ]
    },
    {
      "cell_type": "code",
      "metadata": {
        "id": "OOknQCteYXDG"
      },
      "source": [
        "# Code to load the data from file. Here we use the pandas library to read the csv file. \n",
        "datafile = \"./sample_data/problem_set02/wineQualityReds.csv\"\n",
        "wine_df = pd.read_csv(datafile)\n",
        "wine_df.drop(wine_df.columns[0],axis=1,inplace=True)\n",
        "\n",
        "wine_df['quality'] = np.where(wine_df['quality']>5,\"Good\",\"Bad\")"
      ],
      "execution_count": 68,
      "outputs": []
    },
    {
      "cell_type": "code",
      "metadata": {
        "colab": {
          "base_uri": "https://localhost:8080/",
          "height": 224
        },
        "id": "g4t9jSveZI6m",
        "outputId": "f359619a-8900-49c5-f120-eb07e969da69"
      },
      "source": [
        "wine_df.head()"
      ],
      "execution_count": 69,
      "outputs": [
        {
          "output_type": "execute_result",
          "data": {
            "text/html": [
              "<div>\n",
              "<style scoped>\n",
              "    .dataframe tbody tr th:only-of-type {\n",
              "        vertical-align: middle;\n",
              "    }\n",
              "\n",
              "    .dataframe tbody tr th {\n",
              "        vertical-align: top;\n",
              "    }\n",
              "\n",
              "    .dataframe thead th {\n",
              "        text-align: right;\n",
              "    }\n",
              "</style>\n",
              "<table border=\"1\" class=\"dataframe\">\n",
              "  <thead>\n",
              "    <tr style=\"text-align: right;\">\n",
              "      <th></th>\n",
              "      <th>fixed.acidity</th>\n",
              "      <th>volatile.acidity</th>\n",
              "      <th>citric.acid</th>\n",
              "      <th>residual.sugar</th>\n",
              "      <th>chlorides</th>\n",
              "      <th>free.sulfur.dioxide</th>\n",
              "      <th>total.sulfur.dioxide</th>\n",
              "      <th>density</th>\n",
              "      <th>pH</th>\n",
              "      <th>sulphates</th>\n",
              "      <th>alcohol</th>\n",
              "      <th>quality</th>\n",
              "    </tr>\n",
              "  </thead>\n",
              "  <tbody>\n",
              "    <tr>\n",
              "      <th>0</th>\n",
              "      <td>7.4</td>\n",
              "      <td>0.70</td>\n",
              "      <td>0.00</td>\n",
              "      <td>1.9</td>\n",
              "      <td>0.076</td>\n",
              "      <td>11.0</td>\n",
              "      <td>34.0</td>\n",
              "      <td>0.9978</td>\n",
              "      <td>3.51</td>\n",
              "      <td>0.56</td>\n",
              "      <td>9.4</td>\n",
              "      <td>Bad</td>\n",
              "    </tr>\n",
              "    <tr>\n",
              "      <th>1</th>\n",
              "      <td>7.8</td>\n",
              "      <td>0.88</td>\n",
              "      <td>0.00</td>\n",
              "      <td>2.6</td>\n",
              "      <td>0.098</td>\n",
              "      <td>25.0</td>\n",
              "      <td>67.0</td>\n",
              "      <td>0.9968</td>\n",
              "      <td>3.20</td>\n",
              "      <td>0.68</td>\n",
              "      <td>9.8</td>\n",
              "      <td>Bad</td>\n",
              "    </tr>\n",
              "    <tr>\n",
              "      <th>2</th>\n",
              "      <td>7.8</td>\n",
              "      <td>0.76</td>\n",
              "      <td>0.04</td>\n",
              "      <td>2.3</td>\n",
              "      <td>0.092</td>\n",
              "      <td>15.0</td>\n",
              "      <td>54.0</td>\n",
              "      <td>0.9970</td>\n",
              "      <td>3.26</td>\n",
              "      <td>0.65</td>\n",
              "      <td>9.8</td>\n",
              "      <td>Bad</td>\n",
              "    </tr>\n",
              "    <tr>\n",
              "      <th>3</th>\n",
              "      <td>11.2</td>\n",
              "      <td>0.28</td>\n",
              "      <td>0.56</td>\n",
              "      <td>1.9</td>\n",
              "      <td>0.075</td>\n",
              "      <td>17.0</td>\n",
              "      <td>60.0</td>\n",
              "      <td>0.9980</td>\n",
              "      <td>3.16</td>\n",
              "      <td>0.58</td>\n",
              "      <td>9.8</td>\n",
              "      <td>Good</td>\n",
              "    </tr>\n",
              "    <tr>\n",
              "      <th>4</th>\n",
              "      <td>7.4</td>\n",
              "      <td>0.70</td>\n",
              "      <td>0.00</td>\n",
              "      <td>1.9</td>\n",
              "      <td>0.076</td>\n",
              "      <td>11.0</td>\n",
              "      <td>34.0</td>\n",
              "      <td>0.9978</td>\n",
              "      <td>3.51</td>\n",
              "      <td>0.56</td>\n",
              "      <td>9.4</td>\n",
              "      <td>Bad</td>\n",
              "    </tr>\n",
              "  </tbody>\n",
              "</table>\n",
              "</div>"
            ],
            "text/plain": [
              "   fixed.acidity  volatile.acidity  citric.acid  ...  sulphates  alcohol  quality\n",
              "0            7.4              0.70         0.00  ...       0.56      9.4      Bad\n",
              "1            7.8              0.88         0.00  ...       0.68      9.8      Bad\n",
              "2            7.8              0.76         0.04  ...       0.65      9.8      Bad\n",
              "3           11.2              0.28         0.56  ...       0.58      9.8     Good\n",
              "4            7.4              0.70         0.00  ...       0.56      9.4      Bad\n",
              "\n",
              "[5 rows x 12 columns]"
            ]
          },
          "metadata": {
            "tags": []
          },
          "execution_count": 69
        }
      ]
    },
    {
      "cell_type": "code",
      "metadata": {
        "id": "lbQmpDuKYXDJ"
      },
      "source": [
        "X_train, X_test, y_train, y_test = train_test_split(wine_df.drop('quality',axis=1), wine_df['quality'], test_size=.25, random_state=42)\n"
      ],
      "execution_count": 70,
      "outputs": []
    },
    {
      "cell_type": "markdown",
      "metadata": {
        "id": "6j1YJhHoYXDM"
      },
      "source": [
        "## Callenge 4.1\n",
        "Use the variables `X_train`, `X_test`, `y_train`, and `y_test` to explore your data. In particular, calculate and display the following information.\n",
        "* Number of samples in the training set in total and in each class.\n",
        "* Number of samples in the testing set in total and in each class.\n",
        "* Number of features in the dataset. \n",
        "* Number of classes in the dataset.\n",
        "* IDs of the number of classes.\n",
        "\n",
        "\n"
      ]
    },
    {
      "cell_type": "code",
      "metadata": {
        "id": "lSm4hG_xYXDN",
        "colab": {
          "base_uri": "https://localhost:8080/"
        },
        "outputId": "187dc882-1df6-4a1d-ecfe-abece1c7f45c"
      },
      "source": [
        "# Solution 4.1:\n",
        "\n",
        "wine_df_train, wine_df_features = X_train.shape \n",
        "wine_df_test, _ = X_test.shape\n",
        "wine_df_classes = len(np.unique(y_train))\n",
        "\n",
        "#1 Number of samples in the training set in total and in each class\n",
        "print(\"Number of samples in training set:  %d  (%d Good, %d Bad) \" % (wine_df_train, np.sum(y_train==\"Good\"), np.sum(y_train==\"Bad\")))\n",
        "\n",
        "#2 Number of samples in the testing set in total and in each class\n",
        "print(\"Number of samples in testing set:  %d  (%d Good, %d Bad) \" % (wine_df_test, np.sum(y_test==\"Good\"), np.sum(y_test==\"Bad\")))\n",
        "\n",
        "#3 Number of features in the dataset.\n",
        "print(\"Number of features: \"+ str(wine_df_features))\n",
        "\n",
        "#4 Number of classes in the dataset.\n",
        "print(\"Number of classes: \" + str(wine_df_classes))\n",
        "\n",
        "#5 IDs of the number of classes.\n",
        "print(\"IDs for class labels: \" + str(np.unique(y_train)))\n"
      ],
      "execution_count": 71,
      "outputs": [
        {
          "output_type": "stream",
          "text": [
            "Number of samples in training set:  1199  (633 Good, 566 Bad) \n",
            "Number of samples in testing set:  400  (222 Good, 178 Bad) \n",
            "Number of features: 11\n",
            "Number of classes: 2\n",
            "IDs for class labels: ['Bad' 'Good']\n"
          ],
          "name": "stdout"
        }
      ]
    },
    {
      "cell_type": "markdown",
      "metadata": {
        "id": "5dp5WBluYXDQ"
      },
      "source": [
        "## Challenge 4.2 \n",
        "Train a **Support Vector Machine** classifier using the `(X_train,y_train)` dataset and use trained model to predict the underlying classes for the observations in the test dataset `X_test`. Store your prediction in a variable called `y_pred`."
      ]
    },
    {
      "cell_type": "code",
      "metadata": {
        "id": "hVFLojbcYXDQ",
        "colab": {
          "base_uri": "https://localhost:8080/"
        },
        "outputId": "7ee452be-00f7-4fca-f981-3f338fa24d6a"
      },
      "source": [
        "# To train the SVM classifier\n",
        "model = LinearSVC()\n",
        "\n",
        "# To fit the model\n",
        "model.fit(X_train, y_train)\n"
      ],
      "execution_count": 72,
      "outputs": [
        {
          "output_type": "execute_result",
          "data": {
            "text/plain": [
              "LinearSVC(C=1.0, class_weight=None, dual=True, fit_intercept=True,\n",
              "          intercept_scaling=1, loss='squared_hinge', max_iter=1000,\n",
              "          multi_class='ovr', penalty='l2', random_state=None, tol=0.0001,\n",
              "          verbose=0)"
            ]
          },
          "metadata": {
            "tags": []
          },
          "execution_count": 72
        }
      ]
    },
    {
      "cell_type": "code",
      "metadata": {
        "colab": {
          "base_uri": "https://localhost:8080/"
        },
        "id": "PZdEqIR4ZWrQ",
        "outputId": "8ba5e116-cdb0-41a9-8938-f96b4749870a"
      },
      "source": [
        "# To predict output\n",
        "y_pred = model.predict(X_test)\n",
        "print(f\"x_test.shape {X_test.shape} y_pred.shape{y_pred.shape}\")\n",
        "\n",
        "# Inspect the content of y_pred\n",
        "y_pred"
      ],
      "execution_count": 73,
      "outputs": [
        {
          "output_type": "stream",
          "text": [
            "x_test.shape (400, 11) y_pred.shape(400,)\n"
          ],
          "name": "stdout"
        },
        {
          "output_type": "execute_result",
          "data": {
            "text/plain": [
              "array(['Bad', 'Bad', 'Good', 'Good', 'Good', 'Bad', 'Bad', 'Bad', 'Good',\n",
              "       'Good', 'Good', 'Bad', 'Good', 'Bad', 'Bad', 'Good', 'Bad', 'Bad',\n",
              "       'Good', 'Bad', 'Bad', 'Bad', 'Good', 'Good', 'Bad', 'Bad', 'Good',\n",
              "       'Bad', 'Bad', 'Good', 'Bad', 'Bad', 'Good', 'Bad', 'Good', 'Bad',\n",
              "       'Good', 'Good', 'Bad', 'Good', 'Bad', 'Bad', 'Good', 'Bad', 'Good',\n",
              "       'Good', 'Good', 'Bad', 'Bad', 'Good', 'Bad', 'Good', 'Good',\n",
              "       'Good', 'Bad', 'Bad', 'Good', 'Bad', 'Good', 'Bad', 'Good', 'Good',\n",
              "       'Bad', 'Bad', 'Good', 'Bad', 'Good', 'Bad', 'Good', 'Bad', 'Good',\n",
              "       'Bad', 'Good', 'Good', 'Good', 'Bad', 'Good', 'Good', 'Good',\n",
              "       'Good', 'Bad', 'Good', 'Good', 'Good', 'Good', 'Good', 'Bad',\n",
              "       'Good', 'Good', 'Bad', 'Good', 'Bad', 'Good', 'Good', 'Bad',\n",
              "       'Good', 'Bad', 'Good', 'Bad', 'Good', 'Bad', 'Bad', 'Good', 'Good',\n",
              "       'Good', 'Good', 'Good', 'Good', 'Good', 'Bad', 'Good', 'Bad',\n",
              "       'Good', 'Bad', 'Good', 'Good', 'Good', 'Bad', 'Bad', 'Good',\n",
              "       'Good', 'Bad', 'Good', 'Bad', 'Bad', 'Bad', 'Good', 'Good', 'Bad',\n",
              "       'Good', 'Good', 'Bad', 'Bad', 'Good', 'Good', 'Bad', 'Bad', 'Bad',\n",
              "       'Bad', 'Good', 'Good', 'Good', 'Good', 'Bad', 'Good', 'Bad',\n",
              "       'Good', 'Bad', 'Good', 'Bad', 'Good', 'Good', 'Bad', 'Good',\n",
              "       'Good', 'Good', 'Bad', 'Good', 'Bad', 'Good', 'Good', 'Good',\n",
              "       'Good', 'Bad', 'Bad', 'Good', 'Bad', 'Bad', 'Bad', 'Bad', 'Bad',\n",
              "       'Bad', 'Good', 'Bad', 'Bad', 'Good', 'Good', 'Bad', 'Bad', 'Bad',\n",
              "       'Bad', 'Good', 'Good', 'Good', 'Bad', 'Good', 'Bad', 'Good',\n",
              "       'Good', 'Bad', 'Good', 'Good', 'Good', 'Good', 'Good', 'Bad',\n",
              "       'Bad', 'Bad', 'Good', 'Good', 'Bad', 'Good', 'Bad', 'Bad', 'Good',\n",
              "       'Good', 'Bad', 'Good', 'Good', 'Good', 'Good', 'Bad', 'Good',\n",
              "       'Good', 'Good', 'Good', 'Bad', 'Bad', 'Good', 'Bad', 'Bad', 'Good',\n",
              "       'Good', 'Good', 'Bad', 'Bad', 'Bad', 'Good', 'Good', 'Bad', 'Good',\n",
              "       'Bad', 'Good', 'Good', 'Good', 'Good', 'Bad', 'Good', 'Bad', 'Bad',\n",
              "       'Bad', 'Bad', 'Good', 'Good', 'Good', 'Bad', 'Good', 'Bad', 'Good',\n",
              "       'Bad', 'Good', 'Good', 'Bad', 'Bad', 'Bad', 'Bad', 'Good', 'Good',\n",
              "       'Good', 'Good', 'Good', 'Good', 'Bad', 'Good', 'Good', 'Good',\n",
              "       'Bad', 'Bad', 'Good', 'Good', 'Bad', 'Good', 'Bad', 'Bad', 'Bad',\n",
              "       'Bad', 'Good', 'Good', 'Good', 'Bad', 'Good', 'Bad', 'Bad', 'Bad',\n",
              "       'Bad', 'Good', 'Bad', 'Good', 'Bad', 'Good', 'Good', 'Good',\n",
              "       'Good', 'Good', 'Bad', 'Good', 'Bad', 'Good', 'Good', 'Good',\n",
              "       'Bad', 'Bad', 'Good', 'Bad', 'Bad', 'Bad', 'Good', 'Good', 'Good',\n",
              "       'Good', 'Good', 'Good', 'Bad', 'Bad', 'Bad', 'Good', 'Good', 'Bad',\n",
              "       'Good', 'Bad', 'Good', 'Good', 'Good', 'Bad', 'Bad', 'Good',\n",
              "       'Good', 'Bad', 'Bad', 'Good', 'Good', 'Good', 'Bad', 'Bad', 'Good',\n",
              "       'Good', 'Good', 'Good', 'Bad', 'Bad', 'Good', 'Good', 'Good',\n",
              "       'Bad', 'Good', 'Bad', 'Good', 'Bad', 'Good', 'Good', 'Good',\n",
              "       'Good', 'Bad', 'Bad', 'Good', 'Good', 'Bad', 'Bad', 'Bad', 'Bad',\n",
              "       'Good', 'Bad', 'Bad', 'Good', 'Good', 'Good', 'Good', 'Bad', 'Bad',\n",
              "       'Bad', 'Bad', 'Bad', 'Good', 'Good', 'Bad', 'Good', 'Bad', 'Good',\n",
              "       'Bad', 'Bad', 'Bad', 'Good', 'Good', 'Bad', 'Good', 'Good', 'Good',\n",
              "       'Bad', 'Bad', 'Good', 'Bad', 'Good', 'Bad', 'Bad', 'Good', 'Good',\n",
              "       'Good', 'Good', 'Bad', 'Good'], dtype=object)"
            ]
          },
          "metadata": {
            "tags": []
          },
          "execution_count": 73
        }
      ]
    },
    {
      "cell_type": "markdown",
      "metadata": {
        "id": "aX1MGX3bYXDT"
      },
      "source": [
        "## Challenge 4.3\n",
        "Evaluate the performance of your classifier. Calculate and display the following:\n",
        "* print the `confusion matrix`.\n",
        "* `normalized confusion matrix`. \n",
        "* the probablitity of correct classification (accuracy score). \n",
        "* the `precision`, `recall`, and `f1-score` for each class."
      ]
    },
    {
      "cell_type": "code",
      "metadata": {
        "id": "HP8QqOZVZg_m"
      },
      "source": [
        "y_true = y_test"
      ],
      "execution_count": 74,
      "outputs": []
    },
    {
      "cell_type": "code",
      "metadata": {
        "id": "3hoUdKozYXDU",
        "colab": {
          "base_uri": "https://localhost:8080/"
        },
        "outputId": "6af3a6ee-9ffb-4cec-ec18-d9a7dc98fa01"
      },
      "source": [
        "\n",
        "# Print the confusing matrix  \n",
        "print(\"\\n This is the confusion matrix\")\n",
        "cnf_mx = metrics.confusion_matrix(y_true, y_pred)\n",
        "print(cnf_mx)\n",
        "\n",
        "# Normalized cnfusion matrix\n",
        "print(\"\\n This is the normalized confusion matrix\")\n",
        "cnf_mx_joint = cnf_mx.astype('float')/cnf_mx.sum()\n",
        "print(cnf_mx_joint)\n"
      ],
      "execution_count": 75,
      "outputs": [
        {
          "output_type": "stream",
          "text": [
            "\n",
            " This is the confusion matrix\n",
            "[[123  55]\n",
            " [ 57 165]]\n",
            "\n",
            " This is the normalized confusion matrix\n",
            "[[0.3075 0.1375]\n",
            " [0.1425 0.4125]]\n"
          ],
          "name": "stdout"
        }
      ]
    },
    {
      "cell_type": "code",
      "metadata": {
        "id": "Zfg9Nl9__BOR",
        "colab": {
          "base_uri": "https://localhost:8080/"
        },
        "outputId": "cfe4b741-531a-4c93-9601-c081b831dc36"
      },
      "source": [
        "# The probablitity of correct classification (accuracy score).\n",
        "acc = metrics.accuracy_score(y_true, y_pred)\n",
        "print(\"\\n Accuracy: %.3f\" % acc)"
      ],
      "execution_count": 76,
      "outputs": [
        {
          "output_type": "stream",
          "text": [
            "\n",
            " Accuracy: 0.720\n"
          ],
          "name": "stdout"
        }
      ]
    },
    {
      "cell_type": "code",
      "metadata": {
        "colab": {
          "base_uri": "https://localhost:8080/"
        },
        "id": "Z6wB5m5sZoES",
        "outputId": "febc6307-7c84-46ed-f60d-20f162ae06cc"
      },
      "source": [
        "#report classificaiton results (the precision, recall, and f1-score for each class.)\n",
        "print(classification_report(y_test,y_pred)) "
      ],
      "execution_count": 77,
      "outputs": [
        {
          "output_type": "stream",
          "text": [
            "              precision    recall  f1-score   support\n",
            "\n",
            "         Bad       0.68      0.69      0.69       178\n",
            "        Good       0.75      0.74      0.75       222\n",
            "\n",
            "    accuracy                           0.72       400\n",
            "   macro avg       0.72      0.72      0.72       400\n",
            "weighted avg       0.72      0.72      0.72       400\n",
            "\n"
          ],
          "name": "stdout"
        }
      ]
    },
    {
      "cell_type": "markdown",
      "metadata": {
        "id": "ouqRqJw1YXDZ"
      },
      "source": [
        "# Challenge 5\n",
        "\n",
        "The **SVM** classifier accepts a number of parameters. These parameters include the parameter `C` (i.e. the regularization parameter), the `kernel` which specified the kernel function to be used, and the parameter `gamma` which can be used to specify the kernel coefficents for certain kernels (i.e. `rbf`, `poly` and `sigmoid`). You can find more information about the various parameters in implementation of the SVM classifier on the following website:\n",
        "\n",
        "- [SVM documentation on sklearn](https://scikit-learn.org/stable/modules/generated/sklearn.svm.SVC.html#sklearn.svm.SVC)\n",
        "- [User Guide on Support Vector Machines](https://scikit-learn.org/stable/modules/svm.html#svm-classification)\n",
        "- [Kernel Function Supported by sklearn library](https://scikit-learn.org/stable/modules/svm.html#svm-kernels)\n",
        "\n",
        "\n",
        "After reading the documentation to understand how the various parameters are used, evaluate the classifier for different values of C, gamma and kernel parameters and identify which configuration achieve the best performance on the testing set. Plot or print your results.\n"
      ]
    },
    {
      "cell_type": "code",
      "metadata": {
        "id": "5FinafW1YXDb",
        "colab": {
          "base_uri": "https://localhost:8080/"
        },
        "outputId": "371b2987-19ce-4f87-8dfc-b785040a2c69"
      },
      "source": [
        "# Support Vector Machine - Kernel  \n",
        "model = SVC(C=10, kernel=\"rbf\", gamma=25)\n",
        "model.fit(X_train, y_train)\n",
        "y_pred = model.predict(X_test)\n",
        "\n",
        "#report classificaiton results \n",
        "print(classification_report(y_test,y_pred)) \n",
        "\n"
      ],
      "execution_count": 78,
      "outputs": [
        {
          "output_type": "stream",
          "text": [
            "              precision    recall  f1-score   support\n",
            "\n",
            "         Bad       1.00      0.19      0.32       178\n",
            "        Good       0.61      1.00      0.76       222\n",
            "\n",
            "    accuracy                           0.64       400\n",
            "   macro avg       0.80      0.60      0.54       400\n",
            "weighted avg       0.78      0.64      0.56       400\n",
            "\n"
          ],
          "name": "stdout"
        }
      ]
    },
    {
      "cell_type": "code",
      "metadata": {
        "colab": {
          "base_uri": "https://localhost:8080/"
        },
        "id": "xkCfNuATiYsx",
        "outputId": "d7741f5c-71b0-4cd6-f73b-49587431e2d4"
      },
      "source": [
        "# Support Vector Machine - Kernel  \n",
        "model = SVC(C=10, kernel=\"rbf\", gamma=25)\n",
        "\n",
        "# To fit the model\n",
        "model.fit(X_train, y_train)\n",
        "\n",
        "# To predict output\n",
        "y_pred = model.predict(X_test)\n",
        "\n",
        "#report classificaiton results \n",
        "print(classification_report(y_test,y_pred)) "
      ],
      "execution_count": 79,
      "outputs": [
        {
          "output_type": "stream",
          "text": [
            "              precision    recall  f1-score   support\n",
            "\n",
            "         Bad       1.00      0.19      0.32       178\n",
            "        Good       0.61      1.00      0.76       222\n",
            "\n",
            "    accuracy                           0.64       400\n",
            "   macro avg       0.80      0.60      0.54       400\n",
            "weighted avg       0.78      0.64      0.56       400\n",
            "\n"
          ],
          "name": "stdout"
        }
      ]
    },
    {
      "cell_type": "code",
      "metadata": {
        "colab": {
          "base_uri": "https://localhost:8080/"
        },
        "id": "Wx7EilxAj0D4",
        "outputId": "227974e7-a77b-4df9-a8d2-95bf022edf22"
      },
      "source": [
        "# Support Vector Machine - Kernel  \n",
        "model = SVC(C=10, kernel=\"sigmoid\", gamma=25)\n",
        "\n",
        "# To fit the model\n",
        "model.fit(X_train, y_train)\n",
        "\n",
        "# To predict output\n",
        "y_pred = model.predict(X_test)\n",
        "\n",
        "#report classificaiton results \n",
        "print(classification_report(y_test,y_pred)) "
      ],
      "execution_count": 80,
      "outputs": [
        {
          "output_type": "stream",
          "text": [
            "              precision    recall  f1-score   support\n",
            "\n",
            "         Bad       0.00      0.00      0.00       178\n",
            "        Good       0.56      1.00      0.71       222\n",
            "\n",
            "    accuracy                           0.56       400\n",
            "   macro avg       0.28      0.50      0.36       400\n",
            "weighted avg       0.31      0.56      0.40       400\n",
            "\n"
          ],
          "name": "stdout"
        }
      ]
    },
    {
      "cell_type": "code",
      "metadata": {
        "colab": {
          "base_uri": "https://localhost:8080/"
        },
        "id": "djt3F8iciOO0",
        "outputId": "893ed028-d168-4b3f-976c-bb52a951c3b0"
      },
      "source": [
        "# Support Vector Machine - Kernel  \n",
        "model = SVC(C=15, kernel=\"rbf\", gamma=10)\n",
        "\n",
        "# To fit the model\n",
        "model.fit(X_train, y_train)\n",
        "\n",
        "# To predict output\n",
        "y_pred = model.predict(X_test)\n",
        "\n",
        "#report classificaiton results \n",
        "print(classification_report(y_test,y_pred)) "
      ],
      "execution_count": 81,
      "outputs": [
        {
          "output_type": "stream",
          "text": [
            "              precision    recall  f1-score   support\n",
            "\n",
            "         Bad       0.97      0.20      0.33       178\n",
            "        Good       0.61      1.00      0.76       222\n",
            "\n",
            "    accuracy                           0.64       400\n",
            "   macro avg       0.79      0.60      0.55       400\n",
            "weighted avg       0.77      0.64      0.57       400\n",
            "\n"
          ],
          "name": "stdout"
        }
      ]
    },
    {
      "cell_type": "code",
      "metadata": {
        "colab": {
          "base_uri": "https://localhost:8080/"
        },
        "id": "v-Z337zSm3IR",
        "outputId": "5f54ab98-ac1d-4348-fa13-006e693974ca"
      },
      "source": [
        "# Support Vector Machine - Kernel  \n",
        "model = SVC(C=20, kernel=\"rbf\", gamma=50)\n",
        "\n",
        "# To fit the model\n",
        "model.fit(X_train, y_train)\n",
        "\n",
        "# To predict output\n",
        "y_pred = model.predict(X_test)\n",
        "\n",
        "#report classificaiton results \n",
        "print(classification_report(y_test,y_pred))"
      ],
      "execution_count": 82,
      "outputs": [
        {
          "output_type": "stream",
          "text": [
            "              precision    recall  f1-score   support\n",
            "\n",
            "         Bad       1.00      0.19      0.31       178\n",
            "        Good       0.60      1.00      0.75       222\n",
            "\n",
            "    accuracy                           0.64       400\n",
            "   macro avg       0.80      0.59      0.53       400\n",
            "weighted avg       0.78      0.64      0.56       400\n",
            "\n"
          ],
          "name": "stdout"
        }
      ]
    },
    {
      "cell_type": "code",
      "metadata": {
        "colab": {
          "base_uri": "https://localhost:8080/"
        },
        "id": "e8Jxcn5lm8OU",
        "outputId": "41030d00-d2e0-44d0-a3a0-6d92efdde66d"
      },
      "source": [
        "# Support Vector Machine - Kernel  \n",
        "model = SVC(C=15, kernel=\"sigmoid\", gamma=10)\n",
        "\n",
        "# To fit the model\n",
        "model.fit(X_train, y_train)\n",
        "\n",
        "# To predict output\n",
        "y_pred = model.predict(X_test)\n",
        "\n",
        "#report classificaiton results \n",
        "print(classification_report(y_test,y_pred))"
      ],
      "execution_count": 83,
      "outputs": [
        {
          "output_type": "stream",
          "text": [
            "              precision    recall  f1-score   support\n",
            "\n",
            "         Bad       0.00      0.00      0.00       178\n",
            "        Good       0.56      1.00      0.71       222\n",
            "\n",
            "    accuracy                           0.56       400\n",
            "   macro avg       0.28      0.50      0.36       400\n",
            "weighted avg       0.31      0.56      0.40       400\n",
            "\n"
          ],
          "name": "stdout"
        }
      ]
    },
    {
      "cell_type": "markdown",
      "metadata": {
        "id": "76vGnBXZIWoI"
      },
      "source": [
        "\n",
        "Copyright Statement: Copyright © 2020 Christoforou. The materials provided by the instructor of this course, including this notebook, are for the use of the students enrolled in the course. Materials are presented in an educational context for personal use and study and should not be shared, distributed, disseminated or sold in print — or digitally — outside the course without permission. You may not, nor may you knowingly allow others to reproduce or distribute lecture notes, course materials as well as any of their derivatives without the instructor's express written consent."
      ]
    },
    {
      "cell_type": "code",
      "metadata": {
        "colab": {
          "base_uri": "https://localhost:8080/"
        },
        "id": "Jf89yBAvm_hq",
        "outputId": "0b497659-eeae-45bd-d14a-a26e8c7eae7f"
      },
      "source": [
        "# Support Vector Machine - Kernel  \n",
        "model = SVC(C=20, kernel=\"rbf\", gamma=15)\n",
        "\n",
        "# To fit the model\n",
        "model.fit(X_train, y_train)\n",
        "\n",
        "# To predict output\n",
        "y_pred = model.predict(X_test)\n",
        "\n",
        "#report classificaiton results \n",
        "print(classification_report(y_test,y_pred))"
      ],
      "execution_count": 84,
      "outputs": [
        {
          "output_type": "stream",
          "text": [
            "              precision    recall  f1-score   support\n",
            "\n",
            "         Bad       0.97      0.19      0.32       178\n",
            "        Good       0.61      1.00      0.75       222\n",
            "\n",
            "    accuracy                           0.64       400\n",
            "   macro avg       0.79      0.59      0.54       400\n",
            "weighted avg       0.77      0.64      0.56       400\n",
            "\n"
          ],
          "name": "stdout"
        }
      ]
    },
    {
      "cell_type": "code",
      "metadata": {
        "colab": {
          "base_uri": "https://localhost:8080/"
        },
        "id": "2Ze7ylDgoViD",
        "outputId": "6dfc07f4-f710-4f65-a1a0-cca7060cd6b8"
      },
      "source": [
        "# Support Vector Machine - Kernel  without gamma\n",
        "model = SVC(C=10, kernel=\"rbf\")\n",
        "\n",
        "# To fit the model\n",
        "model.fit(X_train, y_train)\n",
        "\n",
        "# To predict output\n",
        "y_pred = model.predict(X_test)\n",
        "\n",
        "#report classificaiton results \n",
        "print(classification_report(y_test,y_pred)) "
      ],
      "execution_count": 85,
      "outputs": [
        {
          "output_type": "stream",
          "text": [
            "              precision    recall  f1-score   support\n",
            "\n",
            "         Bad       0.64      0.69      0.66       178\n",
            "        Good       0.73      0.69      0.71       222\n",
            "\n",
            "    accuracy                           0.69       400\n",
            "   macro avg       0.69      0.69      0.69       400\n",
            "weighted avg       0.69      0.69      0.69       400\n",
            "\n"
          ],
          "name": "stdout"
        }
      ]
    },
    {
      "cell_type": "code",
      "metadata": {
        "colab": {
          "base_uri": "https://localhost:8080/"
        },
        "id": "2XVfqvzknDBb",
        "outputId": "46ef5c4e-56b1-43a6-bda7-21705c68985d"
      },
      "source": [
        "# Support Vector Machine - Kernel  \n",
        "model = SVC(C=20, kernel=\"sigmoid\", gamma=45)\n",
        "\n",
        "# To fit the model\n",
        "model.fit(X_train, y_train)\n",
        "\n",
        "# To predict output\n",
        "y_pred = model.predict(X_test)\n",
        "\n",
        "#report classificaiton results \n",
        "print(classification_report(y_test,y_pred))"
      ],
      "execution_count": 86,
      "outputs": [
        {
          "output_type": "stream",
          "text": [
            "              precision    recall  f1-score   support\n",
            "\n",
            "         Bad       0.00      0.00      0.00       178\n",
            "        Good       0.56      1.00      0.71       222\n",
            "\n",
            "    accuracy                           0.56       400\n",
            "   macro avg       0.28      0.50      0.36       400\n",
            "weighted avg       0.31      0.56      0.40       400\n",
            "\n"
          ],
          "name": "stdout"
        }
      ]
    },
    {
      "cell_type": "code",
      "metadata": {
        "colab": {
          "base_uri": "https://localhost:8080/"
        },
        "id": "gyEynnTNoYKr",
        "outputId": "3c1c63aa-bebd-4e09-a6a0-6be328e14f63"
      },
      "source": [
        "# Support Vector Machine - Kernel  without gamma\n",
        "model = SVC(C=20, kernel=\"sigmoid\")\n",
        "\n",
        "# To fit the model\n",
        "model.fit(X_train, y_train)\n",
        "\n",
        "# To predict output\n",
        "y_pred = model.predict(X_test)\n",
        "\n",
        "#report classificaiton results \n",
        "print(classification_report(y_test,y_pred))"
      ],
      "execution_count": 87,
      "outputs": [
        {
          "output_type": "stream",
          "text": [
            "              precision    recall  f1-score   support\n",
            "\n",
            "         Bad       0.35      0.35      0.35       178\n",
            "        Good       0.47      0.46      0.47       222\n",
            "\n",
            "    accuracy                           0.41       400\n",
            "   macro avg       0.41      0.41      0.41       400\n",
            "weighted avg       0.42      0.41      0.42       400\n",
            "\n"
          ],
          "name": "stdout"
        }
      ]
    },
    {
      "cell_type": "code",
      "metadata": {
        "colab": {
          "base_uri": "https://localhost:8080/"
        },
        "id": "jyYn7TYinHRv",
        "outputId": "ddedcfe0-ad3d-47b5-f490-b1679e4240df"
      },
      "source": [
        "# Support Vector Machine - Kernel  \n",
        "model = SVC(C=25, kernel=\"rbf\", gamma=15)\n",
        "\n",
        "# To fit the model\n",
        "model.fit(X_train, y_train)\n",
        "\n",
        "# To predict output\n",
        "y_pred = model.predict(X_test)\n",
        "\n",
        "#report classificaiton results \n",
        "print(classification_report(y_test,y_pred))"
      ],
      "execution_count": 88,
      "outputs": [
        {
          "output_type": "stream",
          "text": [
            "              precision    recall  f1-score   support\n",
            "\n",
            "         Bad       0.97      0.19      0.32       178\n",
            "        Good       0.61      1.00      0.75       222\n",
            "\n",
            "    accuracy                           0.64       400\n",
            "   macro avg       0.79      0.59      0.54       400\n",
            "weighted avg       0.77      0.64      0.56       400\n",
            "\n"
          ],
          "name": "stdout"
        }
      ]
    },
    {
      "cell_type": "code",
      "metadata": {
        "colab": {
          "base_uri": "https://localhost:8080/"
        },
        "id": "BHHkytZQnO5p",
        "outputId": "433fda2b-a394-4c94-bfe6-4ab02af8940f"
      },
      "source": [
        "# Support Vector Machine - Kernel  \n",
        "model = SVC(C=20, kernel=\"sigmoid\", gamma=15)\n",
        "\n",
        "# To fit the model\n",
        "model.fit(X_train, y_train)\n",
        "\n",
        "# To predict output\n",
        "y_pred = model.predict(X_test)\n",
        "\n",
        "#report classificaiton results \n",
        "print(classification_report(y_test,y_pred))"
      ],
      "execution_count": 89,
      "outputs": [
        {
          "output_type": "stream",
          "text": [
            "              precision    recall  f1-score   support\n",
            "\n",
            "         Bad       0.00      0.00      0.00       178\n",
            "        Good       0.56      1.00      0.71       222\n",
            "\n",
            "    accuracy                           0.56       400\n",
            "   macro avg       0.28      0.50      0.36       400\n",
            "weighted avg       0.31      0.56      0.40       400\n",
            "\n"
          ],
          "name": "stdout"
        }
      ]
    },
    {
      "cell_type": "code",
      "metadata": {
        "colab": {
          "base_uri": "https://localhost:8080/"
        },
        "id": "K7JUPpbHnSLn",
        "outputId": "a492a51f-52de-4b36-cb9d-0aa9f4c3c484"
      },
      "source": [
        "# Support Vector Machine - Kernel  without gamma\n",
        "model = SVC(C=50, kernel=\"rbf\")\n",
        "\n",
        "# To fit the model\n",
        "model.fit(X_train, y_train)\n",
        "\n",
        "# To predict output\n",
        "y_pred = model.predict(X_test)\n",
        "\n",
        "#report classificaiton results \n",
        "print(classification_report(y_test,y_pred))"
      ],
      "execution_count": 90,
      "outputs": [
        {
          "output_type": "stream",
          "text": [
            "              precision    recall  f1-score   support\n",
            "\n",
            "         Bad       0.64      0.75      0.69       178\n",
            "        Good       0.77      0.67      0.71       222\n",
            "\n",
            "    accuracy                           0.70       400\n",
            "   macro avg       0.71      0.71      0.70       400\n",
            "weighted avg       0.71      0.70      0.71       400\n",
            "\n"
          ],
          "name": "stdout"
        }
      ]
    },
    {
      "cell_type": "code",
      "metadata": {
        "colab": {
          "base_uri": "https://localhost:8080/"
        },
        "id": "KtWKk6MWnU8Y",
        "outputId": "334cd441-7be9-4629-bcf5-122c3afbe088"
      },
      "source": [
        "# Support Vector Machine - Kernel  \n",
        "model = SVC(C=30, kernel=\"sigmoid\", gamma=25)\n",
        "\n",
        "# To fit the model\n",
        "model.fit(X_train, y_train)\n",
        "\n",
        "# To predict output\n",
        "y_pred = model.predict(X_test)\n",
        "\n",
        "#report classificaiton results \n",
        "print(classification_report(y_test,y_pred))"
      ],
      "execution_count": 91,
      "outputs": [
        {
          "output_type": "stream",
          "text": [
            "              precision    recall  f1-score   support\n",
            "\n",
            "         Bad       0.00      0.00      0.00       178\n",
            "        Good       0.56      1.00      0.71       222\n",
            "\n",
            "    accuracy                           0.56       400\n",
            "   macro avg       0.28      0.50      0.36       400\n",
            "weighted avg       0.31      0.56      0.40       400\n",
            "\n"
          ],
          "name": "stdout"
        }
      ]
    },
    {
      "cell_type": "code",
      "metadata": {
        "colab": {
          "base_uri": "https://localhost:8080/"
        },
        "id": "KYkv8i13nbPT",
        "outputId": "b779751c-661a-4902-b7e7-f4b4a87de9d7"
      },
      "source": [
        "# Support Vector Machine - Kernel  without gamma\n",
        "model = SVC(C=35, kernel=\"rbf\")\n",
        "\n",
        "# To fit the model\n",
        "model.fit(X_train, y_train)\n",
        "\n",
        "# To predict output\n",
        "y_pred = model.predict(X_test)\n",
        "\n",
        "#report classificaiton results \n",
        "print(classification_report(y_test,y_pred)) "
      ],
      "execution_count": 92,
      "outputs": [
        {
          "output_type": "stream",
          "text": [
            "              precision    recall  f1-score   support\n",
            "\n",
            "         Bad       0.65      0.75      0.69       178\n",
            "        Good       0.77      0.67      0.72       222\n",
            "\n",
            "    accuracy                           0.70       400\n",
            "   macro avg       0.71      0.71      0.70       400\n",
            "weighted avg       0.71      0.70      0.71       400\n",
            "\n"
          ],
          "name": "stdout"
        }
      ]
    },
    {
      "cell_type": "code",
      "metadata": {
        "id": "nlL_-cOBoS-R"
      },
      "source": [
        ""
      ],
      "execution_count": 92,
      "outputs": []
    }
  ]
}