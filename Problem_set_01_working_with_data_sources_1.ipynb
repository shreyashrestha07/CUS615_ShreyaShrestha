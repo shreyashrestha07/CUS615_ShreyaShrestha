{
  "nbformat": 4,
  "nbformat_minor": 0,
  "metadata": {
    "colab": {
      "name": "Problem_set_01_working_with_data_sources-1.ipynb",
      "provenance": [],
      "collapsed_sections": [],
      "toc_visible": true,
      "include_colab_link": true
    },
    "kernelspec": {
      "name": "python3",
      "display_name": "Python 3"
    }
  },
  "cells": [
    {
      "cell_type": "markdown",
      "metadata": {
        "id": "view-in-github",
        "colab_type": "text"
      },
      "source": [
        "<a href=\"https://colab.research.google.com/github/shreyashrestha07/CUS615_ShreyaShrestha/blob/master/Problem_set_01_working_with_data_sources_1.ipynb\" target=\"_parent\"><img src=\"https://colab.research.google.com/assets/colab-badge.svg\" alt=\"Open In Colab\"/></a>"
      ]
    },
    {
      "cell_type": "markdown",
      "metadata": {
        "id": "_Jk-XWL_ICsc"
      },
      "source": [
        "This notebook is part the of Dr. Christoforos Christoforou's course materials. You may not, nor may you knowingly allow others to reproduce or distribute lecture notes, course materials or any of their derivatives without the instructor's express written consent."
      ]
    },
    {
      "cell_type": "markdown",
      "metadata": {
        "id": "mGWGpILX6Caz"
      },
      "source": [
        "# Problem Set 01 - Managing Data Sources \n",
        "**Professor:** Dr. Christoforos Christoforou\n",
        "\n",
        "For this problem set you will need the following libraries, which are pre-installed with the colab environment: \n",
        "\n",
        "* [Numpy](https://www.numpy.org/) is an array manipulation library, used for linear algebra, Fourier transform, and random number capabilities.\n",
        "* [Pandas](https://pandas.pydata.org/) is a library for data manipulation and data analysis.\n",
        "* [Matplotlib](https://matplotlib.org/) is a library which generates figures and provides graphical user interface toolkit.\n",
        "\n",
        "You can load them using the following import statement:"
      ]
    },
    {
      "cell_type": "code",
      "metadata": {
        "id": "m5xcgMf35rfn"
      },
      "source": [
        "import numpy as np\n",
        "import pandas as pd\n",
        "import matplotlib.pylab as plt"
      ],
      "execution_count": 1,
      "outputs": []
    },
    {
      "cell_type": "markdown",
      "metadata": {
        "id": "u8OAdWmcnViS"
      },
      "source": [
        "## 1. Overview \n",
        "\n",
        "In the lecture, we saw that we need to load and represent the data as mathematical objects, typically in a form of a vector, to be able to use them in predictive models. Once we have the data in a vector representation we can apply classification and regression models to make predictions. In this workbook, you will go through the various steps needed to load and prepare the data for analysis. \n",
        "\n",
        "Much of the analysis you will be employing involves using tabular data. This type of data is organized in rows and columns and typically stored as .csv files (comma separated value files). In python, you can use a library called `pandas` that allows you to load and manipulate tabular data easily. Part of this problem set aims to introduce you to the `pandas` library and prepare your data for analysis. \n",
        "\n"
      ]
    },
    {
      "cell_type": "markdown",
      "metadata": {
        "id": "K5dmDbkI8d4e"
      },
      "source": [
        "## 2. Downloading data from an external source.\n",
        "To use the data, we first need to download and store them in the local file-system. For this problem set, we will demonstrate how to download data stored in Kaggle datasets. For that, you need to have a `Kaggle account`, install the `Kaggle CLI` (a utility that allows you to programmatically access Kaggle), and set up and load your `Kaggle API key`.\n",
        "\n",
        "**Installing the Kaggle CLI**\n"
      ]
    },
    {
      "cell_type": "code",
      "metadata": {
        "id": "6g4SXDkwELvq"
      },
      "source": [
        "!pip install -q kaggle"
      ],
      "execution_count": 2,
      "outputs": []
    },
    {
      "cell_type": "markdown",
      "metadata": {
        "id": "5wW3re5LVF1V"
      },
      "source": [
        "**Setting up your Kaggle API key**\n",
        "\n",
        "To use the `Kaggle CLI`, you need to have a personal `Kaggle API key`. This key allows you to issue programmatic requests to `Kaggle` to view and download data from any dataset in Kaggle you have access to. To begin, you need to create an account in Kaggle account if you do not already have one.  To do that, visit `https://www.kaggle.com/` and either sign-up or login with your Google account.  \n",
        "\n",
        "To use Kaggle’s public API, you must first authenticate using an API token. From the site header, click on your user profile picture, then on “My Account” from the dropdown menu. This will take you to your account settings at https://www.kaggle.com/account. Scroll down to the section of the page labeled API:\n",
        "\n",
        "To create a new token, click on the `Create New API Token` button. This will download a fresh authentication token onto your machine. Make sure you save the file `kaggle.json` in a secure location in your system. You will upload this file to your Colab later on. \n",
        "\n",
        "**Loading your Kaggle API key in Colab**\n"
      ]
    },
    {
      "cell_type": "code",
      "metadata": {
        "id": "MJYNRIf_EmoI",
        "colab": {
          "resources": {
            "http://localhost:8080/nbextensions/google.colab/files.js": {
              "data": "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",
              "ok": true,
              "headers": [
                [
                  "content-type",
                  "application/javascript"
                ]
              ],
              "status": 200,
              "status_text": ""
            }
          },
          "base_uri": "https://localhost:8080/",
          "height": 72
        },
        "outputId": "fc261d23-c72f-4b32-e065-a4e888433144"
      },
      "source": [
        "# Upload the kaggle API key of your account \n",
        "from google.colab import files \n",
        "files.upload()\n",
        "!mkdir ~/.kaggle\n",
        "!cp kaggle.json ~/.kaggle\n",
        "!chmod 600 ~/.kaggle/kaggle.json"
      ],
      "execution_count": 3,
      "outputs": [
        {
          "output_type": "display_data",
          "data": {
            "text/html": [
              "\n",
              "     <input type=\"file\" id=\"files-c6d9bab2-cc5e-43a7-9400-6e649e547a2b\" name=\"files[]\" multiple disabled\n",
              "        style=\"border:none\" />\n",
              "     <output id=\"result-c6d9bab2-cc5e-43a7-9400-6e649e547a2b\">\n",
              "      Upload widget is only available when the cell has been executed in the\n",
              "      current browser session. Please rerun this cell to enable.\n",
              "      </output>\n",
              "      <script src=\"/nbextensions/google.colab/files.js\"></script> "
            ],
            "text/plain": [
              "<IPython.core.display.HTML object>"
            ]
          },
          "metadata": {
            "tags": []
          }
        },
        {
          "output_type": "stream",
          "text": [
            "Saving kaggle.json to kaggle.json\n"
          ],
          "name": "stdout"
        }
      ]
    },
    {
      "cell_type": "markdown",
      "metadata": {
        "id": "novFV0ftS3rQ"
      },
      "source": [
        "**Using Kaggle CLI to download data**\n",
        "\n",
        "Once you downloaded the `Kaggle CLI` and loaded your Kaggle API key, you should be able to use the `Kaggle` command to list and download data. Here we introduce the basic commands to list and download the data you will be using for this problem set.  In particular, the data files you will be using for this problem set are stored in a Kaggle dataset called `cchristoforou/practice-dataset-for-tutorials`. We will be downloading two files within that dataset called `countires.csv` and `country_total.csv`. The cells below demonstrate how to use the `Kaggle` CLI to download this dataset to the local folder `samples_data/problem_set`. You can find the full documentation on the Kaggle CLI [here](https://github.com/Kaggle/kaggle-api#datasets). \n"
      ]
    },
    {
      "cell_type": "code",
      "metadata": {
        "id": "opDyk-awLy6s",
        "colab": {
          "base_uri": "https://localhost:8080/"
        },
        "outputId": "71ab4ae1-886f-4950-9d3c-e9fe93b9d2aa"
      },
      "source": [
        "# View list of data files available in the dataset. \n",
        "# Format : kaggle dataset files <dataset-URI>\n",
        "!kaggle datasets files cchristoforou/practice-dataset-for-tutorials"
      ],
      "execution_count": 4,
      "outputs": [
        {
          "output_type": "stream",
          "text": [
            "Warning: Looks like you're using an outdated API Version, please consider updating (server 1.5.10 / client 1.5.4)\n",
            "name                  size  creationDate         \n",
            "-------------------  -----  -------------------  \n",
            "wine.data             11KB  2021-01-23 15:26:18  \n",
            "wineQualityReds.csv   92KB  2021-01-23 15:26:18  \n",
            "countries.csv          2KB  2021-01-23 15:26:18  \n",
            "country_total.csv    533KB  2021-01-23 15:26:18  \n"
          ],
          "name": "stdout"
        }
      ]
    },
    {
      "cell_type": "code",
      "metadata": {
        "id": "wrs_8fODPB-y"
      },
      "source": [
        "# Download - Specify the parameters.  \n",
        "kaggle_dataset_URI = \"cchristoforou/practice-dataset-for-tutorials\"\n",
        "output_folder = \"sample_data/problem_set01\"\n",
        "kaggle_data_file1 = \"countries.csv\"\n",
        "kaggle_data_file2 = \"country_total.csv\""
      ],
      "execution_count": 5,
      "outputs": []
    },
    {
      "cell_type": "code",
      "metadata": {
        "id": "AJIimVayPVY5",
        "colab": {
          "base_uri": "https://localhost:8080/"
        },
        "outputId": "ca574403-aa07-4036-8111-72fb4bac1a7d"
      },
      "source": [
        "# Download the first file from dataset - countries.csv\n",
        "!kaggle datasets download $kaggle_dataset_URI --file $kaggle_data_file1 --path $output_folder \n",
        "# Download the second file from the data - country_total.csv\n",
        "!kaggle datasets download $kaggle_dataset_URI --file $kaggle_data_file2 --path $output_folder "
      ],
      "execution_count": 6,
      "outputs": [
        {
          "output_type": "stream",
          "text": [
            "Downloading countries.csv to sample_data/problem_set01\n",
            "\r  0% 0.00/2.43k [00:00<?, ?B/s]\n",
            "100% 2.43k/2.43k [00:00<00:00, 1.99MB/s]\n",
            "Downloading country_total.csv to sample_data/problem_set01\n",
            "  0% 0.00/533k [00:00<?, ?B/s]\n",
            "100% 533k/533k [00:00<00:00, 78.9MB/s]\n"
          ],
          "name": "stdout"
        }
      ]
    },
    {
      "cell_type": "markdown",
      "metadata": {
        "id": "sUqVGgr2beK-"
      },
      "source": [
        "Now check your colab folder `sample_data/problem_set01` and you should be able to see the two data files."
      ]
    },
    {
      "cell_type": "markdown",
      "metadata": {
        "id": "09bH7maINF1G"
      },
      "source": [
        "# Pandas by example. \n",
        "In the following sections, we cover several use-cases for loading and using our data using pandas.  \n",
        "\n",
        "*Credits*: Much of the materials and challenges that follow have been reproduced from the pandas' workshop notebook found [here](https://github.com/dlab-berkeley/introduction-to-pandas).\n"
      ]
    },
    {
      "cell_type": "markdown",
      "metadata": {
        "id": "H6JK8SbwbzTV"
      },
      "source": [
        "## 3. DataFrame : Importing Data and Summary Statistics. \n",
        "\n",
        "`DataFrame` is a basic pandas object that stores tabular data. The `read_csv()` function in pandas allows us to easily import our data. By default, it assumes the data is comma-delimited. However, you can specify the delimiter used in your data (e.g., tab, semicolon, pipe, etc.). There are several parameters that you can specify. See the documentation [here](http://pandas.pydata.org/pandas-docs/stable/generated/pandas.read_csv.html). read_csv() returns a `DataFrame`. \n",
        "\n",
        "For example, the code below uses the `read_csv` function to load the `country_total.csv` file you just downloaded. Notice that we call `read_csv()` using the `pd` abbreviation from the `import` statement above. Also notice that we need to specify the relative path to the data file. "
      ]
    },
    {
      "cell_type": "code",
      "metadata": {
        "id": "h63GIfYcdgTi"
      },
      "source": [
        "unemployment = pd.read_csv('sample_data/problem_set01/country_total.csv')"
      ],
      "execution_count": 7,
      "outputs": []
    },
    {
      "cell_type": "markdown",
      "metadata": {
        "id": "YxZ5Y5gEi71P"
      },
      "source": [
        "Now you have created a pandas `DataFrame` that stores the data. You can look at the data by using the `.head()` method. By default, this shows the header (column names) and the first five rows. Passing an integer, $n$, to .head() returns that number of rows. To see the last $n$ rows, use .tail()."
      ]
    },
    {
      "cell_type": "code",
      "metadata": {
        "id": "_nB_SdLXd2pw",
        "colab": {
          "base_uri": "https://localhost:8080/",
          "height": 204
        },
        "outputId": "87c3a8dc-2768-4fea-f2e2-0d3db3129bf0"
      },
      "source": [
        "unemployment.head()"
      ],
      "execution_count": 8,
      "outputs": [
        {
          "output_type": "execute_result",
          "data": {
            "text/html": [
              "<div>\n",
              "<style scoped>\n",
              "    .dataframe tbody tr th:only-of-type {\n",
              "        vertical-align: middle;\n",
              "    }\n",
              "\n",
              "    .dataframe tbody tr th {\n",
              "        vertical-align: top;\n",
              "    }\n",
              "\n",
              "    .dataframe thead th {\n",
              "        text-align: right;\n",
              "    }\n",
              "</style>\n",
              "<table border=\"1\" class=\"dataframe\">\n",
              "  <thead>\n",
              "    <tr style=\"text-align: right;\">\n",
              "      <th></th>\n",
              "      <th>country</th>\n",
              "      <th>seasonality</th>\n",
              "      <th>month</th>\n",
              "      <th>unemployment</th>\n",
              "      <th>unemployment_rate</th>\n",
              "    </tr>\n",
              "  </thead>\n",
              "  <tbody>\n",
              "    <tr>\n",
              "      <th>0</th>\n",
              "      <td>at</td>\n",
              "      <td>nsa</td>\n",
              "      <td>1993.01</td>\n",
              "      <td>171000</td>\n",
              "      <td>4.5</td>\n",
              "    </tr>\n",
              "    <tr>\n",
              "      <th>1</th>\n",
              "      <td>at</td>\n",
              "      <td>nsa</td>\n",
              "      <td>1993.02</td>\n",
              "      <td>175000</td>\n",
              "      <td>4.6</td>\n",
              "    </tr>\n",
              "    <tr>\n",
              "      <th>2</th>\n",
              "      <td>at</td>\n",
              "      <td>nsa</td>\n",
              "      <td>1993.03</td>\n",
              "      <td>166000</td>\n",
              "      <td>4.4</td>\n",
              "    </tr>\n",
              "    <tr>\n",
              "      <th>3</th>\n",
              "      <td>at</td>\n",
              "      <td>nsa</td>\n",
              "      <td>1993.04</td>\n",
              "      <td>157000</td>\n",
              "      <td>4.1</td>\n",
              "    </tr>\n",
              "    <tr>\n",
              "      <th>4</th>\n",
              "      <td>at</td>\n",
              "      <td>nsa</td>\n",
              "      <td>1993.05</td>\n",
              "      <td>147000</td>\n",
              "      <td>3.9</td>\n",
              "    </tr>\n",
              "  </tbody>\n",
              "</table>\n",
              "</div>"
            ],
            "text/plain": [
              "  country seasonality    month  unemployment  unemployment_rate\n",
              "0      at         nsa  1993.01        171000                4.5\n",
              "1      at         nsa  1993.02        175000                4.6\n",
              "2      at         nsa  1993.03        166000                4.4\n",
              "3      at         nsa  1993.04        157000                4.1\n",
              "4      at         nsa  1993.05        147000                3.9"
            ]
          },
          "metadata": {
            "tags": []
          },
          "execution_count": 8
        }
      ]
    },
    {
      "cell_type": "markdown",
      "metadata": {
        "id": "LmNT9WeCjIIJ"
      },
      "source": [
        "To find the number of rows, you can use the `len` function, or you can check the `shape` attribute, as follows:\n"
      ]
    },
    {
      "cell_type": "code",
      "metadata": {
        "id": "69k4ir-AjStb",
        "colab": {
          "base_uri": "https://localhost:8080/"
        },
        "outputId": "fd05b0d1-2e81-47bf-e2c5-6f43f77df72d"
      },
      "source": [
        "# Shows the shape of the DataFrame\n",
        "(nrows, ncols) = unemployment.shape\n",
        "print(f\"There are {nrows} rows and {ncols} columns.\")"
      ],
      "execution_count": 9,
      "outputs": [
        {
          "output_type": "stream",
          "text": [
            "There are 20796 rows and 5 columns.\n"
          ],
          "name": "stdout"
        }
      ]
    },
    {
      "cell_type": "markdown",
      "metadata": {
        "id": "Zw9PVkJEkbD3"
      },
      "source": [
        "Another useful method that generates various `summary statistics` of the data is the `describe()`. The method returns basic statistics for each column, such as the `count`, `mean`, `standards division (std)`, and various `percentiles`.  For example, the code below shows the summary statistics for the `unemployment` DataFrame. For example, the code below showcases the use of the `describe` method. "
      ]
    },
    {
      "cell_type": "code",
      "metadata": {
        "id": "2clhvHKGlQIL",
        "colab": {
          "base_uri": "https://localhost:8080/",
          "height": 297
        },
        "outputId": "04add387-0060-4cda-845d-04b345a34c28"
      },
      "source": [
        "unemployment.describe()"
      ],
      "execution_count": 10,
      "outputs": [
        {
          "output_type": "execute_result",
          "data": {
            "text/html": [
              "<div>\n",
              "<style scoped>\n",
              "    .dataframe tbody tr th:only-of-type {\n",
              "        vertical-align: middle;\n",
              "    }\n",
              "\n",
              "    .dataframe tbody tr th {\n",
              "        vertical-align: top;\n",
              "    }\n",
              "\n",
              "    .dataframe thead th {\n",
              "        text-align: right;\n",
              "    }\n",
              "</style>\n",
              "<table border=\"1\" class=\"dataframe\">\n",
              "  <thead>\n",
              "    <tr style=\"text-align: right;\">\n",
              "      <th></th>\n",
              "      <th>month</th>\n",
              "      <th>unemployment</th>\n",
              "      <th>unemployment_rate</th>\n",
              "    </tr>\n",
              "  </thead>\n",
              "  <tbody>\n",
              "    <tr>\n",
              "      <th>count</th>\n",
              "      <td>20796.000000</td>\n",
              "      <td>2.079600e+04</td>\n",
              "      <td>19851.000000</td>\n",
              "    </tr>\n",
              "    <tr>\n",
              "      <th>mean</th>\n",
              "      <td>1999.401290</td>\n",
              "      <td>7.900818e+05</td>\n",
              "      <td>8.179764</td>\n",
              "    </tr>\n",
              "    <tr>\n",
              "      <th>std</th>\n",
              "      <td>7.483751</td>\n",
              "      <td>1.015280e+06</td>\n",
              "      <td>3.922533</td>\n",
              "    </tr>\n",
              "    <tr>\n",
              "      <th>min</th>\n",
              "      <td>1983.010000</td>\n",
              "      <td>2.000000e+03</td>\n",
              "      <td>1.100000</td>\n",
              "    </tr>\n",
              "    <tr>\n",
              "      <th>25%</th>\n",
              "      <td>1994.090000</td>\n",
              "      <td>1.400000e+05</td>\n",
              "      <td>5.200000</td>\n",
              "    </tr>\n",
              "    <tr>\n",
              "      <th>50%</th>\n",
              "      <td>2001.010000</td>\n",
              "      <td>3.100000e+05</td>\n",
              "      <td>7.600000</td>\n",
              "    </tr>\n",
              "    <tr>\n",
              "      <th>75%</th>\n",
              "      <td>2006.010000</td>\n",
              "      <td>1.262250e+06</td>\n",
              "      <td>10.000000</td>\n",
              "    </tr>\n",
              "    <tr>\n",
              "      <th>max</th>\n",
              "      <td>2010.120000</td>\n",
              "      <td>4.773000e+06</td>\n",
              "      <td>20.900000</td>\n",
              "    </tr>\n",
              "  </tbody>\n",
              "</table>\n",
              "</div>"
            ],
            "text/plain": [
              "              month  unemployment  unemployment_rate\n",
              "count  20796.000000  2.079600e+04       19851.000000\n",
              "mean    1999.401290  7.900818e+05           8.179764\n",
              "std        7.483751  1.015280e+06           3.922533\n",
              "min     1983.010000  2.000000e+03           1.100000\n",
              "25%     1994.090000  1.400000e+05           5.200000\n",
              "50%     2001.010000  3.100000e+05           7.600000\n",
              "75%     2006.010000  1.262250e+06          10.000000\n",
              "max     2010.120000  4.773000e+06          20.900000"
            ]
          },
          "metadata": {
            "tags": []
          },
          "execution_count": 10
        }
      ]
    },
    {
      "cell_type": "markdown",
      "metadata": {
        "id": "ZQVFgCHvouar"
      },
      "source": [
        "Depending on what type of data is included in the DataFrame, the describe() method returns different values.  If the DataFrame includes both numeric and object (e.g., strings) dtypes, it will default to summarizing the numeric data only. If `.describe()` is called on strings, for example, it will return the count, number of unique values, and the most frequent value along with its count. For example, we can call the `.describe()` only the the `country` and `seasonality` fields (which are strings) to get the count, number of unique entries, and freq of top entry. \n"
      ]
    },
    {
      "cell_type": "code",
      "metadata": {
        "id": "CT420uWioVUR",
        "colab": {
          "base_uri": "https://localhost:8080/",
          "height": 173
        },
        "outputId": "d1d414d1-2547-424c-b39b-5d289b82b16d"
      },
      "source": [
        "unemployment[['country','seasonality']].describe()"
      ],
      "execution_count": 11,
      "outputs": [
        {
          "output_type": "execute_result",
          "data": {
            "text/html": [
              "<div>\n",
              "<style scoped>\n",
              "    .dataframe tbody tr th:only-of-type {\n",
              "        vertical-align: middle;\n",
              "    }\n",
              "\n",
              "    .dataframe tbody tr th {\n",
              "        vertical-align: top;\n",
              "    }\n",
              "\n",
              "    .dataframe thead th {\n",
              "        text-align: right;\n",
              "    }\n",
              "</style>\n",
              "<table border=\"1\" class=\"dataframe\">\n",
              "  <thead>\n",
              "    <tr style=\"text-align: right;\">\n",
              "      <th></th>\n",
              "      <th>country</th>\n",
              "      <th>seasonality</th>\n",
              "    </tr>\n",
              "  </thead>\n",
              "  <tbody>\n",
              "    <tr>\n",
              "      <th>count</th>\n",
              "      <td>20796</td>\n",
              "      <td>20796</td>\n",
              "    </tr>\n",
              "    <tr>\n",
              "      <th>unique</th>\n",
              "      <td>30</td>\n",
              "      <td>3</td>\n",
              "    </tr>\n",
              "    <tr>\n",
              "      <th>top</th>\n",
              "      <td>es</td>\n",
              "      <td>sa</td>\n",
              "    </tr>\n",
              "    <tr>\n",
              "      <th>freq</th>\n",
              "      <td>1008</td>\n",
              "      <td>7020</td>\n",
              "    </tr>\n",
              "  </tbody>\n",
              "</table>\n",
              "</div>"
            ],
            "text/plain": [
              "       country seasonality\n",
              "count    20796       20796\n",
              "unique      30           3\n",
              "top         es          sa\n",
              "freq      1008        7020"
            ]
          },
          "metadata": {
            "tags": []
          },
          "execution_count": 11
        }
      ]
    },
    {
      "cell_type": "markdown",
      "metadata": {
        "id": "aNE9Y9vLpeiw"
      },
      "source": [
        "### Challenge 1: Import data and find key statistics. \n",
        "Use the methods discussed above to load and inspect the second data file we downloaded, namely the 'countires.csv, answer the following questions about countries:\n",
        "\n",
        "- what columns does it contain?\n",
        "- what does each row stand for?\n",
        "- how many rows and columns does it contain?\n",
        "- are there any missing values in the latitude or longitude columns?\n",
        "\n",
        "Hint: the head and describe functions, as well as the shape attribute, will be helpful here.\n"
      ]
    },
    {
      "cell_type": "code",
      "metadata": {
        "id": "zv6ENM8hqPdZ",
        "colab": {
          "base_uri": "https://localhost:8080/",
          "height": 204
        },
        "outputId": "c7bdcad5-6c17-4be3-fce0-224a4c8c9882"
      },
      "source": [
        "# Use this cell to load the data and find the answers to the questions above. \n",
        "# To read the csv file\n",
        "df = pd.read_csv('sample_data/problem_set01/countries.csv')\n",
        "df.head()"
      ],
      "execution_count": 12,
      "outputs": [
        {
          "output_type": "execute_result",
          "data": {
            "text/html": [
              "<div>\n",
              "<style scoped>\n",
              "    .dataframe tbody tr th:only-of-type {\n",
              "        vertical-align: middle;\n",
              "    }\n",
              "\n",
              "    .dataframe tbody tr th {\n",
              "        vertical-align: top;\n",
              "    }\n",
              "\n",
              "    .dataframe thead th {\n",
              "        text-align: right;\n",
              "    }\n",
              "</style>\n",
              "<table border=\"1\" class=\"dataframe\">\n",
              "  <thead>\n",
              "    <tr style=\"text-align: right;\">\n",
              "      <th></th>\n",
              "      <th>country</th>\n",
              "      <th>google_country_code</th>\n",
              "      <th>country_group</th>\n",
              "      <th>name_en</th>\n",
              "      <th>name_fr</th>\n",
              "      <th>name_de</th>\n",
              "      <th>latitude</th>\n",
              "      <th>longitude</th>\n",
              "    </tr>\n",
              "  </thead>\n",
              "  <tbody>\n",
              "    <tr>\n",
              "      <th>0</th>\n",
              "      <td>at</td>\n",
              "      <td>AT</td>\n",
              "      <td>eu</td>\n",
              "      <td>Austria</td>\n",
              "      <td>Autriche</td>\n",
              "      <td>Österreich</td>\n",
              "      <td>47.696554</td>\n",
              "      <td>13.345980</td>\n",
              "    </tr>\n",
              "    <tr>\n",
              "      <th>1</th>\n",
              "      <td>be</td>\n",
              "      <td>BE</td>\n",
              "      <td>eu</td>\n",
              "      <td>Belgium</td>\n",
              "      <td>Belgique</td>\n",
              "      <td>Belgien</td>\n",
              "      <td>50.501045</td>\n",
              "      <td>4.476674</td>\n",
              "    </tr>\n",
              "    <tr>\n",
              "      <th>2</th>\n",
              "      <td>bg</td>\n",
              "      <td>BG</td>\n",
              "      <td>eu</td>\n",
              "      <td>Bulgaria</td>\n",
              "      <td>Bulgarie</td>\n",
              "      <td>Bulgarien</td>\n",
              "      <td>42.725674</td>\n",
              "      <td>25.482322</td>\n",
              "    </tr>\n",
              "    <tr>\n",
              "      <th>3</th>\n",
              "      <td>hr</td>\n",
              "      <td>HR</td>\n",
              "      <td>non-eu</td>\n",
              "      <td>Croatia</td>\n",
              "      <td>Croatie</td>\n",
              "      <td>Kroatien</td>\n",
              "      <td>44.746643</td>\n",
              "      <td>15.340844</td>\n",
              "    </tr>\n",
              "    <tr>\n",
              "      <th>4</th>\n",
              "      <td>cy</td>\n",
              "      <td>CY</td>\n",
              "      <td>eu</td>\n",
              "      <td>Cyprus</td>\n",
              "      <td>Chypre</td>\n",
              "      <td>Zypern</td>\n",
              "      <td>35.129141</td>\n",
              "      <td>33.428682</td>\n",
              "    </tr>\n",
              "  </tbody>\n",
              "</table>\n",
              "</div>"
            ],
            "text/plain": [
              "  country google_country_code country_group  ...     name_de   latitude  longitude\n",
              "0      at                  AT            eu  ...  Österreich  47.696554  13.345980\n",
              "1      be                  BE            eu  ...     Belgien  50.501045   4.476674\n",
              "2      bg                  BG            eu  ...   Bulgarien  42.725674  25.482322\n",
              "3      hr                  HR        non-eu  ...    Kroatien  44.746643  15.340844\n",
              "4      cy                  CY            eu  ...      Zypern  35.129141  33.428682\n",
              "\n",
              "[5 rows x 8 columns]"
            ]
          },
          "metadata": {
            "tags": []
          },
          "execution_count": 12
        }
      ]
    },
    {
      "cell_type": "code",
      "metadata": {
        "id": "Ru5JweELqV1D",
        "colab": {
          "base_uri": "https://localhost:8080/"
        },
        "outputId": "4eb2a4c3-a545-4053-e919-3e78f256d483"
      },
      "source": [
        "# What columns does it contain?\n",
        "df.columns"
      ],
      "execution_count": 13,
      "outputs": [
        {
          "output_type": "execute_result",
          "data": {
            "text/plain": [
              "Index(['country', 'google_country_code', 'country_group', 'name_en', 'name_fr',\n",
              "       'name_de', 'latitude', 'longitude'],\n",
              "      dtype='object')"
            ]
          },
          "metadata": {
            "tags": []
          },
          "execution_count": 13
        }
      ]
    },
    {
      "cell_type": "code",
      "metadata": {
        "colab": {
          "base_uri": "https://localhost:8080/"
        },
        "id": "gEgMXbvX9d3C",
        "outputId": "e06663ab-ae98-4fa4-a45c-97f0da044350"
      },
      "source": [
        "# What does each row stand for?\n",
        "df.dtypes"
      ],
      "execution_count": 14,
      "outputs": [
        {
          "output_type": "execute_result",
          "data": {
            "text/plain": [
              "country                 object\n",
              "google_country_code     object\n",
              "country_group           object\n",
              "name_en                 object\n",
              "name_fr                 object\n",
              "name_de                 object\n",
              "latitude               float64\n",
              "longitude              float64\n",
              "dtype: object"
            ]
          },
          "metadata": {
            "tags": []
          },
          "execution_count": 14
        }
      ]
    },
    {
      "cell_type": "code",
      "metadata": {
        "colab": {
          "base_uri": "https://localhost:8080/",
          "height": 297
        },
        "id": "hdkhtu0h_jNk",
        "outputId": "a6027710-97a9-485a-d7fe-2885a76d061d"
      },
      "source": [
        "# summary statistics \n",
        "df.describe()"
      ],
      "execution_count": 15,
      "outputs": [
        {
          "output_type": "execute_result",
          "data": {
            "text/html": [
              "<div>\n",
              "<style scoped>\n",
              "    .dataframe tbody tr th:only-of-type {\n",
              "        vertical-align: middle;\n",
              "    }\n",
              "\n",
              "    .dataframe tbody tr th {\n",
              "        vertical-align: top;\n",
              "    }\n",
              "\n",
              "    .dataframe thead th {\n",
              "        text-align: right;\n",
              "    }\n",
              "</style>\n",
              "<table border=\"1\" class=\"dataframe\">\n",
              "  <thead>\n",
              "    <tr style=\"text-align: right;\">\n",
              "      <th></th>\n",
              "      <th>latitude</th>\n",
              "      <th>longitude</th>\n",
              "    </tr>\n",
              "  </thead>\n",
              "  <tbody>\n",
              "    <tr>\n",
              "      <th>count</th>\n",
              "      <td>30.000000</td>\n",
              "      <td>30.000000</td>\n",
              "    </tr>\n",
              "    <tr>\n",
              "      <th>mean</th>\n",
              "      <td>49.092609</td>\n",
              "      <td>14.324579</td>\n",
              "    </tr>\n",
              "    <tr>\n",
              "      <th>std</th>\n",
              "      <td>7.956624</td>\n",
              "      <td>11.257010</td>\n",
              "    </tr>\n",
              "    <tr>\n",
              "      <th>min</th>\n",
              "      <td>35.129141</td>\n",
              "      <td>-8.239122</td>\n",
              "    </tr>\n",
              "    <tr>\n",
              "      <th>25%</th>\n",
              "      <td>43.230916</td>\n",
              "      <td>6.979186</td>\n",
              "    </tr>\n",
              "    <tr>\n",
              "      <th>50%</th>\n",
              "      <td>49.238087</td>\n",
              "      <td>14.941462</td>\n",
              "    </tr>\n",
              "    <tr>\n",
              "      <th>75%</th>\n",
              "      <td>54.090400</td>\n",
              "      <td>23.351690</td>\n",
              "    </tr>\n",
              "    <tr>\n",
              "      <th>max</th>\n",
              "      <td>64.950159</td>\n",
              "      <td>35.439795</td>\n",
              "    </tr>\n",
              "  </tbody>\n",
              "</table>\n",
              "</div>"
            ],
            "text/plain": [
              "        latitude  longitude\n",
              "count  30.000000  30.000000\n",
              "mean   49.092609  14.324579\n",
              "std     7.956624  11.257010\n",
              "min    35.129141  -8.239122\n",
              "25%    43.230916   6.979186\n",
              "50%    49.238087  14.941462\n",
              "75%    54.090400  23.351690\n",
              "max    64.950159  35.439795"
            ]
          },
          "metadata": {
            "tags": []
          },
          "execution_count": 15
        }
      ]
    },
    {
      "cell_type": "code",
      "metadata": {
        "colab": {
          "base_uri": "https://localhost:8080/"
        },
        "id": "XdIjorwg-AEN",
        "outputId": "4460bd4a-24b7-4ddd-abc2-db1056883541"
      },
      "source": [
        "# How many rows and columns does it contain?(nrows, ncols) = unemployment.shape\n",
        "(nrows, ncols) = df.shape\n",
        "print(f\"There are {nrows} rows and {ncols} columns.\")"
      ],
      "execution_count": 16,
      "outputs": [
        {
          "output_type": "stream",
          "text": [
            "There are 30 rows and 8 columns.\n"
          ],
          "name": "stdout"
        }
      ]
    },
    {
      "cell_type": "code",
      "metadata": {
        "colab": {
          "base_uri": "https://localhost:8080/",
          "height": 49
        },
        "id": "0jw7rp6D-fOh",
        "outputId": "47e1546f-7fe9-41fa-8e8d-c980b9791ebd"
      },
      "source": [
        "# Are there any missing values in the latitude or longitude columns?\n",
        "df[df['latitude'].isna()]"
      ],
      "execution_count": 17,
      "outputs": [
        {
          "output_type": "execute_result",
          "data": {
            "text/html": [
              "<div>\n",
              "<style scoped>\n",
              "    .dataframe tbody tr th:only-of-type {\n",
              "        vertical-align: middle;\n",
              "    }\n",
              "\n",
              "    .dataframe tbody tr th {\n",
              "        vertical-align: top;\n",
              "    }\n",
              "\n",
              "    .dataframe thead th {\n",
              "        text-align: right;\n",
              "    }\n",
              "</style>\n",
              "<table border=\"1\" class=\"dataframe\">\n",
              "  <thead>\n",
              "    <tr style=\"text-align: right;\">\n",
              "      <th></th>\n",
              "      <th>country</th>\n",
              "      <th>google_country_code</th>\n",
              "      <th>country_group</th>\n",
              "      <th>name_en</th>\n",
              "      <th>name_fr</th>\n",
              "      <th>name_de</th>\n",
              "      <th>latitude</th>\n",
              "      <th>longitude</th>\n",
              "    </tr>\n",
              "  </thead>\n",
              "  <tbody>\n",
              "  </tbody>\n",
              "</table>\n",
              "</div>"
            ],
            "text/plain": [
              "Empty DataFrame\n",
              "Columns: [country, google_country_code, country_group, name_en, name_fr, name_de, latitude, longitude]\n",
              "Index: []"
            ]
          },
          "metadata": {
            "tags": []
          },
          "execution_count": 17
        }
      ]
    },
    {
      "cell_type": "markdown",
      "metadata": {
        "id": "BsIONvqOkwmW"
      },
      "source": [
        "There are no missing values in the latitude coulmn"
      ]
    },
    {
      "cell_type": "code",
      "metadata": {
        "colab": {
          "base_uri": "https://localhost:8080/",
          "height": 49
        },
        "id": "0u1JssGi-_M4",
        "outputId": "869c6f1a-3b77-48e9-9dcb-fe5ab7ad7b38"
      },
      "source": [
        "df[df['longitude'].isna()]"
      ],
      "execution_count": 18,
      "outputs": [
        {
          "output_type": "execute_result",
          "data": {
            "text/html": [
              "<div>\n",
              "<style scoped>\n",
              "    .dataframe tbody tr th:only-of-type {\n",
              "        vertical-align: middle;\n",
              "    }\n",
              "\n",
              "    .dataframe tbody tr th {\n",
              "        vertical-align: top;\n",
              "    }\n",
              "\n",
              "    .dataframe thead th {\n",
              "        text-align: right;\n",
              "    }\n",
              "</style>\n",
              "<table border=\"1\" class=\"dataframe\">\n",
              "  <thead>\n",
              "    <tr style=\"text-align: right;\">\n",
              "      <th></th>\n",
              "      <th>country</th>\n",
              "      <th>google_country_code</th>\n",
              "      <th>country_group</th>\n",
              "      <th>name_en</th>\n",
              "      <th>name_fr</th>\n",
              "      <th>name_de</th>\n",
              "      <th>latitude</th>\n",
              "      <th>longitude</th>\n",
              "    </tr>\n",
              "  </thead>\n",
              "  <tbody>\n",
              "  </tbody>\n",
              "</table>\n",
              "</div>"
            ],
            "text/plain": [
              "Empty DataFrame\n",
              "Columns: [country, google_country_code, country_group, name_en, name_fr, name_de, latitude, longitude]\n",
              "Index: []"
            ]
          },
          "metadata": {
            "tags": []
          },
          "execution_count": 18
        }
      ]
    },
    {
      "cell_type": "code",
      "metadata": {
        "colab": {
          "base_uri": "https://localhost:8080/"
        },
        "id": "9-yBPKsWZKJJ",
        "outputId": "2e49ff23-1680-4dfc-fa29-5634e5c42bec"
      },
      "source": [
        "df.isna().sum()"
      ],
      "execution_count": 19,
      "outputs": [
        {
          "output_type": "execute_result",
          "data": {
            "text/plain": [
              "country                0\n",
              "google_country_code    0\n",
              "country_group          0\n",
              "name_en                0\n",
              "name_fr                0\n",
              "name_de                0\n",
              "latitude               0\n",
              "longitude              0\n",
              "dtype: int64"
            ]
          },
          "metadata": {
            "tags": []
          },
          "execution_count": 19
        }
      ]
    },
    {
      "cell_type": "markdown",
      "metadata": {
        "id": "mpU0SoQok3lM"
      },
      "source": [
        "There are no missing values in the longitude column"
      ]
    },
    {
      "cell_type": "markdown",
      "metadata": {
        "id": "kfmkK0qy8SiZ"
      },
      "source": [
        "## 4. DataFrame: Rename, Index, and Slide \n",
        "\n",
        "Going back to the unemployment data set, you may have noticed that the month column also includes the year. Let's go ahead and rename it."
      ]
    },
    {
      "cell_type": "code",
      "metadata": {
        "id": "HjBE5n-IxGtu"
      },
      "source": [
        "unemployment.rename(columns={'month' : 'year_month'}, inplace=True)"
      ],
      "execution_count": 20,
      "outputs": []
    },
    {
      "cell_type": "markdown",
      "metadata": {
        "id": "MnAvO35txcfS"
      },
      "source": [
        "The `.rename()` method allows you to modify `index labels` and/or `column names`. As you can see, we passed a `dict` to the columns parameter, with the original name as the key and the new name as the value. Importantly, we also set the `inplace` parameter to `True`, which modifies the actual `DataFrame`, not a copy of it.\n",
        "\n",
        "It might also make sense to separate the data in `year_month` into two separate columns. To do this, you'll need to know how to select a single column. We can either use bracket ([]) or dot notation (referred to as attribute access). \n"
      ]
    },
    {
      "cell_type": "code",
      "metadata": {
        "id": "wGL0o3aOx-p4",
        "colab": {
          "base_uri": "https://localhost:8080/"
        },
        "outputId": "2eaff07a-82b3-474e-fc2a-72b3ec81a73d"
      },
      "source": [
        "# select a single column - using the bracket notation \n",
        "unemployment['year_month'] "
      ],
      "execution_count": 21,
      "outputs": [
        {
          "output_type": "execute_result",
          "data": {
            "text/plain": [
              "0        1993.01\n",
              "1        1993.02\n",
              "2        1993.03\n",
              "3        1993.04\n",
              "4        1993.05\n",
              "          ...   \n",
              "20791    2010.06\n",
              "20792    2010.07\n",
              "20793    2010.08\n",
              "20794    2010.09\n",
              "20795    2010.10\n",
              "Name: year_month, Length: 20796, dtype: float64"
            ]
          },
          "metadata": {
            "tags": []
          },
          "execution_count": 21
        }
      ]
    },
    {
      "cell_type": "code",
      "metadata": {
        "id": "qfrOTwFVzRfv",
        "colab": {
          "base_uri": "https://localhost:8080/"
        },
        "outputId": "79219091-058b-4567-ac91-09d713c7853a"
      },
      "source": [
        "# select a single column - using the dot notation \n",
        "unemployment.year_month"
      ],
      "execution_count": 22,
      "outputs": [
        {
          "output_type": "execute_result",
          "data": {
            "text/plain": [
              "0        1993.01\n",
              "1        1993.02\n",
              "2        1993.03\n",
              "3        1993.04\n",
              "4        1993.05\n",
              "          ...   \n",
              "20791    2010.06\n",
              "20792    2010.07\n",
              "20793    2010.08\n",
              "20794    2010.09\n",
              "20795    2010.10\n",
              "Name: year_month, Length: 20796, dtype: float64"
            ]
          },
          "metadata": {
            "tags": []
          },
          "execution_count": 22
        }
      ]
    },
    {
      "cell_type": "code",
      "metadata": {
        "id": "WZiCClNDAvX5",
        "colab": {
          "base_uri": "https://localhost:8080/",
          "height": 419
        },
        "outputId": "a5600a9c-9894-472c-f3c9-dfe125748124"
      },
      "source": [
        "unemployment"
      ],
      "execution_count": 23,
      "outputs": [
        {
          "output_type": "execute_result",
          "data": {
            "text/html": [
              "<div>\n",
              "<style scoped>\n",
              "    .dataframe tbody tr th:only-of-type {\n",
              "        vertical-align: middle;\n",
              "    }\n",
              "\n",
              "    .dataframe tbody tr th {\n",
              "        vertical-align: top;\n",
              "    }\n",
              "\n",
              "    .dataframe thead th {\n",
              "        text-align: right;\n",
              "    }\n",
              "</style>\n",
              "<table border=\"1\" class=\"dataframe\">\n",
              "  <thead>\n",
              "    <tr style=\"text-align: right;\">\n",
              "      <th></th>\n",
              "      <th>country</th>\n",
              "      <th>seasonality</th>\n",
              "      <th>year_month</th>\n",
              "      <th>unemployment</th>\n",
              "      <th>unemployment_rate</th>\n",
              "    </tr>\n",
              "  </thead>\n",
              "  <tbody>\n",
              "    <tr>\n",
              "      <th>0</th>\n",
              "      <td>at</td>\n",
              "      <td>nsa</td>\n",
              "      <td>1993.01</td>\n",
              "      <td>171000</td>\n",
              "      <td>4.5</td>\n",
              "    </tr>\n",
              "    <tr>\n",
              "      <th>1</th>\n",
              "      <td>at</td>\n",
              "      <td>nsa</td>\n",
              "      <td>1993.02</td>\n",
              "      <td>175000</td>\n",
              "      <td>4.6</td>\n",
              "    </tr>\n",
              "    <tr>\n",
              "      <th>2</th>\n",
              "      <td>at</td>\n",
              "      <td>nsa</td>\n",
              "      <td>1993.03</td>\n",
              "      <td>166000</td>\n",
              "      <td>4.4</td>\n",
              "    </tr>\n",
              "    <tr>\n",
              "      <th>3</th>\n",
              "      <td>at</td>\n",
              "      <td>nsa</td>\n",
              "      <td>1993.04</td>\n",
              "      <td>157000</td>\n",
              "      <td>4.1</td>\n",
              "    </tr>\n",
              "    <tr>\n",
              "      <th>4</th>\n",
              "      <td>at</td>\n",
              "      <td>nsa</td>\n",
              "      <td>1993.05</td>\n",
              "      <td>147000</td>\n",
              "      <td>3.9</td>\n",
              "    </tr>\n",
              "    <tr>\n",
              "      <th>...</th>\n",
              "      <td>...</td>\n",
              "      <td>...</td>\n",
              "      <td>...</td>\n",
              "      <td>...</td>\n",
              "      <td>...</td>\n",
              "    </tr>\n",
              "    <tr>\n",
              "      <th>20791</th>\n",
              "      <td>uk</td>\n",
              "      <td>trend</td>\n",
              "      <td>2010.06</td>\n",
              "      <td>2429000</td>\n",
              "      <td>7.7</td>\n",
              "    </tr>\n",
              "    <tr>\n",
              "      <th>20792</th>\n",
              "      <td>uk</td>\n",
              "      <td>trend</td>\n",
              "      <td>2010.07</td>\n",
              "      <td>2422000</td>\n",
              "      <td>7.7</td>\n",
              "    </tr>\n",
              "    <tr>\n",
              "      <th>20793</th>\n",
              "      <td>uk</td>\n",
              "      <td>trend</td>\n",
              "      <td>2010.08</td>\n",
              "      <td>2429000</td>\n",
              "      <td>7.7</td>\n",
              "    </tr>\n",
              "    <tr>\n",
              "      <th>20794</th>\n",
              "      <td>uk</td>\n",
              "      <td>trend</td>\n",
              "      <td>2010.09</td>\n",
              "      <td>2447000</td>\n",
              "      <td>7.8</td>\n",
              "    </tr>\n",
              "    <tr>\n",
              "      <th>20795</th>\n",
              "      <td>uk</td>\n",
              "      <td>trend</td>\n",
              "      <td>2010.10</td>\n",
              "      <td>2455000</td>\n",
              "      <td>7.8</td>\n",
              "    </tr>\n",
              "  </tbody>\n",
              "</table>\n",
              "<p>20796 rows × 5 columns</p>\n",
              "</div>"
            ],
            "text/plain": [
              "      country seasonality  year_month  unemployment  unemployment_rate\n",
              "0          at         nsa     1993.01        171000                4.5\n",
              "1          at         nsa     1993.02        175000                4.6\n",
              "2          at         nsa     1993.03        166000                4.4\n",
              "3          at         nsa     1993.04        157000                4.1\n",
              "4          at         nsa     1993.05        147000                3.9\n",
              "...       ...         ...         ...           ...                ...\n",
              "20791      uk       trend     2010.06       2429000                7.7\n",
              "20792      uk       trend     2010.07       2422000                7.7\n",
              "20793      uk       trend     2010.08       2429000                7.7\n",
              "20794      uk       trend     2010.09       2447000                7.8\n",
              "20795      uk       trend     2010.10       2455000                7.8\n",
              "\n",
              "[20796 rows x 5 columns]"
            ]
          },
          "metadata": {
            "tags": []
          },
          "execution_count": 23
        }
      ]
    },
    {
      "cell_type": "markdown",
      "metadata": {
        "id": "R2GQrmleziyS"
      },
      "source": [
        "It is preferrable to use the bracket notation as a column name might inadvertently have the same name as a `DataFrame` (or `Series`) method. In addition, only bracket notation can be used to create a new column. If you try and use attribute access to create a new column, you'll create a new attribute, not a new column.\n",
        "\n",
        "When selecting a single column, we have a pandas `Series` object, which is a single vector of data (e.g., a `NumPy` array) with \"an associated array of data labels, called its index.\" A `DataFrame` also has an index. In our example, the indices are an array of sequential integers, which is the default. You can find them in the `left-most` position, without a column label.\n",
        "\n",
        "Indices need not be a sequence of integers. They can, for example, be dates or strings. Note that indices do not need to be unique.\n",
        "\n",
        "Indices, like `column` names, can be used to select data. Indices can be used to select particular rows. In fact, you can do something like `.head()` with slicing using the `[]` operator."
      ]
    },
    {
      "cell_type": "code",
      "metadata": {
        "id": "UR8P91gV0HX-",
        "colab": {
          "base_uri": "https://localhost:8080/",
          "height": 204
        },
        "outputId": "87569f66-a1ab-4c66-96ed-4adfc779bbbf"
      },
      "source": [
        "# Slicing row, using the [] operator : return top 5 rows \n",
        "unemployment[:5] "
      ],
      "execution_count": 24,
      "outputs": [
        {
          "output_type": "execute_result",
          "data": {
            "text/html": [
              "<div>\n",
              "<style scoped>\n",
              "    .dataframe tbody tr th:only-of-type {\n",
              "        vertical-align: middle;\n",
              "    }\n",
              "\n",
              "    .dataframe tbody tr th {\n",
              "        vertical-align: top;\n",
              "    }\n",
              "\n",
              "    .dataframe thead th {\n",
              "        text-align: right;\n",
              "    }\n",
              "</style>\n",
              "<table border=\"1\" class=\"dataframe\">\n",
              "  <thead>\n",
              "    <tr style=\"text-align: right;\">\n",
              "      <th></th>\n",
              "      <th>country</th>\n",
              "      <th>seasonality</th>\n",
              "      <th>year_month</th>\n",
              "      <th>unemployment</th>\n",
              "      <th>unemployment_rate</th>\n",
              "    </tr>\n",
              "  </thead>\n",
              "  <tbody>\n",
              "    <tr>\n",
              "      <th>0</th>\n",
              "      <td>at</td>\n",
              "      <td>nsa</td>\n",
              "      <td>1993.01</td>\n",
              "      <td>171000</td>\n",
              "      <td>4.5</td>\n",
              "    </tr>\n",
              "    <tr>\n",
              "      <th>1</th>\n",
              "      <td>at</td>\n",
              "      <td>nsa</td>\n",
              "      <td>1993.02</td>\n",
              "      <td>175000</td>\n",
              "      <td>4.6</td>\n",
              "    </tr>\n",
              "    <tr>\n",
              "      <th>2</th>\n",
              "      <td>at</td>\n",
              "      <td>nsa</td>\n",
              "      <td>1993.03</td>\n",
              "      <td>166000</td>\n",
              "      <td>4.4</td>\n",
              "    </tr>\n",
              "    <tr>\n",
              "      <th>3</th>\n",
              "      <td>at</td>\n",
              "      <td>nsa</td>\n",
              "      <td>1993.04</td>\n",
              "      <td>157000</td>\n",
              "      <td>4.1</td>\n",
              "    </tr>\n",
              "    <tr>\n",
              "      <th>4</th>\n",
              "      <td>at</td>\n",
              "      <td>nsa</td>\n",
              "      <td>1993.05</td>\n",
              "      <td>147000</td>\n",
              "      <td>3.9</td>\n",
              "    </tr>\n",
              "  </tbody>\n",
              "</table>\n",
              "</div>"
            ],
            "text/plain": [
              "  country seasonality  year_month  unemployment  unemployment_rate\n",
              "0      at         nsa     1993.01        171000                4.5\n",
              "1      at         nsa     1993.02        175000                4.6\n",
              "2      at         nsa     1993.03        166000                4.4\n",
              "3      at         nsa     1993.04        157000                4.1\n",
              "4      at         nsa     1993.05        147000                3.9"
            ]
          },
          "metadata": {
            "tags": []
          },
          "execution_count": 24
        }
      ]
    },
    {
      "cell_type": "markdown",
      "metadata": {
        "id": "NNnINdjz0etn"
      },
      "source": [
        "Before we continue, let's look at a few useful ways to index data—that is, select rows.\n",
        "\n",
        "`.loc` primarily works with string labels. It accepts a single label, a list (or array) of labels, or a slice of labels (e.g., 'a' : 'f').\n",
        "\n",
        "Let's create a DataFrame to see how this works. (This is based on an [example](https://github.com/fonnesbeck/scipy2015_tutorial/blob/master/notebooks/1.%20Data%20Preparation.ipynb) from Chris Fonnesbeck's [Computational Statistics II Tutorial](https://github.com/fonnesbeck/scipy2015_tutorial).)"
      ]
    },
    {
      "cell_type": "code",
      "metadata": {
        "id": "nNuOoVaz02AV"
      },
      "source": [
        "bacteria = pd.DataFrame({'bacteria_counts' : [632, 1638, 569, 115],\n",
        "                         'other_feature' : [438, 833, 234, 298]},\n",
        "                         index=['Firmicutes', 'Proteobacteria', 'Actinobacteria', 'Bacteroidetes'])"
      ],
      "execution_count": 25,
      "outputs": []
    },
    {
      "cell_type": "markdown",
      "metadata": {
        "id": "twIdnwvz2Uxe"
      },
      "source": [
        "Notice that we pass in a `dict`, where the keys correspond to column names and the values to the data. In this example, we've also set the indices—strings in this case—to be the taxon of each bacterium."
      ]
    },
    {
      "cell_type": "code",
      "metadata": {
        "id": "YQl6Zw4Y2eFx",
        "colab": {
          "base_uri": "https://localhost:8080/",
          "height": 173
        },
        "outputId": "c72a7e2a-006b-4b20-99fa-7a479f43b6ce"
      },
      "source": [
        "bacteria "
      ],
      "execution_count": 26,
      "outputs": [
        {
          "output_type": "execute_result",
          "data": {
            "text/html": [
              "<div>\n",
              "<style scoped>\n",
              "    .dataframe tbody tr th:only-of-type {\n",
              "        vertical-align: middle;\n",
              "    }\n",
              "\n",
              "    .dataframe tbody tr th {\n",
              "        vertical-align: top;\n",
              "    }\n",
              "\n",
              "    .dataframe thead th {\n",
              "        text-align: right;\n",
              "    }\n",
              "</style>\n",
              "<table border=\"1\" class=\"dataframe\">\n",
              "  <thead>\n",
              "    <tr style=\"text-align: right;\">\n",
              "      <th></th>\n",
              "      <th>bacteria_counts</th>\n",
              "      <th>other_feature</th>\n",
              "    </tr>\n",
              "  </thead>\n",
              "  <tbody>\n",
              "    <tr>\n",
              "      <th>Firmicutes</th>\n",
              "      <td>632</td>\n",
              "      <td>438</td>\n",
              "    </tr>\n",
              "    <tr>\n",
              "      <th>Proteobacteria</th>\n",
              "      <td>1638</td>\n",
              "      <td>833</td>\n",
              "    </tr>\n",
              "    <tr>\n",
              "      <th>Actinobacteria</th>\n",
              "      <td>569</td>\n",
              "      <td>234</td>\n",
              "    </tr>\n",
              "    <tr>\n",
              "      <th>Bacteroidetes</th>\n",
              "      <td>115</td>\n",
              "      <td>298</td>\n",
              "    </tr>\n",
              "  </tbody>\n",
              "</table>\n",
              "</div>"
            ],
            "text/plain": [
              "                bacteria_counts  other_feature\n",
              "Firmicutes                  632            438\n",
              "Proteobacteria             1638            833\n",
              "Actinobacteria              569            234\n",
              "Bacteroidetes               115            298"
            ]
          },
          "metadata": {
            "tags": []
          },
          "execution_count": 26
        }
      ]
    },
    {
      "cell_type": "markdown",
      "metadata": {
        "id": "hugqV3uX2oHt"
      },
      "source": [
        "now, if we're interested in the values (row) associated with \"Actinobacteria,\" we can use .loc and the index name."
      ]
    },
    {
      "cell_type": "code",
      "metadata": {
        "id": "BBNPFS-X2sGk",
        "colab": {
          "base_uri": "https://localhost:8080/"
        },
        "outputId": "6d40fd34-6d31-4dfe-90c0-750f026f19a4"
      },
      "source": [
        "# This returns the row with index name \"Actibovacteria\"\n",
        "# It is an object to type Series \n",
        "\n",
        "row = bacteria.loc['Actinobacteria']\n",
        "print(row)\n",
        "print(f\"Notice the row object return is of type {type(row)} because we query for a single row\")"
      ],
      "execution_count": 27,
      "outputs": [
        {
          "output_type": "stream",
          "text": [
            "bacteria_counts    569\n",
            "other_feature      234\n",
            "Name: Actinobacteria, dtype: int64\n",
            "Notice the row object return is of type <class 'pandas.core.series.Series'> because we query for a single row\n"
          ],
          "name": "stdout"
        }
      ]
    },
    {
      "cell_type": "code",
      "metadata": {
        "id": "6SVl2cCQ3fiR",
        "colab": {
          "base_uri": "https://localhost:8080/"
        },
        "outputId": "d74bbb4f-fb65-4d66-b480-e3e2ce6f6770"
      },
      "source": [
        "row = bacteria[2:3]\n",
        "print(row)\n",
        "print(f\"Notice the row object return is of type {type(row)} because we query a range of rows\")"
      ],
      "execution_count": 28,
      "outputs": [
        {
          "output_type": "stream",
          "text": [
            "                bacteria_counts  other_feature\n",
            "Actinobacteria              569            234\n",
            "Notice the row object return is of type <class 'pandas.core.frame.DataFrame'> because we query a range of rows\n"
          ],
          "name": "stdout"
        }
      ]
    },
    {
      "cell_type": "markdown",
      "metadata": {
        "id": "ZPNm4I0h4pb0"
      },
      "source": [
        "The difference is that the former returns a Series because we selected a single lable, while the latter returns a DataFrame because we selected a range of positions.\n",
        "\n",
        "Let's return to our unemployment data. Another indexing option, `.iloc`, primarily works with integer positions. To select specific rows, we can do the following."
      ]
    },
    {
      "cell_type": "code",
      "metadata": {
        "id": "ObvSRnRn41pO",
        "colab": {
          "base_uri": "https://localhost:8080/",
          "height": 173
        },
        "outputId": "cac285b9-ac93-4a58-ac35-e142c4078802"
      },
      "source": [
        "# Select specific rows using the iloc for integer position index. \n",
        "unemployment.iloc[[1,5,6,9]]"
      ],
      "execution_count": 29,
      "outputs": [
        {
          "output_type": "execute_result",
          "data": {
            "text/html": [
              "<div>\n",
              "<style scoped>\n",
              "    .dataframe tbody tr th:only-of-type {\n",
              "        vertical-align: middle;\n",
              "    }\n",
              "\n",
              "    .dataframe tbody tr th {\n",
              "        vertical-align: top;\n",
              "    }\n",
              "\n",
              "    .dataframe thead th {\n",
              "        text-align: right;\n",
              "    }\n",
              "</style>\n",
              "<table border=\"1\" class=\"dataframe\">\n",
              "  <thead>\n",
              "    <tr style=\"text-align: right;\">\n",
              "      <th></th>\n",
              "      <th>country</th>\n",
              "      <th>seasonality</th>\n",
              "      <th>year_month</th>\n",
              "      <th>unemployment</th>\n",
              "      <th>unemployment_rate</th>\n",
              "    </tr>\n",
              "  </thead>\n",
              "  <tbody>\n",
              "    <tr>\n",
              "      <th>1</th>\n",
              "      <td>at</td>\n",
              "      <td>nsa</td>\n",
              "      <td>1993.02</td>\n",
              "      <td>175000</td>\n",
              "      <td>4.6</td>\n",
              "    </tr>\n",
              "    <tr>\n",
              "      <th>5</th>\n",
              "      <td>at</td>\n",
              "      <td>nsa</td>\n",
              "      <td>1993.06</td>\n",
              "      <td>134000</td>\n",
              "      <td>3.5</td>\n",
              "    </tr>\n",
              "    <tr>\n",
              "      <th>6</th>\n",
              "      <td>at</td>\n",
              "      <td>nsa</td>\n",
              "      <td>1993.07</td>\n",
              "      <td>128000</td>\n",
              "      <td>3.4</td>\n",
              "    </tr>\n",
              "    <tr>\n",
              "      <th>9</th>\n",
              "      <td>at</td>\n",
              "      <td>nsa</td>\n",
              "      <td>1993.10</td>\n",
              "      <td>141000</td>\n",
              "      <td>3.7</td>\n",
              "    </tr>\n",
              "  </tbody>\n",
              "</table>\n",
              "</div>"
            ],
            "text/plain": [
              "  country seasonality  year_month  unemployment  unemployment_rate\n",
              "1      at         nsa     1993.02        175000                4.6\n",
              "5      at         nsa     1993.06        134000                3.5\n",
              "6      at         nsa     1993.07        128000                3.4\n",
              "9      at         nsa     1993.10        141000                3.7"
            ]
          },
          "metadata": {
            "tags": []
          },
          "execution_count": 29
        }
      ]
    },
    {
      "cell_type": "markdown",
      "metadata": {
        "id": "dfNzRg3N5KK3"
      },
      "source": [
        "or we can selext a range of rows and specify the step value (step is the last number) "
      ]
    },
    {
      "cell_type": "code",
      "metadata": {
        "id": "iFYIcDqt5QXo",
        "colab": {
          "base_uri": "https://localhost:8080/",
          "height": 204
        },
        "outputId": "9a353343-8b70-4bb1-e5d0-88298bd4873e"
      },
      "source": [
        "# Return rows 25 to lest than 50, in steps of 5\n",
        "unemployment.iloc[25:50:5]"
      ],
      "execution_count": 30,
      "outputs": [
        {
          "output_type": "execute_result",
          "data": {
            "text/html": [
              "<div>\n",
              "<style scoped>\n",
              "    .dataframe tbody tr th:only-of-type {\n",
              "        vertical-align: middle;\n",
              "    }\n",
              "\n",
              "    .dataframe tbody tr th {\n",
              "        vertical-align: top;\n",
              "    }\n",
              "\n",
              "    .dataframe thead th {\n",
              "        text-align: right;\n",
              "    }\n",
              "</style>\n",
              "<table border=\"1\" class=\"dataframe\">\n",
              "  <thead>\n",
              "    <tr style=\"text-align: right;\">\n",
              "      <th></th>\n",
              "      <th>country</th>\n",
              "      <th>seasonality</th>\n",
              "      <th>year_month</th>\n",
              "      <th>unemployment</th>\n",
              "      <th>unemployment_rate</th>\n",
              "    </tr>\n",
              "  </thead>\n",
              "  <tbody>\n",
              "    <tr>\n",
              "      <th>25</th>\n",
              "      <td>at</td>\n",
              "      <td>nsa</td>\n",
              "      <td>1995.02</td>\n",
              "      <td>174000</td>\n",
              "      <td>4.5</td>\n",
              "    </tr>\n",
              "    <tr>\n",
              "      <th>30</th>\n",
              "      <td>at</td>\n",
              "      <td>nsa</td>\n",
              "      <td>1995.07</td>\n",
              "      <td>123000</td>\n",
              "      <td>3.3</td>\n",
              "    </tr>\n",
              "    <tr>\n",
              "      <th>35</th>\n",
              "      <td>at</td>\n",
              "      <td>nsa</td>\n",
              "      <td>1995.12</td>\n",
              "      <td>175000</td>\n",
              "      <td>4.7</td>\n",
              "    </tr>\n",
              "    <tr>\n",
              "      <th>40</th>\n",
              "      <td>at</td>\n",
              "      <td>nsa</td>\n",
              "      <td>1996.05</td>\n",
              "      <td>159000</td>\n",
              "      <td>4.3</td>\n",
              "    </tr>\n",
              "    <tr>\n",
              "      <th>45</th>\n",
              "      <td>at</td>\n",
              "      <td>nsa</td>\n",
              "      <td>1996.10</td>\n",
              "      <td>146000</td>\n",
              "      <td>3.9</td>\n",
              "    </tr>\n",
              "  </tbody>\n",
              "</table>\n",
              "</div>"
            ],
            "text/plain": [
              "   country seasonality  year_month  unemployment  unemployment_rate\n",
              "25      at         nsa     1995.02        174000                4.5\n",
              "30      at         nsa     1995.07        123000                3.3\n",
              "35      at         nsa     1995.12        175000                4.7\n",
              "40      at         nsa     1996.05        159000                4.3\n",
              "45      at         nsa     1996.10        146000                3.9"
            ]
          },
          "metadata": {
            "tags": []
          },
          "execution_count": 30
        }
      ]
    },
    {
      "cell_type": "markdown",
      "metadata": {
        "id": "oOEb29Cr5lkA"
      },
      "source": [
        "indexing is important for organizing and accessing your data. You'll use it a lot. Below, we'll show how to index based on data values.\n",
        "\n",
        "### Challenge 2: Practing Indexing and Slicing \n",
        "\n",
        "**Challenge 2.1: Renaming baceria**\n",
        "\n",
        "The \"other_feature\" column in our bacteria table isn't very descriptive. Suppose we know that \"other_feature\" refers to a second set of bacteria count observations. Use the rename method to give \"other_feature\" a more descriptive name."
      ]
    },
    {
      "cell_type": "code",
      "metadata": {
        "id": "CQcQdDg567U6"
      },
      "source": [
        "bacteria.rename(columns={'other_feature' : 'bacteria_counts_round2'}, inplace=True)"
      ],
      "execution_count": 31,
      "outputs": []
    },
    {
      "cell_type": "code",
      "metadata": {
        "colab": {
          "base_uri": "https://localhost:8080/",
          "height": 173
        },
        "id": "0DnJKV2rkPWw",
        "outputId": "311f389c-58c7-4b92-deb3-90bb626391b3"
      },
      "source": [
        "bacteria"
      ],
      "execution_count": 32,
      "outputs": [
        {
          "output_type": "execute_result",
          "data": {
            "text/html": [
              "<div>\n",
              "<style scoped>\n",
              "    .dataframe tbody tr th:only-of-type {\n",
              "        vertical-align: middle;\n",
              "    }\n",
              "\n",
              "    .dataframe tbody tr th {\n",
              "        vertical-align: top;\n",
              "    }\n",
              "\n",
              "    .dataframe thead th {\n",
              "        text-align: right;\n",
              "    }\n",
              "</style>\n",
              "<table border=\"1\" class=\"dataframe\">\n",
              "  <thead>\n",
              "    <tr style=\"text-align: right;\">\n",
              "      <th></th>\n",
              "      <th>bacteria_counts</th>\n",
              "      <th>bacteria_counts_round2</th>\n",
              "    </tr>\n",
              "  </thead>\n",
              "  <tbody>\n",
              "    <tr>\n",
              "      <th>Firmicutes</th>\n",
              "      <td>632</td>\n",
              "      <td>438</td>\n",
              "    </tr>\n",
              "    <tr>\n",
              "      <th>Proteobacteria</th>\n",
              "      <td>1638</td>\n",
              "      <td>833</td>\n",
              "    </tr>\n",
              "    <tr>\n",
              "      <th>Actinobacteria</th>\n",
              "      <td>569</td>\n",
              "      <td>234</td>\n",
              "    </tr>\n",
              "    <tr>\n",
              "      <th>Bacteroidetes</th>\n",
              "      <td>115</td>\n",
              "      <td>298</td>\n",
              "    </tr>\n",
              "  </tbody>\n",
              "</table>\n",
              "</div>"
            ],
            "text/plain": [
              "                bacteria_counts  bacteria_counts_round2\n",
              "Firmicutes                  632                     438\n",
              "Proteobacteria             1638                     833\n",
              "Actinobacteria              569                     234\n",
              "Bacteroidetes               115                     298"
            ]
          },
          "metadata": {
            "tags": []
          },
          "execution_count": 32
        }
      ]
    },
    {
      "cell_type": "markdown",
      "metadata": {
        "id": "_IDzhnFglMN5"
      },
      "source": [
        "Remaned the \"other feature\" column to \"bacteria_counts_round2"
      ]
    },
    {
      "cell_type": "markdown",
      "metadata": {
        "id": "PTYIwdkY7ytK"
      },
      "source": [
        "**Challenge 2.2: Indexing to get a specific value** \n",
        "\n",
        "Both `loc` and `iloc` can be used to select a particular value if they are given two arguments. The first argument is the name (when using `loc`) or index number (when using `iloc`) of the row you want, while the second argument is the name or index number of the column you want.\n",
        "\n",
        "Using `loc`, select \"Bacteroidetes\" and \"bacteria_counts\" to get the count of Bacteroidetes.\n",
        "\n",
        "BONUS: how could you do the same task using iloc?"
      ]
    },
    {
      "cell_type": "code",
      "metadata": {
        "id": "iyB8Qv5m8CUh",
        "colab": {
          "base_uri": "https://localhost:8080/"
        },
        "outputId": "892db765-3f7d-492d-a00e-1e3211296013"
      },
      "source": [
        "# using loc\n",
        "row = bacteria.loc['Bacteroidetes',['bacteria_counts']]\n",
        "print(row)\n"
      ],
      "execution_count": 33,
      "outputs": [
        {
          "output_type": "stream",
          "text": [
            "bacteria_counts    115\n",
            "Name: Bacteroidetes, dtype: int64\n"
          ],
          "name": "stdout"
        }
      ]
    },
    {
      "cell_type": "code",
      "metadata": {
        "colab": {
          "base_uri": "https://localhost:8080/"
        },
        "id": "fJg6i9CZml8g",
        "outputId": "9f721619-e838-4570-ef3a-c56b13e08138"
      },
      "source": [
        " # using iloc\n",
        " bacteria.iloc[3,[0]]"
      ],
      "execution_count": 34,
      "outputs": [
        {
          "output_type": "execute_result",
          "data": {
            "text/plain": [
              "bacteria_counts    115\n",
              "Name: Bacteroidetes, dtype: int64"
            ]
          },
          "metadata": {
            "tags": []
          },
          "execution_count": 34
        }
      ]
    },
    {
      "cell_type": "markdown",
      "metadata": {
        "id": "53x0Xx-h8Jn5"
      },
      "source": [
        "**Challenge 2.3: Indexing multiple rows and columns** \n",
        "\n",
        "Both `loc` and `iloc` can be used to select subsets of columns and rows at the same time if they are given lists (and/or slices, for `iloc`] as their two arguments.\n",
        "\n",
        "Using `iloc` on the `unemployment` DataFrame, get:\n",
        "\n",
        "- every row starting at row 4 and ending at row 7\n",
        "- the 0th, 2nd, and 3rd columns\n",
        "\n",
        "BONUS: how could you do the same task using loc?"
      ]
    },
    {
      "cell_type": "code",
      "metadata": {
        "id": "dj6Hgo8e8doH",
        "colab": {
          "base_uri": "https://localhost:8080/",
          "height": 173
        },
        "outputId": "e15eea9d-91f8-406f-924d-3e89d57e5cbb"
      },
      "source": [
        "# Using .iloc\n",
        "unemployment.iloc[4:8,[0,2,3]]"
      ],
      "execution_count": 35,
      "outputs": [
        {
          "output_type": "execute_result",
          "data": {
            "text/html": [
              "<div>\n",
              "<style scoped>\n",
              "    .dataframe tbody tr th:only-of-type {\n",
              "        vertical-align: middle;\n",
              "    }\n",
              "\n",
              "    .dataframe tbody tr th {\n",
              "        vertical-align: top;\n",
              "    }\n",
              "\n",
              "    .dataframe thead th {\n",
              "        text-align: right;\n",
              "    }\n",
              "</style>\n",
              "<table border=\"1\" class=\"dataframe\">\n",
              "  <thead>\n",
              "    <tr style=\"text-align: right;\">\n",
              "      <th></th>\n",
              "      <th>country</th>\n",
              "      <th>year_month</th>\n",
              "      <th>unemployment</th>\n",
              "    </tr>\n",
              "  </thead>\n",
              "  <tbody>\n",
              "    <tr>\n",
              "      <th>4</th>\n",
              "      <td>at</td>\n",
              "      <td>1993.05</td>\n",
              "      <td>147000</td>\n",
              "    </tr>\n",
              "    <tr>\n",
              "      <th>5</th>\n",
              "      <td>at</td>\n",
              "      <td>1993.06</td>\n",
              "      <td>134000</td>\n",
              "    </tr>\n",
              "    <tr>\n",
              "      <th>6</th>\n",
              "      <td>at</td>\n",
              "      <td>1993.07</td>\n",
              "      <td>128000</td>\n",
              "    </tr>\n",
              "    <tr>\n",
              "      <th>7</th>\n",
              "      <td>at</td>\n",
              "      <td>1993.08</td>\n",
              "      <td>130000</td>\n",
              "    </tr>\n",
              "  </tbody>\n",
              "</table>\n",
              "</div>"
            ],
            "text/plain": [
              "  country  year_month  unemployment\n",
              "4      at     1993.05        147000\n",
              "5      at     1993.06        134000\n",
              "6      at     1993.07        128000\n",
              "7      at     1993.08        130000"
            ]
          },
          "metadata": {
            "tags": []
          },
          "execution_count": 35
        }
      ]
    },
    {
      "cell_type": "code",
      "metadata": {
        "colab": {
          "base_uri": "https://localhost:8080/",
          "height": 173
        },
        "id": "V4ranW-Duv6R",
        "outputId": "7b7f3129-56db-4cd7-ca5d-925ed623b64a"
      },
      "source": [
        "# Using .loc\n",
        "unemployment.loc[4:7,['country','year_month','unemployment']]"
      ],
      "execution_count": 36,
      "outputs": [
        {
          "output_type": "execute_result",
          "data": {
            "text/html": [
              "<div>\n",
              "<style scoped>\n",
              "    .dataframe tbody tr th:only-of-type {\n",
              "        vertical-align: middle;\n",
              "    }\n",
              "\n",
              "    .dataframe tbody tr th {\n",
              "        vertical-align: top;\n",
              "    }\n",
              "\n",
              "    .dataframe thead th {\n",
              "        text-align: right;\n",
              "    }\n",
              "</style>\n",
              "<table border=\"1\" class=\"dataframe\">\n",
              "  <thead>\n",
              "    <tr style=\"text-align: right;\">\n",
              "      <th></th>\n",
              "      <th>country</th>\n",
              "      <th>year_month</th>\n",
              "      <th>unemployment</th>\n",
              "    </tr>\n",
              "  </thead>\n",
              "  <tbody>\n",
              "    <tr>\n",
              "      <th>4</th>\n",
              "      <td>at</td>\n",
              "      <td>1993.05</td>\n",
              "      <td>147000</td>\n",
              "    </tr>\n",
              "    <tr>\n",
              "      <th>5</th>\n",
              "      <td>at</td>\n",
              "      <td>1993.06</td>\n",
              "      <td>134000</td>\n",
              "    </tr>\n",
              "    <tr>\n",
              "      <th>6</th>\n",
              "      <td>at</td>\n",
              "      <td>1993.07</td>\n",
              "      <td>128000</td>\n",
              "    </tr>\n",
              "    <tr>\n",
              "      <th>7</th>\n",
              "      <td>at</td>\n",
              "      <td>1993.08</td>\n",
              "      <td>130000</td>\n",
              "    </tr>\n",
              "  </tbody>\n",
              "</table>\n",
              "</div>"
            ],
            "text/plain": [
              "  country  year_month  unemployment\n",
              "4      at     1993.05        147000\n",
              "5      at     1993.06        134000\n",
              "6      at     1993.07        128000\n",
              "7      at     1993.08        130000"
            ]
          },
          "metadata": {
            "tags": []
          },
          "execution_count": 36
        }
      ]
    },
    {
      "cell_type": "markdown",
      "metadata": {
        "id": "vGYvPkPW-O6c"
      },
      "source": [
        "## 3. Manipulating Columns: Renaming, Creating, Reordering"
      ]
    },
    {
      "cell_type": "markdown",
      "metadata": {
        "id": "WJs2cL6V-UaF"
      },
      "source": [
        "So, we still want to **split `year_month` into two separate columns.** Above, we saw that this column is type (technically, `dtype`) `float64`. We'll first extract the year using the `.astype()` method. This allows for type casting&mdash;basically converting from one type to another. We'll then subtract this value from `year_month`&mdash;to get the decimal portion of the value&mdash;and multiply the result by 100 and convert to `int`.\n",
        "\n",
        "For more information on `pandas` `dtype`s, check the documentation [here](http://pandas.pydata.org/pandas-docs/stable/basics.html#dtypes)."
      ]
    },
    {
      "cell_type": "code",
      "metadata": {
        "id": "wEzgFOwmBIYN"
      },
      "source": [
        "# Create a new column 'year` that includes only the integer part of the year_month field.\n",
        "\n",
        "unemployment['year'] = unemployment['year_month'].astype(int)"
      ],
      "execution_count": 37,
      "outputs": []
    },
    {
      "cell_type": "markdown",
      "metadata": {
        "id": "foZXklDCBogk"
      },
      "source": [
        "In this case, we're casting the floating point values to integers. In Python, this [truncates the decimals](https://docs.python.org/2/library/stdtypes.html#numeric-types-int-float-long-complex).\n",
        "\n",
        "Finally, let's create our **month** variable as described above. (Because of the truncating that occurs when casting to `int`, we first round the values to the nearest whole number.)"
      ]
    },
    {
      "cell_type": "code",
      "metadata": {
        "id": "DRcLkP7c-hky"
      },
      "source": [
        "# Create a new column 'month' \n",
        "unemployment['month'] = ((unemployment['year_month'] - unemployment['year']) * 100).round(0).astype(int)"
      ],
      "execution_count": 38,
      "outputs": []
    },
    {
      "cell_type": "code",
      "metadata": {
        "id": "ca5gs0cxA2Js",
        "colab": {
          "base_uri": "https://localhost:8080/",
          "height": 204
        },
        "outputId": "bbf2993c-b0ef-47c7-f025-f461b87d809b"
      },
      "source": [
        "unemployment.head()"
      ],
      "execution_count": 39,
      "outputs": [
        {
          "output_type": "execute_result",
          "data": {
            "text/html": [
              "<div>\n",
              "<style scoped>\n",
              "    .dataframe tbody tr th:only-of-type {\n",
              "        vertical-align: middle;\n",
              "    }\n",
              "\n",
              "    .dataframe tbody tr th {\n",
              "        vertical-align: top;\n",
              "    }\n",
              "\n",
              "    .dataframe thead th {\n",
              "        text-align: right;\n",
              "    }\n",
              "</style>\n",
              "<table border=\"1\" class=\"dataframe\">\n",
              "  <thead>\n",
              "    <tr style=\"text-align: right;\">\n",
              "      <th></th>\n",
              "      <th>country</th>\n",
              "      <th>seasonality</th>\n",
              "      <th>year_month</th>\n",
              "      <th>unemployment</th>\n",
              "      <th>unemployment_rate</th>\n",
              "      <th>year</th>\n",
              "      <th>month</th>\n",
              "    </tr>\n",
              "  </thead>\n",
              "  <tbody>\n",
              "    <tr>\n",
              "      <th>0</th>\n",
              "      <td>at</td>\n",
              "      <td>nsa</td>\n",
              "      <td>1993.01</td>\n",
              "      <td>171000</td>\n",
              "      <td>4.5</td>\n",
              "      <td>1993</td>\n",
              "      <td>1</td>\n",
              "    </tr>\n",
              "    <tr>\n",
              "      <th>1</th>\n",
              "      <td>at</td>\n",
              "      <td>nsa</td>\n",
              "      <td>1993.02</td>\n",
              "      <td>175000</td>\n",
              "      <td>4.6</td>\n",
              "      <td>1993</td>\n",
              "      <td>2</td>\n",
              "    </tr>\n",
              "    <tr>\n",
              "      <th>2</th>\n",
              "      <td>at</td>\n",
              "      <td>nsa</td>\n",
              "      <td>1993.03</td>\n",
              "      <td>166000</td>\n",
              "      <td>4.4</td>\n",
              "      <td>1993</td>\n",
              "      <td>3</td>\n",
              "    </tr>\n",
              "    <tr>\n",
              "      <th>3</th>\n",
              "      <td>at</td>\n",
              "      <td>nsa</td>\n",
              "      <td>1993.04</td>\n",
              "      <td>157000</td>\n",
              "      <td>4.1</td>\n",
              "      <td>1993</td>\n",
              "      <td>4</td>\n",
              "    </tr>\n",
              "    <tr>\n",
              "      <th>4</th>\n",
              "      <td>at</td>\n",
              "      <td>nsa</td>\n",
              "      <td>1993.05</td>\n",
              "      <td>147000</td>\n",
              "      <td>3.9</td>\n",
              "      <td>1993</td>\n",
              "      <td>5</td>\n",
              "    </tr>\n",
              "  </tbody>\n",
              "</table>\n",
              "</div>"
            ],
            "text/plain": [
              "  country seasonality  year_month  unemployment  unemployment_rate  year  month\n",
              "0      at         nsa     1993.01        171000                4.5  1993      1\n",
              "1      at         nsa     1993.02        175000                4.6  1993      2\n",
              "2      at         nsa     1993.03        166000                4.4  1993      3\n",
              "3      at         nsa     1993.04        157000                4.1  1993      4\n",
              "4      at         nsa     1993.05        147000                3.9  1993      5"
            ]
          },
          "metadata": {
            "tags": []
          },
          "execution_count": 39
        }
      ]
    },
    {
      "cell_type": "markdown",
      "metadata": {
        "id": "dzqU7Z1aBvBs"
      },
      "source": [
        "To create the `month` column, we subtracted two vectors. This resulted in the decimal value in `year_month`. To transform the values to integers, we multiplied by 100.\n",
        "\n",
        "Now, let's say we wanted to **reorder the columns** in the `DataFrame`. For this, we use bracket notation again, passing in a list of column names in the order we'd like to see them."
      ]
    },
    {
      "cell_type": "code",
      "metadata": {
        "id": "HSBaZTknB3bO"
      },
      "source": [
        "unemployment = unemployment[['country', 'seasonality',\n",
        "                             'year_month', 'year', 'month',\n",
        "                             'unemployment', 'unemployment_rate']]"
      ],
      "execution_count": 40,
      "outputs": []
    },
    {
      "cell_type": "code",
      "metadata": {
        "id": "3YEy0TszB6Xn",
        "colab": {
          "base_uri": "https://localhost:8080/",
          "height": 359
        },
        "outputId": "2d6538c2-cb22-4764-b3f0-923cd3b03faf"
      },
      "source": [
        "unemployment.head(10)"
      ],
      "execution_count": 41,
      "outputs": [
        {
          "output_type": "execute_result",
          "data": {
            "text/html": [
              "<div>\n",
              "<style scoped>\n",
              "    .dataframe tbody tr th:only-of-type {\n",
              "        vertical-align: middle;\n",
              "    }\n",
              "\n",
              "    .dataframe tbody tr th {\n",
              "        vertical-align: top;\n",
              "    }\n",
              "\n",
              "    .dataframe thead th {\n",
              "        text-align: right;\n",
              "    }\n",
              "</style>\n",
              "<table border=\"1\" class=\"dataframe\">\n",
              "  <thead>\n",
              "    <tr style=\"text-align: right;\">\n",
              "      <th></th>\n",
              "      <th>country</th>\n",
              "      <th>seasonality</th>\n",
              "      <th>year_month</th>\n",
              "      <th>year</th>\n",
              "      <th>month</th>\n",
              "      <th>unemployment</th>\n",
              "      <th>unemployment_rate</th>\n",
              "    </tr>\n",
              "  </thead>\n",
              "  <tbody>\n",
              "    <tr>\n",
              "      <th>0</th>\n",
              "      <td>at</td>\n",
              "      <td>nsa</td>\n",
              "      <td>1993.01</td>\n",
              "      <td>1993</td>\n",
              "      <td>1</td>\n",
              "      <td>171000</td>\n",
              "      <td>4.5</td>\n",
              "    </tr>\n",
              "    <tr>\n",
              "      <th>1</th>\n",
              "      <td>at</td>\n",
              "      <td>nsa</td>\n",
              "      <td>1993.02</td>\n",
              "      <td>1993</td>\n",
              "      <td>2</td>\n",
              "      <td>175000</td>\n",
              "      <td>4.6</td>\n",
              "    </tr>\n",
              "    <tr>\n",
              "      <th>2</th>\n",
              "      <td>at</td>\n",
              "      <td>nsa</td>\n",
              "      <td>1993.03</td>\n",
              "      <td>1993</td>\n",
              "      <td>3</td>\n",
              "      <td>166000</td>\n",
              "      <td>4.4</td>\n",
              "    </tr>\n",
              "    <tr>\n",
              "      <th>3</th>\n",
              "      <td>at</td>\n",
              "      <td>nsa</td>\n",
              "      <td>1993.04</td>\n",
              "      <td>1993</td>\n",
              "      <td>4</td>\n",
              "      <td>157000</td>\n",
              "      <td>4.1</td>\n",
              "    </tr>\n",
              "    <tr>\n",
              "      <th>4</th>\n",
              "      <td>at</td>\n",
              "      <td>nsa</td>\n",
              "      <td>1993.05</td>\n",
              "      <td>1993</td>\n",
              "      <td>5</td>\n",
              "      <td>147000</td>\n",
              "      <td>3.9</td>\n",
              "    </tr>\n",
              "    <tr>\n",
              "      <th>5</th>\n",
              "      <td>at</td>\n",
              "      <td>nsa</td>\n",
              "      <td>1993.06</td>\n",
              "      <td>1993</td>\n",
              "      <td>6</td>\n",
              "      <td>134000</td>\n",
              "      <td>3.5</td>\n",
              "    </tr>\n",
              "    <tr>\n",
              "      <th>6</th>\n",
              "      <td>at</td>\n",
              "      <td>nsa</td>\n",
              "      <td>1993.07</td>\n",
              "      <td>1993</td>\n",
              "      <td>7</td>\n",
              "      <td>128000</td>\n",
              "      <td>3.4</td>\n",
              "    </tr>\n",
              "    <tr>\n",
              "      <th>7</th>\n",
              "      <td>at</td>\n",
              "      <td>nsa</td>\n",
              "      <td>1993.08</td>\n",
              "      <td>1993</td>\n",
              "      <td>8</td>\n",
              "      <td>130000</td>\n",
              "      <td>3.4</td>\n",
              "    </tr>\n",
              "    <tr>\n",
              "      <th>8</th>\n",
              "      <td>at</td>\n",
              "      <td>nsa</td>\n",
              "      <td>1993.09</td>\n",
              "      <td>1993</td>\n",
              "      <td>9</td>\n",
              "      <td>132000</td>\n",
              "      <td>3.5</td>\n",
              "    </tr>\n",
              "    <tr>\n",
              "      <th>9</th>\n",
              "      <td>at</td>\n",
              "      <td>nsa</td>\n",
              "      <td>1993.10</td>\n",
              "      <td>1993</td>\n",
              "      <td>10</td>\n",
              "      <td>141000</td>\n",
              "      <td>3.7</td>\n",
              "    </tr>\n",
              "  </tbody>\n",
              "</table>\n",
              "</div>"
            ],
            "text/plain": [
              "  country seasonality  year_month  year  month  unemployment  unemployment_rate\n",
              "0      at         nsa     1993.01  1993      1        171000                4.5\n",
              "1      at         nsa     1993.02  1993      2        175000                4.6\n",
              "2      at         nsa     1993.03  1993      3        166000                4.4\n",
              "3      at         nsa     1993.04  1993      4        157000                4.1\n",
              "4      at         nsa     1993.05  1993      5        147000                3.9\n",
              "5      at         nsa     1993.06  1993      6        134000                3.5\n",
              "6      at         nsa     1993.07  1993      7        128000                3.4\n",
              "7      at         nsa     1993.08  1993      8        130000                3.4\n",
              "8      at         nsa     1993.09  1993      9        132000                3.5\n",
              "9      at         nsa     1993.10  1993     10        141000                3.7"
            ]
          },
          "metadata": {
            "tags": []
          },
          "execution_count": 41
        }
      ]
    },
    {
      "cell_type": "markdown",
      "metadata": {
        "id": "D8K3Ke0MB4TF"
      },
      "source": [
        "### Challenge 3: Another way to get the month\n",
        "\n",
        "If you didn't know that casting floats to ints truncates the decimals in Python, you could have used NumPy's `floor()` function. `np.floor` takes an array or Pandas Series of floats as its argument, and returns an array or Series where every float has been rounded down to the nearest whole number. \n",
        "\n",
        "Use `np.floor` to round the values in the \"year_month\" column down so we can cast them as integer years. Note that the types are still floats, so we'll still need to use `astype` to typecast."
      ]
    },
    {
      "cell_type": "code",
      "metadata": {
        "id": "8v753FcSCQu7",
        "colab": {
          "base_uri": "https://localhost:8080/"
        },
        "outputId": "23e488ab-2b3f-4e99-8876-e4db88136fc3"
      },
      "source": [
        "import numpy as np\n",
        "\n",
        "# select the \"year_month\" column\n",
        "year_month = unemployment['year_month']\n",
        "\n",
        "# use np.floor on year_month to get the years as floats\n",
        "years_by_floor = np.floor(year_month)\n",
        "\n",
        "# cast years_by_floor to integers using astype(int)\n",
        "int_years = years_by_floor.astype(int)\n",
        "\n",
        "# check that this gets the same answers as our first approach\n",
        "# this should return True\n",
        "(unemployment['year_month'].astype(int) == int_years).all()"
      ],
      "execution_count": 42,
      "outputs": [
        {
          "output_type": "execute_result",
          "data": {
            "text/plain": [
              "True"
            ]
          },
          "metadata": {
            "tags": []
          },
          "execution_count": 42
        }
      ]
    },
    {
      "cell_type": "markdown",
      "metadata": {
        "id": "4ZB_eiJyCUYc"
      },
      "source": [
        "The last line of code in the previous cell does an element-wise comparison of the values in the corresponding arrays. The `.all()` method checks whether *all* elements are `True`."
      ]
    },
    {
      "cell_type": "markdown",
      "metadata": {
        "id": "ArvWGG6pCgxz"
      },
      "source": [
        "## 4. Merging"
      ]
    },
    {
      "cell_type": "markdown",
      "metadata": {
        "id": "-63WPvT0CmsI"
      },
      "source": [
        "So far, our `DataFrame` is organized in a reasonable way. But, we know we can do better. We're eventually going to be interested in the unemployment rate for each country. The trouble is, we don't exactly know what the values in `country` refer to. We can fix that by getting country names. These can be found in `countries.csv`. Run the following cell to import the countries data using a URL as the file path."
      ]
    },
    {
      "cell_type": "code",
      "metadata": {
        "id": "evt1rV4ZC1HL",
        "colab": {
          "base_uri": "https://localhost:8080/",
          "height": 1000
        },
        "outputId": "e1e8ea64-f886-441a-e86c-cf6ae493e1e9"
      },
      "source": [
        "countries = pd.read_csv(\"sample_data/problem_set01/countries.csv\")\n",
        "countries.tail(30)"
      ],
      "execution_count": 43,
      "outputs": [
        {
          "output_type": "execute_result",
          "data": {
            "text/html": [
              "<div>\n",
              "<style scoped>\n",
              "    .dataframe tbody tr th:only-of-type {\n",
              "        vertical-align: middle;\n",
              "    }\n",
              "\n",
              "    .dataframe tbody tr th {\n",
              "        vertical-align: top;\n",
              "    }\n",
              "\n",
              "    .dataframe thead th {\n",
              "        text-align: right;\n",
              "    }\n",
              "</style>\n",
              "<table border=\"1\" class=\"dataframe\">\n",
              "  <thead>\n",
              "    <tr style=\"text-align: right;\">\n",
              "      <th></th>\n",
              "      <th>country</th>\n",
              "      <th>google_country_code</th>\n",
              "      <th>country_group</th>\n",
              "      <th>name_en</th>\n",
              "      <th>name_fr</th>\n",
              "      <th>name_de</th>\n",
              "      <th>latitude</th>\n",
              "      <th>longitude</th>\n",
              "    </tr>\n",
              "  </thead>\n",
              "  <tbody>\n",
              "    <tr>\n",
              "      <th>0</th>\n",
              "      <td>at</td>\n",
              "      <td>AT</td>\n",
              "      <td>eu</td>\n",
              "      <td>Austria</td>\n",
              "      <td>Autriche</td>\n",
              "      <td>Österreich</td>\n",
              "      <td>47.696554</td>\n",
              "      <td>13.345980</td>\n",
              "    </tr>\n",
              "    <tr>\n",
              "      <th>1</th>\n",
              "      <td>be</td>\n",
              "      <td>BE</td>\n",
              "      <td>eu</td>\n",
              "      <td>Belgium</td>\n",
              "      <td>Belgique</td>\n",
              "      <td>Belgien</td>\n",
              "      <td>50.501045</td>\n",
              "      <td>4.476674</td>\n",
              "    </tr>\n",
              "    <tr>\n",
              "      <th>2</th>\n",
              "      <td>bg</td>\n",
              "      <td>BG</td>\n",
              "      <td>eu</td>\n",
              "      <td>Bulgaria</td>\n",
              "      <td>Bulgarie</td>\n",
              "      <td>Bulgarien</td>\n",
              "      <td>42.725674</td>\n",
              "      <td>25.482322</td>\n",
              "    </tr>\n",
              "    <tr>\n",
              "      <th>3</th>\n",
              "      <td>hr</td>\n",
              "      <td>HR</td>\n",
              "      <td>non-eu</td>\n",
              "      <td>Croatia</td>\n",
              "      <td>Croatie</td>\n",
              "      <td>Kroatien</td>\n",
              "      <td>44.746643</td>\n",
              "      <td>15.340844</td>\n",
              "    </tr>\n",
              "    <tr>\n",
              "      <th>4</th>\n",
              "      <td>cy</td>\n",
              "      <td>CY</td>\n",
              "      <td>eu</td>\n",
              "      <td>Cyprus</td>\n",
              "      <td>Chypre</td>\n",
              "      <td>Zypern</td>\n",
              "      <td>35.129141</td>\n",
              "      <td>33.428682</td>\n",
              "    </tr>\n",
              "    <tr>\n",
              "      <th>5</th>\n",
              "      <td>cz</td>\n",
              "      <td>CZ</td>\n",
              "      <td>eu</td>\n",
              "      <td>Czech Republic</td>\n",
              "      <td>République tchèque</td>\n",
              "      <td>Tschechische Republik</td>\n",
              "      <td>49.803531</td>\n",
              "      <td>15.474998</td>\n",
              "    </tr>\n",
              "    <tr>\n",
              "      <th>6</th>\n",
              "      <td>dk</td>\n",
              "      <td>DK</td>\n",
              "      <td>eu</td>\n",
              "      <td>Denmark</td>\n",
              "      <td>Danemark</td>\n",
              "      <td>Dänemark</td>\n",
              "      <td>55.939684</td>\n",
              "      <td>9.516689</td>\n",
              "    </tr>\n",
              "    <tr>\n",
              "      <th>7</th>\n",
              "      <td>ee</td>\n",
              "      <td>EE</td>\n",
              "      <td>eu</td>\n",
              "      <td>Estonia</td>\n",
              "      <td>Estonie</td>\n",
              "      <td>Estland</td>\n",
              "      <td>58.592469</td>\n",
              "      <td>25.806950</td>\n",
              "    </tr>\n",
              "    <tr>\n",
              "      <th>8</th>\n",
              "      <td>fi</td>\n",
              "      <td>FI</td>\n",
              "      <td>eu</td>\n",
              "      <td>Finland</td>\n",
              "      <td>Finlande</td>\n",
              "      <td>Finnland</td>\n",
              "      <td>64.950159</td>\n",
              "      <td>26.067564</td>\n",
              "    </tr>\n",
              "    <tr>\n",
              "      <th>9</th>\n",
              "      <td>fr</td>\n",
              "      <td>FR</td>\n",
              "      <td>eu</td>\n",
              "      <td>France</td>\n",
              "      <td>France</td>\n",
              "      <td>Frankreich</td>\n",
              "      <td>46.710994</td>\n",
              "      <td>1.718561</td>\n",
              "    </tr>\n",
              "    <tr>\n",
              "      <th>10</th>\n",
              "      <td>de</td>\n",
              "      <td>DE</td>\n",
              "      <td>eu</td>\n",
              "      <td>Germany (including  former GDR from 1991)</td>\n",
              "      <td>Allemagne (incluant l'ancienne RDA à partir de...</td>\n",
              "      <td>Deutschland (einschließlich der ehemaligen DDR...</td>\n",
              "      <td>51.163825</td>\n",
              "      <td>10.454048</td>\n",
              "    </tr>\n",
              "    <tr>\n",
              "      <th>11</th>\n",
              "      <td>gr</td>\n",
              "      <td>GR</td>\n",
              "      <td>eu</td>\n",
              "      <td>Greece</td>\n",
              "      <td>Grèce</td>\n",
              "      <td>Griechenland</td>\n",
              "      <td>39.698467</td>\n",
              "      <td>21.577256</td>\n",
              "    </tr>\n",
              "    <tr>\n",
              "      <th>12</th>\n",
              "      <td>hu</td>\n",
              "      <td>HU</td>\n",
              "      <td>eu</td>\n",
              "      <td>Hungary</td>\n",
              "      <td>Hongrie</td>\n",
              "      <td>Ungarn</td>\n",
              "      <td>47.161163</td>\n",
              "      <td>19.504265</td>\n",
              "    </tr>\n",
              "    <tr>\n",
              "      <th>13</th>\n",
              "      <td>ie</td>\n",
              "      <td>IE</td>\n",
              "      <td>eu</td>\n",
              "      <td>Ireland</td>\n",
              "      <td>Irlande</td>\n",
              "      <td>Irland</td>\n",
              "      <td>53.415260</td>\n",
              "      <td>-8.239122</td>\n",
              "    </tr>\n",
              "    <tr>\n",
              "      <th>14</th>\n",
              "      <td>it</td>\n",
              "      <td>IT</td>\n",
              "      <td>eu</td>\n",
              "      <td>Italy</td>\n",
              "      <td>Italie</td>\n",
              "      <td>Italien</td>\n",
              "      <td>42.504191</td>\n",
              "      <td>12.573787</td>\n",
              "    </tr>\n",
              "    <tr>\n",
              "      <th>15</th>\n",
              "      <td>lv</td>\n",
              "      <td>LV</td>\n",
              "      <td>eu</td>\n",
              "      <td>Latvia</td>\n",
              "      <td>Lettonie</td>\n",
              "      <td>Lettland</td>\n",
              "      <td>56.880117</td>\n",
              "      <td>24.606555</td>\n",
              "    </tr>\n",
              "    <tr>\n",
              "      <th>16</th>\n",
              "      <td>lt</td>\n",
              "      <td>LT</td>\n",
              "      <td>eu</td>\n",
              "      <td>Lithuania</td>\n",
              "      <td>Lituanie</td>\n",
              "      <td>Litauen</td>\n",
              "      <td>55.173687</td>\n",
              "      <td>23.943168</td>\n",
              "    </tr>\n",
              "    <tr>\n",
              "      <th>17</th>\n",
              "      <td>lu</td>\n",
              "      <td>LU</td>\n",
              "      <td>eu</td>\n",
              "      <td>Luxembourg</td>\n",
              "      <td>Luxembourg</td>\n",
              "      <td>Luxemburg</td>\n",
              "      <td>49.815319</td>\n",
              "      <td>6.133352</td>\n",
              "    </tr>\n",
              "    <tr>\n",
              "      <th>18</th>\n",
              "      <td>mt</td>\n",
              "      <td>MT</td>\n",
              "      <td>eu</td>\n",
              "      <td>Malta</td>\n",
              "      <td>Malte</td>\n",
              "      <td>Malta</td>\n",
              "      <td>35.902422</td>\n",
              "      <td>14.447461</td>\n",
              "    </tr>\n",
              "    <tr>\n",
              "      <th>19</th>\n",
              "      <td>nl</td>\n",
              "      <td>NL</td>\n",
              "      <td>eu</td>\n",
              "      <td>Netherlands</td>\n",
              "      <td>Pays-Bas</td>\n",
              "      <td>Niederlande</td>\n",
              "      <td>52.108118</td>\n",
              "      <td>5.330198</td>\n",
              "    </tr>\n",
              "    <tr>\n",
              "      <th>20</th>\n",
              "      <td>no</td>\n",
              "      <td>NO</td>\n",
              "      <td>non-eu</td>\n",
              "      <td>Norway</td>\n",
              "      <td>Norvège</td>\n",
              "      <td>Norwegen</td>\n",
              "      <td>64.556460</td>\n",
              "      <td>12.665766</td>\n",
              "    </tr>\n",
              "    <tr>\n",
              "      <th>21</th>\n",
              "      <td>pl</td>\n",
              "      <td>PL</td>\n",
              "      <td>eu</td>\n",
              "      <td>Poland</td>\n",
              "      <td>Pologne</td>\n",
              "      <td>Polen</td>\n",
              "      <td>51.918907</td>\n",
              "      <td>19.134334</td>\n",
              "    </tr>\n",
              "    <tr>\n",
              "      <th>22</th>\n",
              "      <td>pt</td>\n",
              "      <td>PT</td>\n",
              "      <td>eu</td>\n",
              "      <td>Portugal</td>\n",
              "      <td>Portugal</td>\n",
              "      <td>Portugal</td>\n",
              "      <td>39.558069</td>\n",
              "      <td>-7.844941</td>\n",
              "    </tr>\n",
              "    <tr>\n",
              "      <th>23</th>\n",
              "      <td>ro</td>\n",
              "      <td>RO</td>\n",
              "      <td>eu</td>\n",
              "      <td>Romania</td>\n",
              "      <td>Roumanie</td>\n",
              "      <td>Rumänien</td>\n",
              "      <td>45.942611</td>\n",
              "      <td>24.990152</td>\n",
              "    </tr>\n",
              "    <tr>\n",
              "      <th>24</th>\n",
              "      <td>sk</td>\n",
              "      <td>SK</td>\n",
              "      <td>eu</td>\n",
              "      <td>Slovakia</td>\n",
              "      <td>Slovaquie</td>\n",
              "      <td>Slowakei</td>\n",
              "      <td>48.672644</td>\n",
              "      <td>19.700032</td>\n",
              "    </tr>\n",
              "    <tr>\n",
              "      <th>25</th>\n",
              "      <td>si</td>\n",
              "      <td>SI</td>\n",
              "      <td>eu</td>\n",
              "      <td>Slovenia</td>\n",
              "      <td>Slovénie</td>\n",
              "      <td>Slowenien</td>\n",
              "      <td>46.149259</td>\n",
              "      <td>14.986617</td>\n",
              "    </tr>\n",
              "    <tr>\n",
              "      <th>26</th>\n",
              "      <td>es</td>\n",
              "      <td>ES</td>\n",
              "      <td>eu</td>\n",
              "      <td>Spain</td>\n",
              "      <td>Espagne</td>\n",
              "      <td>Spanien</td>\n",
              "      <td>39.895013</td>\n",
              "      <td>-2.988296</td>\n",
              "    </tr>\n",
              "    <tr>\n",
              "      <th>27</th>\n",
              "      <td>se</td>\n",
              "      <td>SE</td>\n",
              "      <td>eu</td>\n",
              "      <td>Sweden</td>\n",
              "      <td>Suède</td>\n",
              "      <td>Schweden</td>\n",
              "      <td>62.198468</td>\n",
              "      <td>14.896307</td>\n",
              "    </tr>\n",
              "    <tr>\n",
              "      <th>28</th>\n",
              "      <td>tr</td>\n",
              "      <td>TR</td>\n",
              "      <td>non-eu</td>\n",
              "      <td>Turkey</td>\n",
              "      <td>Turquie</td>\n",
              "      <td>Türkei</td>\n",
              "      <td>38.952942</td>\n",
              "      <td>35.439795</td>\n",
              "    </tr>\n",
              "    <tr>\n",
              "      <th>29</th>\n",
              "      <td>uk</td>\n",
              "      <td>GB</td>\n",
              "      <td>eu</td>\n",
              "      <td>United Kingdom</td>\n",
              "      <td>Royaume-Uni</td>\n",
              "      <td>Vereinigtes Königreich</td>\n",
              "      <td>54.315447</td>\n",
              "      <td>-2.232612</td>\n",
              "    </tr>\n",
              "  </tbody>\n",
              "</table>\n",
              "</div>"
            ],
            "text/plain": [
              "   country google_country_code  ...   latitude  longitude\n",
              "0       at                  AT  ...  47.696554  13.345980\n",
              "1       be                  BE  ...  50.501045   4.476674\n",
              "2       bg                  BG  ...  42.725674  25.482322\n",
              "3       hr                  HR  ...  44.746643  15.340844\n",
              "4       cy                  CY  ...  35.129141  33.428682\n",
              "5       cz                  CZ  ...  49.803531  15.474998\n",
              "6       dk                  DK  ...  55.939684   9.516689\n",
              "7       ee                  EE  ...  58.592469  25.806950\n",
              "8       fi                  FI  ...  64.950159  26.067564\n",
              "9       fr                  FR  ...  46.710994   1.718561\n",
              "10      de                  DE  ...  51.163825  10.454048\n",
              "11      gr                  GR  ...  39.698467  21.577256\n",
              "12      hu                  HU  ...  47.161163  19.504265\n",
              "13      ie                  IE  ...  53.415260  -8.239122\n",
              "14      it                  IT  ...  42.504191  12.573787\n",
              "15      lv                  LV  ...  56.880117  24.606555\n",
              "16      lt                  LT  ...  55.173687  23.943168\n",
              "17      lu                  LU  ...  49.815319   6.133352\n",
              "18      mt                  MT  ...  35.902422  14.447461\n",
              "19      nl                  NL  ...  52.108118   5.330198\n",
              "20      no                  NO  ...  64.556460  12.665766\n",
              "21      pl                  PL  ...  51.918907  19.134334\n",
              "22      pt                  PT  ...  39.558069  -7.844941\n",
              "23      ro                  RO  ...  45.942611  24.990152\n",
              "24      sk                  SK  ...  48.672644  19.700032\n",
              "25      si                  SI  ...  46.149259  14.986617\n",
              "26      es                  ES  ...  39.895013  -2.988296\n",
              "27      se                  SE  ...  62.198468  14.896307\n",
              "28      tr                  TR  ...  38.952942  35.439795\n",
              "29      uk                  GB  ...  54.315447  -2.232612\n",
              "\n",
              "[30 rows x 8 columns]"
            ]
          },
          "metadata": {
            "tags": []
          },
          "execution_count": 43
        }
      ]
    },
    {
      "cell_type": "markdown",
      "metadata": {
        "id": "mQt4MBRzDYEz"
      },
      "source": [
        "This file has lots of useful information. It even has the country names is three different languages.\n",
        "\n",
        "Because the data we need is stored in two separate files, we'll want to merge the data somehow. Let's determine which column we can use to join this data. `country` looks like a good option. However, we don't need all of the columns in the `countries` `DataFrame`. To select certain columns, we use the name bracket notation we used to reorder the columns."
      ]
    },
    {
      "cell_type": "code",
      "metadata": {
        "id": "H0-fb0mYDbhz"
      },
      "source": [
        "country_names = countries[['country', 'country_group', 'name_en']]\n"
      ],
      "execution_count": 44,
      "outputs": []
    },
    {
      "cell_type": "code",
      "metadata": {
        "id": "GMffZnQ_Do4U",
        "colab": {
          "base_uri": "https://localhost:8080/",
          "height": 359
        },
        "outputId": "5fc3c2d0-ce63-4086-d432-4164b51db517"
      },
      "source": [
        "country_names.head(10)"
      ],
      "execution_count": 45,
      "outputs": [
        {
          "output_type": "execute_result",
          "data": {
            "text/html": [
              "<div>\n",
              "<style scoped>\n",
              "    .dataframe tbody tr th:only-of-type {\n",
              "        vertical-align: middle;\n",
              "    }\n",
              "\n",
              "    .dataframe tbody tr th {\n",
              "        vertical-align: top;\n",
              "    }\n",
              "\n",
              "    .dataframe thead th {\n",
              "        text-align: right;\n",
              "    }\n",
              "</style>\n",
              "<table border=\"1\" class=\"dataframe\">\n",
              "  <thead>\n",
              "    <tr style=\"text-align: right;\">\n",
              "      <th></th>\n",
              "      <th>country</th>\n",
              "      <th>country_group</th>\n",
              "      <th>name_en</th>\n",
              "    </tr>\n",
              "  </thead>\n",
              "  <tbody>\n",
              "    <tr>\n",
              "      <th>0</th>\n",
              "      <td>at</td>\n",
              "      <td>eu</td>\n",
              "      <td>Austria</td>\n",
              "    </tr>\n",
              "    <tr>\n",
              "      <th>1</th>\n",
              "      <td>be</td>\n",
              "      <td>eu</td>\n",
              "      <td>Belgium</td>\n",
              "    </tr>\n",
              "    <tr>\n",
              "      <th>2</th>\n",
              "      <td>bg</td>\n",
              "      <td>eu</td>\n",
              "      <td>Bulgaria</td>\n",
              "    </tr>\n",
              "    <tr>\n",
              "      <th>3</th>\n",
              "      <td>hr</td>\n",
              "      <td>non-eu</td>\n",
              "      <td>Croatia</td>\n",
              "    </tr>\n",
              "    <tr>\n",
              "      <th>4</th>\n",
              "      <td>cy</td>\n",
              "      <td>eu</td>\n",
              "      <td>Cyprus</td>\n",
              "    </tr>\n",
              "    <tr>\n",
              "      <th>5</th>\n",
              "      <td>cz</td>\n",
              "      <td>eu</td>\n",
              "      <td>Czech Republic</td>\n",
              "    </tr>\n",
              "    <tr>\n",
              "      <th>6</th>\n",
              "      <td>dk</td>\n",
              "      <td>eu</td>\n",
              "      <td>Denmark</td>\n",
              "    </tr>\n",
              "    <tr>\n",
              "      <th>7</th>\n",
              "      <td>ee</td>\n",
              "      <td>eu</td>\n",
              "      <td>Estonia</td>\n",
              "    </tr>\n",
              "    <tr>\n",
              "      <th>8</th>\n",
              "      <td>fi</td>\n",
              "      <td>eu</td>\n",
              "      <td>Finland</td>\n",
              "    </tr>\n",
              "    <tr>\n",
              "      <th>9</th>\n",
              "      <td>fr</td>\n",
              "      <td>eu</td>\n",
              "      <td>France</td>\n",
              "    </tr>\n",
              "  </tbody>\n",
              "</table>\n",
              "</div>"
            ],
            "text/plain": [
              "  country country_group         name_en\n",
              "0      at            eu         Austria\n",
              "1      be            eu         Belgium\n",
              "2      bg            eu        Bulgaria\n",
              "3      hr        non-eu         Croatia\n",
              "4      cy            eu          Cyprus\n",
              "5      cz            eu  Czech Republic\n",
              "6      dk            eu         Denmark\n",
              "7      ee            eu         Estonia\n",
              "8      fi            eu         Finland\n",
              "9      fr            eu          France"
            ]
          },
          "metadata": {
            "tags": []
          },
          "execution_count": 45
        }
      ]
    },
    {
      "cell_type": "markdown",
      "metadata": {
        "id": "D5YQHmIVDn7p"
      },
      "source": [
        "`pandas` includes an easy-to-use merge function. Let's use it to **merge the two `DataFrame`s on country code.**"
      ]
    },
    {
      "cell_type": "code",
      "metadata": {
        "id": "xyzXEHbgDxJ2",
        "colab": {
          "base_uri": "https://localhost:8080/",
          "height": 419
        },
        "outputId": "979d6b21-7ba6-452e-824b-beed9b732864"
      },
      "source": [
        "unemployment = pd.merge(unemployment, country_names, on='country')\n",
        "unemployment"
      ],
      "execution_count": 46,
      "outputs": [
        {
          "output_type": "execute_result",
          "data": {
            "text/html": [
              "<div>\n",
              "<style scoped>\n",
              "    .dataframe tbody tr th:only-of-type {\n",
              "        vertical-align: middle;\n",
              "    }\n",
              "\n",
              "    .dataframe tbody tr th {\n",
              "        vertical-align: top;\n",
              "    }\n",
              "\n",
              "    .dataframe thead th {\n",
              "        text-align: right;\n",
              "    }\n",
              "</style>\n",
              "<table border=\"1\" class=\"dataframe\">\n",
              "  <thead>\n",
              "    <tr style=\"text-align: right;\">\n",
              "      <th></th>\n",
              "      <th>country</th>\n",
              "      <th>seasonality</th>\n",
              "      <th>year_month</th>\n",
              "      <th>year</th>\n",
              "      <th>month</th>\n",
              "      <th>unemployment</th>\n",
              "      <th>unemployment_rate</th>\n",
              "      <th>country_group</th>\n",
              "      <th>name_en</th>\n",
              "    </tr>\n",
              "  </thead>\n",
              "  <tbody>\n",
              "    <tr>\n",
              "      <th>0</th>\n",
              "      <td>at</td>\n",
              "      <td>nsa</td>\n",
              "      <td>1993.01</td>\n",
              "      <td>1993</td>\n",
              "      <td>1</td>\n",
              "      <td>171000</td>\n",
              "      <td>4.5</td>\n",
              "      <td>eu</td>\n",
              "      <td>Austria</td>\n",
              "    </tr>\n",
              "    <tr>\n",
              "      <th>1</th>\n",
              "      <td>at</td>\n",
              "      <td>nsa</td>\n",
              "      <td>1993.02</td>\n",
              "      <td>1993</td>\n",
              "      <td>2</td>\n",
              "      <td>175000</td>\n",
              "      <td>4.6</td>\n",
              "      <td>eu</td>\n",
              "      <td>Austria</td>\n",
              "    </tr>\n",
              "    <tr>\n",
              "      <th>2</th>\n",
              "      <td>at</td>\n",
              "      <td>nsa</td>\n",
              "      <td>1993.03</td>\n",
              "      <td>1993</td>\n",
              "      <td>3</td>\n",
              "      <td>166000</td>\n",
              "      <td>4.4</td>\n",
              "      <td>eu</td>\n",
              "      <td>Austria</td>\n",
              "    </tr>\n",
              "    <tr>\n",
              "      <th>3</th>\n",
              "      <td>at</td>\n",
              "      <td>nsa</td>\n",
              "      <td>1993.04</td>\n",
              "      <td>1993</td>\n",
              "      <td>4</td>\n",
              "      <td>157000</td>\n",
              "      <td>4.1</td>\n",
              "      <td>eu</td>\n",
              "      <td>Austria</td>\n",
              "    </tr>\n",
              "    <tr>\n",
              "      <th>4</th>\n",
              "      <td>at</td>\n",
              "      <td>nsa</td>\n",
              "      <td>1993.05</td>\n",
              "      <td>1993</td>\n",
              "      <td>5</td>\n",
              "      <td>147000</td>\n",
              "      <td>3.9</td>\n",
              "      <td>eu</td>\n",
              "      <td>Austria</td>\n",
              "    </tr>\n",
              "    <tr>\n",
              "      <th>...</th>\n",
              "      <td>...</td>\n",
              "      <td>...</td>\n",
              "      <td>...</td>\n",
              "      <td>...</td>\n",
              "      <td>...</td>\n",
              "      <td>...</td>\n",
              "      <td>...</td>\n",
              "      <td>...</td>\n",
              "      <td>...</td>\n",
              "    </tr>\n",
              "    <tr>\n",
              "      <th>20791</th>\n",
              "      <td>uk</td>\n",
              "      <td>trend</td>\n",
              "      <td>2010.06</td>\n",
              "      <td>2010</td>\n",
              "      <td>6</td>\n",
              "      <td>2429000</td>\n",
              "      <td>7.7</td>\n",
              "      <td>eu</td>\n",
              "      <td>United Kingdom</td>\n",
              "    </tr>\n",
              "    <tr>\n",
              "      <th>20792</th>\n",
              "      <td>uk</td>\n",
              "      <td>trend</td>\n",
              "      <td>2010.07</td>\n",
              "      <td>2010</td>\n",
              "      <td>7</td>\n",
              "      <td>2422000</td>\n",
              "      <td>7.7</td>\n",
              "      <td>eu</td>\n",
              "      <td>United Kingdom</td>\n",
              "    </tr>\n",
              "    <tr>\n",
              "      <th>20793</th>\n",
              "      <td>uk</td>\n",
              "      <td>trend</td>\n",
              "      <td>2010.08</td>\n",
              "      <td>2010</td>\n",
              "      <td>8</td>\n",
              "      <td>2429000</td>\n",
              "      <td>7.7</td>\n",
              "      <td>eu</td>\n",
              "      <td>United Kingdom</td>\n",
              "    </tr>\n",
              "    <tr>\n",
              "      <th>20794</th>\n",
              "      <td>uk</td>\n",
              "      <td>trend</td>\n",
              "      <td>2010.09</td>\n",
              "      <td>2010</td>\n",
              "      <td>9</td>\n",
              "      <td>2447000</td>\n",
              "      <td>7.8</td>\n",
              "      <td>eu</td>\n",
              "      <td>United Kingdom</td>\n",
              "    </tr>\n",
              "    <tr>\n",
              "      <th>20795</th>\n",
              "      <td>uk</td>\n",
              "      <td>trend</td>\n",
              "      <td>2010.10</td>\n",
              "      <td>2010</td>\n",
              "      <td>10</td>\n",
              "      <td>2455000</td>\n",
              "      <td>7.8</td>\n",
              "      <td>eu</td>\n",
              "      <td>United Kingdom</td>\n",
              "    </tr>\n",
              "  </tbody>\n",
              "</table>\n",
              "<p>20796 rows × 9 columns</p>\n",
              "</div>"
            ],
            "text/plain": [
              "      country seasonality  ...  country_group         name_en\n",
              "0          at         nsa  ...             eu         Austria\n",
              "1          at         nsa  ...             eu         Austria\n",
              "2          at         nsa  ...             eu         Austria\n",
              "3          at         nsa  ...             eu         Austria\n",
              "4          at         nsa  ...             eu         Austria\n",
              "...       ...         ...  ...            ...             ...\n",
              "20791      uk       trend  ...             eu  United Kingdom\n",
              "20792      uk       trend  ...             eu  United Kingdom\n",
              "20793      uk       trend  ...             eu  United Kingdom\n",
              "20794      uk       trend  ...             eu  United Kingdom\n",
              "20795      uk       trend  ...             eu  United Kingdom\n",
              "\n",
              "[20796 rows x 9 columns]"
            ]
          },
          "metadata": {
            "tags": []
          },
          "execution_count": 46
        }
      ]
    },
    {
      "cell_type": "markdown",
      "metadata": {
        "id": "nNoJriBaG9Ul"
      },
      "source": [
        "Merging is often more complex than this example. If you want to merge on multiple columns, you can pass a list of column names to the `on` parameter.\n",
        "\n",
        "```\n",
        "pd.merge(first, second, on=['name', 'id'])\n",
        "```\n",
        "\n",
        "For more information on merging, check the [documentation](http://pandas.pydata.org/pandas-docs/stable/merging.html#database-style-dataframe-joining-merging).\n",
        "\n",
        "`pandas` also provides a `.merge()` method that can act on a `DataFrame`. You can read more about that [here](http://pandas.pydata.org/pandas-docs/stable/generated/pandas.DataFrame.merge.html)."
      ]
    },
    {
      "cell_type": "markdown",
      "metadata": {
        "id": "5gKyyvE2HKQW"
      },
      "source": [
        "### Challenge 4: Practicing Merging \n",
        "\n",
        "You may sometimes need to merge on columns with different names. To do so, use the `left_on` and `right_on` parameters, where the first listed `DataFrame` is the \"left\" one and the second is the \"right.\" It might look something this.\n",
        "\n",
        "```\n",
        "pd.merge(one, two, left_on='city', right_on='city_name')\n",
        "```\n",
        "\n",
        "Suppose wanted to merge `unemployment` with a new DataFrame called `country_codes`, where the abbreviation for each country is in the column \"c_code\":"
      ]
    },
    {
      "cell_type": "code",
      "metadata": {
        "colab": {
          "base_uri": "https://localhost:8080/",
          "height": 204
        },
        "id": "vUIGWgdDHXNx",
        "outputId": "d227355e-22f8-4cc4-a423-e5c80ceacc3d"
      },
      "source": [
        "country_codes = country_names.rename({\"country\":\"c_code\"}, axis=1).drop(\"country_group\", axis=1)\n",
        "country_codes.head()"
      ],
      "execution_count": 47,
      "outputs": [
        {
          "output_type": "execute_result",
          "data": {
            "text/html": [
              "<div>\n",
              "<style scoped>\n",
              "    .dataframe tbody tr th:only-of-type {\n",
              "        vertical-align: middle;\n",
              "    }\n",
              "\n",
              "    .dataframe tbody tr th {\n",
              "        vertical-align: top;\n",
              "    }\n",
              "\n",
              "    .dataframe thead th {\n",
              "        text-align: right;\n",
              "    }\n",
              "</style>\n",
              "<table border=\"1\" class=\"dataframe\">\n",
              "  <thead>\n",
              "    <tr style=\"text-align: right;\">\n",
              "      <th></th>\n",
              "      <th>c_code</th>\n",
              "      <th>name_en</th>\n",
              "    </tr>\n",
              "  </thead>\n",
              "  <tbody>\n",
              "    <tr>\n",
              "      <th>0</th>\n",
              "      <td>at</td>\n",
              "      <td>Austria</td>\n",
              "    </tr>\n",
              "    <tr>\n",
              "      <th>1</th>\n",
              "      <td>be</td>\n",
              "      <td>Belgium</td>\n",
              "    </tr>\n",
              "    <tr>\n",
              "      <th>2</th>\n",
              "      <td>bg</td>\n",
              "      <td>Bulgaria</td>\n",
              "    </tr>\n",
              "    <tr>\n",
              "      <th>3</th>\n",
              "      <td>hr</td>\n",
              "      <td>Croatia</td>\n",
              "    </tr>\n",
              "    <tr>\n",
              "      <th>4</th>\n",
              "      <td>cy</td>\n",
              "      <td>Cyprus</td>\n",
              "    </tr>\n",
              "  </tbody>\n",
              "</table>\n",
              "</div>"
            ],
            "text/plain": [
              "  c_code   name_en\n",
              "0     at   Austria\n",
              "1     be   Belgium\n",
              "2     bg  Bulgaria\n",
              "3     hr   Croatia\n",
              "4     cy    Cyprus"
            ]
          },
          "metadata": {
            "tags": []
          },
          "execution_count": 47
        }
      ]
    },
    {
      "cell_type": "markdown",
      "metadata": {
        "id": "JKNBdD2WHglf"
      },
      "source": [
        "Use `merge` to merge `unemployment` and `country_codes` on their country codes. Make sure to specify `left_on=` and `right_on=` in the call to `merge`!\n"
      ]
    },
    {
      "cell_type": "code",
      "metadata": {
        "id": "XyV7lCKoHil2",
        "colab": {
          "base_uri": "https://localhost:8080/",
          "height": 524
        },
        "outputId": "1e4ede48-76dd-49c4-a369-a7cff7cf6e08"
      },
      "source": [
        "pd.merge(unemployment, country_codes, left_on= 'country', right_on= 'c_code')"
      ],
      "execution_count": 48,
      "outputs": [
        {
          "output_type": "execute_result",
          "data": {
            "text/html": [
              "<div>\n",
              "<style scoped>\n",
              "    .dataframe tbody tr th:only-of-type {\n",
              "        vertical-align: middle;\n",
              "    }\n",
              "\n",
              "    .dataframe tbody tr th {\n",
              "        vertical-align: top;\n",
              "    }\n",
              "\n",
              "    .dataframe thead th {\n",
              "        text-align: right;\n",
              "    }\n",
              "</style>\n",
              "<table border=\"1\" class=\"dataframe\">\n",
              "  <thead>\n",
              "    <tr style=\"text-align: right;\">\n",
              "      <th></th>\n",
              "      <th>country</th>\n",
              "      <th>seasonality</th>\n",
              "      <th>year_month</th>\n",
              "      <th>year</th>\n",
              "      <th>month</th>\n",
              "      <th>unemployment</th>\n",
              "      <th>unemployment_rate</th>\n",
              "      <th>country_group</th>\n",
              "      <th>name_en_x</th>\n",
              "      <th>c_code</th>\n",
              "      <th>name_en_y</th>\n",
              "    </tr>\n",
              "  </thead>\n",
              "  <tbody>\n",
              "    <tr>\n",
              "      <th>0</th>\n",
              "      <td>at</td>\n",
              "      <td>nsa</td>\n",
              "      <td>1993.01</td>\n",
              "      <td>1993</td>\n",
              "      <td>1</td>\n",
              "      <td>171000</td>\n",
              "      <td>4.5</td>\n",
              "      <td>eu</td>\n",
              "      <td>Austria</td>\n",
              "      <td>at</td>\n",
              "      <td>Austria</td>\n",
              "    </tr>\n",
              "    <tr>\n",
              "      <th>1</th>\n",
              "      <td>at</td>\n",
              "      <td>nsa</td>\n",
              "      <td>1993.02</td>\n",
              "      <td>1993</td>\n",
              "      <td>2</td>\n",
              "      <td>175000</td>\n",
              "      <td>4.6</td>\n",
              "      <td>eu</td>\n",
              "      <td>Austria</td>\n",
              "      <td>at</td>\n",
              "      <td>Austria</td>\n",
              "    </tr>\n",
              "    <tr>\n",
              "      <th>2</th>\n",
              "      <td>at</td>\n",
              "      <td>nsa</td>\n",
              "      <td>1993.03</td>\n",
              "      <td>1993</td>\n",
              "      <td>3</td>\n",
              "      <td>166000</td>\n",
              "      <td>4.4</td>\n",
              "      <td>eu</td>\n",
              "      <td>Austria</td>\n",
              "      <td>at</td>\n",
              "      <td>Austria</td>\n",
              "    </tr>\n",
              "    <tr>\n",
              "      <th>3</th>\n",
              "      <td>at</td>\n",
              "      <td>nsa</td>\n",
              "      <td>1993.04</td>\n",
              "      <td>1993</td>\n",
              "      <td>4</td>\n",
              "      <td>157000</td>\n",
              "      <td>4.1</td>\n",
              "      <td>eu</td>\n",
              "      <td>Austria</td>\n",
              "      <td>at</td>\n",
              "      <td>Austria</td>\n",
              "    </tr>\n",
              "    <tr>\n",
              "      <th>4</th>\n",
              "      <td>at</td>\n",
              "      <td>nsa</td>\n",
              "      <td>1993.05</td>\n",
              "      <td>1993</td>\n",
              "      <td>5</td>\n",
              "      <td>147000</td>\n",
              "      <td>3.9</td>\n",
              "      <td>eu</td>\n",
              "      <td>Austria</td>\n",
              "      <td>at</td>\n",
              "      <td>Austria</td>\n",
              "    </tr>\n",
              "    <tr>\n",
              "      <th>...</th>\n",
              "      <td>...</td>\n",
              "      <td>...</td>\n",
              "      <td>...</td>\n",
              "      <td>...</td>\n",
              "      <td>...</td>\n",
              "      <td>...</td>\n",
              "      <td>...</td>\n",
              "      <td>...</td>\n",
              "      <td>...</td>\n",
              "      <td>...</td>\n",
              "      <td>...</td>\n",
              "    </tr>\n",
              "    <tr>\n",
              "      <th>20791</th>\n",
              "      <td>uk</td>\n",
              "      <td>trend</td>\n",
              "      <td>2010.06</td>\n",
              "      <td>2010</td>\n",
              "      <td>6</td>\n",
              "      <td>2429000</td>\n",
              "      <td>7.7</td>\n",
              "      <td>eu</td>\n",
              "      <td>United Kingdom</td>\n",
              "      <td>uk</td>\n",
              "      <td>United Kingdom</td>\n",
              "    </tr>\n",
              "    <tr>\n",
              "      <th>20792</th>\n",
              "      <td>uk</td>\n",
              "      <td>trend</td>\n",
              "      <td>2010.07</td>\n",
              "      <td>2010</td>\n",
              "      <td>7</td>\n",
              "      <td>2422000</td>\n",
              "      <td>7.7</td>\n",
              "      <td>eu</td>\n",
              "      <td>United Kingdom</td>\n",
              "      <td>uk</td>\n",
              "      <td>United Kingdom</td>\n",
              "    </tr>\n",
              "    <tr>\n",
              "      <th>20793</th>\n",
              "      <td>uk</td>\n",
              "      <td>trend</td>\n",
              "      <td>2010.08</td>\n",
              "      <td>2010</td>\n",
              "      <td>8</td>\n",
              "      <td>2429000</td>\n",
              "      <td>7.7</td>\n",
              "      <td>eu</td>\n",
              "      <td>United Kingdom</td>\n",
              "      <td>uk</td>\n",
              "      <td>United Kingdom</td>\n",
              "    </tr>\n",
              "    <tr>\n",
              "      <th>20794</th>\n",
              "      <td>uk</td>\n",
              "      <td>trend</td>\n",
              "      <td>2010.09</td>\n",
              "      <td>2010</td>\n",
              "      <td>9</td>\n",
              "      <td>2447000</td>\n",
              "      <td>7.8</td>\n",
              "      <td>eu</td>\n",
              "      <td>United Kingdom</td>\n",
              "      <td>uk</td>\n",
              "      <td>United Kingdom</td>\n",
              "    </tr>\n",
              "    <tr>\n",
              "      <th>20795</th>\n",
              "      <td>uk</td>\n",
              "      <td>trend</td>\n",
              "      <td>2010.10</td>\n",
              "      <td>2010</td>\n",
              "      <td>10</td>\n",
              "      <td>2455000</td>\n",
              "      <td>7.8</td>\n",
              "      <td>eu</td>\n",
              "      <td>United Kingdom</td>\n",
              "      <td>uk</td>\n",
              "      <td>United Kingdom</td>\n",
              "    </tr>\n",
              "  </tbody>\n",
              "</table>\n",
              "<p>20796 rows × 11 columns</p>\n",
              "</div>"
            ],
            "text/plain": [
              "      country seasonality  year_month  ...       name_en_x  c_code       name_en_y\n",
              "0          at         nsa     1993.01  ...         Austria      at         Austria\n",
              "1          at         nsa     1993.02  ...         Austria      at         Austria\n",
              "2          at         nsa     1993.03  ...         Austria      at         Austria\n",
              "3          at         nsa     1993.04  ...         Austria      at         Austria\n",
              "4          at         nsa     1993.05  ...         Austria      at         Austria\n",
              "...       ...         ...         ...  ...             ...     ...             ...\n",
              "20791      uk       trend     2010.06  ...  United Kingdom      uk  United Kingdom\n",
              "20792      uk       trend     2010.07  ...  United Kingdom      uk  United Kingdom\n",
              "20793      uk       trend     2010.08  ...  United Kingdom      uk  United Kingdom\n",
              "20794      uk       trend     2010.09  ...  United Kingdom      uk  United Kingdom\n",
              "20795      uk       trend     2010.10  ...  United Kingdom      uk  United Kingdom\n",
              "\n",
              "[20796 rows x 11 columns]"
            ]
          },
          "metadata": {
            "tags": []
          },
          "execution_count": 48
        }
      ]
    },
    {
      "cell_type": "markdown",
      "metadata": {
        "id": "9u-EuR4DHq_Q"
      },
      "source": [
        "## 5. Calculating Unique and Missing Values"
      ]
    },
    {
      "cell_type": "code",
      "metadata": {
        "id": "lG3dpRMDH3bx",
        "colab": {
          "base_uri": "https://localhost:8080/",
          "height": 204
        },
        "outputId": "2bd0bf08-eaf4-4ee8-dc1f-e5a91dcb1ac3"
      },
      "source": [
        "unemployment.head()"
      ],
      "execution_count": 49,
      "outputs": [
        {
          "output_type": "execute_result",
          "data": {
            "text/html": [
              "<div>\n",
              "<style scoped>\n",
              "    .dataframe tbody tr th:only-of-type {\n",
              "        vertical-align: middle;\n",
              "    }\n",
              "\n",
              "    .dataframe tbody tr th {\n",
              "        vertical-align: top;\n",
              "    }\n",
              "\n",
              "    .dataframe thead th {\n",
              "        text-align: right;\n",
              "    }\n",
              "</style>\n",
              "<table border=\"1\" class=\"dataframe\">\n",
              "  <thead>\n",
              "    <tr style=\"text-align: right;\">\n",
              "      <th></th>\n",
              "      <th>country</th>\n",
              "      <th>seasonality</th>\n",
              "      <th>year_month</th>\n",
              "      <th>year</th>\n",
              "      <th>month</th>\n",
              "      <th>unemployment</th>\n",
              "      <th>unemployment_rate</th>\n",
              "      <th>country_group</th>\n",
              "      <th>name_en</th>\n",
              "    </tr>\n",
              "  </thead>\n",
              "  <tbody>\n",
              "    <tr>\n",
              "      <th>0</th>\n",
              "      <td>at</td>\n",
              "      <td>nsa</td>\n",
              "      <td>1993.01</td>\n",
              "      <td>1993</td>\n",
              "      <td>1</td>\n",
              "      <td>171000</td>\n",
              "      <td>4.5</td>\n",
              "      <td>eu</td>\n",
              "      <td>Austria</td>\n",
              "    </tr>\n",
              "    <tr>\n",
              "      <th>1</th>\n",
              "      <td>at</td>\n",
              "      <td>nsa</td>\n",
              "      <td>1993.02</td>\n",
              "      <td>1993</td>\n",
              "      <td>2</td>\n",
              "      <td>175000</td>\n",
              "      <td>4.6</td>\n",
              "      <td>eu</td>\n",
              "      <td>Austria</td>\n",
              "    </tr>\n",
              "    <tr>\n",
              "      <th>2</th>\n",
              "      <td>at</td>\n",
              "      <td>nsa</td>\n",
              "      <td>1993.03</td>\n",
              "      <td>1993</td>\n",
              "      <td>3</td>\n",
              "      <td>166000</td>\n",
              "      <td>4.4</td>\n",
              "      <td>eu</td>\n",
              "      <td>Austria</td>\n",
              "    </tr>\n",
              "    <tr>\n",
              "      <th>3</th>\n",
              "      <td>at</td>\n",
              "      <td>nsa</td>\n",
              "      <td>1993.04</td>\n",
              "      <td>1993</td>\n",
              "      <td>4</td>\n",
              "      <td>157000</td>\n",
              "      <td>4.1</td>\n",
              "      <td>eu</td>\n",
              "      <td>Austria</td>\n",
              "    </tr>\n",
              "    <tr>\n",
              "      <th>4</th>\n",
              "      <td>at</td>\n",
              "      <td>nsa</td>\n",
              "      <td>1993.05</td>\n",
              "      <td>1993</td>\n",
              "      <td>5</td>\n",
              "      <td>147000</td>\n",
              "      <td>3.9</td>\n",
              "      <td>eu</td>\n",
              "      <td>Austria</td>\n",
              "    </tr>\n",
              "  </tbody>\n",
              "</table>\n",
              "</div>"
            ],
            "text/plain": [
              "  country seasonality  year_month  ...  unemployment_rate  country_group  name_en\n",
              "0      at         nsa     1993.01  ...                4.5             eu  Austria\n",
              "1      at         nsa     1993.02  ...                4.6             eu  Austria\n",
              "2      at         nsa     1993.03  ...                4.4             eu  Austria\n",
              "3      at         nsa     1993.04  ...                4.1             eu  Austria\n",
              "4      at         nsa     1993.05  ...                3.9             eu  Austria\n",
              "\n",
              "[5 rows x 9 columns]"
            ]
          },
          "metadata": {
            "tags": []
          },
          "execution_count": 49
        }
      ]
    },
    {
      "cell_type": "markdown",
      "metadata": {
        "id": "7ukvIxZPH9gq"
      },
      "source": [
        "That's better. We now know that the abbreviation \"at\" corresponds to Austria. We might be curious to check what countries we have data for. The `Series` object includes a `.unique()` method. We'll use this to check the countries. We can select the name either using bracket or dot notation. (While we suggested using brackets above, it *is* sometimes easier to use dot notation. Just be careful.)"
      ]
    },
    {
      "cell_type": "code",
      "metadata": {
        "id": "TuEzA4QVIFiD",
        "colab": {
          "base_uri": "https://localhost:8080/"
        },
        "outputId": "229dad76-9156-499f-b309-b22a00df30f0"
      },
      "source": [
        "unemployment.name_en.unique()"
      ],
      "execution_count": 50,
      "outputs": [
        {
          "output_type": "execute_result",
          "data": {
            "text/plain": [
              "array(['Austria', 'Belgium', 'Bulgaria', 'Cyprus', 'Czech Republic',\n",
              "       'Germany (including  former GDR from 1991)', 'Denmark', 'Estonia',\n",
              "       'Spain', 'Finland', 'France', 'Greece', 'Croatia', 'Hungary',\n",
              "       'Ireland', 'Italy', 'Lithuania', 'Luxembourg', 'Latvia', 'Malta',\n",
              "       'Netherlands', 'Norway', 'Poland', 'Portugal', 'Romania', 'Sweden',\n",
              "       'Slovenia', 'Slovakia', 'Turkey', 'United Kingdom'], dtype=object)"
            ]
          },
          "metadata": {
            "tags": []
          },
          "execution_count": 50
        }
      ]
    },
    {
      "cell_type": "markdown",
      "metadata": {
        "id": "xJ-4nLjWI6c9"
      },
      "source": [
        "It might be more interesting to know **how many observations** we actually have. `pandas` has a `Series` method called `.value_counts()` that returns the counts for the unique values in the `Series`."
      ]
    },
    {
      "cell_type": "code",
      "metadata": {
        "id": "jaDaEWQeI_MG",
        "colab": {
          "base_uri": "https://localhost:8080/"
        },
        "outputId": "9a8baa24-b528-4e1c-9b52-a3ef2726cae0"
      },
      "source": [
        "unemployment['name_en'].value_counts().sort_index()"
      ],
      "execution_count": 51,
      "outputs": [
        {
          "output_type": "execute_result",
          "data": {
            "text/plain": [
              "Austria                                       648\n",
              "Belgium                                      1008\n",
              "Bulgaria                                      576\n",
              "Croatia                                       324\n",
              "Cyprus                                        396\n",
              "Czech Republic                                468\n",
              "Denmark                                      1008\n",
              "Estonia                                       387\n",
              "Finland                                       828\n",
              "France                                       1008\n",
              "Germany (including  former GDR from 1991)     504\n",
              "Greece                                        450\n",
              "Hungary                                       576\n",
              "Ireland                                      1008\n",
              "Italy                                         924\n",
              "Latvia                                        459\n",
              "Lithuania                                     459\n",
              "Luxembourg                                   1008\n",
              "Malta                                         576\n",
              "Netherlands                                  1008\n",
              "Norway                                        786\n",
              "Poland                                        576\n",
              "Portugal                                     1008\n",
              "Romania                                       423\n",
              "Slovakia                                      576\n",
              "Slovenia                                      576\n",
              "Spain                                        1008\n",
              "Sweden                                       1008\n",
              "Turkey                                        210\n",
              "United Kingdom                               1002\n",
              "Name: name_en, dtype: int64"
            ]
          },
          "metadata": {
            "tags": []
          },
          "execution_count": 51
        }
      ]
    },
    {
      "cell_type": "markdown",
      "metadata": {
        "id": "3I-8khygJFDE"
      },
      "source": [
        "This will be useful for our analysis. The maximum number of observations for a given country for this time period is 1,008 observations. We'll note that certain countries, such as Turkey, have far less data.\n",
        "\n",
        "How about finding the **date range** for this data set? Let's look at the minimum and maximum years."
      ]
    },
    {
      "cell_type": "code",
      "metadata": {
        "id": "8Wz0BIhEJEP0",
        "colab": {
          "base_uri": "https://localhost:8080/"
        },
        "outputId": "3edc01bb-d120-465f-ecc3-c861cf25afd3"
      },
      "source": [
        "unemployment['year'].min(), unemployment['year'].max()"
      ],
      "execution_count": 52,
      "outputs": [
        {
          "output_type": "execute_result",
          "data": {
            "text/plain": [
              "(1983, 2010)"
            ]
          },
          "metadata": {
            "tags": []
          },
          "execution_count": 52
        }
      ]
    },
    {
      "cell_type": "markdown",
      "metadata": {
        "id": "V6xie_7xJQR-"
      },
      "source": [
        "Next, we should pause for a moment and think about what data we really care about. For our purposes, the variable of interest is `unemployment_rate`. The number of observations by country only reflect the number of instances of each country name in the dataset. It is possible, maybe even expected, to have some missing data within those instances. Let's find out **how many unemployment rate values are missing.**"
      ]
    },
    {
      "cell_type": "code",
      "metadata": {
        "id": "IOyrwC5uJgIV",
        "colab": {
          "base_uri": "https://localhost:8080/"
        },
        "outputId": "e0f6a4a1-f650-4ed0-afcb-b1aa0366e5dd"
      },
      "source": [
        "unemployment['unemployment_rate'].isnull().sum()"
      ],
      "execution_count": 53,
      "outputs": [
        {
          "output_type": "execute_result",
          "data": {
            "text/plain": [
              "945"
            ]
          },
          "metadata": {
            "tags": []
          },
          "execution_count": 53
        }
      ]
    },
    {
      "cell_type": "markdown",
      "metadata": {
        "id": "eFhXI8S7JjQi"
      },
      "source": [
        "The `.isnull()` method returns a corresponding boolean value for each entry in the unemployment rate `Series`. In Python `True` is equivalent to 1 and `False` is equivalent to 0. Thus, when we add the result (with `.sum()`), we get a count for the *total* number of missing values."
      ]
    },
    {
      "cell_type": "markdown",
      "metadata": {
        "id": "82SNLHMzJn0c"
      },
      "source": [
        "### Challenge 5: Exploring unemployment rates\n",
        "\n",
        "What are the minimum and maximum unemployment rates in our data set? Which unemployment rates are most and least common?\n",
        "\n",
        "Hint: look at where we found the minimum and maximum years for a hint to the first question, and use `value_counts` for the second."
      ]
    },
    {
      "cell_type": "markdown",
      "metadata": {
        "id": "xUp3579SCxk6"
      },
      "source": [
        "What are the minimum and maximum unemployment rates in our data set?"
      ]
    },
    {
      "cell_type": "code",
      "metadata": {
        "id": "oxIzviryJsgQ",
        "colab": {
          "base_uri": "https://localhost:8080/"
        },
        "outputId": "384590c5-b849-4d80-d565-eb2e56fb4300"
      },
      "source": [
        "# Minimun unemployment rate\n",
        "unemployment['unemployment_rate'].min()"
      ],
      "execution_count": 54,
      "outputs": [
        {
          "output_type": "execute_result",
          "data": {
            "text/plain": [
              "1.1"
            ]
          },
          "metadata": {
            "tags": []
          },
          "execution_count": 54
        }
      ]
    },
    {
      "cell_type": "code",
      "metadata": {
        "colab": {
          "base_uri": "https://localhost:8080/"
        },
        "id": "6pb5auJ_CA0b",
        "outputId": "24039ef9-06ce-4ac6-9525-c55320870896"
      },
      "source": [
        "# Maximum unemploymnent rate\n",
        "unemployment['unemployment_rate'].max()"
      ],
      "execution_count": 55,
      "outputs": [
        {
          "output_type": "execute_result",
          "data": {
            "text/plain": [
              "20.9"
            ]
          },
          "metadata": {
            "tags": []
          },
          "execution_count": 55
        }
      ]
    },
    {
      "cell_type": "markdown",
      "metadata": {
        "id": "pQpyFHnKDJQA"
      },
      "source": [
        "Which unemployment rates are most and least common?"
      ]
    },
    {
      "cell_type": "code",
      "metadata": {
        "colab": {
          "base_uri": "https://localhost:8080/"
        },
        "id": "6_L8ErKbCtPt",
        "outputId": "75294144-d8f5-42c9-aa1f-44a254dddd82"
      },
      "source": [
        "# Most common unemployment rates\n",
        "most_common = unemployment['unemployment_rate'].value_counts().head(1)\n",
        "print(most_common)\n"
      ],
      "execution_count": 56,
      "outputs": [
        {
          "output_type": "stream",
          "text": [
            "7.2    305\n",
            "Name: unemployment_rate, dtype: int64\n"
          ],
          "name": "stdout"
        }
      ]
    },
    {
      "cell_type": "code",
      "metadata": {
        "colab": {
          "base_uri": "https://localhost:8080/"
        },
        "id": "tgUOpNuXGENs",
        "outputId": "76554350-e5af-458e-c15f-0c239f254019"
      },
      "source": [
        "# Least common unemployment rates\n",
        "least_common = unemployment['unemployment_rate'].value_counts().tail(1)\n",
        "print(least_common)\n"
      ],
      "execution_count": 57,
      "outputs": [
        {
          "output_type": "stream",
          "text": [
            "20.9    1\n",
            "Name: unemployment_rate, dtype: int64\n"
          ],
          "name": "stdout"
        }
      ]
    },
    {
      "cell_type": "markdown",
      "metadata": {
        "id": "tN2uynyQUMK5"
      },
      "source": [
        "## 6. GroupBy"
      ]
    },
    {
      "cell_type": "markdown",
      "metadata": {
        "id": "4OcDdm-uUMK6"
      },
      "source": [
        "\n",
        "What if we'd like to know how many missing values exist at the *country* level? We can take the main part of what we had above and create a new column in the `DataFrame`."
      ]
    },
    {
      "cell_type": "code",
      "metadata": {
        "id": "ICKqV3X4UMK7"
      },
      "source": [
        "unemployment['unemployment_rate_null'] = unemployment['unemployment_rate'].isnull()"
      ],
      "execution_count": 58,
      "outputs": []
    },
    {
      "cell_type": "markdown",
      "metadata": {
        "id": "XWpB1fiOUMK8"
      },
      "source": [
        "To count the **number of missing values for each country,** we introduce the `.groupby()` method."
      ]
    },
    {
      "cell_type": "code",
      "metadata": {
        "id": "3wkdEjmIUMK9",
        "colab": {
          "base_uri": "https://localhost:8080/"
        },
        "outputId": "08ed4be1-a0d9-44f7-eafd-39e62148accb"
      },
      "source": [
        "unemployment.groupby('name_en')['unemployment_rate_null'].sum()"
      ],
      "execution_count": 59,
      "outputs": [
        {
          "output_type": "execute_result",
          "data": {
            "text/plain": [
              "name_en\n",
              "Austria                                        0\n",
              "Belgium                                        0\n",
              "Bulgaria                                     180\n",
              "Croatia                                      216\n",
              "Cyprus                                         0\n",
              "Czech Republic                                 0\n",
              "Denmark                                        0\n",
              "Estonia                                        0\n",
              "Finland                                        0\n",
              "France                                         0\n",
              "Germany (including  former GDR from 1991)      0\n",
              "Greece                                         0\n",
              "Hungary                                       36\n",
              "Ireland                                        0\n",
              "Italy                                          0\n",
              "Latvia                                         0\n",
              "Lithuania                                      0\n",
              "Luxembourg                                     0\n",
              "Malta                                        180\n",
              "Netherlands                                    0\n",
              "Norway                                         0\n",
              "Poland                                        72\n",
              "Portugal                                       0\n",
              "Romania                                        0\n",
              "Slovakia                                     108\n",
              "Slovenia                                      36\n",
              "Spain                                        117\n",
              "Sweden                                         0\n",
              "Turkey                                         0\n",
              "United Kingdom                                 0\n",
              "Name: unemployment_rate_null, dtype: int64"
            ]
          },
          "metadata": {
            "tags": []
          },
          "execution_count": 59
        }
      ]
    },
    {
      "cell_type": "markdown",
      "metadata": {
        "id": "3cjMMeTZUMK-"
      },
      "source": [
        "Let's explain what just happened. We start with our `DataFrame`. We tell `pandas` that we want to group the data by country name&mdash;that's what goes in the parentheses. Next, we need to tell it what column we'd like to perform the `.sum()` operation on. In this case, it's the indicator for whether or not the unemployment rate was missing.\n",
        "\n",
        "As we saw above, the number of records for each country differs. We might, then, want to have the **missing values by country shown as percentages.** Let's create a new `DataFrame` for this.\n",
        "\n",
        "We'll take the code from above and set the `as_index` parameter to `False`."
      ]
    },
    {
      "cell_type": "code",
      "metadata": {
        "id": "qjz9Du7KUMK_"
      },
      "source": [
        "unemployment_rate = unemployment.groupby('name_en', as_index=False)['unemployment_rate_null'].sum()"
      ],
      "execution_count": 60,
      "outputs": []
    },
    {
      "cell_type": "code",
      "metadata": {
        "id": "vA-FSah-UMLB",
        "colab": {
          "base_uri": "https://localhost:8080/",
          "height": 142
        },
        "outputId": "cc3bfbd2-0f7c-4c9c-a11c-6343dbf70008"
      },
      "source": [
        "unemployment_rate.head(3)"
      ],
      "execution_count": 61,
      "outputs": [
        {
          "output_type": "execute_result",
          "data": {
            "text/html": [
              "<div>\n",
              "<style scoped>\n",
              "    .dataframe tbody tr th:only-of-type {\n",
              "        vertical-align: middle;\n",
              "    }\n",
              "\n",
              "    .dataframe tbody tr th {\n",
              "        vertical-align: top;\n",
              "    }\n",
              "\n",
              "    .dataframe thead th {\n",
              "        text-align: right;\n",
              "    }\n",
              "</style>\n",
              "<table border=\"1\" class=\"dataframe\">\n",
              "  <thead>\n",
              "    <tr style=\"text-align: right;\">\n",
              "      <th></th>\n",
              "      <th>name_en</th>\n",
              "      <th>unemployment_rate_null</th>\n",
              "    </tr>\n",
              "  </thead>\n",
              "  <tbody>\n",
              "    <tr>\n",
              "      <th>0</th>\n",
              "      <td>Austria</td>\n",
              "      <td>0</td>\n",
              "    </tr>\n",
              "    <tr>\n",
              "      <th>1</th>\n",
              "      <td>Belgium</td>\n",
              "      <td>0</td>\n",
              "    </tr>\n",
              "    <tr>\n",
              "      <th>2</th>\n",
              "      <td>Bulgaria</td>\n",
              "      <td>180</td>\n",
              "    </tr>\n",
              "  </tbody>\n",
              "</table>\n",
              "</div>"
            ],
            "text/plain": [
              "    name_en  unemployment_rate_null\n",
              "0   Austria                       0\n",
              "1   Belgium                       0\n",
              "2  Bulgaria                     180"
            ]
          },
          "metadata": {
            "tags": []
          },
          "execution_count": 61
        }
      ]
    },
    {
      "cell_type": "markdown",
      "metadata": {
        "id": "DRcJbX8zUMLE"
      },
      "source": [
        "`unemployment_rate` is a `DataFrame` with the information from cell 34, above. It's important to note that using `as_index=False` in `.groupby()` only works if the grouping column(s) are not the same as the columns on which we're performing the operation.\n",
        "\n",
        "Also, to group by several columns, simply pass in a list of column names to `.groupby()`.\n",
        "\n",
        "```\n",
        "unemployment.groupby(['name_en', 'seasonality'])['unemployment_rate'].mean()\n",
        "```\n",
        "\n",
        "Now, let's add the number of observations by country to the `DataFrame`."
      ]
    },
    {
      "cell_type": "code",
      "metadata": {
        "id": "UEIo5G4nUMLF"
      },
      "source": [
        "unemployment_rate['n_obs'] = unemployment.groupby('name_en')['name_en'].count().values"
      ],
      "execution_count": 62,
      "outputs": []
    },
    {
      "cell_type": "markdown",
      "metadata": {
        "id": "J4OBZM2RUMLH"
      },
      "source": [
        "Here, we need to use the `values` attribute to get an array of the counts. Excluding `values` will result in a column full of `NaN`s. This is because the index in `unemployment.groupby('name_en')['name_en'].count()` is a list of the country names. When creating a new column, `pandas` tries to match on index. Recall that the default index values for a `DataFrame` is a sequence of integers.\n",
        "\n",
        "Because we know (or have noticed) that the `.groupby()` function returns the values in alphabetical order, we can simply set the new column to the list of values, as we have done. You can, however, be more explicit and create another `DataFrame` and merge on country name.\n",
        "\n",
        "Finally, let's create the column for the percentage of missing values."
      ]
    },
    {
      "cell_type": "code",
      "metadata": {
        "id": "6zKgDfZdUMLH"
      },
      "source": [
        "unemployment_rate['null_percentage'] = unemployment_rate['unemployment_rate_null'] / unemployment_rate['n_obs']"
      ],
      "execution_count": 63,
      "outputs": []
    },
    {
      "cell_type": "code",
      "metadata": {
        "id": "PVCv_MZFUMLJ",
        "colab": {
          "base_uri": "https://localhost:8080/",
          "height": 979
        },
        "outputId": "1b32a385-b68f-46b6-e8be-acc732143454"
      },
      "source": [
        "unemployment_rate"
      ],
      "execution_count": 64,
      "outputs": [
        {
          "output_type": "execute_result",
          "data": {
            "text/html": [
              "<div>\n",
              "<style scoped>\n",
              "    .dataframe tbody tr th:only-of-type {\n",
              "        vertical-align: middle;\n",
              "    }\n",
              "\n",
              "    .dataframe tbody tr th {\n",
              "        vertical-align: top;\n",
              "    }\n",
              "\n",
              "    .dataframe thead th {\n",
              "        text-align: right;\n",
              "    }\n",
              "</style>\n",
              "<table border=\"1\" class=\"dataframe\">\n",
              "  <thead>\n",
              "    <tr style=\"text-align: right;\">\n",
              "      <th></th>\n",
              "      <th>name_en</th>\n",
              "      <th>unemployment_rate_null</th>\n",
              "      <th>n_obs</th>\n",
              "      <th>null_percentage</th>\n",
              "    </tr>\n",
              "  </thead>\n",
              "  <tbody>\n",
              "    <tr>\n",
              "      <th>0</th>\n",
              "      <td>Austria</td>\n",
              "      <td>0</td>\n",
              "      <td>648</td>\n",
              "      <td>0.000000</td>\n",
              "    </tr>\n",
              "    <tr>\n",
              "      <th>1</th>\n",
              "      <td>Belgium</td>\n",
              "      <td>0</td>\n",
              "      <td>1008</td>\n",
              "      <td>0.000000</td>\n",
              "    </tr>\n",
              "    <tr>\n",
              "      <th>2</th>\n",
              "      <td>Bulgaria</td>\n",
              "      <td>180</td>\n",
              "      <td>576</td>\n",
              "      <td>0.312500</td>\n",
              "    </tr>\n",
              "    <tr>\n",
              "      <th>3</th>\n",
              "      <td>Croatia</td>\n",
              "      <td>216</td>\n",
              "      <td>324</td>\n",
              "      <td>0.666667</td>\n",
              "    </tr>\n",
              "    <tr>\n",
              "      <th>4</th>\n",
              "      <td>Cyprus</td>\n",
              "      <td>0</td>\n",
              "      <td>396</td>\n",
              "      <td>0.000000</td>\n",
              "    </tr>\n",
              "    <tr>\n",
              "      <th>5</th>\n",
              "      <td>Czech Republic</td>\n",
              "      <td>0</td>\n",
              "      <td>468</td>\n",
              "      <td>0.000000</td>\n",
              "    </tr>\n",
              "    <tr>\n",
              "      <th>6</th>\n",
              "      <td>Denmark</td>\n",
              "      <td>0</td>\n",
              "      <td>1008</td>\n",
              "      <td>0.000000</td>\n",
              "    </tr>\n",
              "    <tr>\n",
              "      <th>7</th>\n",
              "      <td>Estonia</td>\n",
              "      <td>0</td>\n",
              "      <td>387</td>\n",
              "      <td>0.000000</td>\n",
              "    </tr>\n",
              "    <tr>\n",
              "      <th>8</th>\n",
              "      <td>Finland</td>\n",
              "      <td>0</td>\n",
              "      <td>828</td>\n",
              "      <td>0.000000</td>\n",
              "    </tr>\n",
              "    <tr>\n",
              "      <th>9</th>\n",
              "      <td>France</td>\n",
              "      <td>0</td>\n",
              "      <td>1008</td>\n",
              "      <td>0.000000</td>\n",
              "    </tr>\n",
              "    <tr>\n",
              "      <th>10</th>\n",
              "      <td>Germany (including  former GDR from 1991)</td>\n",
              "      <td>0</td>\n",
              "      <td>504</td>\n",
              "      <td>0.000000</td>\n",
              "    </tr>\n",
              "    <tr>\n",
              "      <th>11</th>\n",
              "      <td>Greece</td>\n",
              "      <td>0</td>\n",
              "      <td>450</td>\n",
              "      <td>0.000000</td>\n",
              "    </tr>\n",
              "    <tr>\n",
              "      <th>12</th>\n",
              "      <td>Hungary</td>\n",
              "      <td>36</td>\n",
              "      <td>576</td>\n",
              "      <td>0.062500</td>\n",
              "    </tr>\n",
              "    <tr>\n",
              "      <th>13</th>\n",
              "      <td>Ireland</td>\n",
              "      <td>0</td>\n",
              "      <td>1008</td>\n",
              "      <td>0.000000</td>\n",
              "    </tr>\n",
              "    <tr>\n",
              "      <th>14</th>\n",
              "      <td>Italy</td>\n",
              "      <td>0</td>\n",
              "      <td>924</td>\n",
              "      <td>0.000000</td>\n",
              "    </tr>\n",
              "    <tr>\n",
              "      <th>15</th>\n",
              "      <td>Latvia</td>\n",
              "      <td>0</td>\n",
              "      <td>459</td>\n",
              "      <td>0.000000</td>\n",
              "    </tr>\n",
              "    <tr>\n",
              "      <th>16</th>\n",
              "      <td>Lithuania</td>\n",
              "      <td>0</td>\n",
              "      <td>459</td>\n",
              "      <td>0.000000</td>\n",
              "    </tr>\n",
              "    <tr>\n",
              "      <th>17</th>\n",
              "      <td>Luxembourg</td>\n",
              "      <td>0</td>\n",
              "      <td>1008</td>\n",
              "      <td>0.000000</td>\n",
              "    </tr>\n",
              "    <tr>\n",
              "      <th>18</th>\n",
              "      <td>Malta</td>\n",
              "      <td>180</td>\n",
              "      <td>576</td>\n",
              "      <td>0.312500</td>\n",
              "    </tr>\n",
              "    <tr>\n",
              "      <th>19</th>\n",
              "      <td>Netherlands</td>\n",
              "      <td>0</td>\n",
              "      <td>1008</td>\n",
              "      <td>0.000000</td>\n",
              "    </tr>\n",
              "    <tr>\n",
              "      <th>20</th>\n",
              "      <td>Norway</td>\n",
              "      <td>0</td>\n",
              "      <td>786</td>\n",
              "      <td>0.000000</td>\n",
              "    </tr>\n",
              "    <tr>\n",
              "      <th>21</th>\n",
              "      <td>Poland</td>\n",
              "      <td>72</td>\n",
              "      <td>576</td>\n",
              "      <td>0.125000</td>\n",
              "    </tr>\n",
              "    <tr>\n",
              "      <th>22</th>\n",
              "      <td>Portugal</td>\n",
              "      <td>0</td>\n",
              "      <td>1008</td>\n",
              "      <td>0.000000</td>\n",
              "    </tr>\n",
              "    <tr>\n",
              "      <th>23</th>\n",
              "      <td>Romania</td>\n",
              "      <td>0</td>\n",
              "      <td>423</td>\n",
              "      <td>0.000000</td>\n",
              "    </tr>\n",
              "    <tr>\n",
              "      <th>24</th>\n",
              "      <td>Slovakia</td>\n",
              "      <td>108</td>\n",
              "      <td>576</td>\n",
              "      <td>0.187500</td>\n",
              "    </tr>\n",
              "    <tr>\n",
              "      <th>25</th>\n",
              "      <td>Slovenia</td>\n",
              "      <td>36</td>\n",
              "      <td>576</td>\n",
              "      <td>0.062500</td>\n",
              "    </tr>\n",
              "    <tr>\n",
              "      <th>26</th>\n",
              "      <td>Spain</td>\n",
              "      <td>117</td>\n",
              "      <td>1008</td>\n",
              "      <td>0.116071</td>\n",
              "    </tr>\n",
              "    <tr>\n",
              "      <th>27</th>\n",
              "      <td>Sweden</td>\n",
              "      <td>0</td>\n",
              "      <td>1008</td>\n",
              "      <td>0.000000</td>\n",
              "    </tr>\n",
              "    <tr>\n",
              "      <th>28</th>\n",
              "      <td>Turkey</td>\n",
              "      <td>0</td>\n",
              "      <td>210</td>\n",
              "      <td>0.000000</td>\n",
              "    </tr>\n",
              "    <tr>\n",
              "      <th>29</th>\n",
              "      <td>United Kingdom</td>\n",
              "      <td>0</td>\n",
              "      <td>1002</td>\n",
              "      <td>0.000000</td>\n",
              "    </tr>\n",
              "  </tbody>\n",
              "</table>\n",
              "</div>"
            ],
            "text/plain": [
              "                                      name_en  ...  null_percentage\n",
              "0                                     Austria  ...         0.000000\n",
              "1                                     Belgium  ...         0.000000\n",
              "2                                    Bulgaria  ...         0.312500\n",
              "3                                     Croatia  ...         0.666667\n",
              "4                                      Cyprus  ...         0.000000\n",
              "5                              Czech Republic  ...         0.000000\n",
              "6                                     Denmark  ...         0.000000\n",
              "7                                     Estonia  ...         0.000000\n",
              "8                                     Finland  ...         0.000000\n",
              "9                                      France  ...         0.000000\n",
              "10  Germany (including  former GDR from 1991)  ...         0.000000\n",
              "11                                     Greece  ...         0.000000\n",
              "12                                    Hungary  ...         0.062500\n",
              "13                                    Ireland  ...         0.000000\n",
              "14                                      Italy  ...         0.000000\n",
              "15                                     Latvia  ...         0.000000\n",
              "16                                  Lithuania  ...         0.000000\n",
              "17                                 Luxembourg  ...         0.000000\n",
              "18                                      Malta  ...         0.312500\n",
              "19                                Netherlands  ...         0.000000\n",
              "20                                     Norway  ...         0.000000\n",
              "21                                     Poland  ...         0.125000\n",
              "22                                   Portugal  ...         0.000000\n",
              "23                                    Romania  ...         0.000000\n",
              "24                                   Slovakia  ...         0.187500\n",
              "25                                   Slovenia  ...         0.062500\n",
              "26                                      Spain  ...         0.116071\n",
              "27                                     Sweden  ...         0.000000\n",
              "28                                     Turkey  ...         0.000000\n",
              "29                             United Kingdom  ...         0.000000\n",
              "\n",
              "[30 rows x 4 columns]"
            ]
          },
          "metadata": {
            "tags": []
          },
          "execution_count": 64
        }
      ]
    },
    {
      "cell_type": "markdown",
      "metadata": {
        "id": "16k9_VIcUMLL"
      },
      "source": [
        "This is the second time we've called a `DataFrame` without something like `.head()`. Let's describe what it does. By default, `pandas` prints 60 rows. In this case, because there are only 30 countries, we see the entire `DataFrame`."
      ]
    },
    {
      "cell_type": "markdown",
      "metadata": {
        "id": "V2mY0aRhUMLM"
      },
      "source": [
        "### Challenge 6: GroupBy \n",
        "\n",
        "Find the average unemployment rate for European Union vs. non-European Union countries. \n",
        "\n",
        "1. use `groupby` to group on \"country_group\"\n",
        "2. select the \"unemployment_rate\" column\n",
        "3. use `.mean()` to get the average"
      ]
    },
    {
      "cell_type": "code",
      "metadata": {
        "id": "kQBwQvm8UMLO",
        "colab": {
          "base_uri": "https://localhost:8080/"
        },
        "outputId": "9267f8e7-efa1-4f14-caf2-9570d9fd00ba"
      },
      "source": [
        "# use groupby to group on \"country_group\"\n",
        "unemployment.groupby('country_group')['unemployment_rate'].mean()\n"
      ],
      "execution_count": 65,
      "outputs": [
        {
          "output_type": "execute_result",
          "data": {
            "text/plain": [
              "country_group\n",
              "eu        8.303382\n",
              "non-eu    6.080616\n",
              "Name: unemployment_rate, dtype: float64"
            ]
          },
          "metadata": {
            "tags": []
          },
          "execution_count": 65
        }
      ]
    },
    {
      "cell_type": "markdown",
      "metadata": {
        "id": "tmgmwSlLUMLQ"
      },
      "source": [
        "## 7. Exporting A DataFrame to csv <a id=\"section7\"/>\n",
        "\n",
        "As we can see, Croatia has lots of missing data. This `DataFrame` contains useful information&mdash;things to consider&mdash;when analyzing the data.\n",
        "\n",
        "Suppose we wanted to save this as a .csv file. For this, we'd use the `.to_csv()` method."
      ]
    },
    {
      "cell_type": "code",
      "metadata": {
        "id": "ilF2n5GDUMLQ",
        "colab": {
          "base_uri": "https://localhost:8080/",
          "height": 324
        },
        "outputId": "9f641060-a05f-4bb3-bc3f-adbb24a2617d"
      },
      "source": [
        "unemployment_rate.to_csv('data/unemployment_missing.csv')"
      ],
      "execution_count": 66,
      "outputs": [
        {
          "output_type": "error",
          "ename": "FileNotFoundError",
          "evalue": "ignored",
          "traceback": [
            "\u001b[0;31m---------------------------------------------------------------------------\u001b[0m",
            "\u001b[0;31mFileNotFoundError\u001b[0m                         Traceback (most recent call last)",
            "\u001b[0;32m<ipython-input-66-fdbb8b13352b>\u001b[0m in \u001b[0;36m<module>\u001b[0;34m()\u001b[0m\n\u001b[0;32m----> 1\u001b[0;31m \u001b[0munemployment_rate\u001b[0m\u001b[0;34m.\u001b[0m\u001b[0mto_csv\u001b[0m\u001b[0;34m(\u001b[0m\u001b[0;34m'data/unemployment_missing.csv'\u001b[0m\u001b[0;34m)\u001b[0m\u001b[0;34m\u001b[0m\u001b[0;34m\u001b[0m\u001b[0m\n\u001b[0m",
            "\u001b[0;32m/usr/local/lib/python3.6/dist-packages/pandas/core/generic.py\u001b[0m in \u001b[0;36mto_csv\u001b[0;34m(self, path_or_buf, sep, na_rep, float_format, columns, header, index, index_label, mode, encoding, compression, quoting, quotechar, line_terminator, chunksize, date_format, doublequote, escapechar, decimal, errors)\u001b[0m\n\u001b[1;32m   3168\u001b[0m             \u001b[0mdecimal\u001b[0m\u001b[0;34m=\u001b[0m\u001b[0mdecimal\u001b[0m\u001b[0;34m,\u001b[0m\u001b[0;34m\u001b[0m\u001b[0;34m\u001b[0m\u001b[0m\n\u001b[1;32m   3169\u001b[0m         )\n\u001b[0;32m-> 3170\u001b[0;31m         \u001b[0mformatter\u001b[0m\u001b[0;34m.\u001b[0m\u001b[0msave\u001b[0m\u001b[0;34m(\u001b[0m\u001b[0;34m)\u001b[0m\u001b[0;34m\u001b[0m\u001b[0;34m\u001b[0m\u001b[0m\n\u001b[0m\u001b[1;32m   3171\u001b[0m \u001b[0;34m\u001b[0m\u001b[0m\n\u001b[1;32m   3172\u001b[0m         \u001b[0;32mif\u001b[0m \u001b[0mpath_or_buf\u001b[0m \u001b[0;32mis\u001b[0m \u001b[0;32mNone\u001b[0m\u001b[0;34m:\u001b[0m\u001b[0;34m\u001b[0m\u001b[0;34m\u001b[0m\u001b[0m\n",
            "\u001b[0;32m/usr/local/lib/python3.6/dist-packages/pandas/io/formats/csvs.py\u001b[0m in \u001b[0;36msave\u001b[0;34m(self)\u001b[0m\n\u001b[1;32m    188\u001b[0m                 \u001b[0mencoding\u001b[0m\u001b[0;34m=\u001b[0m\u001b[0mself\u001b[0m\u001b[0;34m.\u001b[0m\u001b[0mencoding\u001b[0m\u001b[0;34m,\u001b[0m\u001b[0;34m\u001b[0m\u001b[0;34m\u001b[0m\u001b[0m\n\u001b[1;32m    189\u001b[0m                 \u001b[0merrors\u001b[0m\u001b[0;34m=\u001b[0m\u001b[0mself\u001b[0m\u001b[0;34m.\u001b[0m\u001b[0merrors\u001b[0m\u001b[0;34m,\u001b[0m\u001b[0;34m\u001b[0m\u001b[0;34m\u001b[0m\u001b[0m\n\u001b[0;32m--> 190\u001b[0;31m                 \u001b[0mcompression\u001b[0m\u001b[0;34m=\u001b[0m\u001b[0mdict\u001b[0m\u001b[0;34m(\u001b[0m\u001b[0mself\u001b[0m\u001b[0;34m.\u001b[0m\u001b[0mcompression_args\u001b[0m\u001b[0;34m,\u001b[0m \u001b[0mmethod\u001b[0m\u001b[0;34m=\u001b[0m\u001b[0mself\u001b[0m\u001b[0;34m.\u001b[0m\u001b[0mcompression\u001b[0m\u001b[0;34m)\u001b[0m\u001b[0;34m,\u001b[0m\u001b[0;34m\u001b[0m\u001b[0;34m\u001b[0m\u001b[0m\n\u001b[0m\u001b[1;32m    191\u001b[0m             )\n\u001b[1;32m    192\u001b[0m             \u001b[0mclose\u001b[0m \u001b[0;34m=\u001b[0m \u001b[0;32mTrue\u001b[0m\u001b[0;34m\u001b[0m\u001b[0;34m\u001b[0m\u001b[0m\n",
            "\u001b[0;32m/usr/local/lib/python3.6/dist-packages/pandas/io/common.py\u001b[0m in \u001b[0;36mget_handle\u001b[0;34m(path_or_buf, mode, encoding, compression, memory_map, is_text, errors)\u001b[0m\n\u001b[1;32m    491\u001b[0m         \u001b[0;32mif\u001b[0m \u001b[0mencoding\u001b[0m\u001b[0;34m:\u001b[0m\u001b[0;34m\u001b[0m\u001b[0;34m\u001b[0m\u001b[0m\n\u001b[1;32m    492\u001b[0m             \u001b[0;31m# Encoding\u001b[0m\u001b[0;34m\u001b[0m\u001b[0;34m\u001b[0m\u001b[0;34m\u001b[0m\u001b[0m\n\u001b[0;32m--> 493\u001b[0;31m             \u001b[0mf\u001b[0m \u001b[0;34m=\u001b[0m \u001b[0mopen\u001b[0m\u001b[0;34m(\u001b[0m\u001b[0mpath_or_buf\u001b[0m\u001b[0;34m,\u001b[0m \u001b[0mmode\u001b[0m\u001b[0;34m,\u001b[0m \u001b[0mencoding\u001b[0m\u001b[0;34m=\u001b[0m\u001b[0mencoding\u001b[0m\u001b[0;34m,\u001b[0m \u001b[0merrors\u001b[0m\u001b[0;34m=\u001b[0m\u001b[0merrors\u001b[0m\u001b[0;34m,\u001b[0m \u001b[0mnewline\u001b[0m\u001b[0;34m=\u001b[0m\u001b[0;34m\"\"\u001b[0m\u001b[0;34m)\u001b[0m\u001b[0;34m\u001b[0m\u001b[0;34m\u001b[0m\u001b[0m\n\u001b[0m\u001b[1;32m    494\u001b[0m         \u001b[0;32melif\u001b[0m \u001b[0mis_text\u001b[0m\u001b[0;34m:\u001b[0m\u001b[0;34m\u001b[0m\u001b[0;34m\u001b[0m\u001b[0m\n\u001b[1;32m    495\u001b[0m             \u001b[0;31m# No explicit encoding\u001b[0m\u001b[0;34m\u001b[0m\u001b[0;34m\u001b[0m\u001b[0;34m\u001b[0m\u001b[0m\n",
            "\u001b[0;31mFileNotFoundError\u001b[0m: [Errno 2] No such file or directory: 'data/unemployment_missing.csv'"
          ]
        }
      ]
    },
    {
      "cell_type": "markdown",
      "metadata": {
        "id": "LhcxNCZMUMLU"
      },
      "source": [
        "Let's look at our file."
      ]
    },
    {
      "cell_type": "code",
      "metadata": {
        "id": "BKXqtMVQUMLU"
      },
      "source": [
        "!head -5 data/unemployment_missing.csv"
      ],
      "execution_count": null,
      "outputs": []
    },
    {
      "cell_type": "markdown",
      "metadata": {
        "id": "PGFKzYLoUMLW"
      },
      "source": [
        "By default, this method writes the indices. We probably don't want that. Let's edit the code. Let's also be explicit about the type of delimiter we're interested in. (Values can be separated by pipes (`|`), semicolons (`;`), tabs (`\\t`), etc.)"
      ]
    },
    {
      "cell_type": "code",
      "metadata": {
        "id": "HgeaY4K5UMLW"
      },
      "source": [
        "unemployment_rate.to_csv('data/unemployment_missing.csv', index=False, sep=',')"
      ],
      "execution_count": null,
      "outputs": []
    },
    {
      "cell_type": "code",
      "metadata": {
        "id": "sXMHuyfZUMLY"
      },
      "source": [
        "!head -5 data/unemployment_missing.csv"
      ],
      "execution_count": null,
      "outputs": []
    },
    {
      "cell_type": "markdown",
      "metadata": {
        "id": "spYgKU9SUMLZ"
      },
      "source": [
        "Much better!\n",
        "\n",
        "Let's return to our main `DataFrame`. Now that we have the missing values information in `unemployment_rate`, we can **drop the last column** we added to `unemployment`."
      ]
    },
    {
      "cell_type": "code",
      "metadata": {
        "id": "upPuWjFYUMLa"
      },
      "source": [
        "unemployment.drop('unemployment_rate_null', axis=1, inplace=True)"
      ],
      "execution_count": null,
      "outputs": []
    },
    {
      "cell_type": "markdown",
      "metadata": {
        "id": "u3OhawlZUMLc"
      },
      "source": [
        "It's important to specify the `axis` parameter. `axis=1` refers to columns (`axis=0` refers to rows.) The parameter `inplace=True` simply modifies the actual `DataFrame` rather than returning a new `DataFrame`."
      ]
    },
    {
      "cell_type": "code",
      "metadata": {
        "id": "wwzs3t8KUMLd"
      },
      "source": [
        "unemployment.head()"
      ],
      "execution_count": null,
      "outputs": []
    },
    {
      "cell_type": "markdown",
      "metadata": {
        "id": "VjRci-nxUMLf"
      },
      "source": [
        "## 8. Dealing With Missing Values: Boolean Indexing <a id=\"section8\"/>\n",
        "\n",
        "Now that we know about the missing values, we have to deal with them. There are two main options:\n",
        "\n",
        "* Fill the missing values with some other values.\n",
        "* Do not use observations with missing values.\n",
        "    * Depending on the analysis, we may want to exclude entire countries.\n",
        "    \n",
        "Because countries with missing unemployment rate data have at least 36 missing values, which is too many to fill, we'll take the second approach and **exclude missing values** from our primary analyses.\n",
        "\n",
        "Instead of just getting rid of that data, it might make sense to store it in a separate `DataFrame`. This way, we could answer questions such as, \"do missing values occur during certain months (or years) more frequently?\" With this, we will introduce the concept of *boolean indexing* for filtering data."
      ]
    },
    {
      "cell_type": "code",
      "metadata": {
        "id": "sEPOsPS2UMLg"
      },
      "source": [
        "unemployment_rate_missing = unemployment[unemployment['unemployment_rate'].isnull()]"
      ],
      "execution_count": 68,
      "outputs": []
    },
    {
      "cell_type": "markdown",
      "metadata": {
        "id": "A3t7kaQJUMLh"
      },
      "source": [
        "Recall that `unemployment['unemployment_rate'].isnull()` produces an array of boolean values. We used this previously when counting the number of missing values, though we did not see its output. Let's see some of that now."
      ]
    },
    {
      "cell_type": "code",
      "metadata": {
        "id": "I3gnbKpdUMLi",
        "colab": {
          "base_uri": "https://localhost:8080/"
        },
        "outputId": "8b445a83-b999-42c7-d939-609bfce1396e"
      },
      "source": [
        "unemployment['unemployment_rate'].isnull()[:10]"
      ],
      "execution_count": 69,
      "outputs": [
        {
          "output_type": "execute_result",
          "data": {
            "text/plain": [
              "0    False\n",
              "1    False\n",
              "2    False\n",
              "3    False\n",
              "4    False\n",
              "5    False\n",
              "6    False\n",
              "7    False\n",
              "8    False\n",
              "9    False\n",
              "Name: unemployment_rate, dtype: bool"
            ]
          },
          "metadata": {
            "tags": []
          },
          "execution_count": 69
        }
      ]
    },
    {
      "cell_type": "markdown",
      "metadata": {
        "id": "DN8UEOrSUMLj"
      },
      "source": [
        "To create `unemployment_rate_missing`, we're indexing `unemployment` with the array above. This returns only the rows where the value in the array is `True`. Let's see if it worked."
      ]
    },
    {
      "cell_type": "code",
      "metadata": {
        "id": "FvaKgMQiUMLk",
        "colab": {
          "base_uri": "https://localhost:8080/",
          "height": 224
        },
        "outputId": "bfb92f21-6417-4a08-d9cd-cceca76d4f37"
      },
      "source": [
        "unemployment_rate_missing.head()"
      ],
      "execution_count": 70,
      "outputs": [
        {
          "output_type": "execute_result",
          "data": {
            "text/html": [
              "<div>\n",
              "<style scoped>\n",
              "    .dataframe tbody tr th:only-of-type {\n",
              "        vertical-align: middle;\n",
              "    }\n",
              "\n",
              "    .dataframe tbody tr th {\n",
              "        vertical-align: top;\n",
              "    }\n",
              "\n",
              "    .dataframe thead th {\n",
              "        text-align: right;\n",
              "    }\n",
              "</style>\n",
              "<table border=\"1\" class=\"dataframe\">\n",
              "  <thead>\n",
              "    <tr style=\"text-align: right;\">\n",
              "      <th></th>\n",
              "      <th>country</th>\n",
              "      <th>seasonality</th>\n",
              "      <th>year_month</th>\n",
              "      <th>year</th>\n",
              "      <th>month</th>\n",
              "      <th>unemployment</th>\n",
              "      <th>unemployment_rate</th>\n",
              "      <th>country_group</th>\n",
              "      <th>name_en</th>\n",
              "      <th>unemployment_rate_null</th>\n",
              "    </tr>\n",
              "  </thead>\n",
              "  <tbody>\n",
              "    <tr>\n",
              "      <th>1656</th>\n",
              "      <td>bg</td>\n",
              "      <td>nsa</td>\n",
              "      <td>1995.01</td>\n",
              "      <td>1995</td>\n",
              "      <td>1</td>\n",
              "      <td>391000</td>\n",
              "      <td>NaN</td>\n",
              "      <td>eu</td>\n",
              "      <td>Bulgaria</td>\n",
              "      <td>True</td>\n",
              "    </tr>\n",
              "    <tr>\n",
              "      <th>1657</th>\n",
              "      <td>bg</td>\n",
              "      <td>nsa</td>\n",
              "      <td>1995.02</td>\n",
              "      <td>1995</td>\n",
              "      <td>2</td>\n",
              "      <td>387000</td>\n",
              "      <td>NaN</td>\n",
              "      <td>eu</td>\n",
              "      <td>Bulgaria</td>\n",
              "      <td>True</td>\n",
              "    </tr>\n",
              "    <tr>\n",
              "      <th>1658</th>\n",
              "      <td>bg</td>\n",
              "      <td>nsa</td>\n",
              "      <td>1995.03</td>\n",
              "      <td>1995</td>\n",
              "      <td>3</td>\n",
              "      <td>378000</td>\n",
              "      <td>NaN</td>\n",
              "      <td>eu</td>\n",
              "      <td>Bulgaria</td>\n",
              "      <td>True</td>\n",
              "    </tr>\n",
              "    <tr>\n",
              "      <th>1659</th>\n",
              "      <td>bg</td>\n",
              "      <td>nsa</td>\n",
              "      <td>1995.04</td>\n",
              "      <td>1995</td>\n",
              "      <td>4</td>\n",
              "      <td>365000</td>\n",
              "      <td>NaN</td>\n",
              "      <td>eu</td>\n",
              "      <td>Bulgaria</td>\n",
              "      <td>True</td>\n",
              "    </tr>\n",
              "    <tr>\n",
              "      <th>1660</th>\n",
              "      <td>bg</td>\n",
              "      <td>nsa</td>\n",
              "      <td>1995.05</td>\n",
              "      <td>1995</td>\n",
              "      <td>5</td>\n",
              "      <td>346000</td>\n",
              "      <td>NaN</td>\n",
              "      <td>eu</td>\n",
              "      <td>Bulgaria</td>\n",
              "      <td>True</td>\n",
              "    </tr>\n",
              "  </tbody>\n",
              "</table>\n",
              "</div>"
            ],
            "text/plain": [
              "     country seasonality  ...   name_en  unemployment_rate_null\n",
              "1656      bg         nsa  ...  Bulgaria                    True\n",
              "1657      bg         nsa  ...  Bulgaria                    True\n",
              "1658      bg         nsa  ...  Bulgaria                    True\n",
              "1659      bg         nsa  ...  Bulgaria                    True\n",
              "1660      bg         nsa  ...  Bulgaria                    True\n",
              "\n",
              "[5 rows x 10 columns]"
            ]
          },
          "metadata": {
            "tags": []
          },
          "execution_count": 70
        }
      ]
    },
    {
      "cell_type": "markdown",
      "metadata": {
        "id": "974UFSJrUMLp"
      },
      "source": [
        "It is also possible to specify multiple conditions using the `&` operator, but each condition needs to be inside of parentheses. The `.isin()` method, which takes a `list` of values, is useful when you're interested in conditioning on multiple values on a given column. For example, if you want to select multiple countries.\n",
        "\n",
        "Now, we're ready to remove the missing data in `unemployment`. To do this, we can use the `.dropna()` method."
      ]
    },
    {
      "cell_type": "code",
      "metadata": {
        "id": "neOmaFOmUMLq",
        "colab": {
          "base_uri": "https://localhost:8080/",
          "height": 524
        },
        "outputId": "169ec711-334b-4c7f-d8c7-1016febe8679"
      },
      "source": [
        "unemployment.dropna(subset=['unemployment_rate'], inplace=True)\n",
        "unemployment"
      ],
      "execution_count": 71,
      "outputs": [
        {
          "output_type": "execute_result",
          "data": {
            "text/html": [
              "<div>\n",
              "<style scoped>\n",
              "    .dataframe tbody tr th:only-of-type {\n",
              "        vertical-align: middle;\n",
              "    }\n",
              "\n",
              "    .dataframe tbody tr th {\n",
              "        vertical-align: top;\n",
              "    }\n",
              "\n",
              "    .dataframe thead th {\n",
              "        text-align: right;\n",
              "    }\n",
              "</style>\n",
              "<table border=\"1\" class=\"dataframe\">\n",
              "  <thead>\n",
              "    <tr style=\"text-align: right;\">\n",
              "      <th></th>\n",
              "      <th>country</th>\n",
              "      <th>seasonality</th>\n",
              "      <th>year_month</th>\n",
              "      <th>year</th>\n",
              "      <th>month</th>\n",
              "      <th>unemployment</th>\n",
              "      <th>unemployment_rate</th>\n",
              "      <th>country_group</th>\n",
              "      <th>name_en</th>\n",
              "      <th>unemployment_rate_null</th>\n",
              "    </tr>\n",
              "  </thead>\n",
              "  <tbody>\n",
              "    <tr>\n",
              "      <th>0</th>\n",
              "      <td>at</td>\n",
              "      <td>nsa</td>\n",
              "      <td>1993.01</td>\n",
              "      <td>1993</td>\n",
              "      <td>1</td>\n",
              "      <td>171000</td>\n",
              "      <td>4.5</td>\n",
              "      <td>eu</td>\n",
              "      <td>Austria</td>\n",
              "      <td>False</td>\n",
              "    </tr>\n",
              "    <tr>\n",
              "      <th>1</th>\n",
              "      <td>at</td>\n",
              "      <td>nsa</td>\n",
              "      <td>1993.02</td>\n",
              "      <td>1993</td>\n",
              "      <td>2</td>\n",
              "      <td>175000</td>\n",
              "      <td>4.6</td>\n",
              "      <td>eu</td>\n",
              "      <td>Austria</td>\n",
              "      <td>False</td>\n",
              "    </tr>\n",
              "    <tr>\n",
              "      <th>2</th>\n",
              "      <td>at</td>\n",
              "      <td>nsa</td>\n",
              "      <td>1993.03</td>\n",
              "      <td>1993</td>\n",
              "      <td>3</td>\n",
              "      <td>166000</td>\n",
              "      <td>4.4</td>\n",
              "      <td>eu</td>\n",
              "      <td>Austria</td>\n",
              "      <td>False</td>\n",
              "    </tr>\n",
              "    <tr>\n",
              "      <th>3</th>\n",
              "      <td>at</td>\n",
              "      <td>nsa</td>\n",
              "      <td>1993.04</td>\n",
              "      <td>1993</td>\n",
              "      <td>4</td>\n",
              "      <td>157000</td>\n",
              "      <td>4.1</td>\n",
              "      <td>eu</td>\n",
              "      <td>Austria</td>\n",
              "      <td>False</td>\n",
              "    </tr>\n",
              "    <tr>\n",
              "      <th>4</th>\n",
              "      <td>at</td>\n",
              "      <td>nsa</td>\n",
              "      <td>1993.05</td>\n",
              "      <td>1993</td>\n",
              "      <td>5</td>\n",
              "      <td>147000</td>\n",
              "      <td>3.9</td>\n",
              "      <td>eu</td>\n",
              "      <td>Austria</td>\n",
              "      <td>False</td>\n",
              "    </tr>\n",
              "    <tr>\n",
              "      <th>...</th>\n",
              "      <td>...</td>\n",
              "      <td>...</td>\n",
              "      <td>...</td>\n",
              "      <td>...</td>\n",
              "      <td>...</td>\n",
              "      <td>...</td>\n",
              "      <td>...</td>\n",
              "      <td>...</td>\n",
              "      <td>...</td>\n",
              "      <td>...</td>\n",
              "    </tr>\n",
              "    <tr>\n",
              "      <th>20791</th>\n",
              "      <td>uk</td>\n",
              "      <td>trend</td>\n",
              "      <td>2010.06</td>\n",
              "      <td>2010</td>\n",
              "      <td>6</td>\n",
              "      <td>2429000</td>\n",
              "      <td>7.7</td>\n",
              "      <td>eu</td>\n",
              "      <td>United Kingdom</td>\n",
              "      <td>False</td>\n",
              "    </tr>\n",
              "    <tr>\n",
              "      <th>20792</th>\n",
              "      <td>uk</td>\n",
              "      <td>trend</td>\n",
              "      <td>2010.07</td>\n",
              "      <td>2010</td>\n",
              "      <td>7</td>\n",
              "      <td>2422000</td>\n",
              "      <td>7.7</td>\n",
              "      <td>eu</td>\n",
              "      <td>United Kingdom</td>\n",
              "      <td>False</td>\n",
              "    </tr>\n",
              "    <tr>\n",
              "      <th>20793</th>\n",
              "      <td>uk</td>\n",
              "      <td>trend</td>\n",
              "      <td>2010.08</td>\n",
              "      <td>2010</td>\n",
              "      <td>8</td>\n",
              "      <td>2429000</td>\n",
              "      <td>7.7</td>\n",
              "      <td>eu</td>\n",
              "      <td>United Kingdom</td>\n",
              "      <td>False</td>\n",
              "    </tr>\n",
              "    <tr>\n",
              "      <th>20794</th>\n",
              "      <td>uk</td>\n",
              "      <td>trend</td>\n",
              "      <td>2010.09</td>\n",
              "      <td>2010</td>\n",
              "      <td>9</td>\n",
              "      <td>2447000</td>\n",
              "      <td>7.8</td>\n",
              "      <td>eu</td>\n",
              "      <td>United Kingdom</td>\n",
              "      <td>False</td>\n",
              "    </tr>\n",
              "    <tr>\n",
              "      <th>20795</th>\n",
              "      <td>uk</td>\n",
              "      <td>trend</td>\n",
              "      <td>2010.10</td>\n",
              "      <td>2010</td>\n",
              "      <td>10</td>\n",
              "      <td>2455000</td>\n",
              "      <td>7.8</td>\n",
              "      <td>eu</td>\n",
              "      <td>United Kingdom</td>\n",
              "      <td>False</td>\n",
              "    </tr>\n",
              "  </tbody>\n",
              "</table>\n",
              "<p>19851 rows × 10 columns</p>\n",
              "</div>"
            ],
            "text/plain": [
              "      country seasonality  ...         name_en  unemployment_rate_null\n",
              "0          at         nsa  ...         Austria                   False\n",
              "1          at         nsa  ...         Austria                   False\n",
              "2          at         nsa  ...         Austria                   False\n",
              "3          at         nsa  ...         Austria                   False\n",
              "4          at         nsa  ...         Austria                   False\n",
              "...       ...         ...  ...             ...                     ...\n",
              "20791      uk       trend  ...  United Kingdom                   False\n",
              "20792      uk       trend  ...  United Kingdom                   False\n",
              "20793      uk       trend  ...  United Kingdom                   False\n",
              "20794      uk       trend  ...  United Kingdom                   False\n",
              "20795      uk       trend  ...  United Kingdom                   False\n",
              "\n",
              "[19851 rows x 10 columns]"
            ]
          },
          "metadata": {
            "tags": []
          },
          "execution_count": 71
        }
      ]
    },
    {
      "cell_type": "markdown",
      "metadata": {
        "id": "LpKjqmQHUMLr"
      },
      "source": [
        "(Note that while we have dropped all observations for which `unemployment_rate == NaN`, this doesn't mean that all of our observations overlap exactly in time. We may find that there are dates where we have data for one country and no data for others.)"
      ]
    },
    {
      "cell_type": "markdown",
      "metadata": {
        "id": "AgJQzconUMLs"
      },
      "source": [
        "### Challenge 7: Boolean Indexing\n",
        "Suppose we only want to look at unemployment data from the year 2000 or later. Use Boolean indexing to create a DataFrame with only these years.\n",
        "\n",
        "1. Select the \"year\" column from `unemployment`\n",
        "2. Using the year data, create a **mask**: an array of Booleans where each value is True if and only if the year is 2000 or later. Remember, you can use Boolean operators like `>`, `<`, and `==` on a column\n",
        "3. Use the mask from step 2 to index `unemployment`"
      ]
    },
    {
      "cell_type": "code",
      "metadata": {
        "id": "GzNHoQXLUMLs",
        "colab": {
          "base_uri": "https://localhost:8080/",
          "height": 524
        },
        "outputId": "9f1781e6-ec5d-4438-dd83-06cbed1cabce"
      },
      "source": [
        "# select the year column from unemployment\n",
        "year = unemployment['year']\n",
        "\n",
        "# create a mask\n",
        "later_or_equal_2000 = unemployment[year >= 2000]\n",
        "\n",
        "\n",
        "# Boolean index unemployment\n",
        "later_or_equal_2000"
      ],
      "execution_count": 72,
      "outputs": [
        {
          "output_type": "execute_result",
          "data": {
            "text/html": [
              "<div>\n",
              "<style scoped>\n",
              "    .dataframe tbody tr th:only-of-type {\n",
              "        vertical-align: middle;\n",
              "    }\n",
              "\n",
              "    .dataframe tbody tr th {\n",
              "        vertical-align: top;\n",
              "    }\n",
              "\n",
              "    .dataframe thead th {\n",
              "        text-align: right;\n",
              "    }\n",
              "</style>\n",
              "<table border=\"1\" class=\"dataframe\">\n",
              "  <thead>\n",
              "    <tr style=\"text-align: right;\">\n",
              "      <th></th>\n",
              "      <th>country</th>\n",
              "      <th>seasonality</th>\n",
              "      <th>year_month</th>\n",
              "      <th>year</th>\n",
              "      <th>month</th>\n",
              "      <th>unemployment</th>\n",
              "      <th>unemployment_rate</th>\n",
              "      <th>country_group</th>\n",
              "      <th>name_en</th>\n",
              "      <th>unemployment_rate_null</th>\n",
              "    </tr>\n",
              "  </thead>\n",
              "  <tbody>\n",
              "    <tr>\n",
              "      <th>84</th>\n",
              "      <td>at</td>\n",
              "      <td>nsa</td>\n",
              "      <td>2000.01</td>\n",
              "      <td>2000</td>\n",
              "      <td>1</td>\n",
              "      <td>182000</td>\n",
              "      <td>4.7</td>\n",
              "      <td>eu</td>\n",
              "      <td>Austria</td>\n",
              "      <td>False</td>\n",
              "    </tr>\n",
              "    <tr>\n",
              "      <th>85</th>\n",
              "      <td>at</td>\n",
              "      <td>nsa</td>\n",
              "      <td>2000.02</td>\n",
              "      <td>2000</td>\n",
              "      <td>2</td>\n",
              "      <td>190000</td>\n",
              "      <td>4.9</td>\n",
              "      <td>eu</td>\n",
              "      <td>Austria</td>\n",
              "      <td>False</td>\n",
              "    </tr>\n",
              "    <tr>\n",
              "      <th>86</th>\n",
              "      <td>at</td>\n",
              "      <td>nsa</td>\n",
              "      <td>2000.03</td>\n",
              "      <td>2000</td>\n",
              "      <td>3</td>\n",
              "      <td>171000</td>\n",
              "      <td>4.5</td>\n",
              "      <td>eu</td>\n",
              "      <td>Austria</td>\n",
              "      <td>False</td>\n",
              "    </tr>\n",
              "    <tr>\n",
              "      <th>87</th>\n",
              "      <td>at</td>\n",
              "      <td>nsa</td>\n",
              "      <td>2000.04</td>\n",
              "      <td>2000</td>\n",
              "      <td>4</td>\n",
              "      <td>148000</td>\n",
              "      <td>3.9</td>\n",
              "      <td>eu</td>\n",
              "      <td>Austria</td>\n",
              "      <td>False</td>\n",
              "    </tr>\n",
              "    <tr>\n",
              "      <th>88</th>\n",
              "      <td>at</td>\n",
              "      <td>nsa</td>\n",
              "      <td>2000.05</td>\n",
              "      <td>2000</td>\n",
              "      <td>5</td>\n",
              "      <td>133000</td>\n",
              "      <td>3.5</td>\n",
              "      <td>eu</td>\n",
              "      <td>Austria</td>\n",
              "      <td>False</td>\n",
              "    </tr>\n",
              "    <tr>\n",
              "      <th>...</th>\n",
              "      <td>...</td>\n",
              "      <td>...</td>\n",
              "      <td>...</td>\n",
              "      <td>...</td>\n",
              "      <td>...</td>\n",
              "      <td>...</td>\n",
              "      <td>...</td>\n",
              "      <td>...</td>\n",
              "      <td>...</td>\n",
              "      <td>...</td>\n",
              "    </tr>\n",
              "    <tr>\n",
              "      <th>20791</th>\n",
              "      <td>uk</td>\n",
              "      <td>trend</td>\n",
              "      <td>2010.06</td>\n",
              "      <td>2010</td>\n",
              "      <td>6</td>\n",
              "      <td>2429000</td>\n",
              "      <td>7.7</td>\n",
              "      <td>eu</td>\n",
              "      <td>United Kingdom</td>\n",
              "      <td>False</td>\n",
              "    </tr>\n",
              "    <tr>\n",
              "      <th>20792</th>\n",
              "      <td>uk</td>\n",
              "      <td>trend</td>\n",
              "      <td>2010.07</td>\n",
              "      <td>2010</td>\n",
              "      <td>7</td>\n",
              "      <td>2422000</td>\n",
              "      <td>7.7</td>\n",
              "      <td>eu</td>\n",
              "      <td>United Kingdom</td>\n",
              "      <td>False</td>\n",
              "    </tr>\n",
              "    <tr>\n",
              "      <th>20793</th>\n",
              "      <td>uk</td>\n",
              "      <td>trend</td>\n",
              "      <td>2010.08</td>\n",
              "      <td>2010</td>\n",
              "      <td>8</td>\n",
              "      <td>2429000</td>\n",
              "      <td>7.7</td>\n",
              "      <td>eu</td>\n",
              "      <td>United Kingdom</td>\n",
              "      <td>False</td>\n",
              "    </tr>\n",
              "    <tr>\n",
              "      <th>20794</th>\n",
              "      <td>uk</td>\n",
              "      <td>trend</td>\n",
              "      <td>2010.09</td>\n",
              "      <td>2010</td>\n",
              "      <td>9</td>\n",
              "      <td>2447000</td>\n",
              "      <td>7.8</td>\n",
              "      <td>eu</td>\n",
              "      <td>United Kingdom</td>\n",
              "      <td>False</td>\n",
              "    </tr>\n",
              "    <tr>\n",
              "      <th>20795</th>\n",
              "      <td>uk</td>\n",
              "      <td>trend</td>\n",
              "      <td>2010.10</td>\n",
              "      <td>2010</td>\n",
              "      <td>10</td>\n",
              "      <td>2455000</td>\n",
              "      <td>7.8</td>\n",
              "      <td>eu</td>\n",
              "      <td>United Kingdom</td>\n",
              "      <td>False</td>\n",
              "    </tr>\n",
              "  </tbody>\n",
              "</table>\n",
              "<p>11181 rows × 10 columns</p>\n",
              "</div>"
            ],
            "text/plain": [
              "      country seasonality  ...         name_en  unemployment_rate_null\n",
              "84         at         nsa  ...         Austria                   False\n",
              "85         at         nsa  ...         Austria                   False\n",
              "86         at         nsa  ...         Austria                   False\n",
              "87         at         nsa  ...         Austria                   False\n",
              "88         at         nsa  ...         Austria                   False\n",
              "...       ...         ...  ...             ...                     ...\n",
              "20791      uk       trend  ...  United Kingdom                   False\n",
              "20792      uk       trend  ...  United Kingdom                   False\n",
              "20793      uk       trend  ...  United Kingdom                   False\n",
              "20794      uk       trend  ...  United Kingdom                   False\n",
              "20795      uk       trend  ...  United Kingdom                   False\n",
              "\n",
              "[11181 rows x 10 columns]"
            ]
          },
          "metadata": {
            "tags": []
          },
          "execution_count": 72
        }
      ]
    },
    {
      "cell_type": "markdown",
      "metadata": {
        "id": "ZZjt6VPDUMLu"
      },
      "source": [
        "## 9. Sorting Values\n",
        "\n",
        "At this point, you might be curious to know what the highest unemployment rates were. For this, we'll use the `DataFrame.sort_values()` method to **sort the data.**"
      ]
    },
    {
      "cell_type": "code",
      "metadata": {
        "id": "Yz6fAIpPUMLu",
        "colab": {
          "base_uri": "https://localhost:8080/",
          "height": 224
        },
        "outputId": "86a6249f-80a1-4f9c-cb56-6cff046c9060"
      },
      "source": [
        "unemployment.sort_values('unemployment_rate', ascending=False)[:5]"
      ],
      "execution_count": 73,
      "outputs": [
        {
          "output_type": "execute_result",
          "data": {
            "text/html": [
              "<div>\n",
              "<style scoped>\n",
              "    .dataframe tbody tr th:only-of-type {\n",
              "        vertical-align: middle;\n",
              "    }\n",
              "\n",
              "    .dataframe tbody tr th {\n",
              "        vertical-align: top;\n",
              "    }\n",
              "\n",
              "    .dataframe thead th {\n",
              "        text-align: right;\n",
              "    }\n",
              "</style>\n",
              "<table border=\"1\" class=\"dataframe\">\n",
              "  <thead>\n",
              "    <tr style=\"text-align: right;\">\n",
              "      <th></th>\n",
              "      <th>country</th>\n",
              "      <th>seasonality</th>\n",
              "      <th>year_month</th>\n",
              "      <th>year</th>\n",
              "      <th>month</th>\n",
              "      <th>unemployment</th>\n",
              "      <th>unemployment_rate</th>\n",
              "      <th>country_group</th>\n",
              "      <th>name_en</th>\n",
              "      <th>unemployment_rate_null</th>\n",
              "    </tr>\n",
              "  </thead>\n",
              "  <tbody>\n",
              "    <tr>\n",
              "      <th>15526</th>\n",
              "      <td>pl</td>\n",
              "      <td>nsa</td>\n",
              "      <td>2004.02</td>\n",
              "      <td>2004</td>\n",
              "      <td>2</td>\n",
              "      <td>3531000</td>\n",
              "      <td>20.9</td>\n",
              "      <td>eu</td>\n",
              "      <td>Poland</td>\n",
              "      <td>False</td>\n",
              "    </tr>\n",
              "    <tr>\n",
              "      <th>15525</th>\n",
              "      <td>pl</td>\n",
              "      <td>nsa</td>\n",
              "      <td>2004.01</td>\n",
              "      <td>2004</td>\n",
              "      <td>1</td>\n",
              "      <td>3520000</td>\n",
              "      <td>20.7</td>\n",
              "      <td>eu</td>\n",
              "      <td>Poland</td>\n",
              "      <td>False</td>\n",
              "    </tr>\n",
              "    <tr>\n",
              "      <th>15514</th>\n",
              "      <td>pl</td>\n",
              "      <td>nsa</td>\n",
              "      <td>2003.02</td>\n",
              "      <td>2003</td>\n",
              "      <td>2</td>\n",
              "      <td>3460000</td>\n",
              "      <td>20.7</td>\n",
              "      <td>eu</td>\n",
              "      <td>Poland</td>\n",
              "      <td>False</td>\n",
              "    </tr>\n",
              "    <tr>\n",
              "      <th>5663</th>\n",
              "      <td>es</td>\n",
              "      <td>sa</td>\n",
              "      <td>2010.09</td>\n",
              "      <td>2010</td>\n",
              "      <td>9</td>\n",
              "      <td>4773000</td>\n",
              "      <td>20.6</td>\n",
              "      <td>eu</td>\n",
              "      <td>Spain</td>\n",
              "      <td>False</td>\n",
              "    </tr>\n",
              "    <tr>\n",
              "      <th>15527</th>\n",
              "      <td>pl</td>\n",
              "      <td>nsa</td>\n",
              "      <td>2004.03</td>\n",
              "      <td>2004</td>\n",
              "      <td>3</td>\n",
              "      <td>3475000</td>\n",
              "      <td>20.6</td>\n",
              "      <td>eu</td>\n",
              "      <td>Poland</td>\n",
              "      <td>False</td>\n",
              "    </tr>\n",
              "  </tbody>\n",
              "</table>\n",
              "</div>"
            ],
            "text/plain": [
              "      country seasonality  ...  name_en  unemployment_rate_null\n",
              "15526      pl         nsa  ...   Poland                   False\n",
              "15525      pl         nsa  ...   Poland                   False\n",
              "15514      pl         nsa  ...   Poland                   False\n",
              "5663       es          sa  ...    Spain                   False\n",
              "15527      pl         nsa  ...   Poland                   False\n",
              "\n",
              "[5 rows x 10 columns]"
            ]
          },
          "metadata": {
            "tags": []
          },
          "execution_count": 73
        }
      ]
    },
    {
      "cell_type": "markdown",
      "metadata": {
        "id": "zbJfl6-eUMLv"
      },
      "source": [
        "The above code creates a copy of the `DataFrame`, sorted in *descending* order, and prints the first five rows.\n",
        "\n",
        "You may have noticed that the data set includes a `seasonality` column, which we haven't yet discussed. The unemployment rate in this data is actually calculated in three separate ways. Let's look at the values."
      ]
    },
    {
      "cell_type": "code",
      "metadata": {
        "id": "15easJbxUMLw",
        "colab": {
          "base_uri": "https://localhost:8080/"
        },
        "outputId": "a257d601-1f9e-4d2a-f4f3-dbb3641d1bfb"
      },
      "source": [
        "unemployment['seasonality'].unique()"
      ],
      "execution_count": 74,
      "outputs": [
        {
          "output_type": "execute_result",
          "data": {
            "text/plain": [
              "array(['nsa', 'sa', 'trend'], dtype=object)"
            ]
          },
          "metadata": {
            "tags": []
          },
          "execution_count": 74
        }
      ]
    },
    {
      "cell_type": "markdown",
      "metadata": {
        "id": "HuxbHXZQUMLx"
      },
      "source": [
        "The three options above correspond to:\n",
        "\n",
        "* not seasonally adjusted\n",
        "* seasonally adjusted\n",
        "* trend cycle\n",
        "\n",
        "We'll stick with seasonally adjusted data so that the values are more comparable. Let's look at the highest unemployment rates in this context."
      ]
    },
    {
      "cell_type": "code",
      "metadata": {
        "id": "287s16iZUMLy",
        "colab": {
          "base_uri": "https://localhost:8080/",
          "height": 224
        },
        "outputId": "100b6940-b3ee-4b9b-9796-c872cf5f23b2"
      },
      "source": [
        "unemployment[unemployment['seasonality'] == 'sa'].sort_values('unemployment_rate', ascending=False)[:5]"
      ],
      "execution_count": 75,
      "outputs": [
        {
          "output_type": "execute_result",
          "data": {
            "text/html": [
              "<div>\n",
              "<style scoped>\n",
              "    .dataframe tbody tr th:only-of-type {\n",
              "        vertical-align: middle;\n",
              "    }\n",
              "\n",
              "    .dataframe tbody tr th {\n",
              "        vertical-align: top;\n",
              "    }\n",
              "\n",
              "    .dataframe thead th {\n",
              "        text-align: right;\n",
              "    }\n",
              "</style>\n",
              "<table border=\"1\" class=\"dataframe\">\n",
              "  <thead>\n",
              "    <tr style=\"text-align: right;\">\n",
              "      <th></th>\n",
              "      <th>country</th>\n",
              "      <th>seasonality</th>\n",
              "      <th>year_month</th>\n",
              "      <th>year</th>\n",
              "      <th>month</th>\n",
              "      <th>unemployment</th>\n",
              "      <th>unemployment_rate</th>\n",
              "      <th>country_group</th>\n",
              "      <th>name_en</th>\n",
              "      <th>unemployment_rate_null</th>\n",
              "    </tr>\n",
              "  </thead>\n",
              "  <tbody>\n",
              "    <tr>\n",
              "      <th>5664</th>\n",
              "      <td>es</td>\n",
              "      <td>sa</td>\n",
              "      <td>2010.10</td>\n",
              "      <td>2010</td>\n",
              "      <td>10</td>\n",
              "      <td>4758000</td>\n",
              "      <td>20.6</td>\n",
              "      <td>eu</td>\n",
              "      <td>Spain</td>\n",
              "      <td>False</td>\n",
              "    </tr>\n",
              "    <tr>\n",
              "      <th>5663</th>\n",
              "      <td>es</td>\n",
              "      <td>sa</td>\n",
              "      <td>2010.09</td>\n",
              "      <td>2010</td>\n",
              "      <td>9</td>\n",
              "      <td>4773000</td>\n",
              "      <td>20.6</td>\n",
              "      <td>eu</td>\n",
              "      <td>Spain</td>\n",
              "      <td>False</td>\n",
              "    </tr>\n",
              "    <tr>\n",
              "      <th>5662</th>\n",
              "      <td>es</td>\n",
              "      <td>sa</td>\n",
              "      <td>2010.08</td>\n",
              "      <td>2010</td>\n",
              "      <td>8</td>\n",
              "      <td>4739000</td>\n",
              "      <td>20.5</td>\n",
              "      <td>eu</td>\n",
              "      <td>Spain</td>\n",
              "      <td>False</td>\n",
              "    </tr>\n",
              "    <tr>\n",
              "      <th>5665</th>\n",
              "      <td>es</td>\n",
              "      <td>sa</td>\n",
              "      <td>2010.11</td>\n",
              "      <td>2010</td>\n",
              "      <td>11</td>\n",
              "      <td>4723000</td>\n",
              "      <td>20.4</td>\n",
              "      <td>eu</td>\n",
              "      <td>Spain</td>\n",
              "      <td>False</td>\n",
              "    </tr>\n",
              "    <tr>\n",
              "      <th>15702</th>\n",
              "      <td>pl</td>\n",
              "      <td>sa</td>\n",
              "      <td>2002.10</td>\n",
              "      <td>2002</td>\n",
              "      <td>10</td>\n",
              "      <td>3471000</td>\n",
              "      <td>20.3</td>\n",
              "      <td>eu</td>\n",
              "      <td>Poland</td>\n",
              "      <td>False</td>\n",
              "    </tr>\n",
              "  </tbody>\n",
              "</table>\n",
              "</div>"
            ],
            "text/plain": [
              "      country seasonality  ...  name_en  unemployment_rate_null\n",
              "5664       es          sa  ...    Spain                   False\n",
              "5663       es          sa  ...    Spain                   False\n",
              "5662       es          sa  ...    Spain                   False\n",
              "5665       es          sa  ...    Spain                   False\n",
              "15702      pl          sa  ...   Poland                   False\n",
              "\n",
              "[5 rows x 10 columns]"
            ]
          },
          "metadata": {
            "tags": []
          },
          "execution_count": 75
        }
      ]
    },
    {
      "cell_type": "markdown",
      "metadata": {
        "id": "6WbgFiwjUMLz"
      },
      "source": [
        "Spain has the highest seasonally adjusted unemployment rate.\n",
        "\n"
      ]
    },
    {
      "cell_type": "markdown",
      "metadata": {
        "id": "0EHUJayTUML0"
      },
      "source": [
        "## 10. Plotting With Pandas\n",
        "\n",
        "The best way to get a sense of this data is to **plot it.** Next, we'll start to look at some basic plotting with `pandas`. Before we begin, let's sort the data by country and date. This is good practice and is especially important when using `pandas`'s `.plot()` method because the x-axis values are based on the indices. When we sort, the index values remain unchanged. Thus, we need to reset them. The `drop` parameter tells `pandas` to construct a `DataFrame` *without* adding a column."
      ]
    },
    {
      "cell_type": "code",
      "metadata": {
        "id": "mhMAYifpUML0"
      },
      "source": [
        "unemployment.sort_values(['name_en', 'year_month'], inplace=True)\n",
        "unemployment.reset_index(drop=True, inplace=True)"
      ],
      "execution_count": 76,
      "outputs": []
    },
    {
      "cell_type": "markdown",
      "metadata": {
        "id": "cuDBClyVUML2"
      },
      "source": [
        "Let's take a look at Spain's unemployment rate (only because it was the highest) across time."
      ]
    },
    {
      "cell_type": "code",
      "metadata": {
        "id": "cOS0dIP9UML2"
      },
      "source": [
        "spain = unemployment[(unemployment['name_en'] == 'Spain') &\n",
        "                     (unemployment['seasonality'] == 'sa')]"
      ],
      "execution_count": 77,
      "outputs": []
    },
    {
      "cell_type": "code",
      "metadata": {
        "id": "Mmfjx3r6UML4",
        "colab": {
          "base_uri": "https://localhost:8080/",
          "height": 500
        },
        "outputId": "f63733d1-d9e7-44fe-a1dc-f1544e842934"
      },
      "source": [
        "spain['unemployment_rate'].plot(figsize=(10, 8), color='#348ABD')"
      ],
      "execution_count": 78,
      "outputs": [
        {
          "output_type": "execute_result",
          "data": {
            "text/plain": [
              "<matplotlib.axes._subplots.AxesSubplot at 0x7f0650d39fd0>"
            ]
          },
          "metadata": {
            "tags": []
          },
          "execution_count": 78
        },
        {
          "output_type": "display_data",
          "data": {
            "image/png": "[encoded data removed]",
            "text/plain": [
              "<Figure size 720x576 with 1 Axes>"
            ]
          },
          "metadata": {
            "tags": [],
            "needs_background": "light"
          }
        }
      ]
    },
    {
      "cell_type": "markdown",
      "metadata": {
        "id": "2iCDklG4UML6"
      },
      "source": [
        "Note that the values along the x-axis represent the indices associated with Spain in the sorted `unemployment` `DataFrame`. Wouldn't it be nice if, instead, we could **show the time period** associated with the various unemployment rates for Spain? It might also be interesting to **compare** Spain's unemployment rate with its neighbor to the west, Portugal.\n",
        "\n",
        "Let's first create a `DataFrame` that contains the unemployment data for both countries."
      ]
    },
    {
      "cell_type": "code",
      "metadata": {
        "id": "FQisCKaKUML9"
      },
      "source": [
        "ps = unemployment[(unemployment['name_en'].isin(['Portugal', 'Spain'])) &\n",
        "                  (unemployment['seasonality'] == 'sa')]"
      ],
      "execution_count": 79,
      "outputs": []
    },
    {
      "cell_type": "markdown",
      "metadata": {
        "id": "QF1Kz8BSUML_"
      },
      "source": [
        "Next, we'll **generate time series data** by converting our years and months into `datetime` objects. `pandas` provides a `to_datetime()` function that makes this relatively simple. It converts an argument&mdash;a single value or an array of values&mdash;to `datetime`. (Note that the return value [depends on the input](http://pandas.pydata.org/pandas-docs/stable/generated/pandas.to_datetime.html).) If we were interested in March 23, 1868, for example, we could do the following."
      ]
    },
    {
      "cell_type": "code",
      "metadata": {
        "id": "72h4oksLUMMA",
        "colab": {
          "base_uri": "https://localhost:8080/"
        },
        "outputId": "49e86f5c-235a-49f9-c28e-fded936ef55b"
      },
      "source": [
        "pd.to_datetime('1868/3/23')"
      ],
      "execution_count": 80,
      "outputs": [
        {
          "output_type": "execute_result",
          "data": {
            "text/plain": [
              "Timestamp('1868-03-23 00:00:00')"
            ]
          },
          "metadata": {
            "tags": []
          },
          "execution_count": 80
        }
      ]
    },
    {
      "cell_type": "markdown",
      "metadata": {
        "id": "_gM5rKDNUMMC"
      },
      "source": [
        "The argument doesn't necessarily have to be specified in the `yyyy/mm/dd` format. You could list it as `mm/dd/yyyy`, but it's a good idea to be explicit. As a result, we pass in a valid string format."
      ]
    },
    {
      "cell_type": "code",
      "metadata": {
        "id": "WG-2R7qlUMMD",
        "colab": {
          "base_uri": "https://localhost:8080/"
        },
        "outputId": "8be293d3-b7f2-46a0-e8d9-e8c26581afaf"
      },
      "source": [
        "pd.to_datetime('3/23/1868', format='%m/%d/%Y')"
      ],
      "execution_count": 81,
      "outputs": [
        {
          "output_type": "execute_result",
          "data": {
            "text/plain": [
              "Timestamp('1868-03-23 00:00:00')"
            ]
          },
          "metadata": {
            "tags": []
          },
          "execution_count": 81
        }
      ]
    },
    {
      "cell_type": "markdown",
      "metadata": {
        "id": "bNoXcljNUMME"
      },
      "source": [
        "Let's create the `datetime` object and add it to the `DataFrame` as a column named `date`. For this, we'll use the `DataFrame.insert()` method."
      ]
    },
    {
      "cell_type": "code",
      "metadata": {
        "id": "A2Fk-HIxUMMG"
      },
      "source": [
        "ps.insert(loc=0, column='date',\n",
        "          value=pd.to_datetime(ps['year'].astype(str) + '/' + ps['month'].astype(str) + '/1'))"
      ],
      "execution_count": 82,
      "outputs": []
    },
    {
      "cell_type": "markdown",
      "metadata": {
        "id": "HZB1LLDRUMMI"
      },
      "source": [
        "Finally, let's only keep certain columns, rename them, and reshape the `DataFrame`."
      ]
    },
    {
      "cell_type": "code",
      "metadata": {
        "id": "qK9l6D3RUMMI",
        "colab": {
          "base_uri": "https://localhost:8080/",
          "height": 235
        },
        "outputId": "f00a592d-01b4-41ef-fd05-34c7019a5d14"
      },
      "source": [
        "ps = ps[['date', 'name_en', 'unemployment_rate']]\n",
        "ps.columns = ['Time Period', 'Country', 'Unemployment Rate']\n",
        "ps = ps.pivot(index='Time Period', columns='Country', values='Unemployment Rate')\n",
        "ps.tail()"
      ],
      "execution_count": 83,
      "outputs": [
        {
          "output_type": "execute_result",
          "data": {
            "text/html": [
              "<div>\n",
              "<style scoped>\n",
              "    .dataframe tbody tr th:only-of-type {\n",
              "        vertical-align: middle;\n",
              "    }\n",
              "\n",
              "    .dataframe tbody tr th {\n",
              "        vertical-align: top;\n",
              "    }\n",
              "\n",
              "    .dataframe thead th {\n",
              "        text-align: right;\n",
              "    }\n",
              "</style>\n",
              "<table border=\"1\" class=\"dataframe\">\n",
              "  <thead>\n",
              "    <tr style=\"text-align: right;\">\n",
              "      <th>Country</th>\n",
              "      <th>Portugal</th>\n",
              "      <th>Spain</th>\n",
              "    </tr>\n",
              "    <tr>\n",
              "      <th>Time Period</th>\n",
              "      <th></th>\n",
              "      <th></th>\n",
              "    </tr>\n",
              "  </thead>\n",
              "  <tbody>\n",
              "    <tr>\n",
              "      <th>2010-08-01</th>\n",
              "      <td>11.1</td>\n",
              "      <td>20.5</td>\n",
              "    </tr>\n",
              "    <tr>\n",
              "      <th>2010-09-01</th>\n",
              "      <td>11.1</td>\n",
              "      <td>20.6</td>\n",
              "    </tr>\n",
              "    <tr>\n",
              "      <th>2010-10-01</th>\n",
              "      <td>11.0</td>\n",
              "      <td>20.6</td>\n",
              "    </tr>\n",
              "    <tr>\n",
              "      <th>2010-11-01</th>\n",
              "      <td>10.9</td>\n",
              "      <td>20.4</td>\n",
              "    </tr>\n",
              "    <tr>\n",
              "      <th>2010-12-01</th>\n",
              "      <td>10.9</td>\n",
              "      <td>20.2</td>\n",
              "    </tr>\n",
              "  </tbody>\n",
              "</table>\n",
              "</div>"
            ],
            "text/plain": [
              "Country      Portugal  Spain\n",
              "Time Period                 \n",
              "2010-08-01       11.1   20.5\n",
              "2010-09-01       11.1   20.6\n",
              "2010-10-01       11.0   20.6\n",
              "2010-11-01       10.9   20.4\n",
              "2010-12-01       10.9   20.2"
            ]
          },
          "metadata": {
            "tags": []
          },
          "execution_count": 83
        }
      ]
    },
    {
      "cell_type": "code",
      "metadata": {
        "id": "pwoaNx7MUMMK",
        "colab": {
          "base_uri": "https://localhost:8080/",
          "height": 235
        },
        "outputId": "731c72da-8854-4013-d56e-c1e862be5226"
      },
      "source": [
        "ps.head()"
      ],
      "execution_count": 84,
      "outputs": [
        {
          "output_type": "execute_result",
          "data": {
            "text/html": [
              "<div>\n",
              "<style scoped>\n",
              "    .dataframe tbody tr th:only-of-type {\n",
              "        vertical-align: middle;\n",
              "    }\n",
              "\n",
              "    .dataframe tbody tr th {\n",
              "        vertical-align: top;\n",
              "    }\n",
              "\n",
              "    .dataframe thead th {\n",
              "        text-align: right;\n",
              "    }\n",
              "</style>\n",
              "<table border=\"1\" class=\"dataframe\">\n",
              "  <thead>\n",
              "    <tr style=\"text-align: right;\">\n",
              "      <th>Country</th>\n",
              "      <th>Portugal</th>\n",
              "      <th>Spain</th>\n",
              "    </tr>\n",
              "    <tr>\n",
              "      <th>Time Period</th>\n",
              "      <th></th>\n",
              "      <th></th>\n",
              "    </tr>\n",
              "  </thead>\n",
              "  <tbody>\n",
              "    <tr>\n",
              "      <th>1983-01-01</th>\n",
              "      <td>7.5</td>\n",
              "      <td>NaN</td>\n",
              "    </tr>\n",
              "    <tr>\n",
              "      <th>1983-02-01</th>\n",
              "      <td>7.6</td>\n",
              "      <td>NaN</td>\n",
              "    </tr>\n",
              "    <tr>\n",
              "      <th>1983-03-01</th>\n",
              "      <td>7.7</td>\n",
              "      <td>NaN</td>\n",
              "    </tr>\n",
              "    <tr>\n",
              "      <th>1983-04-01</th>\n",
              "      <td>7.9</td>\n",
              "      <td>NaN</td>\n",
              "    </tr>\n",
              "    <tr>\n",
              "      <th>1983-05-01</th>\n",
              "      <td>8.0</td>\n",
              "      <td>NaN</td>\n",
              "    </tr>\n",
              "  </tbody>\n",
              "</table>\n",
              "</div>"
            ],
            "text/plain": [
              "Country      Portugal  Spain\n",
              "Time Period                 \n",
              "1983-01-01        7.5    NaN\n",
              "1983-02-01        7.6    NaN\n",
              "1983-03-01        7.7    NaN\n",
              "1983-04-01        7.9    NaN\n",
              "1983-05-01        8.0    NaN"
            ]
          },
          "metadata": {
            "tags": []
          },
          "execution_count": 84
        }
      ]
    },
    {
      "cell_type": "markdown",
      "metadata": {
        "id": "WzU3jU0JUMML"
      },
      "source": [
        "Notice the indices."
      ]
    },
    {
      "cell_type": "code",
      "metadata": {
        "id": "W2QldZtNUMML",
        "colab": {
          "base_uri": "https://localhost:8080/",
          "height": 545
        },
        "outputId": "45fbaeec-51cd-49d4-ae6f-84cae81b6919"
      },
      "source": [
        "ps.plot(figsize=(10, 8), title='Unemployment Rate\\n')"
      ],
      "execution_count": 85,
      "outputs": [
        {
          "output_type": "execute_result",
          "data": {
            "text/plain": [
              "<matplotlib.axes._subplots.AxesSubplot at 0x7f0650c584a8>"
            ]
          },
          "metadata": {
            "tags": []
          },
          "execution_count": 85
        },
        {
          "output_type": "display_data",
          "data": {
            "image/png": "[encoded data removed]",
            "text/plain": [
              "<Figure size 720x576 with 1 Axes>"
            ]
          },
          "metadata": {
            "tags": [],
            "needs_background": "light"
          }
        }
      ]
    },
    {
      "cell_type": "markdown",
      "metadata": {
        "collapsed": true,
        "id": "G0Xe_m79UMMN"
      },
      "source": [
        "### Challenge 8: Plot without missing values\n",
        "Note that there are some dates for which we lack data on Spain's unemployment rate. What could you do if you wanted your plot to show only dates where both Spain and Portugal have a defined unemployment rate?"
      ]
    },
    {
      "cell_type": "code",
      "metadata": {
        "colab": {
          "base_uri": "https://localhost:8080/",
          "height": 450
        },
        "id": "EJ5C7VLTNGHe",
        "outputId": "266524c1-8715-4469-e389-88c747a1ca1c"
      },
      "source": [
        "ps"
      ],
      "execution_count": 86,
      "outputs": [
        {
          "output_type": "execute_result",
          "data": {
            "text/html": [
              "<div>\n",
              "<style scoped>\n",
              "    .dataframe tbody tr th:only-of-type {\n",
              "        vertical-align: middle;\n",
              "    }\n",
              "\n",
              "    .dataframe tbody tr th {\n",
              "        vertical-align: top;\n",
              "    }\n",
              "\n",
              "    .dataframe thead th {\n",
              "        text-align: right;\n",
              "    }\n",
              "</style>\n",
              "<table border=\"1\" class=\"dataframe\">\n",
              "  <thead>\n",
              "    <tr style=\"text-align: right;\">\n",
              "      <th>Country</th>\n",
              "      <th>Portugal</th>\n",
              "      <th>Spain</th>\n",
              "    </tr>\n",
              "    <tr>\n",
              "      <th>Time Period</th>\n",
              "      <th></th>\n",
              "      <th></th>\n",
              "    </tr>\n",
              "  </thead>\n",
              "  <tbody>\n",
              "    <tr>\n",
              "      <th>1983-01-01</th>\n",
              "      <td>7.5</td>\n",
              "      <td>NaN</td>\n",
              "    </tr>\n",
              "    <tr>\n",
              "      <th>1983-02-01</th>\n",
              "      <td>7.6</td>\n",
              "      <td>NaN</td>\n",
              "    </tr>\n",
              "    <tr>\n",
              "      <th>1983-03-01</th>\n",
              "      <td>7.7</td>\n",
              "      <td>NaN</td>\n",
              "    </tr>\n",
              "    <tr>\n",
              "      <th>1983-04-01</th>\n",
              "      <td>7.9</td>\n",
              "      <td>NaN</td>\n",
              "    </tr>\n",
              "    <tr>\n",
              "      <th>1983-05-01</th>\n",
              "      <td>8.0</td>\n",
              "      <td>NaN</td>\n",
              "    </tr>\n",
              "    <tr>\n",
              "      <th>...</th>\n",
              "      <td>...</td>\n",
              "      <td>...</td>\n",
              "    </tr>\n",
              "    <tr>\n",
              "      <th>2010-08-01</th>\n",
              "      <td>11.1</td>\n",
              "      <td>20.5</td>\n",
              "    </tr>\n",
              "    <tr>\n",
              "      <th>2010-09-01</th>\n",
              "      <td>11.1</td>\n",
              "      <td>20.6</td>\n",
              "    </tr>\n",
              "    <tr>\n",
              "      <th>2010-10-01</th>\n",
              "      <td>11.0</td>\n",
              "      <td>20.6</td>\n",
              "    </tr>\n",
              "    <tr>\n",
              "      <th>2010-11-01</th>\n",
              "      <td>10.9</td>\n",
              "      <td>20.4</td>\n",
              "    </tr>\n",
              "    <tr>\n",
              "      <th>2010-12-01</th>\n",
              "      <td>10.9</td>\n",
              "      <td>20.2</td>\n",
              "    </tr>\n",
              "  </tbody>\n",
              "</table>\n",
              "<p>336 rows × 2 columns</p>\n",
              "</div>"
            ],
            "text/plain": [
              "Country      Portugal  Spain\n",
              "Time Period                 \n",
              "1983-01-01        7.5    NaN\n",
              "1983-02-01        7.6    NaN\n",
              "1983-03-01        7.7    NaN\n",
              "1983-04-01        7.9    NaN\n",
              "1983-05-01        8.0    NaN\n",
              "...               ...    ...\n",
              "2010-08-01       11.1   20.5\n",
              "2010-09-01       11.1   20.6\n",
              "2010-10-01       11.0   20.6\n",
              "2010-11-01       10.9   20.4\n",
              "2010-12-01       10.9   20.2\n",
              "\n",
              "[336 rows x 2 columns]"
            ]
          },
          "metadata": {
            "tags": []
          },
          "execution_count": 86
        }
      ]
    },
    {
      "cell_type": "code",
      "metadata": {
        "id": "DBwlxI_TUMMN",
        "colab": {
          "base_uri": "https://localhost:8080/",
          "height": 545
        },
        "outputId": "4f9a7481-94d1-4531-caf7-4bb9da54aa4c"
      },
      "source": [
        "# dropping missing values\n",
        "ps.dropna(subset=['Spain'], inplace= True)\n",
        "ps.dropna(subset=['Portugal'],inplace=True)\n",
        "ps.plot(figsize=(10, 8), title='Unemployment Rate\\n')\n"
      ],
      "execution_count": 87,
      "outputs": [
        {
          "output_type": "execute_result",
          "data": {
            "text/plain": [
              "<matplotlib.axes._subplots.AxesSubplot at 0x7f06507293c8>"
            ]
          },
          "metadata": {
            "tags": []
          },
          "execution_count": 87
        },
        {
          "output_type": "display_data",
          "data": {
            "image/png": "[encoded data removed]",
            "text/plain": [
              "<Figure size 720x576 with 1 Axes>"
            ]
          },
          "metadata": {
            "tags": [],
            "needs_background": "light"
          }
        }
      ]
    },
    {
      "cell_type": "markdown",
      "metadata": {
        "id": "76vGnBXZIWoI"
      },
      "source": [
        "\n",
        "Copyright Statement: Copyright © 2020 Christoforou. The materials provided by the instructor of this course, including this notebook, are for the use of the students enrolled in the course. Materials are presented in an educational context for personal use and study and should not be shared, distributed, disseminated or sold in print — or digitally — outside the course without permission. You may not, nor may you knowingly allow others to reproduce or distribute lecture notes, course materials as well as any of their derivatives without the instructor's express written consent."
      ]
    }
  ]
}