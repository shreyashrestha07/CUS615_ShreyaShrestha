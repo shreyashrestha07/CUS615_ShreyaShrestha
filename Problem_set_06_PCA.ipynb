{
  "nbformat": 4,
  "nbformat_minor": 0,
  "metadata": {
    "colab": {
      "name": "Problem_set_06_PCA.ipynb",
      "provenance": [],
      "toc_visible": true,
      "include_colab_link": true
    },
    "kernelspec": {
      "display_name": "Python 3",
      "language": "python",
      "name": "python3"
    },
    "language_info": {
      "codemirror_mode": {
        "name": "ipython",
        "version": 3
      },
      "file_extension": ".py",
      "mimetype": "text/x-python",
      "name": "python",
      "nbconvert_exporter": "python",
      "pygments_lexer": "ipython3",
      "version": "3.8.3"
    }
  },
  "cells": [
    {
      "cell_type": "markdown",
      "metadata": {
        "id": "view-in-github",
        "colab_type": "text"
      },
      "source": [
        "<a href=\"https://colab.research.google.com/github/shreyashrestha07/CUS615_ShreyaShrestha/blob/master/Problem_set_06_PCA.ipynb\" target=\"_parent\"><img src=\"https://colab.research.google.com/assets/colab-badge.svg\" alt=\"Open In Colab\"/></a>"
      ]
    },
    {
      "cell_type": "markdown",
      "metadata": {
        "id": "P_tor21_EY5d"
      },
      "source": [
        "This notebook is part the of Dr. Christoforos Christoforou's course materials. You may not, nor may you knowingly allow others to reproduce or distribute lecture notes, course materials or any of their derivatives without the instructor's express written consent.\n"
      ]
    },
    {
      "cell_type": "markdown",
      "metadata": {
        "id": "e7H1KjiCex81"
      },
      "source": [
        "## Problem Set 06 : Workshop on using PCA\n",
        "This problem set is intended as a workshop to practice the use of Singular Value Decomposition and Principal Component Analysis as two ways to perform Matrix Factorization and Dimensionality Reduction. \n",
        "\n"
      ]
    },
    {
      "cell_type": "code",
      "metadata": {
        "id": "0VttSzIpsI3m"
      },
      "source": [
        "%matplotlib inline\n",
        "import numpy as np\n",
        "import matplotlib.pyplot as plt\n",
        "import seaborn as sns; sns.set()\n"
      ],
      "execution_count": 234,
      "outputs": []
    },
    {
      "cell_type": "markdown",
      "metadata": {
        "id": "XdJsj33pEdlZ"
      },
      "source": [
        "## Challenge 1: Apply PCA on sample data - using numpy. \n",
        "In this section you need to apply PCA on a simulated dataset. You need to extract the prinipal components and use them to reduce the dimensionality of the data. For this challenge **do not use** sklearn library. Some starting code is provided for you in each cell. Complete all the exercises to earn all points in this challenge. "
      ]
    },
    {
      "cell_type": "code",
      "metadata": {
        "id": "sn4tJNf2rPf9"
      },
      "source": [
        "# Generate the dataset, split it into \n",
        "rng = np.random.RandomState(4)     # Seed the random number generator.\n",
        "n_samples = 1000                    # Specify the number of samples. \n",
        "X_all = np.array([5,1,1,1,2]).T + np.dot(rng.rand(5, 5), rng.randn(5, n_samples)).T \n",
        "X_train, X_test = X_all[:n_samples//2,:],X_all[n_samples//2:,:] "
      ],
      "execution_count": 235,
      "outputs": []
    },
    {
      "cell_type": "markdown",
      "metadata": {
        "id": "AvO7Si-XtY9_"
      },
      "source": [
        "### Answer the following question.\n",
        "Use the cell below to find the answer to the following questions. \n",
        "\n",
        "- What is the dimensions of `X_train` and `X_test`?\n",
        "- How many `features` does each sample has (i.e. what is the dimensionality of the observations in data matrix X_all)?\n",
        "- Create three 2D scatter plots to show the relationship between to features-pairs (1,2), (1,4), (3,4)? Make sure you label each scatter plot. \n",
        "\n",
        "As an example, the following code create a scatter plot between the 1st and 3rd feature dimension\n",
        "```python \n",
        "plt.scatter(X_train[:,1],X_train[:,3])\n",
        "plt.title(\"Scatter plot between feature 2 and feature 4\")\n",
        "plt.xlabel(\"Feature 2\")\n",
        "plt.ylabel(\"Feature 4\")\n",
        "plt.axis(\"square\")\n",
        "\n",
        "``` "
      ]
    },
    {
      "cell_type": "code",
      "metadata": {
        "id": "YkHb5BQIsCci",
        "colab": {
          "base_uri": "https://localhost:8080/"
        },
        "outputId": "7d26f1ee-5e25-42f4-a43e-0f57d414206e"
      },
      "source": [
        "# Solution 1:\n",
        "\n",
        "# 1. What is the dimensions of X_train and X_test?\n",
        "print(f\"Dimention of X_train:{X_train.shape} Dimention of X_test:{X_test.shape}\")\n",
        "\n",
        "# 2. How many features does each sample has (i.e. what is the dimensionality of the observations in data matrix X_all)?\n",
        "X_all, X_features = X_train.shape\n",
        "print(\"\\nNumber of features: \"+ str(X_features))\n"
      ],
      "execution_count": 236,
      "outputs": [
        {
          "output_type": "stream",
          "text": [
            "Dimention of X_train:(500, 5) Dimention of X_test:(500, 5)\n",
            "\n",
            "Number of features: 5\n"
          ],
          "name": "stdout"
        }
      ]
    },
    {
      "cell_type": "markdown",
      "metadata": {
        "id": "KwBmP27suSNg"
      },
      "source": [
        ""
      ]
    },
    {
      "cell_type": "code",
      "metadata": {
        "id": "e1KCauPRufWZ",
        "colab": {
          "base_uri": "https://localhost:8080/",
          "height": 326
        },
        "outputId": "e7905ff1-e8e1-4e8b-d150-a52fb9811df9"
      },
      "source": [
        "# 2. Create three 2D scatter plots to show the relationship between to features-pairs (1,2), (1,4), (3,4)? Make sure you label each scatter plot.\n",
        "# Display the scatter plot between the feature pairs (1,2), (1,4), (3,4) \n",
        "\n",
        "plt.figure(figsize=(20,10))\n",
        "\n",
        "# Plot the scatter plot between feature-pair (1,2) \n",
        "plt.subplot(1,4,1)\n",
        "plt.scatter(X_train[:,1],X_train[:,2])\n",
        "plt.title(\"Scatter plot between feature 1 and feature 2\")\n",
        "plt.xlabel(\"Feature 1\")\n",
        "plt.ylabel(\"Feature 2\")\n",
        "plt.axis(\"square\")\n",
        "\n",
        "\n",
        "# Plot the scatter plot between feature-pair (1,4)\n",
        "plt.subplot(1,4,2)\n",
        "plt.scatter(X_train[:,1],X_train[:,4])\n",
        "plt.title(\"Scatter plot between feature 1 and feature 4\")\n",
        "plt.xlabel(\"Feature 1\")\n",
        "plt.ylabel(\"Feature 4\")\n",
        "plt.axis(\"square\")\n",
        "\n",
        "# Plot the scatter plot between feature-pair (3,4)\n",
        "plt.subplot(1,4,3)\n",
        "plt.scatter(X_train[:,3],X_train[:,4])\n",
        "plt.title(\"Scatter plot between feature 3 and feature 4\")\n",
        "plt.xlabel(\"Feature 3\")\n",
        "plt.ylabel(\"Feature 4\")\n",
        "plt.axis(\"square\")\n",
        "\n",
        "\n",
        "plt.show()\n"
      ],
      "execution_count": 237,
      "outputs": [
        {
          "output_type": "display_data",
          "data": {
            "image/png": "[encoded data removed]",
            "text/plain": [
              "<Figure size 1440x720 with 3 Axes>"
            ]
          },
          "metadata": {
            "tags": []
          }
        }
      ]
    },
    {
      "cell_type": "markdown",
      "metadata": {
        "id": "zySDhljMzba5"
      },
      "source": [
        "### Exercise 1.1 : Calculate the covariance matrix.\n",
        "Calculate the covariance matrix of the training data matrix `X_train`. Show all you steps as outlined in the skeleton code provided. In particular, you need to \n",
        "calculate the observations' mean; subtract the mean from the data matrix; standardize the observations by dividing each feature with its corresponding standard deviation; and calculate the covarnace matrix. \n",
        "\n",
        "**Hints**\n",
        "  - Notice that you can find the mean of an array `A` along a particular dimension `b`, using the numpy command `np.mean(A,axis=b)`. In case `b=0` the mean is taken along the 0th dimension (i.e along the rows), when `b=1` the mean is taken along the 1st dimension (i.e. along the columns). Similarly, you can find the standard deviation of the array using the command `np.std(A,axis=b)` \n",
        "\n",
        "  - Python `broadcasting` allows you to perform artithmetic operation on arrays with different sizes, thus vectorizing the arithmetic operations and eliminates the need for using inefficent for loops. The following example shows how boradcasting is used to add  a row vector from every row in the 2D array.\n",
        "  ```python\n",
        "    # Example of using broadcasting\n",
        "    sample = np.array([[2,4], [10,-5]])\n",
        "    to_add = np.array([3,7])\n",
        "    sample_add_using_broadcasting  = sample + to_add \n",
        "    print(sample)\n",
        "    print(sample_add_using_broadcasting)\n",
        "  ``` \n",
        "  - The covariance matrix of a data matrix $X\\in \\mathbb{R}^{N\\times D}$(i.e. a matrix with $N$ rows/observations and $D$ columns/features is defined as \n",
        "    $\\frac{1}{N-1} X^T X$ where the term $\\frac{1}{N-1}$ is the normalization constant, and $^T$ denotes the matrix transpose. \n",
        "     In numpy, we can multiply two numpy arrays/matrices using the `np.matmul()` method and we can transpose a matrix by accessing the `.T`  property of the array (i.e. `np.matmul(X.T,X)`).\n"
      ]
    },
    {
      "cell_type": "code",
      "metadata": {
        "id": "RlhdZ9y30qCN",
        "colab": {
          "base_uri": "https://localhost:8080/"
        },
        "outputId": "546f1810-c2c6-4d64-f905-bdfe0dff968e"
      },
      "source": [
        "# Calcualte the mean of X_train\n",
        "X_mean = np.mean(X_train, axis = 0)\n",
        "print(X_mean)\n",
        "\n",
        "# Subtract the mean from \n",
        "X_train_mean_subtracted = X_train -  X_mean\n",
        "print(X_train_mean_subtracted)\n",
        "\n",
        "\n",
        "# Standarized observation to unit variance (i.e. divide by standard deviation)\n",
        "X_std = np.std(X_train_mean_subtracted,axis=0)\n",
        "print(X_std)\n",
        "\n",
        "\n",
        "X_train_std = X_train_mean_subtracted / X_std\n",
        "print(X_train_std)\n",
        "\n",
        "# Calculate the covariance of the standarized observations.\n",
        "# Make sure you use the appropripate normalization constant \n",
        "train_len, train_feat = X_train.shape\n",
        "X_train_cov = np.matmul(X_train_std.T, X_train_std)/(train_len -1)\n",
        "X_train_cov"
      ],
      "execution_count": 238,
      "outputs": [
        {
          "output_type": "stream",
          "text": [
            "[5.03317333 1.03720153 1.00380632 1.03496065 2.02575597]\n",
            "[[ 1.4289805  -1.390424    2.24544536  1.02856736  0.27101512]\n",
            " [-1.27273685  0.54727375 -1.46685941 -0.65602426 -0.54349768]\n",
            " [ 3.06282082  1.83665496  2.09239065  0.76389244  3.3339006 ]\n",
            " ...\n",
            " [-2.11206135  0.81819636 -3.87234825  0.95505694 -2.72012782]\n",
            " [-0.24295296 -1.31032956  1.07868144 -1.74570035  0.62425073]\n",
            " [-2.57533739  0.41142408 -3.09085067 -0.34893357 -2.29962803]]\n",
            "[1.74728827 1.12531989 1.54547257 1.18160906 1.57434041]\n",
            "[[ 0.81782756 -1.23558111  1.45291829  0.87048026  0.17214519]\n",
            " [-0.72840691  0.48632727 -0.94913326 -0.55519569 -0.34522247]\n",
            " [ 1.75289955  1.6321181   1.35388404  0.64648492  2.11764913]\n",
            " ...\n",
            " [-1.20876526  0.72707891 -2.50560788  0.80826812 -1.72778886]\n",
            " [-0.13904572 -1.1644063   0.6979622  -1.47739249  0.39651573]\n",
            " [-1.47390527  0.36560634 -1.99993887 -0.29530374 -1.46069301]]\n"
          ],
          "name": "stdout"
        },
        {
          "output_type": "execute_result",
          "data": {
            "text/plain": [
              "array([[1.00200401, 0.59615502, 0.91194702, 0.75460585, 0.8632635 ],\n",
              "       [0.59615502, 1.00200401, 0.36660994, 0.38650954, 0.73888442],\n",
              "       [0.91194702, 0.36660994, 1.00200401, 0.50077827, 0.85131988],\n",
              "       [0.75460585, 0.38650954, 0.50077827, 1.00200401, 0.36278094],\n",
              "       [0.8632635 , 0.73888442, 0.85131988, 0.36278094, 1.00200401]])"
            ]
          },
          "metadata": {
            "tags": []
          },
          "execution_count": 238
        }
      ]
    },
    {
      "cell_type": "code",
      "metadata": {
        "colab": {
          "base_uri": "https://localhost:8080/"
        },
        "id": "yiqh6mgPFwQR",
        "outputId": "68d00a01-605b-48fb-9f87-e50e070a91d4"
      },
      "source": [
        "X_train_cov\n"
      ],
      "execution_count": 239,
      "outputs": [
        {
          "output_type": "execute_result",
          "data": {
            "text/plain": [
              "array([[1.00200401, 0.59615502, 0.91194702, 0.75460585, 0.8632635 ],\n",
              "       [0.59615502, 1.00200401, 0.36660994, 0.38650954, 0.73888442],\n",
              "       [0.91194702, 0.36660994, 1.00200401, 0.50077827, 0.85131988],\n",
              "       [0.75460585, 0.38650954, 0.50077827, 1.00200401, 0.36278094],\n",
              "       [0.8632635 , 0.73888442, 0.85131988, 0.36278094, 1.00200401]])"
            ]
          },
          "metadata": {
            "tags": []
          },
          "execution_count": 239
        }
      ]
    },
    {
      "cell_type": "markdown",
      "metadata": {
        "id": "aunT2XPB-RDW"
      },
      "source": [
        "#### Answer the following questions:\n",
        "Use the cell below to answer the following questions and show your work.\n",
        "\n",
        "- Print the content of the covariance matrix.\n",
        "- What are the dimensions of the covariance matrix `X_train_cov` \n",
        "- What values do you see on the diagonal elements of the covariance matrix.\n",
        "- Which feature-pairs have the largest covariance value; what is that value. "
      ]
    },
    {
      "cell_type": "code",
      "metadata": {
        "id": "cH7VfTR-2hvY",
        "colab": {
          "base_uri": "https://localhost:8080/",
          "height": 335
        },
        "outputId": "721a701d-9b82-4052-e3c5-e8ac322c44a5"
      },
      "source": [
        "\n",
        "# Complete the code below to display a heatmap of the Covariance matrix \n",
        "colormap = sns.diverging_palette(220, 10, as_cmap=True)\n",
        "sns.heatmap(X_train_cov, cmap= colormap, annot=True, fmt=\".2f\")\n",
        "plt.title(\"Covariance Matrix\")\n",
        "plt.show()\n",
        "\n",
        "# 1 What are the dimensions of the covariance matrix X_train_cov\n",
        "print(f\"Dimention of X_train:{X_train_cov.shape}\")\n",
        "\n",
        "#2 What values do you see on the diagonal elements of the covariance matrix.\n",
        "print(\"All the diagonal values are 1.00\")\n",
        "\n",
        "#3 Which feature-pairs have the largest covariance value; what is that value.\n",
        "print(\"Feature pair 0 and 2 have the larget covariance\")\n"
      ],
      "execution_count": 240,
      "outputs": [
        {
          "output_type": "display_data",
          "data": {
            "image/png": "[encoded data removed]",
            "text/plain": [
              "<Figure size 432x288 with 2 Axes>"
            ]
          },
          "metadata": {
            "tags": []
          }
        },
        {
          "output_type": "stream",
          "text": [
            "Dimention of X_train:(5, 5)\n",
            "All the diagonal values are 1.00\n",
            "Feature pair 0 and 2 have the larget covariance\n"
          ],
          "name": "stdout"
        }
      ]
    },
    {
      "cell_type": "markdown",
      "metadata": {
        "id": "Klhor9TMCr3e"
      },
      "source": [
        "### Exercise 1.2: Estimate the Eigen-vectors and Eigen-values of the covariance matrix. \n",
        "The principal components of a covariance matrix are the eigen-vectors of the covariance matrix. The variance of each principal component is proportional to the eigen-value of its corresponding eigen-vector. \n",
        "\n",
        "As part of this exercise you need to extract the two the principal component of the covariance matrix that have the highest variance. Then answer the following questions. \n",
        "\n",
        "**Hints**\n",
        "- The numpy method `eigh` can be used to estimate the eighen-vectors and eigen-values of a square symetric matrix. For example, \n",
        "```python \n",
        "  a_symetric_square_matrix = np.array([[1,0.7],[0.7, 1]])\n",
        "  eig_vals, eig_vecs  = np.linalg.eigh(a_symetric_square_matrix)\n",
        "```\n",
        "\n",
        "\n"
      ]
    },
    {
      "cell_type": "code",
      "metadata": {
        "id": "By6WHK_qEDKF",
        "colab": {
          "base_uri": "https://localhost:8080/"
        },
        "outputId": "f577383b-6bee-4079-ff43-35827c7e846b"
      },
      "source": [
        "#\n",
        "# Calculate the eigenvectors and eigenvalues of the covariance matrix. \n",
        "# \n",
        "\n",
        "eig_vals, eig_vecs = np.linalg.eigh(X_train_cov)\n",
        "\n",
        "eig_vecs"
      ],
      "execution_count": 241,
      "outputs": [
        {
          "output_type": "execute_result",
          "data": {
            "text/plain": [
              "array([[ 0.80197961,  0.21928515,  0.0745078 ,  0.18273974, -0.51942035],\n",
              "       [ 0.0499954 , -0.39466047, -0.60780424, -0.57367564, -0.37843605],\n",
              "       [-0.21006688, -0.6343982 ,  0.56547166,  0.1267296 , -0.46646783],\n",
              "       [-0.36856801,  0.08015657, -0.50259801,  0.68653272, -0.36578764],\n",
              "       [-0.41756279,  0.622311  ,  0.22947687, -0.38744661, -0.48538214]])"
            ]
          },
          "metadata": {
            "tags": []
          },
          "execution_count": 241
        }
      ]
    },
    {
      "cell_type": "code",
      "metadata": {
        "colab": {
          "base_uri": "https://localhost:8080/"
        },
        "id": "QSSHQJ0vj7ll",
        "outputId": "f6e94d04-6eae-4733-cf73-a4f60e6654a6"
      },
      "source": [
        "eig_vals"
      ],
      "execution_count": 242,
      "outputs": [
        {
          "output_type": "execute_result",
          "data": {
            "text/plain": [
              "array([0.00402957, 0.01647728, 0.62848952, 0.76759502, 3.59342865])"
            ]
          },
          "metadata": {
            "tags": []
          },
          "execution_count": 242
        }
      ]
    },
    {
      "cell_type": "markdown",
      "metadata": {
        "id": "x96Ndyh_Gych"
      },
      "source": [
        "#### Answer the following questions. \n",
        "Use the code-cell below to find the answer to the following questions and show your work.\n",
        "- Print the eigen-vector with the largest eigen-value, also print the eigen-value itself, and the index of the vector in the `eig_vecs` matrix\n",
        "\n",
        "- Print the eigen-vector with the second largest eigen-value, also print the eigen-value itself, and the index of the vector in the `eig_vecs` matrix\n",
        "\n",
        "- Calculate the percentage of the variance in the data that is captured by the three eigen-vectors with the largest eigen-values.\n",
        "\n",
        "- Calculate the total variance captured by the two eigen-vectors with the smallest eigen-values. \n",
        "\n",
        "- What is the minimum number of principal component you can use to ensure that the least `85%` of the variance is captured in the reduced dataset.  "
      ]
    },
    {
      "cell_type": "code",
      "metadata": {
        "colab": {
          "base_uri": "https://localhost:8080/"
        },
        "id": "aCkcuuiUFmKZ",
        "outputId": "6fcfd788-df0e-4130-c7be-a59a2fbf70d3"
      },
      "source": [
        "# 1. Print the eigen-vector with the largest eigen-value, also print the eigen-value itself, and the index of the vector in the eig_vecs matrix\n",
        "print(\"Eigen Vector with the largest eigen-value is:\",(eig_vecs[np.argmax(eig_vals)]))\n",
        "print(\"Index of the vector with the largest eigen-value is: \", np.argmax(eig_vals))\n",
        "print(\"Largest eigen-value: \",eig_vals.max())\n",
        "\n",
        "# 2. Print the eigen-vector with the second largest eigen-value, also print the eigen-value itself, and the index of the vector in the eig_vecs matrix\n",
        "print(\"\\nEigen Vector with the second largest eigen-value is:\",(eig_vecs[np.argmax(eig_vals)-1]))\n",
        "print(\"Index of the vector with the second largest eigen-value is: \", np.argmax(eig_vals)-1)\n",
        "print(\"Second largest eigen-value: \",eig_vals[3])\n",
        "\n",
        "# 3. Calculate the percentage of the variance in the data that is captured by the three eigen-vectors with the largest eigen-values.\n",
        "var_sum = np.sum(eig_vals)\n",
        "\n",
        "variablesExplained = [(i / var_sum) for i in sorted(eig_vals, reverse =True)]\n",
        "print(variablesExplained)\n",
        "per_largest3 = round(float(sum(variablesExplained[0:3])*100),2)\n",
        "print(\"\\nThe percentage of variance in the data that i captured by the three eigen-vectors with the largest eigen-values are : \", (per_largest3))\n",
        "\n",
        "# 4. Calculate the total variance captured by the two eigen-vectors with the smallest eigen-values.\n",
        "per_smallest2 = round(float(sum(variablesExplained[3:])*100),2)\n",
        "print(\"\\nThe total variance captured by the two eigen-vectors with the smallest eigen-values are : \", per_smallest2)\n",
        "\n",
        "\n",
        "# What is the minimum number of principal component you can use to ensure that the least 85% of the variance is captured in the reduced dataset.\n",
        "min_variance = sum(variablesExplained[:2])*100\n",
        "if min_variance > 85:\n",
        "  print(\"\\nWe need minimum 2 principal components to capture atleast 85% of variance in the reduced dataset \")\n",
        "else:\n",
        "  print(\"\\nWe need minimum 3 principal components to capture atleast 85% of variance in the reduced dataset \")"
      ],
      "execution_count": 243,
      "outputs": [
        {
          "output_type": "stream",
          "text": [
            "Eigen Vector with the largest eigen-value is: [-0.41756279  0.622311    0.22947687 -0.38744661 -0.48538214]\n",
            "Index of the vector with the largest eigen-value is:  4\n",
            "Largest eigen-value:  3.593428653505268\n",
            "\n",
            "Eigen Vector with the second largest eigen-value is: [-0.36856801  0.08015657 -0.50259801  0.68653272 -0.36578764]\n",
            "Index of the vector with the second largest eigen-value is:  3\n",
            "Second largest eigen-value:  0.7675950160113192\n",
            "[0.7172483592396515, 0.1532119651958593, 0.12544650867761226, 0.0032888651456713727, 0.0008043017412056445]\n",
            "\n",
            "The percentage of variance in the data that i captured by the three eigen-vectors with the largest eigen-values are :  99.59\n",
            "\n",
            "The total variance captured by the two eigen-vectors with the smallest eigen-values are :  0.41\n",
            "\n",
            "We need minimum 2 principal components to capture atleast 85% of variance in the reduced dataset \n"
          ],
          "name": "stdout"
        }
      ]
    },
    {
      "cell_type": "markdown",
      "metadata": {
        "id": "9iBcKBCqzGN1"
      },
      "source": [
        "### Exercise 1.3 Dimensionality Reduction using Principal Components\n",
        "Use the principal component you calculated in the previous step to reduce the dimensionality of the feature space. \n",
        "\n",
        "- First, you must identify the two principal component with the highest variance (i.e. using the eigen-values you calculated in the previous code-cells).Then append the two principal components into their own matrix `PCA_mx` such that the metrix columns correspond to the selected Principal Components. \n",
        "\n",
        "- Use the resulting matrix `PCA_mx` to reduce the dimensions in the training set; from its original dimension down to two dimentions. You can do that by multiplying the *standaraized* training set X_train_std with the principal component's matrix `PCA_mx`. Store the resulting reduced-dimensionality training set into a variable `X_train_proj` \n",
        "\n",
        "- Use the resulting matrix `PCA_mx` to reduce the dimensions in the testing set; `X_test`. (*Hint: you must first standardize the testing set; using only quantities you calculated from the training set. Remember, standardization is the process of transforming the data to zero mean, and unit standard deviation*). Store the resulting reduced-dimensionality training set into a variable `X_test_proj`    \n",
        "\n",
        "\n"
      ]
    },
    {
      "cell_type": "code",
      "metadata": {
        "id": "k0JpkeNs0E1W",
        "colab": {
          "base_uri": "https://localhost:8080/"
        },
        "outputId": "d4d37f8c-8c26-4e26-a542-92199937aa3f"
      },
      "source": [
        "\n",
        "# Create a matrix whose columns are the two major principal component.\n",
        "PCA_mx = eig_vecs[:,[3,4]]\n",
        "print(PCA_mx)\n",
        "\n",
        "# Project the training set X_train onto the two major principal Components. \n",
        "# Use the matrix PCA_mx \n",
        "\n",
        "X_train_proj = X_train_mean_subtracted.dot(PCA_mx)\n",
        "print(X_train_proj)\n"
      ],
      "execution_count": 244,
      "outputs": [
        {
          "output_type": "stream",
          "text": [
            "[[ 0.18273974 -0.51942035]\n",
            " [-0.57367564 -0.37843605]\n",
            " [ 0.1267296  -0.46646783]\n",
            " [ 0.68653272 -0.36578764]\n",
            " [-0.38744661 -0.48538214]]\n",
            "[[ 1.94448956e+00 -1.77126613e+00]\n",
            " [-9.72237518e-01  1.64198966e+00]\n",
            " [-9.96048627e-01 -5.15961905e+00]\n",
            " [ 1.04974440e+00  1.62958956e+00]\n",
            " [-3.07783955e+00 -4.10338077e-01]\n",
            " [-1.60543355e+00  3.58430374e+00]\n",
            " [ 9.03461448e-01  1.48885883e+00]\n",
            " [-8.33546244e-01 -2.67836728e+00]\n",
            " [ 8.35126698e-01 -4.03209239e+00]\n",
            " [ 1.35656466e+00 -8.44692237e+00]\n",
            " [-1.89757673e+00 -7.32973360e-02]\n",
            " [ 1.42017016e+00  6.73312428e-01]\n",
            " [ 1.17252678e+00  8.12449933e+00]\n",
            " [ 2.04462303e+00 -5.25315420e-01]\n",
            " [ 1.26769074e+00  1.73508981e+00]\n",
            " [ 5.52010761e-01 -7.30902111e-02]\n",
            " [ 3.56076547e-01  4.70384309e+00]\n",
            " [ 5.22208230e-01  7.06828986e-01]\n",
            " [ 1.30595245e+00 -5.18909871e+00]\n",
            " [-5.01564371e-01 -1.05929435e+00]\n",
            " [ 3.06842628e-01 -1.10329893e+00]\n",
            " [-1.44823291e-02  8.37419377e-01]\n",
            " [ 1.94139037e-01 -1.94196622e+00]\n",
            " [-1.19774095e+00  2.01821011e+00]\n",
            " [ 7.95793614e-01 -4.82218201e+00]\n",
            " [-1.70478340e+00  3.42722381e+00]\n",
            " [-3.05045355e+00 -1.71264329e+00]\n",
            " [-9.24504079e-01  3.29769816e+00]\n",
            " [ 3.08374661e-01 -8.76584432e+00]\n",
            " [-6.91403889e-01  4.60103654e+00]\n",
            " [ 5.00260683e-01  1.90788265e+00]\n",
            " [-3.26714445e+00  8.94390346e-01]\n",
            " [-1.66814824e+00 -1.91652505e+00]\n",
            " [ 5.35385910e-01  8.11897797e-01]\n",
            " [ 9.56928330e-01  3.63381341e+00]\n",
            " [ 1.54795936e+00 -5.30351085e-01]\n",
            " [-2.00341429e-01 -1.14988621e+00]\n",
            " [ 1.61317100e+00 -5.65313015e-01]\n",
            " [ 2.34306542e-01 -1.01045422e+00]\n",
            " [ 2.11337607e+00  5.64171253e+00]\n",
            " [ 1.88993057e+00  4.59616146e-01]\n",
            " [ 3.69809206e-01  3.76428646e+00]\n",
            " [ 3.16957347e-01 -4.15353944e+00]\n",
            " [ 6.70699401e-01 -3.26195664e+00]\n",
            " [-1.19048522e+00  5.30527124e+00]\n",
            " [-4.25359530e-03  2.88643433e+00]\n",
            " [ 4.05112002e-01  1.17493037e+00]\n",
            " [ 7.30719700e-01 -1.13729559e+00]\n",
            " [ 9.18263743e-02  3.61745829e+00]\n",
            " [ 1.66446356e+00 -5.18962648e+00]\n",
            " [ 4.08872197e-01 -2.52894872e+00]\n",
            " [-2.78038570e-01 -5.48973650e-01]\n",
            " [ 1.57441087e+00 -3.55198213e+00]\n",
            " [-9.51479495e-01 -2.66085298e-01]\n",
            " [-7.17805445e-01  4.72962279e+00]\n",
            " [ 4.03913665e-02  4.72446531e-01]\n",
            " [-7.74741092e-01 -4.03025887e+00]\n",
            " [-7.02472799e-01  8.74106480e-01]\n",
            " [ 9.67220032e-01  3.87324733e+00]\n",
            " [ 8.03549061e-01 -1.40067597e+00]\n",
            " [ 2.15159302e+00  2.87453577e+00]\n",
            " [ 2.13284230e-01  4.99467498e+00]\n",
            " [-1.26271079e-01 -3.98360353e+00]\n",
            " [ 2.12504933e+00 -2.10943194e+00]\n",
            " [ 1.69769125e-01 -4.42373604e+00]\n",
            " [-1.10996075e+00  8.83594267e-01]\n",
            " [ 1.13272691e-01 -4.19817864e-01]\n",
            " [-1.26992331e+00  1.10567285e+00]\n",
            " [-1.00482276e+00  2.88648852e+00]\n",
            " [-7.27498661e-01  1.01893901e+00]\n",
            " [-6.74498018e-01  4.58903735e+00]\n",
            " [-2.78997267e-01  1.22510408e+00]\n",
            " [-1.60774300e+00 -1.97822052e+00]\n",
            " [-4.65782467e-01 -1.02112234e+00]\n",
            " [ 7.05589562e-01  1.06885151e+00]\n",
            " [ 4.35579573e-01 -2.78578379e+00]\n",
            " [-1.56902375e-01 -2.33117503e+00]\n",
            " [-3.78878033e-01 -1.10579589e+00]\n",
            " [ 1.31430139e+00  1.56358699e+00]\n",
            " [-1.29445163e+00 -3.62581466e+00]\n",
            " [ 8.24743334e-01 -2.20219619e+00]\n",
            " [-2.33711056e-01  2.18376297e+00]\n",
            " [-2.52068227e-01  7.27622995e-01]\n",
            " [ 9.15144763e-01 -1.64145896e+00]\n",
            " [ 1.70510238e-02 -6.20384291e-01]\n",
            " [-5.82830158e-01 -2.25225087e+00]\n",
            " [-1.22339633e+00 -9.76532675e-01]\n",
            " [ 1.48489620e+00 -1.09956536e+00]\n",
            " [-6.91729895e-01  1.19403401e+00]\n",
            " [ 1.30809670e+00  5.15711276e+00]\n",
            " [ 5.11409289e-02  5.04852906e+00]\n",
            " [ 1.57347333e+00 -2.81704092e+00]\n",
            " [-7.02570017e-02  2.49439388e+00]\n",
            " [-4.49992457e-01 -5.20429769e+00]\n",
            " [-7.11255689e-01  1.11930497e+00]\n",
            " [-7.84488482e-01 -2.02458048e+00]\n",
            " [ 1.29578820e+00 -6.93228580e-02]\n",
            " [-2.12268257e+00  8.38814340e+00]\n",
            " [-1.15274117e+00 -2.48449503e+00]\n",
            " [ 5.90645274e-01 -3.24889629e+00]\n",
            " [ 1.14836693e+00 -1.99408187e+00]\n",
            " [ 2.84039973e-01 -9.85358213e-01]\n",
            " [-1.69198987e+00 -5.74893508e-01]\n",
            " [-2.36197079e-01 -1.88912243e+00]\n",
            " [-9.30844092e-01 -1.92559608e+00]\n",
            " [-9.71681339e-01  1.45212203e+00]\n",
            " [-4.77641788e-01  3.21754600e-01]\n",
            " [-6.24079658e-01 -3.92269931e+00]\n",
            " [-1.80813359e+00 -1.02663096e+00]\n",
            " [ 1.35904154e+00 -1.23354317e+00]\n",
            " [-1.11440779e+00 -3.39480166e+00]\n",
            " [ 3.73315861e+00 -1.63776639e+00]\n",
            " [-4.09567712e-02  1.14643654e+00]\n",
            " [-2.26288672e+00  1.81796389e+00]\n",
            " [-1.70573144e+00  1.37785248e+00]\n",
            " [ 7.80154010e-01 -1.31496426e+00]\n",
            " [ 3.66155980e-01 -3.47012374e+00]\n",
            " [-3.26710068e+00 -4.50078337e+00]\n",
            " [ 8.81405088e-01 -6.95053605e-01]\n",
            " [-4.08289543e-01  2.64219253e+00]\n",
            " [ 1.37704490e+00  2.81882425e+00]\n",
            " [ 7.05620068e-01 -1.87461130e+00]\n",
            " [ 6.21682863e-01 -7.91802887e-01]\n",
            " [-2.88442391e-01  1.80688762e+00]\n",
            " [ 1.45312086e+00  6.50630883e+00]\n",
            " [-3.69071043e-01  3.14332197e+00]\n",
            " [-1.62044255e+00 -2.88476642e+00]\n",
            " [-1.56559393e+00 -5.28070205e-01]\n",
            " [-5.04093199e-01  5.65095972e-01]\n",
            " [-6.17100270e-01  4.04579584e-01]\n",
            " [ 1.27632027e+00  7.04787938e-01]\n",
            " [ 1.31532261e+00  1.42937733e+00]\n",
            " [-1.42473052e+00 -6.06710660e+00]\n",
            " [ 2.99240362e-01  1.72433383e+00]\n",
            " [ 7.14418654e-01  4.22026693e-01]\n",
            " [-8.70308909e-01  3.68317635e-01]\n",
            " [ 1.41005601e+00 -1.35904800e+00]\n",
            " [ 7.22941648e-01 -3.97302195e+00]\n",
            " [ 2.88865532e-01  2.00168319e-01]\n",
            " [-3.75341337e-01  2.09803762e+00]\n",
            " [ 5.98353089e-01  1.36752254e+00]\n",
            " [ 2.12041571e-01  3.72697429e+00]\n",
            " [-7.57687028e-01  2.95341053e+00]\n",
            " [ 2.51790047e+00  9.65758641e-01]\n",
            " [-1.29210000e+00  4.64151743e+00]\n",
            " [-1.05439613e-01 -2.44771410e-01]\n",
            " [-1.31687837e+00  6.38049440e+00]\n",
            " [-1.31396522e+00 -7.45921999e-01]\n",
            " [ 5.23105865e-01  3.94928852e+00]\n",
            " [-8.21244891e-01  3.23276327e-01]\n",
            " [-1.62879048e+00  2.63863421e-01]\n",
            " [-2.29651855e-01 -3.27892994e+00]\n",
            " [-8.36686156e-01  5.00406085e+00]\n",
            " [-7.21902355e-01 -3.69183762e+00]\n",
            " [ 1.05625837e+00 -1.46396499e+00]\n",
            " [ 4.20499871e-01  3.79399135e+00]\n",
            " [ 3.82116072e-01 -2.50140127e+00]\n",
            " [-5.60013658e-01 -2.03019264e+00]\n",
            " [ 1.07366995e+00 -1.35045116e+00]\n",
            " [-7.53152814e-01 -2.49981956e+00]\n",
            " [ 1.56030147e+00  6.61726833e-01]\n",
            " [-1.52333713e+00  1.17531716e+00]\n",
            " [-4.72596331e-01 -3.87418282e+00]\n",
            " [ 1.30703230e-02  1.06427474e+00]\n",
            " [-8.95869617e-01 -2.08641986e+00]\n",
            " [-2.31404329e-02  8.58268550e-02]\n",
            " [-2.39849350e-01  3.17016852e-01]\n",
            " [-2.30431508e-01  1.00882994e+00]\n",
            " [-8.31897579e-01 -2.68824228e+00]\n",
            " [ 9.78282088e-01  1.35427419e+00]\n",
            " [-1.04352260e+00 -1.62006315e-01]\n",
            " [ 5.94947514e-01 -2.68045540e+00]\n",
            " [-7.56211466e-01  3.69509338e+00]\n",
            " [ 1.67905535e-01  3.41114393e+00]\n",
            " [ 3.36216760e-01 -2.10721985e+00]\n",
            " [ 1.34180364e-01 -2.27830817e+00]\n",
            " [-9.54039774e-01  2.16072041e+00]\n",
            " [-6.23891738e-01 -1.83967862e+00]\n",
            " [-4.19788561e-01  1.04888588e+00]\n",
            " [ 1.02212152e-01  6.10315018e+00]\n",
            " [ 8.44568126e-01 -5.10438680e+00]\n",
            " [ 1.63140734e+00 -1.04502158e+00]\n",
            " [ 2.75057199e-01 -3.39847775e+00]\n",
            " [-7.10092850e-01  3.55847648e+00]\n",
            " [ 3.57177641e-01  4.69411205e-01]\n",
            " [-7.24032644e-02 -2.76564288e+00]\n",
            " [-4.42578186e-01 -1.32284307e+00]\n",
            " [-1.10210391e+00 -2.68014609e+00]\n",
            " [ 9.79661166e-01  1.17881206e+00]\n",
            " [ 1.76202148e+00  8.27573344e+00]\n",
            " [ 1.09278642e+00 -1.59047559e+00]\n",
            " [ 1.21965388e-01 -9.14999296e-01]\n",
            " [-5.40206227e-01 -1.20375248e+00]\n",
            " [ 1.15873718e+00  2.70416071e+00]\n",
            " [ 2.13947365e-01 -3.08250310e+00]\n",
            " [-1.55509094e+00 -1.63500412e-02]\n",
            " [ 1.06451921e+00 -3.09874187e-01]\n",
            " [-3.16386130e-01  1.35951137e+00]\n",
            " [ 1.27877808e+00  5.67722572e-01]\n",
            " [ 3.54504322e-01 -6.53405888e+00]\n",
            " [-9.12718022e-01  2.01153938e+00]\n",
            " [ 9.64279982e-01  3.42166543e+00]\n",
            " [-5.85813020e-02  6.18624476e-01]\n",
            " [ 8.09719555e-01 -3.08128229e+00]\n",
            " [ 5.93087597e-01 -1.54208135e+00]\n",
            " [ 3.94025175e-01  2.31977527e+00]\n",
            " [ 2.49596603e+00  3.19126654e+00]\n",
            " [ 8.53581541e-02  4.03222024e+00]\n",
            " [-1.66382916e+00  5.34066525e+00]\n",
            " [ 2.41494031e+00 -2.48320574e+00]\n",
            " [-2.12953587e+00 -1.46525756e+00]\n",
            " [-2.20262354e-01  6.21078674e-01]\n",
            " [-5.76203722e-01 -5.15601368e-01]\n",
            " [-2.89701159e-01  4.34137160e+00]\n",
            " [ 1.11859279e+00  2.34314268e+00]\n",
            " [-6.81145274e-01  4.65320398e+00]\n",
            " [ 1.05389370e+00 -2.30620984e+00]\n",
            " [ 2.26741092e-01  7.47065320e-01]\n",
            " [-7.13191675e-01 -1.06591944e+00]\n",
            " [-1.28263495e+00 -1.83246496e+00]\n",
            " [ 8.95882819e-01 -2.30410452e-02]\n",
            " [-1.10236507e+00 -1.43614608e+00]\n",
            " [ 8.53057965e-01  3.53878231e-01]\n",
            " [ 2.18490311e+00  4.25439388e+00]\n",
            " [ 2.70292263e-01 -4.15056430e+00]\n",
            " [ 1.27154248e+00  6.24259787e+00]\n",
            " [-5.86918723e-01 -2.98972850e+00]\n",
            " [ 1.14972451e+00  1.75368324e+00]\n",
            " [ 4.97892272e-02  6.16108517e+00]\n",
            " [-2.77391287e-01  1.16247687e+00]\n",
            " [-1.63126258e+00 -5.07354274e+00]\n",
            " [-1.34357101e-02 -1.30030658e+00]\n",
            " [-1.74565910e-01 -2.84361764e+00]\n",
            " [-4.00180356e+00 -2.08273483e+00]\n",
            " [-1.00809359e+00 -1.35053530e+00]\n",
            " [ 1.03121786e-01 -9.80791020e-02]\n",
            " [ 4.72401257e-01  2.69035353e+00]\n",
            " [ 9.83416938e-01 -2.90373218e+00]\n",
            " [-1.48267301e-01  4.50905695e-01]\n",
            " [ 1.13616401e+00 -8.37333076e-01]\n",
            " [ 6.28555714e-01 -1.38501428e+00]\n",
            " [-4.65232625e-01  3.03848327e+00]\n",
            " [-6.63370576e-01  2.34421560e-01]\n",
            " [-1.59359937e-01  2.72201051e+00]\n",
            " [ 2.32599779e+00 -2.67827254e+00]\n",
            " [ 9.14104397e-01  7.61344741e-02]\n",
            " [ 3.23146034e-01  1.65349834e-01]\n",
            " [-3.66711077e-01 -2.11002245e+00]\n",
            " [ 9.47493219e-01 -3.65841116e+00]\n",
            " [-2.64473732e-01 -8.89336467e-01]\n",
            " [ 5.88364284e-01  5.81732004e-01]\n",
            " [ 8.93496153e-01  2.00768270e+00]\n",
            " [ 2.36984567e-01 -9.71675654e-01]\n",
            " [ 1.93975229e+00  1.98628416e+00]\n",
            " [-8.51444140e-01 -2.18216990e+00]\n",
            " [ 1.48150348e+00 -1.77314686e-01]\n",
            " [-6.77362254e-01 -5.59246857e-01]\n",
            " [ 5.01535866e-01 -6.56120359e-01]\n",
            " [-2.37921813e+00  1.69825196e+00]\n",
            " [-1.21698792e+00  1.39453663e+00]\n",
            " [ 3.46684731e-01  1.19072062e+00]\n",
            " [-4.91120440e-01  8.39295311e-01]\n",
            " [ 4.26801846e-01 -5.92640006e+00]\n",
            " [ 4.58765465e-01  3.06986257e+00]\n",
            " [ 3.51416868e-01  2.99762393e+00]\n",
            " [ 5.89226088e-01 -1.51247702e+00]\n",
            " [ 1.92155669e-01 -1.31041610e-01]\n",
            " [ 1.03673214e+00 -6.64378701e-03]\n",
            " [ 9.25545923e-02 -1.37483771e+00]\n",
            " [-1.70538823e+00  1.89935291e+00]\n",
            " [-2.35723362e+00  5.63118358e+00]\n",
            " [ 2.05521696e+00  8.89521359e-01]\n",
            " [-8.81670084e-01  2.59086721e+00]\n",
            " [-3.28520443e-01 -3.14064043e+00]\n",
            " [ 9.16624831e-02 -6.68022701e-01]\n",
            " [ 1.17696686e+00  5.89444041e-02]\n",
            " [-4.63319683e-01  2.12052285e+00]\n",
            " [-1.91839961e+00  5.81374768e+00]\n",
            " [-1.38552013e+00  1.30038050e+00]\n",
            " [-5.41655681e-01  3.23610240e+00]\n",
            " [-1.87194734e-02 -1.16678381e+00]\n",
            " [-9.10976259e-01 -9.52489238e-01]\n",
            " [-5.05607237e-01 -2.39153126e+00]\n",
            " [ 1.46801600e+00 -1.94626017e+00]\n",
            " [-2.45633750e-01 -5.25484006e+00]\n",
            " [-7.15533359e-02  2.39879004e+00]\n",
            " [-1.27645726e-01 -1.34042227e+00]\n",
            " [-1.29375160e+00  8.03734281e-01]\n",
            " [ 2.12156035e+00  1.86681385e+00]\n",
            " [ 1.64591709e+00 -2.92135413e+00]\n",
            " [ 4.37545006e-01 -3.43450921e-01]\n",
            " [ 1.30775696e+00  3.78221468e+00]\n",
            " [-2.23152246e+00 -1.08781003e+00]\n",
            " [ 8.27346515e-01 -1.59273150e-01]\n",
            " [-1.16334157e+00 -7.89623707e+00]\n",
            " [ 1.29962766e+00 -1.28776601e+00]\n",
            " [ 1.32976930e+00 -3.05496718e+00]\n",
            " [-1.79153489e+00  4.32679682e+00]\n",
            " [-5.82295233e-01 -5.33693177e+00]\n",
            " [-4.60197093e-01  2.12218408e+00]\n",
            " [-8.06199000e-01 -4.64354248e-01]\n",
            " [ 1.73021180e-02 -2.20751443e+00]\n",
            " [ 6.80976249e-01  2.90742945e+00]\n",
            " [ 8.64577126e-01  1.56897921e+00]\n",
            " [-1.78191568e+00  4.68301429e-01]\n",
            " [-3.49282202e+00  5.38998344e-01]\n",
            " [-1.44938205e-01  5.70736592e+00]\n",
            " [ 3.40994987e-01 -3.14228631e+00]\n",
            " [ 8.09908067e-01  3.34710580e-01]\n",
            " [-1.07511777e+00  1.84580205e+00]\n",
            " [ 5.20705960e-01  3.81246942e+00]\n",
            " [ 5.12047192e-01 -1.67581390e+00]\n",
            " [-9.35332303e-01 -2.83797867e+00]\n",
            " [ 3.11535472e-01 -3.70719758e+00]\n",
            " [-4.58357744e-01 -1.06769969e+00]\n",
            " [ 1.69691751e-01 -1.49912936e+00]\n",
            " [-5.35809401e-01  7.27219402e-01]\n",
            " [-1.23638588e+00  2.01423464e+00]\n",
            " [-4.33359515e-02  8.82412141e-01]\n",
            " [-2.81945134e+00 -3.02895028e+00]\n",
            " [-9.90680308e-01  3.77435519e+00]\n",
            " [-8.03313063e-01 -3.89181352e+00]\n",
            " [ 8.97683272e-01 -3.02895708e+00]\n",
            " [ 1.69205088e+00 -8.22375490e-01]\n",
            " [ 3.94631942e-01  6.07700790e-01]\n",
            " [ 1.83790125e+00 -1.71012112e+00]\n",
            " [ 1.82996737e+00  3.73611916e-01]\n",
            " [-4.99476155e-02 -2.52001488e+00]\n",
            " [-1.89218926e+00 -5.02055803e-01]\n",
            " [ 1.37312791e+00  1.36391706e+00]\n",
            " [-1.74046529e+00 -3.59353122e+00]\n",
            " [-7.52600276e-01 -4.59585069e+00]\n",
            " [ 7.73061110e-01  6.94009194e+00]\n",
            " [ 4.52941147e-01 -5.92818412e+00]\n",
            " [ 9.14945066e-01  1.36240903e+00]\n",
            " [-2.26392744e-01  2.40270267e+00]\n",
            " [-2.01208958e-01  4.34864095e+00]\n",
            " [-1.58116219e+00  2.44651793e-01]\n",
            " [-8.61810436e-01  1.75657061e+00]\n",
            " [ 2.66748412e-01  3.06233264e-01]\n",
            " [-4.91503413e-01  5.43467491e-01]\n",
            " [-6.29003941e-01 -1.93315763e+00]\n",
            " [-1.11449830e-01 -1.12662499e+00]\n",
            " [ 1.66611046e+00 -3.06989388e-01]\n",
            " [ 8.10644245e-01 -4.92490020e-01]\n",
            " [-3.68722802e-01  6.33345598e-01]\n",
            " [-5.30603493e-01 -1.32229793e+00]\n",
            " [-6.66695182e-02 -3.06549597e+00]\n",
            " [ 6.65203414e-02 -2.98292154e+00]\n",
            " [ 5.41924400e-01 -1.42714020e+00]\n",
            " [-6.48891848e-01 -2.24018193e+00]\n",
            " [-1.85080017e-01  3.11890836e+00]\n",
            " [ 4.82744741e-01 -2.89417075e+00]\n",
            " [-5.90702439e-01 -5.09726139e+00]\n",
            " [-5.03650263e-01  3.19402345e+00]\n",
            " [-1.32272420e+00 -6.35987133e-01]\n",
            " [-3.80535057e-01 -1.65261231e+00]\n",
            " [ 7.55094929e-01  4.39808289e+00]\n",
            " [ 1.31814317e-01  4.25452991e+00]\n",
            " [ 1.14742339e+00 -4.79898588e+00]\n",
            " [-6.12982065e-01  1.82905687e-01]\n",
            " [-7.37552197e-01  3.79909596e+00]\n",
            " [ 1.46833748e+00 -4.34108651e+00]\n",
            " [-8.61338201e-02  3.85559611e-01]\n",
            " [ 8.78221759e-02 -1.04131013e-02]\n",
            " [-1.00774014e+00  2.79063008e+00]\n",
            " [-1.02379239e+00  1.11630891e+00]\n",
            " [-1.31228573e-01  2.71775644e-01]\n",
            " [-4.16945190e-01 -3.84843601e+00]\n",
            " [-7.22622881e-01  3.47198311e+00]\n",
            " [ 7.73802248e-01  3.25260360e+00]\n",
            " [ 2.13634411e+00 -2.92994886e+00]\n",
            " [-1.49827676e-01  1.88970763e+00]\n",
            " [ 2.65114664e-02  1.84944716e+00]\n",
            " [-6.43401461e-01 -2.92528043e+00]\n",
            " [ 1.56250861e+00 -8.93441665e-01]\n",
            " [-3.52588412e-01 -1.27433472e+00]\n",
            " [-1.66719645e+00  2.44528724e-01]\n",
            " [ 5.17154124e-02 -1.00719682e+00]\n",
            " [ 9.22073387e-01 -2.09347512e+00]\n",
            " [-1.03732534e+00  5.79628116e+00]\n",
            " [-9.54489956e-01  1.36672252e+00]\n",
            " [-2.10349372e-01  5.81436888e+00]\n",
            " [-1.57482340e-01  3.24272237e+00]\n",
            " [-1.75754383e+00 -1.26471506e+00]\n",
            " [-3.84131387e-01  1.55569526e+00]\n",
            " [-4.62172213e-01 -2.58730578e-01]\n",
            " [ 1.73108199e+00  1.55035661e+00]\n",
            " [-3.80033474e-01 -6.78790577e+00]\n",
            " [-6.74577675e-01 -8.07021786e-01]\n",
            " [-8.33505630e-01 -3.82976654e+00]\n",
            " [ 9.45756462e-01 -1.50730930e-01]\n",
            " [-8.25539635e-01  3.28307249e+00]\n",
            " [-2.08379134e+00 -4.57849100e-01]\n",
            " [ 5.76719473e-02 -2.47728219e+00]\n",
            " [-9.83582717e-02 -8.32900686e-01]\n",
            " [ 1.06628616e-02  1.82305325e+00]\n",
            " [ 1.87078901e-01  4.01303849e+00]\n",
            " [ 1.56811455e+00  3.57794453e+00]\n",
            " [ 1.75763688e-01 -1.61263528e+00]\n",
            " [-1.40330108e+00  1.61126291e-01]\n",
            " [-5.67565554e-01 -9.36953950e-01]\n",
            " [-1.76216711e-01  3.24078271e+00]\n",
            " [-5.22955518e-01 -1.01215617e+00]\n",
            " [ 2.11392892e+00  1.29363552e-01]\n",
            " [-2.16560813e+00 -2.95051643e+00]\n",
            " [-1.08681580e+00 -2.87456367e+00]\n",
            " [ 1.13088005e-01  2.95481980e+00]\n",
            " [ 1.71940824e+00 -3.46991961e+00]\n",
            " [ 7.14373842e-01 -5.18977204e-01]\n",
            " [ 1.87787027e+00 -4.42300655e-01]\n",
            " [-1.21501463e-01 -1.11172985e+00]\n",
            " [ 1.52053472e+00  1.08903071e+00]\n",
            " [ 9.91512032e-01 -4.92593177e+00]\n",
            " [-1.03174727e+00  2.37932579e+00]\n",
            " [ 2.95917472e-02  2.35760858e+00]\n",
            " [-1.48008905e+00 -3.27644768e+00]\n",
            " [ 9.12293678e-01 -4.85671861e-01]\n",
            " [ 2.89395681e-01  7.99883994e-01]\n",
            " [ 7.14964544e-01  5.43779567e-01]\n",
            " [ 1.70772659e+00 -9.53911861e-01]\n",
            " [ 5.93467258e-04  2.38049485e+00]\n",
            " [-1.42856523e-01  3.35014772e+00]\n",
            " [-1.11246080e+00 -1.18048923e+00]\n",
            " [-1.64926890e+00  1.16655517e+00]\n",
            " [ 2.04614003e+00 -1.79276768e+00]\n",
            " [ 1.03301598e+00 -2.85437395e+00]\n",
            " [ 1.62857745e+00  2.21379080e+00]\n",
            " [ 1.70832244e+00 -1.53319688e+00]\n",
            " [ 9.04695995e-01  4.70759578e+00]\n",
            " [-6.83462445e-02  9.98510081e-01]\n",
            " [-9.43666663e-01  1.88184181e+00]\n",
            " [ 3.08308067e-01 -5.16037021e+00]\n",
            " [ 8.28270101e-01  3.22719912e-01]\n",
            " [ 8.20978815e-01 -2.25527627e-01]\n",
            " [-7.44448051e-01 -4.86246342e-01]\n",
            " [ 1.09120640e-01 -3.40375673e+00]\n",
            " [ 4.74907419e-01 -4.34035994e+00]\n",
            " [-5.78509694e-01 -7.04317588e+00]\n",
            " [-2.06063074e-01  1.38678496e+00]\n",
            " [ 1.28500690e+00  5.01093267e-01]\n",
            " [-6.02123702e-01 -3.75782534e+00]\n",
            " [ 2.52313480e-01  2.83156994e+00]\n",
            " [ 8.89578231e-01 -5.85856004e-01]\n",
            " [ 2.65605698e-02 -1.21129513e+00]\n",
            " [-1.18227535e+00 -1.08258402e+00]\n",
            " [ 5.68408622e-01 -2.35209932e+00]\n",
            " [-6.66829087e-02 -8.03157036e-01]\n",
            " [-2.95771223e-01 -3.52520524e+00]\n",
            " [-3.70149173e-01 -1.15478001e+00]\n",
            " [ 2.40612014e+00 -5.53815032e+00]\n",
            " [ 1.24768449e+00 -2.35699991e-01]\n",
            " [-2.46471430e-01 -4.58896357e-01]\n",
            " [ 6.16151820e-01 -2.85463566e+00]\n",
            " [-5.26833450e-01  6.26606026e+00]\n",
            " [-1.01998121e-01 -3.60350670e-01]\n",
            " [-8.53948620e-02  5.13797042e+00]\n",
            " [-1.70244358e+00  4.74929628e-01]\n",
            " [ 1.29802726e+00 -1.39412902e+00]\n",
            " [-1.07946169e+00 -3.91622863e+00]\n",
            " [ 1.35556422e+00 -3.01288331e+00]\n",
            " [ 1.65824538e+00 -1.90453067e+00]\n",
            " [ 2.00858898e-01  2.09329749e+00]\n",
            " [ 1.64507999e-01  3.67060618e+00]\n",
            " [ 1.40032157e+00  1.43279901e+00]\n",
            " [-1.36152386e+00 -3.30044001e-01]\n",
            " [-5.58257266e-01 -5.54533904e-01]\n",
            " [-1.29186591e+00 -8.88305235e-01]\n",
            " [ 4.59143797e-01  1.96669340e+00]\n",
            " [ 5.93780627e-01 -3.34002501e+00]\n",
            " [-4.59739197e-01 -1.37328019e-01]\n",
            " [-1.66729206e+00  2.45983488e+00]\n",
            " [ 3.77039251e-01  2.02432801e+00]\n",
            " [-1.73326225e-01 -3.08242464e+00]\n",
            " [ 1.47581488e-01  1.06312531e+00]\n",
            " [-4.20733224e-01  5.11790206e+00]\n",
            " [ 5.25186805e-01  3.31659784e-01]\n",
            " [ 7.88859061e-01  3.65442701e-01]\n",
            " [ 4.98476005e-01 -3.12653359e+00]\n",
            " [-3.09304303e-02  4.67444401e+00]\n",
            " [ 3.47851678e-01 -7.44540305e-01]\n",
            " [-5.34895323e-01  1.36943486e+00]\n",
            " [-4.24295948e-01  2.50056573e+00]\n",
            " [-1.40064643e+00  2.03693535e+00]\n",
            " [-1.97829590e-01 -3.30291167e+00]\n",
            " [-1.22977112e+00 -2.51383312e+00]\n",
            " [ 3.25519799e-02  5.98497211e-01]\n",
            " [-1.81611802e+00  5.38205682e-01]\n",
            " [ 2.79973726e+00  4.58960269e+00]\n",
            " [-1.27981226e+00  1.11855802e+00]\n",
            " [ 5.78588017e-01 -2.98512987e+00]\n",
            " [ 3.23254975e-01  1.15793220e+00]\n",
            " [ 3.08356003e-01 -1.98116500e-01]\n",
            " [ 2.26200859e-01  2.00326474e-01]\n",
            " [ 8.08787708e-01 -1.83430343e+00]\n",
            " [ 4.61739247e-01  2.48887202e+00]\n",
            " [-4.05022012e-02  5.90018949e+00]\n",
            " [ 3.63504141e-01  3.56469196e+00]\n",
            " [-5.96336393e-01  4.54455923e-01]\n",
            " [-4.46913962e-01  3.86760130e+00]]\n"
          ],
          "name": "stdout"
        }
      ]
    },
    {
      "cell_type": "code",
      "metadata": {
        "id": "k1R4ldZx23Vu",
        "colab": {
          "base_uri": "https://localhost:8080/"
        },
        "outputId": "c432729b-abe2-414a-c719-37b3212f41c9"
      },
      "source": [
        "# Project the test dataset X_test onto the two major principal components\n",
        "# See hint for answering. \n",
        "\n",
        "X_test_mean = np.mean(X_test,axis=0)\n",
        "print(X_test_mean)\n",
        "\n",
        "X_test_mean_subtracted = X_test - X_test_mean\n",
        "print(X_test_mean_subtracted)\n",
        "\n",
        "X_std = np.std(X_test_mean_subtracted,axis=0)\n",
        "print(X_std)\n",
        "\n",
        "X_test_std = X_test_mean_subtracted / X_std\n",
        "print(X_test_std)\n",
        "\n",
        "X_test_proj = X_test_mean_subtracted.dot(PCA_mx)\n",
        "print(X_test_proj)\n"
      ],
      "execution_count": 245,
      "outputs": [
        {
          "output_type": "stream",
          "text": [
            "[5.02925453 1.00071417 1.0448517  0.97906678 2.04327192]\n",
            "[[-1.59282245 -1.93538512 -0.34555996 -1.12342246 -1.61765835]\n",
            " [ 0.47340335 -0.90931477  0.79413184  0.50245786 -0.04470548]\n",
            " [ 1.92628035  2.0494371  -0.16385052  1.5575779   1.33924529]\n",
            " ...\n",
            " [-0.03433081 -0.43883604 -0.20635764  0.26301174 -0.20062024]\n",
            " [-1.6468013   0.96867614 -1.79402247 -0.76523549 -0.74171292]\n",
            " [-0.54551723  0.91434444 -0.93210756 -0.27450816 -0.15444433]]\n",
            "[1.73826815 1.06968485 1.50359956 1.13086017 1.52078949]\n",
            "[[-0.91632724 -1.80930403 -0.2298218  -0.99342296 -1.06369643]\n",
            " [ 0.27234196 -0.85007726  0.52815381  0.44431476 -0.02939623]\n",
            " [ 1.10816064  1.91592607 -0.10897218  1.37733907  0.88062503]\n",
            " ...\n",
            " [-0.01975001 -0.41024797 -0.13724242  0.23257671 -0.13191848]\n",
            " [-0.94738047  0.90557152 -1.19315177 -0.67668445 -0.48771571]\n",
            " [-0.31382801  0.85477927 -0.61991742 -0.2427428  -0.10155537]]\n",
            "[[ 6.30908621e-01  2.91707303e+00]\n",
            " [ 1.07107610e+00 -4.34308427e-01]\n",
            " [-2.94026719e-01 -2.91948759e+00]\n",
            " [-4.05668079e-01  1.24806133e+00]\n",
            " [ 1.04872878e+00 -1.90482903e+00]\n",
            " [-7.41012894e-01  2.90690585e+00]\n",
            " [-1.41265096e+00 -2.95175065e-01]\n",
            " [-9.86908088e-01  2.75500043e+00]\n",
            " [ 5.29959695e-01  1.65711885e+00]\n",
            " [-1.61956356e-01 -2.58331913e-01]\n",
            " [ 1.20427765e+00 -1.02811520e+00]\n",
            " [-7.02071609e-01 -2.77074167e+00]\n",
            " [ 6.70173918e-02 -3.13282272e+00]\n",
            " [ 1.22963719e+00 -4.82351997e+00]\n",
            " [ 3.83124390e-01  1.99817271e+00]\n",
            " [-1.34945570e-01  1.86427214e+00]\n",
            " [-3.91689198e-01  4.06883069e+00]\n",
            " [ 1.22363116e+00 -4.37835591e+00]\n",
            " [-1.07207476e+00  2.97350604e+00]\n",
            " [ 1.02821636e+00  3.84950717e+00]\n",
            " [ 9.98851097e-01  5.23446554e+00]\n",
            " [ 4.97741215e-01  1.71624507e+00]\n",
            " [ 1.74037417e+00 -3.39949467e+00]\n",
            " [ 1.59367436e+00  7.71159564e-02]\n",
            " [ 5.59084997e-01 -2.78985702e+00]\n",
            " [-1.44934357e+00 -6.88353340e-01]\n",
            " [ 4.27311793e-01 -2.90483563e+00]\n",
            " [ 2.35309506e+00 -2.42699268e+00]\n",
            " [-1.59591114e+00 -6.21636564e+00]\n",
            " [-4.60289066e-01  5.94581868e-02]\n",
            " [-6.21841185e-01 -2.54234409e-01]\n",
            " [ 1.68655084e-02  2.59790588e+00]\n",
            " [ 4.71463776e-01 -3.03177683e+00]\n",
            " [-4.35548397e+00 -3.34501228e-01]\n",
            " [ 5.39530592e-01 -1.83847794e+00]\n",
            " [ 3.50079468e-01 -2.52269554e-01]\n",
            " [-2.26589266e-01 -5.74069502e+00]\n",
            " [ 1.17771608e+00 -2.11631671e+00]\n",
            " [-4.24668296e-01  1.47396537e+00]\n",
            " [-4.08407875e-01  1.30971975e+00]\n",
            " [ 1.25936266e-02 -1.16328361e+00]\n",
            " [-4.42961006e-01 -3.87335459e+00]\n",
            " [ 8.35399161e-01 -1.69268002e+00]\n",
            " [-1.74864052e+00  7.13515899e-01]\n",
            " [ 4.47771557e-01 -1.96540951e+00]\n",
            " [-1.59492434e+00 -4.30529659e-01]\n",
            " [ 1.02996344e+00  3.80989241e+00]\n",
            " [-5.03165703e-01  2.99583987e+00]\n",
            " [ 3.76236865e-01 -3.59474210e+00]\n",
            " [ 9.90439405e-01 -5.87067535e+00]\n",
            " [-2.89874651e-01 -2.22430418e+00]\n",
            " [-1.28487865e-01 -4.13304809e+00]\n",
            " [-1.02504196e+00 -4.22370265e-01]\n",
            " [-2.50233354e-01  1.73234197e+00]\n",
            " [-6.74249646e-01 -6.09109643e+00]\n",
            " [ 1.13622326e+00  3.80123347e+00]\n",
            " [-1.82968780e+00 -2.26799210e+00]\n",
            " [ 1.97521283e-01  5.44156265e-01]\n",
            " [-3.44260937e-02  1.81259814e-01]\n",
            " [-9.53716993e-01  1.39277616e+00]\n",
            " [-1.10133882e+00 -2.38957517e+00]\n",
            " [-9.61756799e-01  3.16171844e+00]\n",
            " [ 9.24644479e-01  1.71944975e+00]\n",
            " [ 9.18305108e-02  1.33234563e-01]\n",
            " [ 5.37741607e-01  3.60259008e+00]\n",
            " [ 6.74079371e-01  5.73853761e-01]\n",
            " [-5.49082457e-01 -8.87008947e-01]\n",
            " [ 1.14093968e+00  1.08289936e+00]\n",
            " [ 5.12376155e-01 -6.73895468e+00]\n",
            " [ 8.50526163e-02 -1.95164841e+00]\n",
            " [-1.10111110e+00 -2.65325737e+00]\n",
            " [ 7.72929777e-01  6.81559000e+00]\n",
            " [-3.33184628e-01 -7.64243676e-01]\n",
            " [ 3.67527169e-01  5.14995871e-02]\n",
            " [-1.16435397e+00  2.30173958e-01]\n",
            " [ 1.08450530e+00 -1.85433663e+00]\n",
            " [-5.40200820e-01 -1.90216478e+00]\n",
            " [-1.76933554e+00 -1.20791494e+00]\n",
            " [-2.68742027e-01 -1.63976960e+00]\n",
            " [ 1.53760830e+00 -1.93150422e+00]\n",
            " [-1.36152339e+00 -1.32337170e+00]\n",
            " [-1.33849865e+00  1.37806595e-01]\n",
            " [-1.03982251e+00  4.68130246e+00]\n",
            " [-2.67418937e-01 -1.54354389e+00]\n",
            " [ 7.12708186e-01 -4.98857344e+00]\n",
            " [ 2.82615438e-01 -7.85306979e-01]\n",
            " [-2.08005545e-01  3.48236141e+00]\n",
            " [ 2.91417916e-01 -1.04470078e+00]\n",
            " [-1.78119724e+00  3.40241827e+00]\n",
            " [-2.18442350e-01  3.45575494e+00]\n",
            " [-1.00547026e+00 -4.59681786e+00]\n",
            " [ 1.33342835e-01 -3.83769162e+00]\n",
            " [-6.83381274e-01  4.73336806e+00]\n",
            " [ 1.16605046e+00  3.69830735e-01]\n",
            " [-6.71434090e-01  6.91900848e+00]\n",
            " [-5.81001946e-01 -5.68356430e-01]\n",
            " [ 4.61511416e-01  6.88275788e-01]\n",
            " [-1.21085117e+00 -7.29026063e-01]\n",
            " [ 6.33371028e-01  1.00118216e+00]\n",
            " [-4.42050949e-01 -5.45314385e-03]\n",
            " [ 1.93653000e-01 -1.22826686e-02]\n",
            " [ 2.98855672e-02  5.59841047e+00]\n",
            " [-7.09337395e-01 -5.06083589e-01]\n",
            " [-1.06979924e+00  1.52256775e+00]\n",
            " [ 2.41660683e-01  2.17740113e+00]\n",
            " [ 1.67432554e+00 -1.99014856e+00]\n",
            " [ 9.30471473e-01 -6.34775737e-01]\n",
            " [ 4.72270656e-02  2.98838246e+00]\n",
            " [-1.12229857e+00  3.94750727e+00]\n",
            " [-1.17496394e+00  4.97899970e-01]\n",
            " [-1.11216549e+00  2.42317889e+00]\n",
            " [ 1.44114691e-01 -1.75285603e+00]\n",
            " [-2.01981120e-03 -4.25180336e+00]\n",
            " [ 6.71626439e-01  5.73734028e+00]\n",
            " [ 2.60780251e+00 -7.80844736e-01]\n",
            " [-1.35733485e+00 -1.48957975e-01]\n",
            " [-6.90487942e-03  1.98838465e+00]\n",
            " [-8.10444821e-01 -1.48030223e-01]\n",
            " [-3.97593105e-01  1.70257117e+00]\n",
            " [ 2.61435285e-01  1.59956434e+00]\n",
            " [-1.02537076e+00  4.10834986e+00]\n",
            " [ 4.20135529e-01 -1.08236631e+00]\n",
            " [-7.60838713e-01 -3.79903367e+00]\n",
            " [ 6.47775905e-01  4.30279906e+00]\n",
            " [-8.77543196e-01 -1.51693939e+00]\n",
            " [-1.39035223e+00 -1.19880042e+00]\n",
            " [-6.79862730e-01  2.44896439e+00]\n",
            " [ 3.77093688e-01  1.07043875e+00]\n",
            " [ 8.72679740e-01  7.01317172e-02]\n",
            " [-6.12666948e-01  8.81497641e-01]\n",
            " [ 1.14678662e-01  6.11794650e-01]\n",
            " [-1.13036996e+00  7.72264305e-01]\n",
            " [-1.44588548e+00 -3.36356194e+00]\n",
            " [-1.29814848e+00  3.49892736e+00]\n",
            " [ 1.44729703e+00  1.74458703e+00]\n",
            " [ 1.09839003e+00  4.01387915e+00]\n",
            " [-2.73580102e-02  2.27053455e+00]\n",
            " [ 1.08845189e+00 -1.98896527e+00]\n",
            " [ 2.32763901e-01  2.35417168e+00]\n",
            " [ 1.46927020e+00  4.49454089e-02]\n",
            " [ 9.59106621e-01  4.80115143e+00]\n",
            " [-4.20663048e-01  5.70549973e-01]\n",
            " [ 6.06249805e-01 -4.44728121e+00]\n",
            " [-3.72895511e-01 -3.14966417e+00]\n",
            " [ 3.59622091e-02  4.51886822e+00]\n",
            " [ 7.03528653e-02  8.87729984e-01]\n",
            " [ 1.41503048e-01 -3.69411900e+00]\n",
            " [-5.66247575e-01  3.30282723e+00]\n",
            " [ 1.95349033e+00 -7.73428719e-01]\n",
            " [ 8.71298366e-01 -6.82869712e-01]\n",
            " [-1.83739416e-01  4.48670263e-01]\n",
            " [-6.33478803e-01  1.27171314e+00]\n",
            " [ 1.69693737e-01 -2.48033788e+00]\n",
            " [-4.02635316e-01  1.55556091e+00]\n",
            " [-1.68040449e+00  2.93142416e+00]\n",
            " [ 1.33384750e+00 -8.81508330e-01]\n",
            " [-1.23805453e+00  3.26290957e+00]\n",
            " [ 8.90208825e-01  3.28200661e+00]\n",
            " [ 3.37039399e-01  1.01473777e-01]\n",
            " [-3.21876882e-01 -4.05708347e+00]\n",
            " [-1.07745135e+00 -8.56718102e-01]\n",
            " [ 4.93788585e-01 -3.00364195e+00]\n",
            " [ 5.48277738e-01  1.73532039e+00]\n",
            " [ 7.36575986e-01  1.49561623e+00]\n",
            " [-1.86390794e+00  1.20964547e+00]\n",
            " [ 1.41843984e+00  3.68491587e-01]\n",
            " [-1.64304382e+00 -2.28373379e+00]\n",
            " [-1.00880487e+00 -1.37542709e+00]\n",
            " [-5.83427509e-01 -4.88342406e+00]\n",
            " [ 1.83967080e+00 -1.37942266e+00]\n",
            " [ 7.21902815e-02  2.09373918e+00]\n",
            " [ 5.71187705e-01 -1.75227584e+00]\n",
            " [-1.55570020e-01 -1.41893776e+00]\n",
            " [ 9.86219439e-01  4.03712366e+00]\n",
            " [-9.89407149e-01  2.57600964e+00]\n",
            " [-8.35130478e-01 -6.47293712e-01]\n",
            " [ 3.03454603e-01  7.94415364e-01]\n",
            " [-4.53155323e-01 -3.80580865e+00]\n",
            " [ 1.65156233e-01  2.34465054e+00]\n",
            " [ 2.42863140e-01  4.51668137e-01]\n",
            " [-1.07601877e+00  1.94888083e+00]\n",
            " [ 1.36031671e-01  3.83039446e+00]\n",
            " [ 5.48397793e-01  3.47455831e+00]\n",
            " [-4.63428216e-01  1.35741126e+00]\n",
            " [-8.86762250e-01  2.20038845e-01]\n",
            " [-1.14029898e+00  2.18269348e+00]\n",
            " [ 1.37024560e+00 -2.71540392e+00]\n",
            " [ 1.88542289e-01  1.08621421e+00]\n",
            " [ 2.02310122e-01  4.43175738e+00]\n",
            " [ 7.08786869e-01  9.47845022e-01]\n",
            " [ 2.41246405e-01 -3.22378617e+00]\n",
            " [ 9.01978348e-01  1.16034865e-01]\n",
            " [-1.51124919e+00  1.96715759e+00]\n",
            " [ 4.27141077e-01 -6.45090216e-01]\n",
            " [ 2.18521086e-01 -1.45322986e+00]\n",
            " [ 1.49617255e-01  2.44212102e+00]\n",
            " [ 9.12126750e-01 -2.22522965e+00]\n",
            " [ 5.37815947e-01 -1.29944070e+00]\n",
            " [ 4.01569991e-01  2.18956543e+00]\n",
            " [ 3.37266327e-01 -4.84509873e-01]\n",
            " [ 4.32148921e-01 -2.75277473e+00]\n",
            " [ 1.94909062e+00  1.08981586e+00]\n",
            " [ 4.12679752e-01 -3.28636573e+00]\n",
            " [-8.11279526e-01  3.34451623e+00]\n",
            " [-9.47396711e-02 -1.62856942e+00]\n",
            " [ 3.51391931e-01  2.75819007e+00]\n",
            " [ 1.13687977e-01  3.95215591e+00]\n",
            " [-1.71229781e+00 -5.56996727e-01]\n",
            " [-1.10525178e+00 -6.57698930e+00]\n",
            " [-4.79260218e-01 -1.12864125e+00]\n",
            " [ 9.95154934e-01 -4.19375168e+00]\n",
            " [ 8.70008773e-01  6.15754172e-01]\n",
            " [-8.17492818e-01 -1.27540443e+00]\n",
            " [ 4.06617663e-01  1.94871454e+00]\n",
            " [ 4.81374729e-01  5.21253794e-01]\n",
            " [ 1.38952033e+00 -2.31953620e+00]\n",
            " [ 8.72723450e-02 -6.03233526e+00]\n",
            " [-6.04623786e-01 -4.57644519e+00]\n",
            " [-3.58777998e-01 -4.05186489e-01]\n",
            " [ 1.39798242e+00  1.62662652e+00]\n",
            " [-5.58024947e-01 -2.10637637e+00]\n",
            " [-7.07062505e-01 -2.58205018e+00]\n",
            " [ 2.24076858e+00  2.75911678e+00]\n",
            " [-7.19900196e-01 -4.73440640e+00]\n",
            " [-2.61770453e-01  6.13116121e-01]\n",
            " [ 1.44977632e+00  1.67645221e-01]\n",
            " [ 1.19237233e+00  1.46724110e+00]\n",
            " [-5.92050592e-01 -1.46196236e+00]\n",
            " [ 4.67114986e-01  2.21042886e+00]\n",
            " [-1.40554121e+00  4.75758250e-01]\n",
            " [ 2.86827101e-03 -7.06879991e+00]\n",
            " [ 8.26733029e-01  2.84659260e+00]\n",
            " [ 1.65443043e-01  2.25664036e-01]\n",
            " [-7.94297104e-02  4.27915178e-01]\n",
            " [ 8.44317363e-01  1.33981175e+00]\n",
            " [-1.05833220e+00  2.27689504e+00]\n",
            " [-1.01560753e+00  2.22419449e+00]\n",
            " [-3.67185186e-01  1.70834243e-01]\n",
            " [-5.37835781e-01 -5.94140120e-01]\n",
            " [ 1.21858539e+00 -6.24321062e+00]\n",
            " [ 5.61010837e-01  8.73781487e-01]\n",
            " [-2.43094699e+00  5.03996703e-01]\n",
            " [ 2.07997069e-01 -2.59008188e+00]\n",
            " [ 1.36644799e-01  4.59844263e+00]\n",
            " [ 1.52420864e-01  1.42975261e-01]\n",
            " [ 2.30178881e+00 -2.39778293e+00]\n",
            " [ 1.80342096e+00 -3.11772259e+00]\n",
            " [-4.76247810e-03 -1.61596421e+00]\n",
            " [ 1.18714234e+00 -4.36509345e+00]\n",
            " [ 2.56260316e-01  1.43607191e+00]\n",
            " [ 1.32078208e-01 -3.21550282e+00]\n",
            " [-1.34940674e-01 -5.77848273e-01]\n",
            " [-3.34954217e-01 -4.46873365e-01]\n",
            " [-1.67673160e-01  2.40324055e+00]\n",
            " [-4.23765725e-01  1.83759060e+00]\n",
            " [ 9.77266412e-01  9.32821642e-01]\n",
            " [-2.30331605e+00  3.52622132e+00]\n",
            " [ 1.78554569e+00 -4.69996893e+00]\n",
            " [ 4.78863450e-01  2.54295767e+00]\n",
            " [-8.16328237e-01  2.58683709e+00]\n",
            " [ 1.89520162e+00 -7.20462750e+00]\n",
            " [-1.42326505e+00 -1.36688528e+00]\n",
            " [-4.25626968e-01 -6.13096697e-01]\n",
            " [ 2.07172365e+00 -2.63976294e-02]\n",
            " [-8.49074861e-02 -1.68305722e+00]\n",
            " [ 6.43097717e-01 -3.48391251e-01]\n",
            " [ 4.43600811e-01  1.91826498e+00]\n",
            " [ 1.02129039e+00 -7.46960890e-02]\n",
            " [ 3.84932107e-02  7.80761162e-01]\n",
            " [-7.80485584e-01  3.12282731e-01]\n",
            " [-1.73773590e-01 -1.56145351e+00]\n",
            " [-3.72349340e-02  2.56429171e+00]\n",
            " [-2.01705583e+00 -2.13685944e+00]\n",
            " [-1.08199983e-01 -9.70100913e-01]\n",
            " [-6.94270099e-01  1.76355119e+00]\n",
            " [-1.49602696e-01 -1.12709718e+00]\n",
            " [-2.34874307e-01  6.67494697e+00]\n",
            " [ 4.89688199e-01  3.03553334e+00]\n",
            " [ 5.20271165e-01  2.74557835e+00]\n",
            " [-1.14510717e-01 -1.14482373e+00]\n",
            " [ 7.26613163e-01  1.85397972e+00]\n",
            " [-5.78682497e-01 -2.09849861e+00]\n",
            " [ 2.45109187e-01  8.77185794e-01]\n",
            " [ 1.80618767e+00 -2.72845951e+00]\n",
            " [ 5.54892317e-01 -7.64228955e+00]\n",
            " [ 1.58639011e-01 -1.24206152e+00]\n",
            " [ 1.48770968e+00  9.62334440e-01]\n",
            " [-3.60635359e-01  2.33667319e+00]\n",
            " [ 8.13838578e-01 -6.18208289e+00]\n",
            " [-4.77494558e-01 -1.74393692e+00]\n",
            " [ 5.31341258e-02  1.87736287e+00]\n",
            " [ 5.14548367e-01 -3.50720976e+00]\n",
            " [ 1.41943716e+00 -2.74145504e+00]\n",
            " [-9.36211630e-01  4.08001579e+00]\n",
            " [ 9.76149311e-01 -3.04079943e+00]\n",
            " [ 1.27404062e-01  8.25887912e-01]\n",
            " [ 9.62248159e-01  1.01076863e+00]\n",
            " [-6.43883753e-01  5.00616238e+00]\n",
            " [ 4.52294345e-01 -3.67424161e+00]\n",
            " [-4.92518001e-01 -1.22171847e+00]\n",
            " [-6.54939619e-01  3.45419715e+00]\n",
            " [-4.28758451e-01  1.94207241e+00]\n",
            " [-1.27459245e-02 -5.44905062e+00]\n",
            " [ 6.30016014e-01 -3.04672739e+00]\n",
            " [ 5.58345057e-01 -4.81435728e-01]\n",
            " [ 1.52960237e+00  1.68404503e+00]\n",
            " [-1.28228717e+00  3.60104098e+00]\n",
            " [-5.22681490e-01 -4.86934468e+00]\n",
            " [-1.87233237e+00  3.62167623e+00]\n",
            " [ 9.76674100e-01  5.73679043e-01]\n",
            " [ 1.13607324e+00  1.86315774e+00]\n",
            " [-2.86082484e-01 -2.14695514e+00]\n",
            " [ 9.37159191e-01 -5.81858607e-01]\n",
            " [ 2.57036793e-01 -1.85430308e+00]\n",
            " [ 3.60208906e-01 -7.41190029e-01]\n",
            " [-1.14311880e+00  2.56667135e+00]\n",
            " [ 1.81505017e-01 -4.15807003e+00]\n",
            " [ 6.87444771e-01  3.00671037e+00]\n",
            " [-8.92835398e-01  4.57629641e-01]\n",
            " [ 1.06807962e+00 -2.47103969e+00]\n",
            " [-3.57866733e-02  2.95226497e+00]\n",
            " [ 2.09898569e-01  3.12315179e+00]\n",
            " [ 1.30151804e-01  2.04138722e-01]\n",
            " [-1.08011455e+00 -9.73688155e-02]\n",
            " [ 1.61742677e+00  1.04999083e+00]\n",
            " [-1.85304452e-03 -4.09327199e-01]\n",
            " [ 4.40642349e-01 -3.53710640e+00]\n",
            " [ 2.31918094e-02 -2.44462400e+00]\n",
            " [-7.44420665e-02 -6.90265587e-01]\n",
            " [-5.00022539e-01  1.72497681e+00]\n",
            " [ 5.94795711e-01 -3.61754558e+00]\n",
            " [ 3.47260678e-01  1.41806465e-01]\n",
            " [-2.78492776e-01 -1.85021232e+00]\n",
            " [ 2.01189585e+00 -2.32768260e+00]\n",
            " [ 5.65923936e-01 -2.29472594e-01]\n",
            " [-2.82098239e-01 -4.08221445e-01]\n",
            " [-1.38343369e+00  3.26486187e-01]\n",
            " [ 7.48387337e-01  4.32660044e+00]\n",
            " [ 3.19486520e-03 -1.29496752e+00]\n",
            " [ 1.09903508e-01  2.21347152e+00]\n",
            " [-1.42348979e+00  8.38551505e-01]\n",
            " [-4.62430649e-01  1.51540723e+00]\n",
            " [-4.54272564e-01  3.31183586e+00]\n",
            " [-7.67134750e-01  1.41229683e+00]\n",
            " [ 3.58422439e-01 -6.66567414e-01]\n",
            " [-1.80964122e+00  2.25120118e+00]\n",
            " [-1.45397473e+00  1.30834838e+00]\n",
            " [ 6.33809008e-01 -1.84356020e+00]\n",
            " [-9.10566152e-02 -3.41143171e+00]\n",
            " [ 1.31303557e+00 -2.69015930e-01]\n",
            " [-6.11949177e-02 -2.84474029e+00]\n",
            " [-1.16127187e+00 -2.35273408e+00]\n",
            " [ 1.76266590e+00 -1.54420462e+00]\n",
            " [-2.24888980e-01 -2.50311308e+00]\n",
            " [-1.26216405e+00  5.94539161e-01]\n",
            " [ 2.39353449e+00 -5.48528391e-01]\n",
            " [-5.54775663e-03 -1.79324485e+00]\n",
            " [-6.42625663e-02 -9.25068446e-01]\n",
            " [ 3.54624228e-01  1.62626740e+00]\n",
            " [ 1.03501097e+00  6.68701578e-01]\n",
            " [-2.34134065e-01 -3.01754538e+00]\n",
            " [-1.37751108e+00 -4.61796886e+00]\n",
            " [ 3.25837169e-01 -6.68192843e+00]\n",
            " [ 1.08864952e+00 -4.85343498e+00]\n",
            " [-2.05728777e+00 -3.96054586e+00]\n",
            " [ 8.01764490e-01 -5.57977324e-01]\n",
            " [-1.52299041e+00  7.68166512e-02]\n",
            " [ 5.35726262e-01 -4.35149973e+00]\n",
            " [-1.25609373e+00 -3.60966651e+00]\n",
            " [-1.23055325e+00  5.44424093e-01]\n",
            " [-1.51030542e+00 -2.26158152e+00]\n",
            " [-9.08706662e-03 -2.04686579e+00]\n",
            " [ 1.64756815e-01 -7.93292248e-01]\n",
            " [-5.38403762e-01 -6.09089575e-01]\n",
            " [-4.55673265e-01  1.12623779e+00]\n",
            " [-1.78511696e-02  1.18365417e+00]\n",
            " [ 2.37985200e+00 -3.44349120e+00]\n",
            " [-6.53366641e-01  1.76007659e+00]\n",
            " [-4.95142348e-01  5.41393204e+00]\n",
            " [-2.04261288e+00 -4.47263144e+00]\n",
            " [ 5.06347322e-01 -1.15456461e+00]\n",
            " [ 1.26582529e+00 -2.70511876e-01]\n",
            " [ 1.24041976e-01  2.66204722e+00]\n",
            " [-2.64143270e-01  5.97551830e-01]\n",
            " [ 9.54344255e-01  2.26511567e+00]\n",
            " [-4.13233823e-01 -1.33367107e+00]\n",
            " [ 1.00696918e+00  1.24186433e+00]\n",
            " [ 6.78512574e-01 -1.60466026e+00]\n",
            " [ 2.23587141e-01 -1.35375478e+00]\n",
            " [ 3.02802271e-01  3.65533753e+00]\n",
            " [-9.66976434e-01 -5.15001217e+00]\n",
            " [ 5.85585666e-01 -2.18605972e+00]\n",
            " [-2.36778422e+00 -1.86156898e+00]\n",
            " [ 1.60188997e-02 -7.05227627e-01]\n",
            " [-1.58373135e-01 -5.69013331e+00]\n",
            " [-1.99237130e-01  4.95172323e+00]\n",
            " [-1.98672181e+00  1.41525224e+00]\n",
            " [ 6.23537395e-01  5.80490849e-01]\n",
            " [-1.03910462e-01  1.83941303e+00]\n",
            " [-4.38854709e-01 -3.34284562e+00]\n",
            " [ 4.40313354e-01 -1.33057740e+00]\n",
            " [-1.15259377e+00  6.78936479e-01]\n",
            " [ 1.05291183e+00  6.73675294e-01]\n",
            " [ 5.08530967e-01 -6.48684927e-01]\n",
            " [-6.81599163e-01  1.40394476e+00]\n",
            " [ 7.71499453e-01 -2.89529430e+00]\n",
            " [-8.52866459e-01  6.54712698e-01]\n",
            " [-2.47859744e-01 -5.33620932e+00]\n",
            " [ 9.84639329e-01  2.07984025e+00]\n",
            " [ 6.75405960e-01  2.98917662e-01]\n",
            " [ 6.70783604e-01  3.38646919e+00]\n",
            " [-5.53333644e-01 -5.66199666e+00]\n",
            " [-1.16507905e+00  4.53819551e-01]\n",
            " [-1.08914706e-01  3.98024120e-01]\n",
            " [ 1.37394656e+00 -8.80941874e-02]\n",
            " [-1.20503011e+00 -2.38335684e-01]\n",
            " [-4.69779243e-01 -2.42244431e+00]\n",
            " [ 8.69849090e-01  1.66815898e+00]\n",
            " [-1.65477505e+00  6.33220818e+00]\n",
            " [ 9.04320816e-01  1.07303018e+00]\n",
            " [ 8.51097836e-01  1.85859033e+00]\n",
            " [ 4.58328538e-01  5.37589234e+00]\n",
            " [-4.76433200e-01  4.25891235e+00]\n",
            " [-2.13599409e-01 -1.26318808e+00]\n",
            " [ 6.62621473e-01 -8.48519793e-01]\n",
            " [ 1.32731813e-01  2.67277073e+00]\n",
            " [-5.08230452e-02 -1.30423818e+00]\n",
            " [ 2.90870669e-01 -2.88048743e+00]\n",
            " [-6.10504015e-01 -1.43166213e-01]\n",
            " [-6.19626689e-01  4.61266393e+00]\n",
            " [-1.94385054e+00  3.10251739e+00]\n",
            " [ 9.84755543e-01  4.27157717e+00]\n",
            " [-1.94366343e+00 -2.53358807e+00]\n",
            " [-1.32377888e+00 -2.93682297e+00]\n",
            " [-4.73636105e-01 -2.33709614e+00]\n",
            " [-4.73565659e-01  3.51713712e+00]\n",
            " [-3.83028992e-01  1.04034993e+00]\n",
            " [ 1.65644473e+00  1.65069528e+00]\n",
            " [-1.02161469e-04 -1.88208925e+00]\n",
            " [-9.86498600e-01  8.65492243e-01]\n",
            " [ 1.57452519e-01  8.50368390e+00]\n",
            " [ 1.39661537e-01  6.48265527e-01]\n",
            " [-2.93273808e-01  2.56009550e+00]\n",
            " [-2.78669429e+00  2.71789862e+00]\n",
            " [ 7.85870310e-01 -4.39210295e-01]\n",
            " [ 1.51893488e+00  2.21033210e+00]\n",
            " [-8.56121915e-01 -3.20266483e+00]\n",
            " [ 7.88714155e-01  1.48345715e+00]\n",
            " [ 3.15499410e-01 -4.25418647e-01]\n",
            " [-1.98227582e+00  2.03638470e+00]\n",
            " [-3.57603613e-01  2.47959628e+00]\n",
            " [ 8.67924163e-01  2.64057765e+00]\n",
            " [-8.32740740e-01  7.56437881e-01]\n",
            " [ 1.01952645e+00 -1.04727057e+00]\n",
            " [-3.53750359e-02  3.49748176e+00]\n",
            " [ 9.08140348e-01  7.32938102e-01]\n",
            " [-1.45713886e+00  5.24407162e+00]\n",
            " [ 1.40550049e-01 -6.87552327e+00]\n",
            " [-2.09580975e-01  2.46884019e+00]\n",
            " [ 7.30732250e-01  3.23783874e+00]\n",
            " [ 1.89957013e+00  1.32072154e+00]\n",
            " [ 1.05877645e+00  6.79077031e+00]\n",
            " [ 6.34273749e-01  4.96846763e+00]\n",
            " [-1.29543770e+00 -1.74073011e-01]\n",
            " [-1.65481364e-01  2.96427157e+00]\n",
            " [ 9.47396654e-01  2.00677630e+00]\n",
            " [ 1.19071797e+00 -5.19349803e+00]\n",
            " [ 2.26507204e-01 -7.33407752e+00]\n",
            " [-5.67254713e-01  4.16960935e+00]\n",
            " [ 1.09212771e+00 -5.91852655e+00]\n",
            " [-8.02127486e-01  1.23763508e+00]\n",
            " [ 5.13127389e-01 -8.15120526e-01]\n",
            " [-1.38402814e+00  2.80293729e+00]\n",
            " [ 4.00559503e-01  3.09019251e-02]\n",
            " [ 1.04285953e+00  7.00479813e-02]\n",
            " [-9.59508075e-01 -2.84093540e+00]\n",
            " [-9.18025882e-01  5.51326117e-01]\n",
            " [-1.40526630e+00 -6.48174447e+00]\n",
            " [ 9.61727005e-01  4.22459696e+00]\n",
            " [ 1.98506722e-01  9.94280382e-01]\n",
            " [ 1.57275803e+00 -2.76864259e+00]\n",
            " [ 2.16063347e+00  2.41706667e+00]\n",
            " [ 7.69559340e-02  6.47950154e-01]\n",
            " [-2.56042470e-01 -2.95712366e+00]\n",
            " [-6.76652548e-01 -8.19934087e-01]\n",
            " [ 1.68030040e+00  5.30692181e+00]\n",
            " [-4.59710973e-01  1.76435980e-01]\n",
            " [ 1.71623569e+00  2.63932029e+00]\n",
            " [-3.55198641e-01  1.57368842e+00]\n",
            " [-5.33988194e-02  1.10792110e+00]\n",
            " [-1.55482327e+00 -1.36825438e+00]\n",
            " [ 1.36974295e+00  2.15166621e+00]\n",
            " [-4.83781834e-01  4.74872724e+00]\n",
            " [-5.44313018e-01  1.70922146e+00]\n",
            " [-5.55794593e-01  5.38519465e+00]\n",
            " [-4.35117202e-01 -6.79992434e-01]\n",
            " [ 4.97579574e-01  5.29341833e-02]\n",
            " [ 4.77620121e-01  2.81333736e-01]\n",
            " [-1.32198275e+00  1.96558179e+00]\n",
            " [-8.70970327e-01  5.47506254e-01]]\n"
          ],
          "name": "stdout"
        }
      ]
    },
    {
      "cell_type": "markdown",
      "metadata": {
        "id": "zZcCqHDs2m-D"
      },
      "source": [
        "#### Answer the following questions\n",
        "Use the code-cells below to find the anwers to the following question, and display the requested figures.\n",
        "\n",
        "- What is the shape of the matrix `X_train_proj` and what does each dimension represents. \n",
        "\n",
        "- What is the shape of the matrix `X_test_proj` and what does each dimension represents. \n",
        "\n",
        "- Display a scatter-plot showing the `X_train_proj` data.\n",
        "\n",
        "- Display a scatter-plot showing the `X_test_proj` data. \n",
        "\n",
        "- Calculate the covariance matrix of `X_train_proj` and identify what is the covariance between the first and second features. \n",
        "\n",
        "- Calculate the covariance matrix of `X_test_proj` and identify what is the covariance between the first and second features. \n",
        "\n",
        "\n",
        "\n"
      ]
    },
    {
      "cell_type": "code",
      "metadata": {
        "id": "Agy715Ih1yNC",
        "colab": {
          "base_uri": "https://localhost:8080/"
        },
        "outputId": "831d9725-b1f0-42f0-c735-0f782d7937e1"
      },
      "source": [
        "\n",
        "# Use this code-cell to find the answer to the questions above. \n",
        "# 1. What is the shape of the matrix X_train_proj and what does each dimension represents.\n",
        "print('The shape of X_train_proj is {}'.format(X_train_proj.shape))\n",
        "print('Each dimension represents 2 principal components we have chosen')\n",
        "\n",
        "# 2. What is the shape of the matrix X_test_proj and what does each dimension represents.\n",
        "print('\\nThe shape of X_test_proj is {}'.format(X_test_proj.shape))\n",
        "print('Each dimension represents 2 principal components we have chosen')"
      ],
      "execution_count": 246,
      "outputs": [
        {
          "output_type": "stream",
          "text": [
            "The shape of X_train_proj is (500, 2)\n",
            "Each dimension represents 2 principal components we have chosen\n",
            "\n",
            "The shape of X_test_proj is (500, 2)\n",
            "Each dimension represents 2 principal components we have chosen\n"
          ],
          "name": "stdout"
        }
      ]
    },
    {
      "cell_type": "code",
      "metadata": {
        "id": "atHscI6M_-3y",
        "colab": {
          "base_uri": "https://localhost:8080/",
          "height": 338
        },
        "outputId": "c81901de-ab6e-40d7-ecb8-fd9865d98523"
      },
      "source": [
        "# 3. Display a scatter-plot showing the X_train_proj data.\n",
        "\n",
        "plt.figure(figsize=(10,5))\n",
        "\n",
        "plt.subplot(1,2,1)\n",
        "plt.scatter(X_train_proj[:,0],X_train_proj[:,1])\n",
        "plt.title(\"Reduced-dimensional Training Set\")\n",
        "plt.axis('equal')\n",
        "\n",
        "# 4. Display a scatter-plot showing the X_test_proj data.\n",
        "plt.subplot(1,2,2)\n",
        "plt.scatter(X_test_proj[:,0],X_test_proj[:,1])\n",
        "plt.title(\"Reduced-dimensional Test Set\")\n",
        "plt.axis('equal')\n",
        "plt.show()"
      ],
      "execution_count": 247,
      "outputs": [
        {
          "output_type": "display_data",
          "data": {
            "image/png": "[encoded data removed]",
            "text/plain": [
              "<Figure size 720x360 with 2 Axes>"
            ]
          },
          "metadata": {
            "tags": []
          }
        }
      ]
    },
    {
      "cell_type": "code",
      "metadata": {
        "colab": {
          "base_uri": "https://localhost:8080/"
        },
        "id": "Z-cxTs2yS2bo",
        "outputId": "391cd42a-af2f-4a1a-b417-fb6d4f4dbad5"
      },
      "source": [
        " # 5. Calculate the covariance matrix of X_train_proj and identify what is the covariance between the first and second features.\n",
        "\n",
        " # Calcualte the mean of X_train_proj\n",
        "X_mean = np.mean(X_train_proj, axis = 0)\n",
        "\n",
        "\n",
        "# Subtract the mean from the data matrix\n",
        "X_train_proj_mean_subtracted = X_train_proj - X_mean\n",
        "\n",
        "# Standarized observation to unit variance \n",
        "X_std = np.std(X_train_proj, axis = 0)\n",
        "X_train_std = X_train_proj_mean_subtracted / X_std\n",
        "\n",
        "# Calculate the covariance of the standarized observations.\n",
        "# Make sure you use the appropripate normalization constant \n",
        "\n",
        "train_len, train_feat = X_train_proj.shape\n",
        "X_train_cov = np.matmul(X_train_std.T, X_train_std)/(train_len -1)\n",
        "print('The covariance between the first and second features for X_train_proj is {}'.format(X_train_cov[1][0]))\n",
        "\n",
        "# 6. Calculate the covariance matrix of X_test_proj and identify what is the covariance between the first and second features.\n",
        "\n",
        " # Calcualte the mean of X_test_proj\n",
        "X_mean = np.mean(X_test_proj, axis = 0)\n",
        "\n",
        "\n",
        "# Subtract the mean from the data matrix\n",
        "X_test_proj_mean_subtracted = X_test_proj - X_mean\n",
        "\n",
        "# Standarized observation to unit variance \n",
        "X_std = np.std(X_test_proj, axis = 0)\n",
        "X_test_std = X_test_proj_mean_subtracted / X_std\n",
        "\n",
        "# Calculate the covariance of the standarized observations.\n",
        "# Make sure you use the appropripate normalization constant \n",
        "\n",
        "test_len, test_feat = X_test_proj.shape\n",
        "X_test_cov = np.matmul(X_test_std.T, X_test_std)/(test_len -1)\n",
        "print('\\nThe covariance between the first and second features for X_test_proj is {}'.format(X_test_cov[1][0]))"
      ],
      "execution_count": 248,
      "outputs": [
        {
          "output_type": "stream",
          "text": [
            "The covariance between the first and second features for X_train_proj is -0.026973969727015226\n",
            "\n",
            "The covariance between the first and second features for X_test_proj is -0.05975003605912002\n"
          ],
          "name": "stdout"
        }
      ]
    },
    {
      "cell_type": "markdown",
      "metadata": {
        "id": "Hy7p3OPDBrHO"
      },
      "source": [
        "## Challenge 2: Apply PCA on sample data - Using the sklearn library\n",
        "\n",
        "Principal Component Analysis is often used as a pre-processing and dimenionality-reductiion step in predictive modeling. As such, the sklearn library provides a helper class that encapulates the step of extracting the principal component. \n",
        "\n",
        "Specifically, sklearn library provides the `PCA` class as part of its `sklearn.decomposition` module. You can clear a new instance of the PCA class as follows:\n",
        "```python \n",
        "  pca = PCA(n_components=2) \n",
        "```\n",
        "Notice the the variable `n_components` specifies the number of principal components we want to keep as part of the dimensionality reduction. \n",
        "\n",
        "To apply the PCA class, we must make sure that we standardize the dataset, that is to transform the data so they have zero mean and unit variance. Sklearn provides another helper function the  performnce the standardization of the data. The `StandardScaler` class, part of the `sklearning.preprocessing` module achieves that. For example, the following code would standardize a matrix X\n",
        "```python \n",
        "D = np.array([[1,2],[4,9],[1,5],[7,19],[4,9]])\n",
        "sc = StandardScaler()\n",
        "sc.fit_transform(D)        # Learn the standardization parameters (i.e. mean, std parameters)\n",
        "D_std = sc.transform(D)    # Standardize the dataset D\n",
        "\n",
        "np.cov(D_std.T, ddof=False)# Check the covariance matrix.\n",
        "```\n",
        "\n",
        "Once the dataset is standardized, we can extract the principal components using the `fit` method of the `PCA` class, for example using\n",
        "\n",
        "```python \n",
        "pca.fit(D_std)\n",
        "``` \n",
        "Notice that under the hood the fit method creates the covariance matrix, and solves the eigen-vector/eigen-value problem. \n",
        "\n",
        "The principal components (i.e. eigen-vectors) and their explained variance (i.e. corresponding eigen-value) can be retrived from the fitted `pca` instance through the `explained_variance_` and `components_` attributes, such as \n",
        "```python\n",
        "print(\"Extracted Principal Components (i.e. eigen-vectors\")\n",
        "print(pca.components_)\n",
        "\n",
        "print(\"Explained variabce of extracted components (i.e. eigen-values)\n",
        "print(pca.explained_variance_)\n",
        "```\n",
        "Finally, project a dataset onto the extracted principal components, we can use the `transform` method of the PCA class. For example,\n",
        "```python\n",
        "D_projected = pca.transform(D_std)\n",
        "``` \n",
        "**Exercise**\n",
        "Using the reference code above, extract the principal components of the same sample dataset (as the one in Challenge 1), but now using the helper classes provided in the sklearn library.  Moreover, reduce the dimensionality of the `X_train` and `X_test` dataset by projecting to the two major principal components. \n",
        " \n",
        "\n"
      ]
    },
    {
      "cell_type": "code",
      "metadata": {
        "id": "L36yCl5XIC4Z"
      },
      "source": [
        "# Import the sklearn libaries \n",
        "from sklearn.decomposition import PCA\n",
        "from sklearn.preprocessing import StandardScaler "
      ],
      "execution_count": 249,
      "outputs": []
    },
    {
      "cell_type": "code",
      "metadata": {
        "id": "7ChRGsXkH0_y"
      },
      "source": [
        "# Create an Instance of the PCA class from sklearn.decomposition import PCA\n",
        "pca = PCA(n_components = 2)\n",
        "\n",
        "# Standardize the training and testing dataset. \n",
        "sc = StandardScaler()\n",
        "sc.fit_transform(X_train)\n",
        "X_train_std = sc.transform(X_train)\n",
        "\n",
        "# Extract/learn the principal components\n",
        "pca.fit(X_train_std)\n",
        "pca.components_\n",
        "pca.explained_variance_\n",
        "\n",
        "\n",
        "# Project the train dataset onto the two major principal components. \n",
        "X_train_proj_sklearn = pca.transform(X_train_std)\n",
        "\n",
        "# Project the train dataset onto the two major principal components. \n",
        "# Hint: do not forget to standardize the test dataset. \n",
        "\n",
        "X_test_std = sc.transform(X_test)\n",
        "X_test_proj_sklearn = pca.transform(X_test_std)\n",
        "\n"
      ],
      "execution_count": 250,
      "outputs": []
    },
    {
      "cell_type": "code",
      "metadata": {
        "id": "TU8NQ-6XWMM8",
        "colab": {
          "base_uri": "https://localhost:8080/",
          "height": 338
        },
        "outputId": "3e8808bd-49a3-4dc1-b0f8-151994545b96"
      },
      "source": [
        "#  Display a scatter-plot showing the `X_train_proj_sklearn` data.\n",
        "\n",
        "plt.figure(figsize=(10,5))\n",
        "\n",
        "plt.subplot(1,2,1)\n",
        "plt.scatter(X_train_proj_sklearn[:,1],X_train_proj_sklearn[:,0] )\n",
        "plt.title(\"Reduced-dimensional Training Set\")\n",
        "plt.axis('equal')\n",
        "\n",
        "#  Display a scatter-plot showing the `X_test_proj_sklearn` data. \n",
        "#. Hint: See sample code from Challenge 1.\n",
        "plt.subplot(1,2,2)\n",
        "plt.scatter(X_test_proj_sklearn[:,1],X_test_proj_sklearn[:,0] )\n",
        "plt.title(\"Reduced-dimensional Test Set\")\n",
        "plt.axis('equal')\n",
        "plt.show()"
      ],
      "execution_count": 251,
      "outputs": [
        {
          "output_type": "display_data",
          "data": {
            "image/png": "[encoded data removed]",
            "text/plain": [
              "<Figure size 720x360 with 2 Axes>"
            ]
          },
          "metadata": {
            "tags": []
          }
        }
      ]
    },
    {
      "cell_type": "markdown",
      "metadata": {
        "id": "1UlytNdsDvCR"
      },
      "source": [
        "## Challenge 3: Perform PCA to reduce the dimensions of the wine dataset.\n",
        "\n",
        "The code-cell below load an example dataset called `wine.data` as a panda's dataframe, and then split it into a training `X_train` and testing dataset `X_test`. Each observation corresponds to a particular wine brand and the features correspond to various characteristics associated with each wine (for example, 'Alcohol', 'Malic acid', 'Ash','Alcalinity of ash', 'Magnesium'). There are total 13 such features for each wine. Moreover, each wine belongs to one of three quality classes (i.e. 1,2 or 3). The class labels for each onservation are stored in the `y_train` and `y_test` vectors. \n"
      ]
    },
    {
      "cell_type": "code",
      "metadata": {
        "id": "aSGeoxykeq_j"
      },
      "source": [
        "import pandas as pd\n",
        "from sklearn.model_selection import train_test_split\n",
        "\n",
        "df_wine = pd.read_csv('https://archive.ics.uci.edu/ml/'\n",
        "                      'machine-learning-databases/wine/wine.data',\n",
        "                      header=None)\n",
        "\n",
        "df_wine.columns = ['Class label', 'Alcohol', 'Malic acid', 'Ash',\n",
        "                   'Alcalinity of ash', 'Magnesium', 'Total phenols',\n",
        "                   'Flavanoids', 'Nonflavanoid phenols', 'Proanthocyanins',\n",
        "                   'Color intensity', 'Hue',\n",
        "                   'OD280/OD315 of diluted wines', 'Proline']\n",
        "                   \n",
        "X, y = df_wine.iloc[:, 1:].values, df_wine.iloc[:, 0].values\n",
        "\n",
        "X_train, X_test, y_train, y_test = train_test_split(X, y, test_size=0.3, \n",
        "                     stratify=y,\n",
        "                     random_state=0)"
      ],
      "execution_count": 252,
      "outputs": []
    },
    {
      "cell_type": "markdown",
      "metadata": {
        "id": "b5nSaaf9fqLJ"
      },
      "source": [
        "### Exercise 3.1  \n",
        "\n",
        "Your goal is to find a classifier to predict the quality class of a wine, given its observed features. You suspect that several of the features covay and that you are better off to reduce the number of dimession of the same before performing the classificaton.\n",
        "\n",
        "In this exercise you are expected to use PCA to reduce the dimensionality of the original dataset from 13 down to two. Then use the K-NN to train a classifier that predicts the wine quality class. \n",
        "\n",
        "Compare the performance of your classifier, to a classifier that uses all 13 features. You must report cross validation performance, and independent test performance. \n",
        "\n"
      ]
    },
    {
      "cell_type": "code",
      "metadata": {
        "id": "5lr6NJsngXm4",
        "colab": {
          "base_uri": "https://localhost:8080/"
        },
        "outputId": "aaaefb44-e3a9-4809-eeef-8badced0a7db"
      },
      "source": [
        "#Solution 3.1:\n",
        "# Make sure you add comments, to explain your code. \n",
        "\n",
        "# To reduce the dimentionality form 13 to 2\n",
        "pca = PCA(n_components = 2)\n",
        "\n",
        "# To standardize the training and testing dataset\n",
        "sc = StandardScaler()\n",
        "sc.fit_transform(X_train)\n",
        "X_train_std = sc.transform(X_train)\n",
        "\n",
        "# To extract the principal components\n",
        "pca.fit(X_train_std)\n",
        "print(' The Principal Components are: \\n {}'.format(pca.components_))\n",
        "\n",
        "print('\\nThe PCA Eigenvalues are: \\n {}'.format(pca.explained_variance_))\n",
        "\n",
        "print('\\nThe PCA Variance Ratios are: {}'.format(pca.explained_variance_ratio_))\n",
        "\n",
        "# To project the train dataset onto the2 major principal components\n",
        "X_train_proj_sklearn = pca.transform(X_train_std)\n",
        "\n",
        "# To project the test dataset onto the2 major principal components\n",
        "X_test_std = sc.transform(X_test)\n",
        "X_test_proj_sklearn = pca.transform(X_test_std)"
      ],
      "execution_count": 253,
      "outputs": [
        {
          "output_type": "stream",
          "text": [
            " The Principal Components are: \n",
            " [[-0.13724218  0.24724326 -0.02545159  0.20694508 -0.15436582 -0.39376952\n",
            "  -0.41735106  0.30572896 -0.30668347  0.07554066 -0.32613263 -0.36861022\n",
            "  -0.29669651]\n",
            " [ 0.50303478  0.16487119  0.24456476 -0.11352904  0.28974518  0.05080104\n",
            "  -0.02287338  0.09048885  0.00835233  0.54977581 -0.20716433 -0.24902536\n",
            "   0.38022942]]\n",
            "\n",
            "The PCA Eigenvalues are: \n",
            " [4.84274532 2.41602459]\n",
            "\n",
            "The PCA Variance Ratios are: [0.36951469 0.18434927]\n"
          ],
          "name": "stdout"
        }
      ]
    },
    {
      "cell_type": "code",
      "metadata": {
        "id": "DTeztEgfgXbc",
        "colab": {
          "base_uri": "https://localhost:8080/"
        },
        "outputId": "a78a00e5-d454-4786-f787-28f6f1a8b773"
      },
      "source": [
        "# to build a KNN model on reduced data:\n",
        "\n",
        "from sklearn.neighbors import KNeighborsClassifier\n",
        "from sklearn.metrics import classification_report\n",
        "from sklearn import metrics\n",
        "\n",
        "model = KNeighborsClassifier(n_neighbors = 12)\n",
        "model.fit(X_train_proj_sklearn, y_train)\n",
        "y_pred = model.predict(X_test_proj_sklearn)\n",
        "\n",
        "accuracy = metrics.accuracy_score(y_test, y_pred)\n",
        "print('Model Accuracy: {}%'.format(int(accuracy*100)))\n",
        "print(classification_report(y_test,y_pred))"
      ],
      "execution_count": 254,
      "outputs": [
        {
          "output_type": "stream",
          "text": [
            "Model Accuracy: 96%\n",
            "              precision    recall  f1-score   support\n",
            "\n",
            "           1       0.94      0.94      0.94        18\n",
            "           2       0.95      0.95      0.95        21\n",
            "           3       1.00      1.00      1.00        15\n",
            "\n",
            "    accuracy                           0.96        54\n",
            "   macro avg       0.97      0.97      0.97        54\n",
            "weighted avg       0.96      0.96      0.96        54\n",
            "\n"
          ],
          "name": "stdout"
        }
      ]
    },
    {
      "cell_type": "code",
      "metadata": {
        "id": "ApOqMsYRirTB"
      },
      "source": [
        "from sklearn.model_selection import StratifiedKFold \n",
        "from sklearn.model_selection import cross_val_score\n",
        "\n",
        "#function to give cv results for a particular neighbor number\n",
        "def report_acc(neighbor, X_train):\n",
        "\n",
        "  # Specify the classifier. \n",
        "  model = KNeighborsClassifier(n_neighbors=neighbor)\n",
        "\n",
        "  # Specify the corss validation parameters\n",
        "  cv = StratifiedKFold(n_splits=10, random_state=0, shuffle=True)\n",
        "\n",
        "  # Rum the corss-validation processing pipline \n",
        "  cv_acc = cross_val_score(estimator=model,\n",
        "                         X=X_train,\n",
        "                         y=y_train,\n",
        "                         cv=cv,\n",
        "                         n_jobs=-1)\n",
        " \n",
        "  return np.mean(cv_acc)"
      ],
      "execution_count": 255,
      "outputs": []
    },
    {
      "cell_type": "code",
      "metadata": {
        "colab": {
          "base_uri": "https://localhost:8080/"
        },
        "id": "AnyB1s0yiuz3",
        "outputId": "fac23614-7f25-44fd-a4a4-fa8b2cb73b98"
      },
      "source": [
        "# To find the optimal k number for reduced dataset\n",
        "\n",
        "neighbors = [i+1 for i in range(0,12)]\n",
        "\n",
        "results = []\n",
        "for neighbor in neighbors:\n",
        "  results.append(report_acc(neighbor, X_train_proj_sklearn))\n",
        "\n",
        "#print results\n",
        "for i in range(len(results)):\n",
        "  print('When k is {}, the model accuracy is {:.4f}'.format(i+1, results[i]))\n",
        "print()\n",
        "\n",
        "optimal = results.index(max(results)) +1\n",
        "\n",
        "print('Optimal Neighbor Number: {} with accuracy of: {:.4f}'.format(optimal, results[optimal]))"
      ],
      "execution_count": 256,
      "outputs": [
        {
          "output_type": "stream",
          "text": [
            "When k is 1, the model accuracy is 0.9429\n",
            "When k is 2, the model accuracy is 0.9359\n",
            "When k is 3, the model accuracy is 0.9519\n",
            "When k is 4, the model accuracy is 0.9436\n",
            "When k is 5, the model accuracy is 0.9513\n",
            "When k is 6, the model accuracy is 0.9513\n",
            "When k is 7, the model accuracy is 0.9513\n",
            "When k is 8, the model accuracy is 0.9519\n",
            "When k is 9, the model accuracy is 0.9673\n",
            "When k is 10, the model accuracy is 0.9673\n",
            "When k is 11, the model accuracy is 0.9673\n",
            "When k is 12, the model accuracy is 0.9673\n",
            "\n",
            "Optimal Neighbor Number: 9 with accuracy of: 0.9673\n"
          ],
          "name": "stdout"
        }
      ]
    },
    {
      "cell_type": "code",
      "metadata": {
        "colab": {
          "base_uri": "https://localhost:8080/"
        },
        "id": "E1IEGonMjGsZ",
        "outputId": "ced9279b-8fc5-4fa0-ab56-668b7f27a721"
      },
      "source": [
        "# To provide a generalized performance of the reduced dataset\n",
        "\n",
        "#provide generalized performance of the reduced data set using the optimal k\n",
        "\n",
        "model = KNeighborsClassifier(n_neighbors = optimal)\n",
        "model.fit(X_train_proj_sklearn, y_train)\n",
        "y_pred = model.predict(X_test_proj_sklearn)\n",
        "test_acc = metrics.accuracy_score(y_pred, y_test)\n",
        "print('The generalized performance of 9 Neighbors is {}%'.format(round(test_acc * 100, 2)))\n",
        "\n",
        "import math\n",
        "\n",
        "#calucalte confidence interval\n",
        "n = len(y_test)\n",
        "ci = 1.96 * (math.sqrt((test_acc * (1 - test_acc))/ n))\n",
        "print('Confidence interval: {}'.format(round(ci, 2)))\n",
        "print('With repeated trials, we can say with 95% certainty that the performance of this \\n \\\n",
        "model will be between {}% and {}%'.format(round((test_acc - ci) * 100, 2), round((test_acc + ci) * 100, 2)))"
      ],
      "execution_count": 257,
      "outputs": [
        {
          "output_type": "stream",
          "text": [
            "The generalized performance of 9 Neighbors is 94.44%\n",
            "Confidence interval: 0.06\n",
            "With repeated trials, we can say with 95% certainty that the performance of this \n",
            " model will be between 88.33% and 100.55%\n"
          ],
          "name": "stdout"
        }
      ]
    },
    {
      "cell_type": "code",
      "metadata": {
        "colab": {
          "base_uri": "https://localhost:8080/"
        },
        "id": "muUQ8B5J7fze",
        "outputId": "31f4f931-9ea6-4b27-eb30-407bffa621e2"
      },
      "source": [
        "#To build a KNN model on original dataset\n",
        "\n",
        "model = KNeighborsClassifier(n_neighbors = 12)\n",
        "model.fit(X_train, y_train)\n",
        "y_pred = model.predict(X_test)\n",
        "\n",
        "accuracy = metrics.accuracy_score(y_test, y_pred)\n",
        "print('Model Accuracy: {}%'.format(int(accuracy*100)))\n",
        "print(classification_report(y_test,y_pred))"
      ],
      "execution_count": 258,
      "outputs": [
        {
          "output_type": "stream",
          "text": [
            "Model Accuracy: 66%\n",
            "              precision    recall  f1-score   support\n",
            "\n",
            "           1       0.76      0.89      0.82        18\n",
            "           2       0.72      0.62      0.67        21\n",
            "           3       0.47      0.47      0.47        15\n",
            "\n",
            "    accuracy                           0.67        54\n",
            "   macro avg       0.65      0.66      0.65        54\n",
            "weighted avg       0.66      0.67      0.66        54\n",
            "\n"
          ],
          "name": "stdout"
        }
      ]
    },
    {
      "cell_type": "code",
      "metadata": {
        "colab": {
          "base_uri": "https://localhost:8080/"
        },
        "id": "oyfAmx8cq5vs",
        "outputId": "447387b1-0eea-41f8-cbc0-306a5d562bef"
      },
      "source": [
        "# To find the optimal number of K for the original dataset\n",
        "\n",
        "results = []\n",
        "for neighbor in neighbors:\n",
        "  results.append(report_acc(neighbor, X_train))\n",
        "\n",
        "# To get the results\n",
        "for i in range(len(results)):\n",
        "  print('When k is {}, the model accuracy is {:.4f}'.format(i+1, results[i]))\n",
        "print()\n",
        "\n",
        "optimal = results.index(max(results)) +1\n",
        "\n",
        "print('Optimal Neighbor Number: {} with accuracy of: {:.4f}'.format(optimal, results[optimal]))"
      ],
      "execution_count": 259,
      "outputs": [
        {
          "output_type": "stream",
          "text": [
            "When k is 1, the model accuracy is 0.7417\n",
            "When k is 2, the model accuracy is 0.6705\n",
            "When k is 3, the model accuracy is 0.6859\n",
            "When k is 4, the model accuracy is 0.7032\n",
            "When k is 5, the model accuracy is 0.7429\n",
            "When k is 6, the model accuracy is 0.7519\n",
            "When k is 7, the model accuracy is 0.7115\n",
            "When k is 8, the model accuracy is 0.7032\n",
            "When k is 9, the model accuracy is 0.7103\n",
            "When k is 10, the model accuracy is 0.7122\n",
            "When k is 11, the model accuracy is 0.7269\n",
            "When k is 12, the model accuracy is 0.7442\n",
            "\n",
            "Optimal Neighbor Number: 6 with accuracy of: 0.7115\n"
          ],
          "name": "stdout"
        }
      ]
    },
    {
      "cell_type": "code",
      "metadata": {
        "colab": {
          "base_uri": "https://localhost:8080/"
        },
        "id": "WEgurFo1ravD",
        "outputId": "cb55dcae-8d50-429e-f179-35cc521f5cf2"
      },
      "source": [
        "# To provide generalized performance of the original dataset using the optimal K\n",
        "\n",
        "model = KNeighborsClassifier(n_neighbors = optimal)\n",
        "model.fit(X_train, y_train)\n",
        "y_pred = model.predict(X_test)\n",
        "test_acc = metrics.accuracy_score(y_pred, y_test)\n",
        "print('The generalized performance of 6 Neighbors is {}%'.format(round(test_acc * 100, 2)))\n",
        "\n",
        "import math\n",
        "\n",
        "#calucalte confidence interval\n",
        "n = len(y_test)\n",
        "ci = 1.96 * (math.sqrt((test_acc * (1 - test_acc))/ n))\n",
        "print('Confidence interval: {}'.format(round(ci, 2)))\n",
        "print('With repeated trials, we can say with 95% certainty that the performance of this \\n \\\n",
        "model will be between {}% and {}%'.format(round((test_acc - ci) * 100, 2), round((test_acc + ci) * 100, 2)))"
      ],
      "execution_count": 261,
      "outputs": [
        {
          "output_type": "stream",
          "text": [
            "The generalized performance of 6 Neighbors is 64.81%\n",
            "Confidence interval: 0.13\n",
            "With repeated trials, we can say with 95% certainty that the performance of this \n",
            " model will be between 52.08% and 77.55%\n"
          ],
          "name": "stdout"
        }
      ]
    },
    {
      "cell_type": "markdown",
      "metadata": {
        "id": "iL2rcSRffzI6"
      },
      "source": [
        "#### Summarize the results of your analysis on the wine Dataset.\n",
        "Use the following text-cell to summarize the results of your analysis. For example, consider the following questions: which classifer performces better and by how match? Did PCA dimensionallity reduction helped imporove the classification performance or not? Should you have used more or less principal components to improve classification performance. How much of the variance is captured by the reduced feature space? \n"
      ]
    },
    {
      "cell_type": "markdown",
      "metadata": {
        "id": "m3zFiik2gQjL"
      },
      "source": [
        "#### Your results summary here"
      ]
    },
    {
      "cell_type": "markdown",
      "metadata": {
        "id": "3UJcyKuu55j9"
      },
      "source": [
        "The reduced dataset perform better than the original dataset. The generalized performance of the reduced dataset has 94.44% accuracy while the generalized performance of the original data has 64.81% accuracy. The Principal Component Analysis helped to improve the accuracy score of the dataset."
      ]
    },
    {
      "cell_type": "markdown",
      "metadata": {
        "id": "YzQMvN1Mi8zA"
      },
      "source": [
        "Copyright Statement: Copyright © 2020 Christoforou. The materials provided by the instructor of this course, including this notebook, are for the use of the students enrolled in the course. Materials are presented in an educational context for personal use and study and should not be shared, distributed, disseminated or sold in print — or digitally — outside the course without permission. You may not, nor may you knowingly allow others to reproduce or distribute lecture notes, course materials as well as any of their derivatives without the instructor's express written consent."
      ]
    }
  ]
}