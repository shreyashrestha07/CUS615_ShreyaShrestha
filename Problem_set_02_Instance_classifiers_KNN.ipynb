{
  "nbformat": 4,
  "nbformat_minor": 0,
  "metadata": {
    "colab": {
      "name": "Problem_set_02_Instance_classifiers_KNN.ipynb",
      "provenance": [],
      "toc_visible": true,
      "include_colab_link": true
    },
    "kernelspec": {
      "name": "python3",
      "display_name": "Python 3"
    }
  },
  "cells": [
    {
      "cell_type": "markdown",
      "metadata": {
        "id": "view-in-github",
        "colab_type": "text"
      },
      "source": [
        "<a href=\"https://colab.research.google.com/github/shreyashrestha07/CUS615_ShreyaShrestha/blob/master/Problem_set_02_Instance_classifiers_KNN.ipynb\" target=\"_parent\"><img src=\"https://colab.research.google.com/assets/colab-badge.svg\" alt=\"Open In Colab\"/></a>"
      ]
    },
    {
      "cell_type": "markdown",
      "metadata": {
        "id": "_Jk-XWL_ICsc"
      },
      "source": [
        "This notebook is part the of Dr. Christoforos Christoforou's course materials. You may not, nor may you knowingly allow others to reproduce or distribute lecture notes, course materials or any of their derivatives without the instructor's express written consent."
      ]
    },
    {
      "cell_type": "markdown",
      "metadata": {
        "id": "mGWGpILX6Caz"
      },
      "source": [
        "# Problem Set 02 - Instance-based Classifiers\n",
        "**Professor:** Dr. Christoforos Christoforou\n",
        "\n",
        "For this problem set you will need the following libraries, which are pre-installed with the colab environment: \n",
        "\n",
        "* [Numpy](https://www.numpy.org/) is an array manipulation library, used for linear algebra, Fourier transform, and random number capabilities.\n",
        "* [Pandas](https://pandas.pydata.org/) is a library for data manipulation and data analysis.\n",
        "* [Matplotlib](https://matplotlib.org/) is a library which generates figures and provides graphical user interface toolkit.\n",
        "\n",
        "You can load them using the following import statement:"
      ]
    },
    {
      "cell_type": "code",
      "metadata": {
        "id": "m5xcgMf35rfn"
      },
      "source": [
        "import numpy as np\n",
        "import pandas as pd\n",
        "import matplotlib.pylab as plt\n",
        "\n",
        "# import sklearn \n",
        "from sklearn.model_selection import train_test_split\n",
        "from sklearn import datasets\n",
        "from sklearn.neighbors import KNeighborsClassifier\n",
        "from sklearn import metrics\n",
        "from sklearn.metrics import confusion_matrix\n",
        "from sklearn.metrics import plot_confusion_matrix\n",
        "\n",
        "import warnings\n",
        "warnings.simplefilter(\"ignore\")"
      ],
      "execution_count": 240,
      "outputs": []
    },
    {
      "cell_type": "markdown",
      "metadata": {
        "id": "Kmj0HPwPuohO"
      },
      "source": [
        "## 1. Objective \n",
        "As part of this problem set, you will expore work on the `wine quality dataset`  in order to: \n",
        "- To explore the physiocochemical properties of red wine\n",
        "- To determine an optimal machine learning model for red wine quality classification\n",
        "\n",
        "For that, you will be using an `instance-based` classifier, namely K-NN algorithm. Review the information provided in the problem set, and complete all challenges listed.  "
      ]
    },
    {
      "cell_type": "markdown",
      "metadata": {
        "id": "mSJ_VpGu6XWz"
      },
      "source": [
        "## 2. Wine Quality Dataset - Data Description\n",
        "\n",
        "For this dataset you will be using the `wine quality dataset`. Below is a description of the various parameters listed in that dataset (i.e. potential features):\n",
        "\n",
        "* fixed.acidity (tartaric acid - g / dm^3): most acids involved with wine or fixed or nonvolatile (do not evaporate readily) \n",
        "* volatile.acidity (acetic acid - g / dm^3): the amount of acetic acid in wine, which at too high of levels can lead to an unpleasant, vinegar taste \n",
        "* citric.acid (g / dm^3): the amount of acetic acid in wine, which at too high of levels can lead to an unpleasant, vinegar taste \n",
        "* residual.sugar (g / dm^3): the amount of sugar remaining after fermentation stops, it's rare to find wines with less than 1 gram/liter and wines with greater than 45 grams/liter are considered sweet \n",
        "* chlorides (sodium chloride - g / dm^3): the amount of salt in the wine \n",
        "* free.sulfur.dioxide (mg / dm^3): the free form of SO2 exists in equilibrium between molecular SO2 (as a dissolved gas) and bisulfite ion; it prevents microbial growth and the oxidation of wine \n",
        "* total.sulfur.dioxide (mg / dm^3): amount of free and bound forms of S02; in low concentrations, SO2 is mostly undetectable in wine, but at free SO2 concentrations over 50 ppm, SO2 becomes evident in the nose and taste of wine \n",
        "* density (g / cm^3): the density of water is close to that of water depending on the percent alcohol and sugar content \n",
        "* pH: describes how acidic or basic a wine is on a scale from 0 (very acidic) to 14 (very basic); most wines are between 3-4 on the pH scale \n",
        "* sulphates (potassium sulphate - g / dm3): a wine additive which can contribute to sulfur dioxide gas (S02) levels, wich acts as an antimicrobial and antioxidant \n",
        "* alcohol (% by volume): the percent alcohol content of the wine \n",
        "* quality: quality score between 0 and 10\n",
        "\n"
      ]
    },
    {
      "cell_type": "markdown",
      "metadata": {
        "id": "wzcCUgaNwHMx"
      },
      "source": [
        "## Download dataset from kaggle\n",
        "You will use the Kaggle CLI to dowload the `Wine Quality Dataset` to your colab enviroment. You will need to upload your kaggle API (see problem_set 01 for direction on how to obtain your API key. "
      ]
    },
    {
      "cell_type": "code",
      "metadata": {
        "id": "c9GUkdufxKJn"
      },
      "source": [
        "# install kaggle CLI\n",
        "!pip install -q kaggle"
      ],
      "execution_count": 241,
      "outputs": []
    },
    {
      "cell_type": "code",
      "metadata": {
        "id": "nyyNV2x_xP7l",
        "colab": {
          "resources": {
            "http://localhost:8080/nbextensions/google.colab/files.js": {
              "data": "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",
              "ok": true,
              "headers": [
                [
                  "content-type",
                  "application/javascript"
                ]
              ],
              "status": 200,
              "status_text": ""
            }
          },
          "base_uri": "https://localhost:8080/",
          "height": 89
        },
        "outputId": "c8244e6c-c68e-4477-c498-63f0eff7f93e"
      },
      "source": [
        "# Upload the kaggle API key of your account \n",
        "from google.colab import files \n",
        "files.upload()\n",
        "!mkdir ~/.kaggle\n",
        "!cp kaggle.json ~/.kaggle\n",
        "!chmod 600 ~/.kaggle/kaggle.json"
      ],
      "execution_count": 242,
      "outputs": [
        {
          "output_type": "display_data",
          "data": {
            "text/html": [
              "\n",
              "     <input type=\"file\" id=\"files-93dc7e8d-e104-4c08-90b2-623c59b544b5\" name=\"files[]\" multiple disabled\n",
              "        style=\"border:none\" />\n",
              "     <output id=\"result-93dc7e8d-e104-4c08-90b2-623c59b544b5\">\n",
              "      Upload widget is only available when the cell has been executed in the\n",
              "      current browser session. Please rerun this cell to enable.\n",
              "      </output>\n",
              "      <script src=\"/nbextensions/google.colab/files.js\"></script> "
            ],
            "text/plain": [
              "<IPython.core.display.HTML object>"
            ]
          },
          "metadata": {
            "tags": []
          }
        },
        {
          "output_type": "stream",
          "text": [
            "Saving kaggle.json to kaggle (5).json\n",
            "mkdir: cannot create directory ‘/root/.kaggle’: File exists\n"
          ],
          "name": "stdout"
        }
      ]
    },
    {
      "cell_type": "code",
      "metadata": {
        "id": "UF7BNWDK3Djt",
        "colab": {
          "base_uri": "https://localhost:8080/"
        },
        "outputId": "105f12d3-0911-43c9-ef71-38bfa29fc691"
      },
      "source": [
        "# View list of data files available in the dataset. \n",
        "# Format : kaggle dataset files <dataset-URI>\n",
        "!kaggle datasets files cchristoforou/practice-dataset-for-tutorials"
      ],
      "execution_count": 243,
      "outputs": [
        {
          "output_type": "stream",
          "text": [
            "Warning: Looks like you're using an outdated API Version, please consider updating (server 1.5.10 / client 1.5.4)\n",
            "name                  size  creationDate         \n",
            "-------------------  -----  -------------------  \n",
            "wine.data             11KB  2021-01-23 15:26:18  \n",
            "country_total.csv    533KB  2021-01-23 15:26:18  \n",
            "countries.csv          2KB  2021-01-23 15:26:18  \n",
            "wineQualityReds.csv   92KB  2021-01-23 15:26:18  \n"
          ],
          "name": "stdout"
        }
      ]
    },
    {
      "cell_type": "code",
      "metadata": {
        "id": "2_ZTFa7Zxa3V"
      },
      "source": [
        "# Download - Specify the parameters.  \n",
        "kaggle_dataset_URI = \"cchristoforou/practice-dataset-for-tutorials\"\n",
        "output_folder = \"sample_data/problem_set02\"\n",
        "kaggle_data_file1 = \"wineQualityReds.csv\""
      ],
      "execution_count": 244,
      "outputs": []
    },
    {
      "cell_type": "code",
      "metadata": {
        "id": "oXbCHcmaxdvc",
        "colab": {
          "base_uri": "https://localhost:8080/"
        },
        "outputId": "dbc457b6-866d-4db2-a291-c020d68d2102"
      },
      "source": [
        "# Download the first file from dataset - countries.csv\n",
        "!kaggle datasets download $kaggle_dataset_URI --file $kaggle_data_file1 --path $output_folder \n"
      ],
      "execution_count": 245,
      "outputs": [
        {
          "output_type": "stream",
          "text": [
            "wineQualityReds.csv: Skipping, found more recently modified local copy (use --force to force download)\n"
          ],
          "name": "stdout"
        }
      ]
    },
    {
      "cell_type": "markdown",
      "metadata": {
        "id": "8NK7aOGa3mEO"
      },
      "source": [
        "## Load the data \n",
        "The code below showcase how to load the data in a pandas `DataFrame` and apply a train_test_split on the data. "
      ]
    },
    {
      "cell_type": "code",
      "metadata": {
        "id": "VfqI0GwY3puP"
      },
      "source": [
        "# Code to load the data from file. Here we use the pandas library to read the csv file. \n",
        "datafile = \"./sample_data/problem_set02/wineQualityReds.csv\"\n",
        "wine_df = pd.read_csv(datafile)\n",
        "wine_df.drop(wine_df.columns[0],axis=1,inplace=True)"
      ],
      "execution_count": 246,
      "outputs": []
    },
    {
      "cell_type": "code",
      "metadata": {
        "id": "mFY7dC6b3-4j"
      },
      "source": [
        "# Split the data into a training and testing set using the sklearn function train_test_split\n",
        "# Noteice that \n",
        "X_train, X_test, y_train, y_test = train_test_split(wine_df.drop('quality',axis=1), wine_df['quality'], test_size=.25, random_state=42)\n"
      ],
      "execution_count": 247,
      "outputs": []
    },
    {
      "cell_type": "markdown",
      "metadata": {
        "id": "gA3vk26dYXC2"
      },
      "source": [
        "## Challenge 1\n",
        "Use the variables `X_train`, `X_test`, `y_train`, and `y_test` to explore your data. In particular, calculate and display the following information.\n",
        "\n",
        "* Number of samples in the training set in total and in each class.\n",
        "* Number of samples in the testing set in total and in each class.\n",
        "* Number of features in the dataset. \n",
        "* Number of classes in the dataset.\n",
        "* IDs of the number of classes.\n"
      ]
    },
    {
      "cell_type": "code",
      "metadata": {
        "id": "iiXoK_qwYXC3",
        "colab": {
          "base_uri": "https://localhost:8080/"
        },
        "outputId": "03489b14-ff1e-4641-ef1d-c5568797a8ae"
      },
      "source": [
        "# Solution 1:\n",
        "\n",
        "wine_df_train, wine_df_features = X_train.shape \n",
        "wine_df_test, _ = X_test.shape\n",
        "wine_df_classes = len(np.unique(y_train))\n",
        "\n",
        "#1 Number of samples in the training set in total and in each class\n",
        "print(\"Number of samples in training set:  %d \\n(%d : Class 3, %d : Class 4, %d : Class 5, %d Class 6, %d : Class 7, %d : Class 8) \" % (wine_df_train, np.sum(y_train==3), np.sum(y_train==4), np.sum(y_train==5), np.sum(y_train==6), np.sum(y_train==7), np.sum(y_train==8)))\n",
        "\n",
        "#2 Number of samples in the testing set in total and in each class\n",
        "print(\"Number of samples in training set: %d \\n(%d : Class 3, %d : Class 4, %d : Class 5, %d Class 6, %d : Class 7, %d : Class 8)\" % (wine_df_test, np.sum(y_test==3), np.sum(y_test==4), np.sum(y_test==5), np.sum(y_test==6), np.sum(y_test==7), np.sum(y_test==8)))\n",
        "\n",
        "#3 Number of features in the dataset.\n",
        "print(\"Number of features: \"+ str(wine_df_features))\n",
        "\n",
        "#4 Number of classes in the dataset.\n",
        "print(\"Number of classes: \" + str(wine_df_classes))\n",
        "\n",
        "#5 IDs of the number of classes.\n",
        "print(\"IDs for class labels: \" + str(np.unique(y_train)))"
      ],
      "execution_count": 248,
      "outputs": [
        {
          "output_type": "stream",
          "text": [
            "Number of samples in training set:  1199 \n",
            "(9 : Class 3, 40 : Class 4, 517 : Class 5, 469 Class 6, 151 : Class 7, 13 : Class 8) \n",
            "Number of samples in training set: 400 \n",
            "(1 : Class 3, 13 : Class 4, 164 : Class 5, 169 Class 6, 48 : Class 7, 5 : Class 8)\n",
            "Number of features: 11\n",
            "Number of classes: 6\n",
            "IDs for class labels: [3 4 5 6 7 8]\n"
          ],
          "name": "stdout"
        }
      ]
    },
    {
      "cell_type": "markdown",
      "metadata": {
        "id": "AiI3psnpYXC7"
      },
      "source": [
        "# Challenge 2\n",
        "\n",
        "Train a **K-NN** classifier using the `(X_train,y_train)` dataset and use the trained model to predict the underlying classes for the observations in the test dataset `X_test`. Store your prediction in a variable called `y_pred`."
      ]
    },
    {
      "cell_type": "code",
      "metadata": {
        "id": "DqyJrw2vYXC9",
        "colab": {
          "base_uri": "https://localhost:8080/"
        },
        "outputId": "d78134b3-c05f-4dc0-ae49-85e30e88bb3b"
      },
      "source": [
        "# Solution 2:\n",
        "\n",
        "# To train the KNN classifier\n",
        "model = KNeighborsClassifier(n_neighbors=5) \n",
        "\n",
        "# To fit the model\n",
        "model.fit(X_train, y_train)\n"
      ],
      "execution_count": 249,
      "outputs": [
        {
          "output_type": "execute_result",
          "data": {
            "text/plain": [
              "KNeighborsClassifier(algorithm='auto', leaf_size=30, metric='minkowski',\n",
              "                     metric_params=None, n_jobs=None, n_neighbors=5, p=2,\n",
              "                     weights='uniform')"
            ]
          },
          "metadata": {
            "tags": []
          },
          "execution_count": 249
        }
      ]
    },
    {
      "cell_type": "code",
      "metadata": {
        "colab": {
          "base_uri": "https://localhost:8080/"
        },
        "id": "m4IZlKgPw50l",
        "outputId": "a3a74c15-ca68-4728-f2bb-be6389725d32"
      },
      "source": [
        "# To predict output\n",
        "y_pred = model.predict(X_test)\n",
        "print(f\"x_test.shape {X_test.shape} y_pred.shape{y_pred.shape}\")"
      ],
      "execution_count": 250,
      "outputs": [
        {
          "output_type": "stream",
          "text": [
            "x_test.shape (400, 11) y_pred.shape(400,)\n"
          ],
          "name": "stdout"
        }
      ]
    },
    {
      "cell_type": "code",
      "metadata": {
        "colab": {
          "base_uri": "https://localhost:8080/"
        },
        "id": "Qb2ZENVdxstV",
        "outputId": "666f7519-166c-441a-e459-1b4370259372"
      },
      "source": [
        "# Inspect the content of y_pred\n",
        "y_pred"
      ],
      "execution_count": 251,
      "outputs": [
        {
          "output_type": "execute_result",
          "data": {
            "text/plain": [
              "array([5, 5, 6, 5, 6, 6, 5, 5, 5, 5, 8, 5, 6, 6, 6, 7, 5, 6, 7, 6, 7, 5,\n",
              "       5, 6, 5, 6, 5, 5, 5, 6, 5, 5, 5, 5, 5, 5, 6, 6, 6, 6, 6, 5, 6, 5,\n",
              "       5, 6, 6, 6, 5, 6, 5, 5, 5, 5, 5, 5, 6, 5, 6, 6, 5, 5, 5, 5, 6, 6,\n",
              "       6, 5, 5, 6, 5, 5, 6, 5, 6, 5, 5, 5, 5, 5, 5, 5, 7, 5, 6, 5, 5, 6,\n",
              "       6, 5, 5, 5, 5, 5, 5, 6, 6, 6, 6, 5, 5, 5, 6, 7, 6, 6, 5, 6, 5, 5,\n",
              "       6, 6, 7, 5, 6, 6, 6, 5, 5, 6, 5, 5, 6, 5, 5, 5, 6, 6, 5, 6, 6, 6,\n",
              "       5, 7, 6, 5, 6, 5, 6, 6, 5, 5, 6, 6, 5, 5, 6, 7, 6, 5, 5, 6, 5, 5,\n",
              "       6, 6, 5, 6, 6, 5, 5, 6, 5, 5, 6, 6, 5, 5, 5, 5, 6, 5, 6, 5, 5, 5,\n",
              "       5, 5, 5, 5, 5, 6, 5, 7, 5, 5, 6, 6, 7, 5, 5, 6, 5, 6, 5, 5, 6, 6,\n",
              "       6, 6, 5, 5, 5, 6, 6, 5, 6, 5, 4, 5, 5, 5, 6, 6, 6, 6, 6, 6, 5, 6,\n",
              "       6, 5, 5, 6, 6, 6, 6, 5, 5, 5, 7, 6, 7, 5, 5, 6, 5, 6, 5, 5, 6, 5,\n",
              "       6, 6, 6, 6, 5, 5, 7, 5, 6, 5, 5, 6, 6, 5, 6, 6, 6, 6, 5, 6, 5, 7,\n",
              "       6, 7, 5, 5, 6, 5, 6, 5, 6, 6, 5, 5, 6, 7, 5, 6, 5, 6, 5, 5, 5, 6,\n",
              "       5, 5, 6, 6, 5, 6, 5, 6, 5, 6, 5, 6, 6, 6, 5, 5, 5, 6, 5, 5, 6, 5,\n",
              "       6, 5, 5, 5, 5, 5, 5, 6, 5, 5, 5, 5, 6, 5, 6, 6, 5, 5, 6, 5, 5, 6,\n",
              "       7, 5, 5, 6, 5, 5, 5, 6, 6, 5, 6, 7, 5, 5, 6, 6, 6, 5, 6, 5, 5, 7,\n",
              "       6, 5, 5, 5, 5, 5, 6, 5, 5, 5, 4, 6, 5, 7, 5, 5, 5, 5, 5, 5, 6, 6,\n",
              "       5, 6, 6, 6, 5, 5, 6, 6, 7, 5, 6, 7, 5, 5, 5, 6, 5, 5, 5, 5, 6, 6,\n",
              "       7, 5, 6, 6])"
            ]
          },
          "metadata": {
            "tags": []
          },
          "execution_count": 251
        }
      ]
    },
    {
      "cell_type": "markdown",
      "metadata": {
        "id": "dXzRoS9zYXDA"
      },
      "source": [
        "# Challenge 3\n",
        "\n",
        "Evaluate the performance of your classifier. Calculate and display the following:\n",
        "* print the `confusion matrix`.\n",
        "* `normalized confusion matrix`. \n",
        "* the probablitity of correct classification (accuracy score). \n",
        "* the `precision`, `recall`, and `f1-score` for each class."
      ]
    },
    {
      "cell_type": "code",
      "metadata": {
        "id": "iLo6kEhWz6qZ"
      },
      "source": [
        "y_true = y_test"
      ],
      "execution_count": 252,
      "outputs": []
    },
    {
      "cell_type": "code",
      "metadata": {
        "id": "KLY8dmj9YXDB",
        "colab": {
          "base_uri": "https://localhost:8080/"
        },
        "outputId": "29f6faf8-5650-40c4-ff19-dd6ea1732296"
      },
      "source": [
        "# Solution 3:\n",
        "\n",
        "# Print the confusing matrix  \n",
        "print(\"This is the confusion matrix\")\n",
        "cnf_mx = metrics.confusion_matrix(y_true, y_pred)\n",
        "print(cnf_mx)\n",
        "\n",
        "# Normalized cnfusion matrix\n",
        "print(\"\\nThis is the normalized confusion matrix\")\n",
        "cnf_mx_joint = cnf_mx.astype('float')/cnf_mx.sum()\n",
        "print(cnf_mx_joint)\n",
        "\n",
        "# The probablitity of correct classification (accuracy score).\n",
        "acc = metrics.accuracy_score(y_true, y_pred)\n",
        "print(\"\\n Accuracy: %.3f\" % acc)\n",
        "\n",
        "# The precision, recall, and f1-score for each class.\n",
        "\n",
        "# Precision\n",
        "precision = metrics.precision_score(y_true, y_pred, average = None)\n",
        "print(\"\\n Precision for each class\" , precision)\n",
        "\n",
        "# Recall \n",
        "recall = metrics.recall_score(y_true, y_pred, average = None)\n",
        "print(\"\\n Recall for each class:\" , recall)\n",
        "\n",
        "# f1-score\n",
        "f1 = metrics.f1_score(y_true, y_pred, average = None)\n",
        "print(\"\\n f1-score for each class:\" , f1)"
      ],
      "execution_count": 253,
      "outputs": [
        {
          "output_type": "stream",
          "text": [
            "This is the confusion matrix\n",
            "[[  0   0   1   0   0   0]\n",
            " [  0   0   6   6   1   0]\n",
            " [  0   1 105  53   5   0]\n",
            " [  0   1  84  75   9   0]\n",
            " [  0   0  16  24   7   1]\n",
            " [  0   0   1   3   1   0]]\n",
            "\n",
            "This is the normalized confusion matrix\n",
            "[[0.     0.     0.0025 0.     0.     0.    ]\n",
            " [0.     0.     0.015  0.015  0.0025 0.    ]\n",
            " [0.     0.0025 0.2625 0.1325 0.0125 0.    ]\n",
            " [0.     0.0025 0.21   0.1875 0.0225 0.    ]\n",
            " [0.     0.     0.04   0.06   0.0175 0.0025]\n",
            " [0.     0.     0.0025 0.0075 0.0025 0.    ]]\n",
            "\n",
            " Accuracy: 0.468\n",
            "\n",
            " Precision for each class [0.         0.         0.49295775 0.46583851 0.30434783 0.        ]\n",
            "\n",
            " Recall for each class: [0.         0.         0.6402439  0.44378698 0.14583333 0.        ]\n",
            "\n",
            " f1-score for each class: [0.         0.         0.55702918 0.45454545 0.1971831  0.        ]\n"
          ],
          "name": "stdout"
        }
      ]
    },
    {
      "cell_type": "markdown",
      "metadata": {
        "id": "tISC_CuuYXDE"
      },
      "source": [
        "# Challenge 4\n",
        "\n",
        "The code below loads the same dataset, but treats it as a binary classification problem. That is, instead of classifying an observation into one of 10 categories (0..10), we consider all observations with score above 5 as being good and all observation below or equal to five as being bad.\n",
        "\n",
        "\n",
        "\n"
      ]
    },
    {
      "cell_type": "code",
      "metadata": {
        "id": "OOknQCteYXDG"
      },
      "source": [
        "# Code to load the data from file. Here we use the pandas library to read the csv file. \n",
        "datafile = \"./sample_data/problem_set02/wineQualityReds.csv\"\n",
        "wine_df = pd.read_csv(datafile)\n",
        "wine_df.drop(wine_df.columns[0],axis=1,inplace=True)\n",
        "\n",
        "wine_df['quality'] = np.where(wine_df['quality']>5,\"Good\",\"Bad\")"
      ],
      "execution_count": 254,
      "outputs": []
    },
    {
      "cell_type": "code",
      "metadata": {
        "colab": {
          "base_uri": "https://localhost:8080/",
          "height": 224
        },
        "id": "qreaZG9mLDbg",
        "outputId": "d28e0c75-b4fa-4786-8713-328b880451a4"
      },
      "source": [
        "wine_df.head()"
      ],
      "execution_count": 255,
      "outputs": [
        {
          "output_type": "execute_result",
          "data": {
            "text/html": [
              "<div>\n",
              "<style scoped>\n",
              "    .dataframe tbody tr th:only-of-type {\n",
              "        vertical-align: middle;\n",
              "    }\n",
              "\n",
              "    .dataframe tbody tr th {\n",
              "        vertical-align: top;\n",
              "    }\n",
              "\n",
              "    .dataframe thead th {\n",
              "        text-align: right;\n",
              "    }\n",
              "</style>\n",
              "<table border=\"1\" class=\"dataframe\">\n",
              "  <thead>\n",
              "    <tr style=\"text-align: right;\">\n",
              "      <th></th>\n",
              "      <th>fixed.acidity</th>\n",
              "      <th>volatile.acidity</th>\n",
              "      <th>citric.acid</th>\n",
              "      <th>residual.sugar</th>\n",
              "      <th>chlorides</th>\n",
              "      <th>free.sulfur.dioxide</th>\n",
              "      <th>total.sulfur.dioxide</th>\n",
              "      <th>density</th>\n",
              "      <th>pH</th>\n",
              "      <th>sulphates</th>\n",
              "      <th>alcohol</th>\n",
              "      <th>quality</th>\n",
              "    </tr>\n",
              "  </thead>\n",
              "  <tbody>\n",
              "    <tr>\n",
              "      <th>0</th>\n",
              "      <td>7.4</td>\n",
              "      <td>0.70</td>\n",
              "      <td>0.00</td>\n",
              "      <td>1.9</td>\n",
              "      <td>0.076</td>\n",
              "      <td>11.0</td>\n",
              "      <td>34.0</td>\n",
              "      <td>0.9978</td>\n",
              "      <td>3.51</td>\n",
              "      <td>0.56</td>\n",
              "      <td>9.4</td>\n",
              "      <td>Bad</td>\n",
              "    </tr>\n",
              "    <tr>\n",
              "      <th>1</th>\n",
              "      <td>7.8</td>\n",
              "      <td>0.88</td>\n",
              "      <td>0.00</td>\n",
              "      <td>2.6</td>\n",
              "      <td>0.098</td>\n",
              "      <td>25.0</td>\n",
              "      <td>67.0</td>\n",
              "      <td>0.9968</td>\n",
              "      <td>3.20</td>\n",
              "      <td>0.68</td>\n",
              "      <td>9.8</td>\n",
              "      <td>Bad</td>\n",
              "    </tr>\n",
              "    <tr>\n",
              "      <th>2</th>\n",
              "      <td>7.8</td>\n",
              "      <td>0.76</td>\n",
              "      <td>0.04</td>\n",
              "      <td>2.3</td>\n",
              "      <td>0.092</td>\n",
              "      <td>15.0</td>\n",
              "      <td>54.0</td>\n",
              "      <td>0.9970</td>\n",
              "      <td>3.26</td>\n",
              "      <td>0.65</td>\n",
              "      <td>9.8</td>\n",
              "      <td>Bad</td>\n",
              "    </tr>\n",
              "    <tr>\n",
              "      <th>3</th>\n",
              "      <td>11.2</td>\n",
              "      <td>0.28</td>\n",
              "      <td>0.56</td>\n",
              "      <td>1.9</td>\n",
              "      <td>0.075</td>\n",
              "      <td>17.0</td>\n",
              "      <td>60.0</td>\n",
              "      <td>0.9980</td>\n",
              "      <td>3.16</td>\n",
              "      <td>0.58</td>\n",
              "      <td>9.8</td>\n",
              "      <td>Good</td>\n",
              "    </tr>\n",
              "    <tr>\n",
              "      <th>4</th>\n",
              "      <td>7.4</td>\n",
              "      <td>0.70</td>\n",
              "      <td>0.00</td>\n",
              "      <td>1.9</td>\n",
              "      <td>0.076</td>\n",
              "      <td>11.0</td>\n",
              "      <td>34.0</td>\n",
              "      <td>0.9978</td>\n",
              "      <td>3.51</td>\n",
              "      <td>0.56</td>\n",
              "      <td>9.4</td>\n",
              "      <td>Bad</td>\n",
              "    </tr>\n",
              "  </tbody>\n",
              "</table>\n",
              "</div>"
            ],
            "text/plain": [
              "   fixed.acidity  volatile.acidity  citric.acid  ...  sulphates  alcohol  quality\n",
              "0            7.4              0.70         0.00  ...       0.56      9.4      Bad\n",
              "1            7.8              0.88         0.00  ...       0.68      9.8      Bad\n",
              "2            7.8              0.76         0.04  ...       0.65      9.8      Bad\n",
              "3           11.2              0.28         0.56  ...       0.58      9.8     Good\n",
              "4            7.4              0.70         0.00  ...       0.56      9.4      Bad\n",
              "\n",
              "[5 rows x 12 columns]"
            ]
          },
          "metadata": {
            "tags": []
          },
          "execution_count": 255
        }
      ]
    },
    {
      "cell_type": "code",
      "metadata": {
        "id": "lbQmpDuKYXDJ"
      },
      "source": [
        "X_train, X_test, y_train, y_test = train_test_split(wine_df.drop('quality',axis=1), wine_df['quality'], test_size=.25, random_state=42)\n"
      ],
      "execution_count": 256,
      "outputs": []
    },
    {
      "cell_type": "markdown",
      "metadata": {
        "id": "6j1YJhHoYXDM"
      },
      "source": [
        "## Callenge 4.1\n",
        "Use the variables `X_train`, `X_test`, `y_train`, and `y_test` to explore your data. In particular, calculate and display the following information.\n",
        "* Number of samples in the training set in total and in each class.\n",
        "* Number of samples in the testing set in total and in each class.\n",
        "* Number of features in the dataset. \n",
        "* Number of classes in the dataset.\n",
        "* IDs of the number of classes.\n",
        "\n",
        "\n"
      ]
    },
    {
      "cell_type": "code",
      "metadata": {
        "colab": {
          "base_uri": "https://localhost:8080/"
        },
        "id": "jsJFp5VB6VSb",
        "outputId": "a41ad8d2-26e0-4b0f-e970-1f6f6b737ba8"
      },
      "source": [
        "# Solution 4.1:\n",
        "\n",
        "wine_df_train, wine_df_features = X_train.shape \n",
        "wine_df_test, _ = X_test.shape\n",
        "wine_df_classes = len(np.unique(y_train))\n",
        "\n",
        "#1 Number of samples in the training set in total and in each class\n",
        "print(\"Number of samples in training set:  %d  (%d Good, %d Bad) \" % (wine_df_train, np.sum(y_train==\"Good\"), np.sum(y_train==\"Bad\")))\n",
        "\n",
        "#2 Number of samples in the testing set in total and in each class\n",
        "print(\"Number of samples in testing set:  %d  (%d Good, %d Bad) \" % (wine_df_test, np.sum(y_test==\"Good\"), np.sum(y_test==\"Bad\")))\n",
        "\n",
        "#3 Number of features in the dataset.\n",
        "print(\"Number of features: \"+ str(wine_df_features))\n",
        "\n",
        "#4 Number of classes in the dataset.\n",
        "print(\"Number of classes: \" + str(wine_df_classes))\n",
        "\n",
        "#5 IDs of the number of classes.\n",
        "print(\"IDs for class labels: \" + str(np.unique(y_train)))"
      ],
      "execution_count": 257,
      "outputs": [
        {
          "output_type": "stream",
          "text": [
            "Number of samples in training set:  1199  (633 Good, 566 Bad) \n",
            "Number of samples in testing set:  400  (222 Good, 178 Bad) \n",
            "Number of features: 11\n",
            "Number of classes: 2\n",
            "IDs for class labels: ['Bad' 'Good']\n"
          ],
          "name": "stdout"
        }
      ]
    },
    {
      "cell_type": "markdown",
      "metadata": {
        "id": "5dp5WBluYXDQ"
      },
      "source": [
        "## Challenge 4.2 \n",
        "Train a **K-NN** classifier using the `(X_train,y_train)` dataset and use trained model to predict the underlying classes for the observations in the test dataset `X_test`. Store your prediction in a variable called `y_pred`."
      ]
    },
    {
      "cell_type": "code",
      "metadata": {
        "colab": {
          "base_uri": "https://localhost:8080/"
        },
        "id": "p9ZBdN5nNZKu",
        "outputId": "38ca51f4-a877-4cd7-a7a8-a2f5c67c0484"
      },
      "source": [
        "# To train the KNN classifier\n",
        "model = KNeighborsClassifier(n_neighbors=5) \n",
        "\n",
        "# To fit the model\n",
        "model.fit(X_train, y_train)"
      ],
      "execution_count": 258,
      "outputs": [
        {
          "output_type": "execute_result",
          "data": {
            "text/plain": [
              "KNeighborsClassifier(algorithm='auto', leaf_size=30, metric='minkowski',\n",
              "                     metric_params=None, n_jobs=None, n_neighbors=5, p=2,\n",
              "                     weights='uniform')"
            ]
          },
          "metadata": {
            "tags": []
          },
          "execution_count": 258
        }
      ]
    },
    {
      "cell_type": "code",
      "metadata": {
        "colab": {
          "base_uri": "https://localhost:8080/"
        },
        "id": "iQAfEJRQB0IG",
        "outputId": "168b004f-c738-4a64-c5cd-897a850c87a5"
      },
      "source": [
        "# To predict output\n",
        "y_pred = model.predict(X_test)\n",
        "print(f\"x_test.shape {X_test.shape} y_pred.shape{y_pred.shape}\")"
      ],
      "execution_count": 259,
      "outputs": [
        {
          "output_type": "stream",
          "text": [
            "x_test.shape (400, 11) y_pred.shape(400,)\n"
          ],
          "name": "stdout"
        }
      ]
    },
    {
      "cell_type": "code",
      "metadata": {
        "colab": {
          "base_uri": "https://localhost:8080/"
        },
        "id": "PN4esAlHO5Or",
        "outputId": "c6787633-a76b-4e80-d1d0-c2016d3e7bf2"
      },
      "source": [
        "# Inspect the content of y_pred\n",
        "y_pred"
      ],
      "execution_count": 260,
      "outputs": [
        {
          "output_type": "execute_result",
          "data": {
            "text/plain": [
              "array(['Bad', 'Bad', 'Good', 'Good', 'Good', 'Good', 'Bad', 'Bad', 'Bad',\n",
              "       'Bad', 'Good', 'Bad', 'Good', 'Good', 'Good', 'Good', 'Bad',\n",
              "       'Good', 'Good', 'Good', 'Bad', 'Bad', 'Good', 'Good', 'Good',\n",
              "       'Good', 'Bad', 'Bad', 'Bad', 'Good', 'Bad', 'Bad', 'Bad', 'Bad',\n",
              "       'Good', 'Bad', 'Good', 'Good', 'Good', 'Good', 'Good', 'Bad',\n",
              "       'Good', 'Bad', 'Good', 'Good', 'Good', 'Good', 'Bad', 'Good',\n",
              "       'Bad', 'Bad', 'Bad', 'Good', 'Bad', 'Bad', 'Good', 'Good', 'Good',\n",
              "       'Good', 'Bad', 'Good', 'Bad', 'Bad', 'Good', 'Good', 'Good', 'Bad',\n",
              "       'Good', 'Good', 'Bad', 'Bad', 'Good', 'Bad', 'Good', 'Bad', 'Bad',\n",
              "       'Bad', 'Bad', 'Bad', 'Bad', 'Good', 'Good', 'Bad', 'Good', 'Bad',\n",
              "       'Bad', 'Good', 'Good', 'Bad', 'Good', 'Bad', 'Bad', 'Bad', 'Bad',\n",
              "       'Good', 'Good', 'Good', 'Good', 'Bad', 'Bad', 'Bad', 'Good',\n",
              "       'Good', 'Good', 'Good', 'Bad', 'Good', 'Bad', 'Bad', 'Good',\n",
              "       'Good', 'Good', 'Bad', 'Good', 'Good', 'Good', 'Bad', 'Bad',\n",
              "       'Good', 'Bad', 'Bad', 'Good', 'Bad', 'Bad', 'Good', 'Good', 'Good',\n",
              "       'Bad', 'Good', 'Good', 'Good', 'Bad', 'Good', 'Good', 'Good',\n",
              "       'Good', 'Bad', 'Good', 'Good', 'Good', 'Bad', 'Good', 'Good',\n",
              "       'Bad', 'Bad', 'Good', 'Good', 'Good', 'Bad', 'Bad', 'Good', 'Bad',\n",
              "       'Bad', 'Good', 'Good', 'Bad', 'Good', 'Good', 'Good', 'Bad',\n",
              "       'Good', 'Bad', 'Bad', 'Good', 'Good', 'Bad', 'Bad', 'Bad', 'Bad',\n",
              "       'Good', 'Bad', 'Good', 'Good', 'Bad', 'Good', 'Bad', 'Bad', 'Bad',\n",
              "       'Good', 'Bad', 'Good', 'Bad', 'Good', 'Bad', 'Bad', 'Good', 'Good',\n",
              "       'Good', 'Good', 'Bad', 'Good', 'Bad', 'Good', 'Bad', 'Bad', 'Good',\n",
              "       'Good', 'Good', 'Good', 'Bad', 'Bad', 'Bad', 'Good', 'Good', 'Bad',\n",
              "       'Good', 'Bad', 'Bad', 'Bad', 'Good', 'Bad', 'Good', 'Good', 'Good',\n",
              "       'Good', 'Good', 'Good', 'Bad', 'Good', 'Good', 'Bad', 'Bad',\n",
              "       'Good', 'Good', 'Good', 'Good', 'Good', 'Bad', 'Good', 'Good',\n",
              "       'Good', 'Good', 'Bad', 'Good', 'Good', 'Bad', 'Good', 'Bad', 'Bad',\n",
              "       'Good', 'Bad', 'Good', 'Good', 'Good', 'Good', 'Bad', 'Bad',\n",
              "       'Good', 'Bad', 'Good', 'Good', 'Bad', 'Good', 'Good', 'Bad',\n",
              "       'Good', 'Good', 'Good', 'Good', 'Bad', 'Good', 'Bad', 'Good',\n",
              "       'Good', 'Good', 'Bad', 'Bad', 'Good', 'Good', 'Good', 'Bad',\n",
              "       'Good', 'Good', 'Bad', 'Bad', 'Good', 'Good', 'Bad', 'Good',\n",
              "       'Good', 'Good', 'Bad', 'Bad', 'Bad', 'Good', 'Bad', 'Bad', 'Good',\n",
              "       'Good', 'Bad', 'Good', 'Bad', 'Good', 'Bad', 'Good', 'Bad', 'Good',\n",
              "       'Good', 'Good', 'Bad', 'Bad', 'Bad', 'Good', 'Bad', 'Bad', 'Good',\n",
              "       'Bad', 'Good', 'Good', 'Bad', 'Good', 'Bad', 'Bad', 'Bad', 'Good',\n",
              "       'Good', 'Bad', 'Bad', 'Bad', 'Good', 'Bad', 'Good', 'Good', 'Bad',\n",
              "       'Bad', 'Good', 'Bad', 'Bad', 'Good', 'Good', 'Good', 'Bad', 'Good',\n",
              "       'Bad', 'Good', 'Bad', 'Good', 'Good', 'Bad', 'Good', 'Good', 'Bad',\n",
              "       'Bad', 'Good', 'Good', 'Good', 'Bad', 'Good', 'Bad', 'Bad', 'Good',\n",
              "       'Good', 'Bad', 'Good', 'Bad', 'Bad', 'Bad', 'Good', 'Bad', 'Bad',\n",
              "       'Bad', 'Bad', 'Good', 'Bad', 'Good', 'Bad', 'Bad', 'Bad', 'Bad',\n",
              "       'Bad', 'Bad', 'Good', 'Good', 'Bad', 'Good', 'Good', 'Good', 'Bad',\n",
              "       'Bad', 'Good', 'Good', 'Good', 'Bad', 'Good', 'Good', 'Bad', 'Bad',\n",
              "       'Bad', 'Good', 'Bad', 'Good', 'Bad', 'Bad', 'Good', 'Good', 'Good',\n",
              "       'Good', 'Good', 'Good'], dtype=object)"
            ]
          },
          "metadata": {
            "tags": []
          },
          "execution_count": 260
        }
      ]
    },
    {
      "cell_type": "markdown",
      "metadata": {
        "id": "aX1MGX3bYXDT"
      },
      "source": [
        "## Challenge 4.3\n",
        "Evaluate the performance of your classifier. Calculate and display the following:\n",
        "* print the `confusion matrix`.\n",
        "* `normalized confusion matrix`. \n",
        "* the probablitity of correct classification (accuracy score). \n",
        "* the `precision`, `recall`, and `f1-score` for each class."
      ]
    },
    {
      "cell_type": "code",
      "metadata": {
        "id": "eNBa8e1ZN2AJ"
      },
      "source": [
        "y_true = y_test"
      ],
      "execution_count": 261,
      "outputs": []
    },
    {
      "cell_type": "code",
      "metadata": {
        "id": "3hoUdKozYXDU",
        "colab": {
          "base_uri": "https://localhost:8080/"
        },
        "outputId": "79e43ea7-d22c-4174-978d-c3d6a1980770"
      },
      "source": [
        "# Solution 4.3: \n",
        "\n",
        "# Confusion Matrix\n",
        "print(\"This is the confusion matrix\")\n",
        "cnf_mx = metrics.confusion_matrix(y_true, y_pred)\n",
        "print(cnf_mx)\n",
        "\n",
        "# Normalized cnfusion matrix\n",
        "print(\"\\nThis is the normalized confusion matrix\")\n",
        "cnf_mx_joint = cnf_mx.astype('float')/cnf_mx.sum()\n",
        "print(cnf_mx_joint)\n",
        "\n",
        "# The probablitity of correct classification (accuracy score).\n",
        "acc = metrics.accuracy_score(y_true, y_pred)\n",
        "print(\"\\nAccuracy: %.3f\" % acc)\n",
        "\n",
        "# The precision, recall, and f1-score for each class.\n",
        "\n",
        "# Precision\n",
        "precision = metrics.precision_score(y_true, y_pred, pos_label=\"Good\")\n",
        "print(\"\\nPrecision (for class 'Good'): %.3f\" % precision)\n",
        "precision = metrics.precision_score(y_true, y_pred, pos_label=\"Bad\")\n",
        "print(\"Precision (for class 'Bad'): %.3f\" % precision)\n",
        "\n",
        "# Recall \n",
        "recall = metrics.recall_score(y_true, y_pred,pos_label=\"Good\")\n",
        "print(\"\\nRecall (for class 'Good'): %.3f\" % recall)\n",
        "recall = metrics.recall_score(y_true, y_pred,pos_label=\"Bad\")\n",
        "print(\"Recall (for class 'Bad'): %.3f\" % recall)\n",
        "\n",
        "# f1-score\n",
        "f1 = metrics.f1_score(y_true, y_pred, pos_label=\"Good\")\n",
        "print(\"\\nf1-score (for class 'Good'): %.3f\" % f1)\n",
        "f1 = metrics.f1_score(y_true, y_pred, pos_label=\"Bad\")\n",
        "print(\"f1-score (for class 'Bad'): %.3f\" % f1)\n",
        "\n"
      ],
      "execution_count": 262,
      "outputs": [
        {
          "output_type": "stream",
          "text": [
            "This is the confusion matrix\n",
            "[[104  74]\n",
            " [ 78 144]]\n",
            "\n",
            "This is the normalized confusion matrix\n",
            "[[0.26  0.185]\n",
            " [0.195 0.36 ]]\n",
            "\n",
            "Accuracy: 0.620\n",
            "\n",
            "Precision (for class 'Good'): 0.661\n",
            "Precision (for class 'Bad'): 0.571\n",
            "\n",
            "Recall (for class 'Good'): 0.649\n",
            "Recall (for class 'Bad'): 0.584\n",
            "\n",
            "f1-score (for class 'Good'): 0.655\n",
            "f1-score (for class 'Bad'): 0.578\n"
          ],
          "name": "stdout"
        }
      ]
    },
    {
      "cell_type": "markdown",
      "metadata": {
        "id": "ouqRqJw1YXDZ"
      },
      "source": [
        "# Challenge 5\n",
        "\n",
        "The **Knn** classifier accepts a number of parameters. One of those parameters is the number K (i.e. the number of nearest neighbors to consider when making a prediction. Evaluate the classifier for different values of K and identify which configuration achieve the best performance on the testing set. Plot or print your results.\n"
      ]
    },
    {
      "cell_type": "code",
      "metadata": {
        "id": "5FinafW1YXDb",
        "colab": {
          "base_uri": "https://localhost:8080/"
        },
        "outputId": "3ad1e491-935e-4e36-8ece-7a9ce9dd1e08"
      },
      "source": [
        "# Solution 5:\n",
        "\n",
        "# 2 Neighbours\n",
        "# To train the KNN classifier\n",
        "model = KNeighborsClassifier(n_neighbors=2) \n",
        "# To fit the model\n",
        "model.fit(X_train, y_train)\n",
        "# To predict output\n",
        "y_pred = model.predict(X_test)\n",
        "print(f\"x_test.shape {X_test.shape} y_pred.shape{y_pred.shape}\")\n",
        "# The probablitity of correct classification (accuracy score).\n",
        "acc = metrics.accuracy_score(y_true, y_pred)\n",
        "print(\"\\nAccuracy score of 2 Neighbours: %.3f\" % acc)\n",
        "# Confusion Matrix\n",
        "print(\"This is the confusion matrix\")\n",
        "cnf_mx = metrics.confusion_matrix(y_true, y_pred)\n",
        "print(cnf_mx)\n",
        "\n",
        "# 3 Neighbours\n",
        "# To train the KNN classifier\n",
        "model = KNeighborsClassifier(n_neighbors=3) \n",
        "# To fit the model\n",
        "model.fit(X_train, y_train)\n",
        "# To predict output\n",
        "y_pred = model.predict(X_test)\n",
        "# The probablitity of correct classification (accuracy score).\n",
        "acc = metrics.accuracy_score(y_true, y_pred)\n",
        "print(\"\\nAccuracy score of 3 Neighbours: %.3f\" % acc)\n",
        "# Confusion Matrix\n",
        "print(\"This is the confusion matrix\")\n",
        "cnf_mx = metrics.confusion_matrix(y_true, y_pred)\n",
        "print(cnf_mx)\n",
        "\n",
        "# 4 Neighbours\n",
        "# To train the KNN classifier\n",
        "model = KNeighborsClassifier(n_neighbors=4) \n",
        "# To fit the model\n",
        "model.fit(X_train, y_train)\n",
        "# To predict output\n",
        "y_pred = model.predict(X_test)\n",
        "# The probablitity of correct classification (accuracy score).\n",
        "acc = metrics.accuracy_score(y_true, y_pred)\n",
        "print(\"\\nAccuracy score of 4 Neighbours: %.3f\" % acc)\n",
        "# Confusion Matrix\n",
        "print(\"This is the confusion matrix\")\n",
        "cnf_mx = metrics.confusion_matrix(y_true, y_pred)\n",
        "print(cnf_mx)\n",
        "\n",
        "# 5 Neighbours\n",
        "# To train the KNN classifier\n",
        "model = KNeighborsClassifier(n_neighbors=5) \n",
        "# To fit the model\n",
        "model.fit(X_train, y_train)\n",
        "# To predict output\n",
        "y_pred = model.predict(X_test)\n",
        "# The probablitity of correct classification (accuracy score).\n",
        "acc = metrics.accuracy_score(y_true, y_pred)\n",
        "print(\"\\nAccuracy score of 5 Neighbours: %.3f\" % acc)\n",
        "# Confusion Matrix\n",
        "print(\"This is the confusion matrix\")\n",
        "cnf_mx = metrics.confusion_matrix(y_true, y_pred)\n",
        "print(cnf_mx)\n",
        "\n",
        "# 6 Neighbours\n",
        "# To train the KNN classifier\n",
        "model = KNeighborsClassifier(n_neighbors=6) \n",
        "# To fit the model\n",
        "model.fit(X_train, y_train)\n",
        "# To predict output\n",
        "y_pred = model.predict(X_test)\n",
        "# The probablitity of correct classification (accuracy score).\n",
        "acc = metrics.accuracy_score(y_true, y_pred)\n",
        "print(\"\\nAccuracy score of 6 Neighbours: %.3f\" % acc)\n",
        "# Confusion Matrix\n",
        "print(\"This is the confusion matrix\")\n",
        "cnf_mx = metrics.confusion_matrix(y_true, y_pred)\n",
        "print(cnf_mx)\n",
        "\n",
        "# 7 Neighbours\n",
        "# To train the KNN classifier\n",
        "model = KNeighborsClassifier(n_neighbors=7) \n",
        "# To fit the model\n",
        "model.fit(X_train, y_train)\n",
        "# To predict output\n",
        "y_pred = model.predict(X_test)\n",
        "# The probablitity of correct classification (accuracy score).\n",
        "acc = metrics.accuracy_score(y_true, y_pred)\n",
        "print(\"\\nAccuracy score of 7 Neighbours: %.3f\" % acc)\n",
        "# Confusion Matrix\n",
        "print(\"This is the confusion matrix\")\n",
        "cnf_mx = metrics.confusion_matrix(y_true, y_pred)\n",
        "print(cnf_mx)\n",
        "\n",
        "# 8 Neighbours\n",
        "# To train the KNN classifier\n",
        "model = KNeighborsClassifier(n_neighbors=8) \n",
        "# To fit the model\n",
        "model.fit(X_train, y_train)\n",
        "# To predict output\n",
        "y_pred = model.predict(X_test)\n",
        "# The probablitity of correct classification (accuracy score).\n",
        "acc = metrics.accuracy_score(y_true, y_pred)\n",
        "print(\"\\nAccuracy score of 8 Neighbours: %.3f\" % acc)\n",
        "# Confusion Matrix\n",
        "print(\"This is the confusion matrix\")\n",
        "cnf_mx = metrics.confusion_matrix(y_true, y_pred)\n",
        "print(cnf_mx)\n",
        "\n",
        "# 9 Neighbours\n",
        "# To train the KNN classifier\n",
        "model = KNeighborsClassifier(n_neighbors=9) \n",
        "# To fit the model\n",
        "model.fit(X_train, y_train)\n",
        "# To predict output\n",
        "y_pred = model.predict(X_test)\n",
        "# The probablitity of correct classification (accuracy score).\n",
        "acc = metrics.accuracy_score(y_true, y_pred)\n",
        "print(\"\\nAccuracy score of 9 Neighbours: %.3f\" % acc)\n",
        "# Confusion Matrix\n",
        "print(\"This is the confusion matrix\")\n",
        "cnf_mx = metrics.confusion_matrix(y_true, y_pred)\n",
        "print(cnf_mx)\n",
        "\n",
        "# 10 Neighbours\n",
        "# To train the KNN classifier\n",
        "model = KNeighborsClassifier(n_neighbors=10) \n",
        "# To fit the model\n",
        "model.fit(X_train, y_train)\n",
        "# To predict output\n",
        "y_pred = model.predict(X_test)\n",
        "# The probablitity of correct classification (accuracy score).\n",
        "acc = metrics.accuracy_score(y_true, y_pred)\n",
        "print(\"\\nAccuracy score of 10 Neighbours: %.3f\" % acc)\n",
        "# Confusion Matrix\n",
        "print(\"This is the confusion matrix\")\n",
        "cnf_mx = metrics.confusion_matrix(y_true, y_pred)\n",
        "print(cnf_mx)"
      ],
      "execution_count": 263,
      "outputs": [
        {
          "output_type": "stream",
          "text": [
            "x_test.shape (400, 11) y_pred.shape(400,)\n",
            "\n",
            "Accuracy score of 2 Neighbours: 0.588\n",
            "This is the confusion matrix\n",
            "[[136  42]\n",
            " [123  99]]\n",
            "\n",
            "Accuracy score of 3 Neighbours: 0.620\n",
            "This is the confusion matrix\n",
            "[[108  70]\n",
            " [ 82 140]]\n",
            "\n",
            "Accuracy score of 4 Neighbours: 0.593\n",
            "This is the confusion matrix\n",
            "[[130  48]\n",
            " [115 107]]\n",
            "\n",
            "Accuracy score of 5 Neighbours: 0.620\n",
            "This is the confusion matrix\n",
            "[[104  74]\n",
            " [ 78 144]]\n",
            "\n",
            "Accuracy score of 6 Neighbours: 0.598\n",
            "This is the confusion matrix\n",
            "[[128  50]\n",
            " [111 111]]\n",
            "\n",
            "Accuracy score of 7 Neighbours: 0.598\n",
            "This is the confusion matrix\n",
            "[[103  75]\n",
            " [ 86 136]]\n",
            "\n",
            "Accuracy score of 8 Neighbours: 0.598\n",
            "This is the confusion matrix\n",
            "[[119  59]\n",
            " [102 120]]\n",
            "\n",
            "Accuracy score of 9 Neighbours: 0.605\n",
            "This is the confusion matrix\n",
            "[[101  77]\n",
            " [ 81 141]]\n",
            "\n",
            "Accuracy score of 10 Neighbours: 0.595\n",
            "This is the confusion matrix\n",
            "[[116  62]\n",
            " [100 122]]\n"
          ],
          "name": "stdout"
        }
      ]
    },
    {
      "cell_type": "markdown",
      "metadata": {
        "id": "C9niXlUZG9L9"
      },
      "source": [
        "**K = 3 and K = 5 has the best performance on the testing set in terms of Accuracy score and Confusion Matrix**"
      ]
    },
    {
      "cell_type": "markdown",
      "metadata": {
        "id": "76vGnBXZIWoI"
      },
      "source": [
        "\n",
        "Copyright Statement: Copyright © 2020 Christoforou. The materials provided by the instructor of this course, including this notebook, are for the use of the students enrolled in the course. Materials are presented in an educational context for personal use and study and should not be shared, distributed, disseminated or sold in print — or digitally — outside the course without permission. You may not, nor may you knowingly allow others to reproduce or distribute lecture notes, course materials as well as any of their derivatives without the instructor's express written consent."
      ]
    }
  ]
}